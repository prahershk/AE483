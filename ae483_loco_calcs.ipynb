{
 "cells": [
  {
   "cell_type": "code",
   "execution_count": 1,
   "metadata": {},
   "outputs": [],
   "source": [
    "import numpy as np\n",
    "import sympy as sym\n",
    "import json\n",
    "import matplotlib.pyplot as plt\n",
    "from scipy import linalg\n",
    "from scipy.interpolate import interp1d\n",
    "from IPython.display import display, IFrame, HTML"
   ]
  },
  {
   "cell_type": "markdown",
   "metadata": {},
   "source": [
    "# Controller Equations\n",
    "\n",
    "\\begin{gather}\n",
    "\\dot{x} = Ax + Bu \\\\\n",
    "A = \\frac{\\partial f}{\\partial x} = \\frac{\\partial f}{\\partial s} \\quad\\quad B = \\frac{\\partial f}{\\partial u} = \\frac{\\partial f}{\\partial i} \\\\\n",
    "u = -Kx \\\\\n",
    "x = s - s_{eq} \\quad\\quad u = i - i_{eq} \\\\\n",
    "s = [o_x, o_y, o_z, \\psi, \\theta, \\phi, v_x, v_y, v_z, w_x, w_y, w_z] \\\\\n",
    "u = [\\tau_x, \\tau_y, \\tau_z, f_z]\n",
    "\\end{gather}"
   ]
  },
  {
   "cell_type": "code",
   "execution_count": 2,
   "metadata": {},
   "outputs": [],
   "source": [
    "o_x, o_y, o_z, psi, theta, phi, v_x, v_y, v_z, w_x, w_y, w_z, a_z = sym.S(\"o_x, o_y, o_z, psi, theta, phi, v_x, v_y, v_z, w_x, w_y, w_z, a_z\")\n",
    "tau_x, tau_y, tau_z, f_z = sym.S(\"tau_x, tau_y, tau_z, f_z\")"
   ]
  },
  {
   "cell_type": "markdown",
   "metadata": {},
   "source": [
    "\\begin{gather}\n",
    "s_{eq} = [0, 0, 0, 0, 0, 0, 0, 0, 0, 0, 0, 0] \\\\\n",
    "i_{eq} = [0, 0, 0, g]\n",
    "\\end{gather}"
   ]
  },
  {
   "cell_type": "code",
   "execution_count": 3,
   "metadata": {},
   "outputs": [],
   "source": [
    "s = [o_x, o_y, o_z, psi, theta, phi, v_x, v_y, v_z]\n",
    "i = [w_x, w_y, w_z, a_z]"
   ]
  },
  {
   "cell_type": "code",
   "execution_count": 4,
   "metadata": {},
   "outputs": [],
   "source": [
    "x = []\n",
    "u = []"
   ]
  },
  {
   "cell_type": "markdown",
   "id": "9916514f",
   "metadata": {},
   "source": [
    "# 2. Derive models"
   ]
  },
  {
   "cell_type": "markdown",
   "id": "35c1d51d",
   "metadata": {},
   "source": [
    "## 2.1 Define symbolic variables"
   ]
  },
  {
   "cell_type": "markdown",
   "id": "e2ff5fef",
   "metadata": {},
   "source": [
    "Define states."
   ]
  },
  {
   "cell_type": "code",
   "execution_count": 5,
   "id": "0402b5da",
   "metadata": {},
   "outputs": [],
   "source": [
    "# components of position (meters)\n",
    "o_x, o_y, o_z = sym.symbols('o_x, o_y, o_z')\n",
    "\n",
    "# yaw, pitch, and roll angles (radians)\n",
    "psi, theta, phi = sym.symbols('psi, theta, phi')\n",
    "\n",
    "# components of linear velocity (meters / second)\n",
    "v_x, v_y, v_z = sym.symbols('v_x, v_y, v_z')"
   ]
  },
  {
   "cell_type": "markdown",
   "id": "570af22c",
   "metadata": {},
   "source": [
    "Define inputs."
   ]
  },
  {
   "cell_type": "code",
   "execution_count": 6,
   "id": "ad893cec",
   "metadata": {},
   "outputs": [],
   "source": [
    "# gyroscope measurements - components of angular velocity (radians / second)\n",
    "w_x, w_y, w_z = sym.symbols('w_x, w_y, w_z')\n",
    "\n",
    "# z-axis accelerometer measurement - specific force (meters / second^2)\n",
    "a_z = sym.symbols('a_z')"
   ]
  },
  {
   "cell_type": "markdown",
   "id": "5e97b298",
   "metadata": {},
   "source": [
    "Define outputs."
   ]
  },
  {
   "cell_type": "code",
   "execution_count": 7,
   "id": "752442f5",
   "metadata": {},
   "outputs": [],
   "source": [
    "d0, d1, d2, d3, d4, d5, d6, d7, n_x, n_y, r = sym.symbols('d0, d1, d2, d3, d4, d5, d6, d7,n_x, n_y, r')\n",
    "a_0, a_1, a_2, a_3, a_4, a_5, a_6, a_7 = sym.symbols('a_0, a_1, a_2, a_3, a_4, a_5, a_6, a_7 ')"
   ]
  },
  {
   "cell_type": "markdown",
   "id": "ed8ded70",
   "metadata": {},
   "source": [
    "Define parameters."
   ]
  },
  {
   "cell_type": "code",
   "execution_count": 8,
   "id": "e4962fab",
   "metadata": {},
   "outputs": [],
   "source": [
    "g, k_flow = sym.symbols('g, k_flow')"
   ]
  },
  {
   "cell_type": "markdown",
   "id": "7368343d",
   "metadata": {},
   "source": [
    "Create linear and angular velocity vectors (in coordinates of the body frame)."
   ]
  },
  {
   "cell_type": "code",
   "execution_count": 9,
   "id": "9d524269",
   "metadata": {},
   "outputs": [],
   "source": [
    "v_01in1 = sym.Matrix([[v_x], [v_y], [v_z]])\n",
    "w_01in1 = sym.Matrix([[w_x], [w_y], [w_z]])"
   ]
  },
  {
   "cell_type": "markdown",
   "id": "851ff168",
   "metadata": {},
   "source": [
    "## 2.2 Define kinematics of orientation"
   ]
  },
  {
   "cell_type": "markdown",
   "id": "f68e60c2",
   "metadata": {},
   "source": [
    "### 2.2.1 Rotation matrix in terms of yaw, pitch, roll angles"
   ]
  },
  {
   "cell_type": "markdown",
   "id": "3e03c29d",
   "metadata": {},
   "source": [
    "Define individual rotation matrices."
   ]
  },
  {
   "cell_type": "code",
   "execution_count": 10,
   "id": "1f70f130",
   "metadata": {},
   "outputs": [],
   "source": [
    "Rz = sym.Matrix([[sym.cos(psi), -sym.sin(psi), 0],\n",
    "                 [sym.sin(psi), sym.cos(psi), 0],\n",
    "                 [0, 0, 1]])\n",
    "\n",
    "Ry = sym.Matrix([[sym.cos(theta), 0, sym.sin(theta)],\n",
    "                 [0, 1, 0],\n",
    "                 [-sym.sin(theta), 0, sym.cos(theta)]])\n",
    "\n",
    "Rx = sym.Matrix([[1, 0, 0],\n",
    "                 [0, sym.cos(phi), -sym.sin(phi)],\n",
    "                 [0, sym.sin(phi), sym.cos(phi)]])"
   ]
  },
  {
   "cell_type": "markdown",
   "id": "e494d515",
   "metadata": {},
   "source": [
    "Apply sequential transformation to compute the rotation matrix that describes the orientation of the drone (i.e., of frame 1 in the coordinates of frame 0)."
   ]
  },
  {
   "cell_type": "code",
   "execution_count": 11,
   "id": "9a4041f3",
   "metadata": {},
   "outputs": [],
   "source": [
    "R_1in0 = Rz * Ry * Rx"
   ]
  },
  {
   "cell_type": "markdown",
   "id": "69ac916b",
   "metadata": {},
   "source": [
    "### 2.2.2 Map from angular velocity to angular rates"
   ]
  },
  {
   "cell_type": "markdown",
   "id": "bb2179ef",
   "metadata": {},
   "source": [
    "Recall that\n",
    "\n",
    "$$\\begin{bmatrix} \\dot{\\psi} \\\\ \\dot{\\theta} \\\\ \\dot{\\phi} \\end{bmatrix} = N w_{0, 1}^{1}$$\n",
    "\n",
    "for some matrix $N$. Here is how to compute that matrix for a ZYX (yaw, pitch, roll) Euler angle sequence.  First, we compute its inverse:"
   ]
  },
  {
   "cell_type": "code",
   "execution_count": 12,
   "id": "4ceedf24",
   "metadata": {},
   "outputs": [],
   "source": [
    "Ninv = sym.Matrix.hstack((Ry * Rx).T * sym.Matrix([[0], [0], [1]]),\n",
    "                              (Rx).T * sym.Matrix([[0], [1], [0]]),\n",
    "                                       sym.Matrix([[1], [0], [0]]))"
   ]
  },
  {
   "cell_type": "markdown",
   "id": "938044d2",
   "metadata": {},
   "source": [
    "Then, we compute $N$ by taking the inverse of $N^{-1}$:"
   ]
  },
  {
   "cell_type": "code",
   "execution_count": 13,
   "id": "41071e08",
   "metadata": {},
   "outputs": [],
   "source": [
    "N = sym.simplify(Ninv.inv())"
   ]
  },
  {
   "cell_type": "markdown",
   "id": "7cea7d8c",
   "metadata": {},
   "source": [
    "## 2.3 Derive equations of motion"
   ]
  },
  {
   "cell_type": "markdown",
   "id": "cdad5b0f",
   "metadata": {},
   "source": [
    "Ratio of net thrust to mass in terms of z-axis accelerometer measurement."
   ]
  },
  {
   "cell_type": "code",
   "execution_count": 14,
   "id": "6d53c0ee",
   "metadata": {},
   "outputs": [],
   "source": [
    "f_z_over_m = a_z + (w_01in1.cross(v_01in1))[2]"
   ]
  },
  {
   "cell_type": "markdown",
   "id": "c165643a",
   "metadata": {},
   "source": [
    "Ratio of forces to mass."
   ]
  },
  {
   "cell_type": "code",
   "execution_count": 15,
   "id": "5f7687be",
   "metadata": {},
   "outputs": [],
   "source": [
    "f_in1_over_m = R_1in0.T * sym.Matrix([[0], [0], [-g]]) + sym.Matrix([[0], [0], [f_z_over_m]])"
   ]
  },
  {
   "cell_type": "markdown",
   "id": "2416c08f",
   "metadata": {},
   "source": [
    "Equations of motion."
   ]
  },
  {
   "cell_type": "code",
   "execution_count": 16,
   "id": "9b552611",
   "metadata": {},
   "outputs": [],
   "source": [
    "f = sym.Matrix.vstack(\n",
    "    R_1in0 * v_01in1,\n",
    "    N * w_01in1,\n",
    "    (f_in1_over_m - w_01in1.cross(v_01in1)),\n",
    ")"
   ]
  },
  {
   "cell_type": "markdown",
   "id": "96dd4da6",
   "metadata": {},
   "source": [
    "Show equations of motion, which have the form\n",
    "\n",
    "$$\\dot{s} = f(s, i, p)$$\n",
    "\n",
    "where\n",
    "\n",
    "$$\n",
    "s = \\begin{bmatrix} o_x \\\\ o_y \\\\ o_z \\\\ \\psi \\\\ \\theta \\\\ \\phi \\\\ v_x \\\\ v_y \\\\ v_z \\end{bmatrix}\n",
    "\\qquad\\qquad\n",
    "i = \\begin{bmatrix} w_x \\\\ w_y \\\\ w_z \\\\ a_z \\end{bmatrix}\n",
    "\\qquad\\qquad\n",
    "p = \\begin{bmatrix} g \\\\ k_\\text{flow} \\end{bmatrix}.\n",
    "$$"
   ]
  },
  {
   "cell_type": "code",
   "execution_count": 17,
   "id": "e0225f66",
   "metadata": {},
   "outputs": [
    {
     "data": {
      "text/latex": [
       "$\\displaystyle \\left[\\begin{matrix}v_{x} \\cos{\\left(\\psi \\right)} \\cos{\\left(\\theta \\right)} + v_{y} \\left(\\sin{\\left(\\phi \\right)} \\sin{\\left(\\theta \\right)} \\cos{\\left(\\psi \\right)} - \\sin{\\left(\\psi \\right)} \\cos{\\left(\\phi \\right)}\\right) + v_{z} \\left(\\sin{\\left(\\phi \\right)} \\sin{\\left(\\psi \\right)} + \\sin{\\left(\\theta \\right)} \\cos{\\left(\\phi \\right)} \\cos{\\left(\\psi \\right)}\\right)\\\\v_{x} \\sin{\\left(\\psi \\right)} \\cos{\\left(\\theta \\right)} + v_{y} \\left(\\sin{\\left(\\phi \\right)} \\sin{\\left(\\psi \\right)} \\sin{\\left(\\theta \\right)} + \\cos{\\left(\\phi \\right)} \\cos{\\left(\\psi \\right)}\\right) + v_{z} \\left(- \\sin{\\left(\\phi \\right)} \\cos{\\left(\\psi \\right)} + \\sin{\\left(\\psi \\right)} \\sin{\\left(\\theta \\right)} \\cos{\\left(\\phi \\right)}\\right)\\\\- v_{x} \\sin{\\left(\\theta \\right)} + v_{y} \\sin{\\left(\\phi \\right)} \\cos{\\left(\\theta \\right)} + v_{z} \\cos{\\left(\\phi \\right)} \\cos{\\left(\\theta \\right)}\\\\\\frac{w_{y} \\sin{\\left(\\phi \\right)}}{\\cos{\\left(\\theta \\right)}} + \\frac{w_{z} \\cos{\\left(\\phi \\right)}}{\\cos{\\left(\\theta \\right)}}\\\\w_{y} \\cos{\\left(\\phi \\right)} - w_{z} \\sin{\\left(\\phi \\right)}\\\\w_{x} + w_{y} \\sin{\\left(\\phi \\right)} \\tan{\\left(\\theta \\right)} + w_{z} \\cos{\\left(\\phi \\right)} \\tan{\\left(\\theta \\right)}\\\\g \\sin{\\left(\\theta \\right)} + v_{y} w_{z} - v_{z} w_{y}\\\\- g \\sin{\\left(\\phi \\right)} \\cos{\\left(\\theta \\right)} - v_{x} w_{z} + v_{z} w_{x}\\\\a_{z} - g \\cos{\\left(\\phi \\right)} \\cos{\\left(\\theta \\right)}\\end{matrix}\\right]$"
      ],
      "text/plain": [
       "Matrix([\n",
       "[ v_x*cos(psi)*cos(theta) + v_y*(sin(phi)*sin(theta)*cos(psi) - sin(psi)*cos(phi)) + v_z*(sin(phi)*sin(psi) + sin(theta)*cos(phi)*cos(psi))],\n",
       "[v_x*sin(psi)*cos(theta) + v_y*(sin(phi)*sin(psi)*sin(theta) + cos(phi)*cos(psi)) + v_z*(-sin(phi)*cos(psi) + sin(psi)*sin(theta)*cos(phi))],\n",
       "[                                                                       -v_x*sin(theta) + v_y*sin(phi)*cos(theta) + v_z*cos(phi)*cos(theta)],\n",
       "[                                                                                         w_y*sin(phi)/cos(theta) + w_z*cos(phi)/cos(theta)],\n",
       "[                                                                                                               w_y*cos(phi) - w_z*sin(phi)],\n",
       "[                                                                                   w_x + w_y*sin(phi)*tan(theta) + w_z*cos(phi)*tan(theta)],\n",
       "[                                                                                                          g*sin(theta) + v_y*w_z - v_z*w_y],\n",
       "[                                                                                                -g*sin(phi)*cos(theta) - v_x*w_z + v_z*w_x],\n",
       "[                                                                                                               a_z - g*cos(phi)*cos(theta)]])"
      ]
     },
     "execution_count": 17,
     "metadata": {},
     "output_type": "execute_result"
    }
   ],
   "source": [
    "f"
   ]
  },
  {
   "cell_type": "markdown",
   "metadata": {},
   "source": [
    "# Observer Equations"
   ]
  },
  {
   "cell_type": "code",
   "execution_count": 18,
   "metadata": {},
   "outputs": [],
   "source": [
    "o_x, o_y, o_z = sym.S(\"o_x, o_y, o_z\") # drone position in abosulte frame -> loco pos frame\n",
    "x_0, y_0, z_0 = sym.S(\"x_0, y_0, z_0\")\n",
    "x_1, y_1, z_1 = sym.S(\"x_1, y_1, z_1\")\n",
    "x_2, y_2, z_2 = sym.S(\"x_2, y_2, z_2\")\n",
    "x_3, y_3, z_3 = sym.S(\"x_3, y_3, z_3\")\n",
    "x_4, y_4, z_4 = sym.S(\"x_4, y_4, z_4\")\n",
    "x_5, y_5, z_5 = sym.S(\"x_5, y_5, z_5\")\n",
    "x_6, y_6, z_6 = sym.S(\"x_6, y_6, z_6\")\n",
    "x_7, y_7, z_7 = sym.S(\"x_7, y_7, z_7\")"
   ]
  },
  {
   "cell_type": "code",
   "execution_count": 19,
   "metadata": {},
   "outputs": [],
   "source": [
    "psi, theta, phi = sym.S(\"psi, theta, phi\")\n",
    "v_x, v_y, v_z = sym.S(\"v_x, v_y, v_z\")"
   ]
  },
  {
   "cell_type": "code",
   "execution_count": 20,
   "metadata": {},
   "outputs": [],
   "source": [
    "w_x, w_y, w_z = sym.S(\"w_x, w_y, w_z\")\n",
    "a_z = sym.S(\"a_z\")"
   ]
  },
  {
   "cell_type": "code",
   "execution_count": 21,
   "metadata": {},
   "outputs": [],
   "source": [
    "n_x, n_y, r = sym.S(\"n_x, n_y, r\")"
   ]
  },
  {
   "cell_type": "code",
   "execution_count": 22,
   "metadata": {},
   "outputs": [],
   "source": [
    "g, k_flow = sym.S(\"g, k_flow\")"
   ]
  },
  {
   "cell_type": "code",
   "execution_count": 23,
   "metadata": {},
   "outputs": [],
   "source": [
    "anchor_pos_0 = sym.sqrt((o_x-x_0)**2 + (o_y-y_0)**2 + (o_z-z_0)**2)\n",
    "anchor_pos_1 = sym.sqrt((o_x-x_1)**2 + (o_y-y_1)**2 + (o_z-z_1)**2)\n",
    "anchor_pos_2 = sym.sqrt((o_x-x_2)**2 + (o_y-y_2)**2 + (o_z-z_2)**2)\n",
    "anchor_pos_3 = sym.sqrt((o_x-x_3)**2 + (o_y-y_3)**2 + (o_z-z_3)**2)\n",
    "anchor_pos_4 = sym.sqrt((o_x-x_4)**2 + (o_y-y_4)**2 + (o_z-z_4)**2)\n",
    "anchor_pos_5 = sym.sqrt((o_x-x_5)**2 + (o_y-y_5)**2 + (o_z-z_5)**2)\n",
    "anchor_pos_6 = sym.sqrt((o_x-x_6)**2 + (o_y-y_6)**2 + (o_z-z_6)**2)\n",
    "anchor_pos_7 = sym.sqrt((o_x-x_7)**2 + (o_y-y_7)**2 + (o_z-z_7)**2)"
   ]
  },
  {
   "cell_type": "code",
   "execution_count": 24,
   "metadata": {},
   "outputs": [
    {
     "data": {
      "text/latex": [
       "$\\displaystyle \\left[\\begin{matrix}\\sqrt{\\left(o_{x} - x_{0}\\right)^{2} + \\left(o_{y} - y_{0}\\right)^{2} + \\left(o_{z} - z_{0}\\right)^{2}}\\\\\\sqrt{\\left(o_{x} - x_{1}\\right)^{2} + \\left(o_{y} - y_{1}\\right)^{2} + \\left(o_{z} - z_{1}\\right)^{2}}\\\\\\sqrt{\\left(o_{x} - x_{2}\\right)^{2} + \\left(o_{y} - y_{2}\\right)^{2} + \\left(o_{z} - z_{2}\\right)^{2}}\\\\\\sqrt{\\left(o_{x} - x_{3}\\right)^{2} + \\left(o_{y} - y_{3}\\right)^{2} + \\left(o_{z} - z_{3}\\right)^{2}}\\\\\\sqrt{\\left(o_{x} - x_{4}\\right)^{2} + \\left(o_{y} - y_{4}\\right)^{2} + \\left(o_{z} - z_{4}\\right)^{2}}\\\\\\sqrt{\\left(o_{x} - x_{5}\\right)^{2} + \\left(o_{y} - y_{5}\\right)^{2} + \\left(o_{z} - z_{5}\\right)^{2}}\\\\\\sqrt{\\left(o_{x} - x_{6}\\right)^{2} + \\left(o_{y} - y_{6}\\right)^{2} + \\left(o_{z} - z_{6}\\right)^{2}}\\\\\\sqrt{\\left(o_{x} - x_{7}\\right)^{2} + \\left(o_{y} - y_{7}\\right)^{2} + \\left(o_{z} - z_{7}\\right)^{2}}\\\\\\frac{k_{flow} \\left(- o_{z} w_{y} + v_{x}\\right)}{o_{z}}\\\\\\frac{k_{flow} \\left(o_{z} w_{x} + v_{y}\\right)}{o_{z}}\\\\\\frac{o_{z}}{\\cos{\\left(\\phi \\right)} \\cos{\\left(\\theta \\right)}}\\end{matrix}\\right]$"
      ],
      "text/plain": [
       "Matrix([\n",
       "[sqrt((o_x - x_0)**2 + (o_y - y_0)**2 + (o_z - z_0)**2)],\n",
       "[sqrt((o_x - x_1)**2 + (o_y - y_1)**2 + (o_z - z_1)**2)],\n",
       "[sqrt((o_x - x_2)**2 + (o_y - y_2)**2 + (o_z - z_2)**2)],\n",
       "[sqrt((o_x - x_3)**2 + (o_y - y_3)**2 + (o_z - z_3)**2)],\n",
       "[sqrt((o_x - x_4)**2 + (o_y - y_4)**2 + (o_z - z_4)**2)],\n",
       "[sqrt((o_x - x_5)**2 + (o_y - y_5)**2 + (o_z - z_5)**2)],\n",
       "[sqrt((o_x - x_6)**2 + (o_y - y_6)**2 + (o_z - z_6)**2)],\n",
       "[sqrt((o_x - x_7)**2 + (o_y - y_7)**2 + (o_z - z_7)**2)],\n",
       "[                           k_flow*(-o_z*w_y + v_x)/o_z],\n",
       "[                            k_flow*(o_z*w_x + v_y)/o_z],\n",
       "[                             o_z/(cos(phi)*cos(theta))]])"
      ]
     },
     "execution_count": 24,
     "metadata": {},
     "output_type": "execute_result"
    }
   ],
   "source": [
    "h = sym.Matrix([\n",
    "    anchor_pos_0,\n",
    "    anchor_pos_1,\n",
    "    anchor_pos_2,\n",
    "    anchor_pos_3,\n",
    "    anchor_pos_4,\n",
    "    anchor_pos_5,\n",
    "    anchor_pos_6,\n",
    "    anchor_pos_7,\n",
    "    k_flow*(v_x-o_z*w_y)/o_z, # n_x\n",
    "    k_flow*(v_y+o_z*w_x)/o_z, # n_y\n",
    "    o_z / (sym.cos(phi)*sym.cos(theta)) # r\n",
    "])\n",
    "h"
   ]
  },
  {
   "cell_type": "code",
   "execution_count": 25,
   "metadata": {},
   "outputs": [],
   "source": [
    "s = [o_x, o_y, o_z, psi, theta, phi, v_x, v_y, v_z]\n",
    "i = [w_x, w_y, w_z, a_z]\n",
    "o = [d0,\n",
    "    d1,\n",
    "    d2,\n",
    "    d3,\n",
    "    d4,\n",
    "    d5,\n",
    "    d6,\n",
    "    d7,\n",
    "    n_x,\n",
    "    n_y,\n",
    "    r,\n",
    "    ]\n",
    "p = [g, k_flow]\n"
   ]
  },
  {
   "cell_type": "code",
   "execution_count": 26,
   "metadata": {},
   "outputs": [],
   "source": [
    "o_x_eq = sym.symbols('o_x_eq')\n",
    "o_y_eq = sym.symbols('o_y_eq')\n",
    "o_z_eq = sym.symbols('o_z_eq')\n",
    "s_eq = [o_x_eq, o_y_eq, o_z_eq, 0, 0, 0, 0, 0, 0]\n",
    "i_eq = [0, 0, 0, g]\n",
    "\n",
    "s_eq = [sym.nsimplify(a) for a in s_eq]\n",
    "i_eq = [sym.nsimplify(a) for a in i_eq]\n"
   ]
  },
  {
   "cell_type": "code",
   "execution_count": 27,
   "metadata": {},
   "outputs": [
    {
     "data": {
      "text/latex": [
       "$\\displaystyle \\left[\\begin{matrix}d_{0} - \\sqrt{\\left(o_{x eq} - x_{0}\\right)^{2} + \\left(o_{y eq} - y_{0}\\right)^{2} + \\left(o_{z eq} - z_{0}\\right)^{2}}\\\\d_{1} - \\sqrt{\\left(o_{x eq} - x_{1}\\right)^{2} + \\left(o_{y eq} - y_{1}\\right)^{2} + \\left(o_{z eq} - z_{1}\\right)^{2}}\\\\d_{2} - \\sqrt{\\left(o_{x eq} - x_{2}\\right)^{2} + \\left(o_{y eq} - y_{2}\\right)^{2} + \\left(o_{z eq} - z_{2}\\right)^{2}}\\\\d_{3} - \\sqrt{\\left(o_{x eq} - x_{3}\\right)^{2} + \\left(o_{y eq} - y_{3}\\right)^{2} + \\left(o_{z eq} - z_{3}\\right)^{2}}\\\\d_{4} - \\sqrt{\\left(o_{x eq} - x_{4}\\right)^{2} + \\left(o_{y eq} - y_{4}\\right)^{2} + \\left(o_{z eq} - z_{4}\\right)^{2}}\\\\d_{5} - \\sqrt{\\left(o_{x eq} - x_{5}\\right)^{2} + \\left(o_{y eq} - y_{5}\\right)^{2} + \\left(o_{z eq} - z_{5}\\right)^{2}}\\\\d_{6} - \\sqrt{\\left(o_{x eq} - x_{6}\\right)^{2} + \\left(o_{y eq} - y_{6}\\right)^{2} + \\left(o_{z eq} - z_{6}\\right)^{2}}\\\\d_{7} - \\sqrt{\\left(o_{x eq} - x_{7}\\right)^{2} + \\left(o_{y eq} - y_{7}\\right)^{2} + \\left(o_{z eq} - z_{7}\\right)^{2}}\\\\n_{x}\\\\n_{y}\\\\- o_{z eq} + r\\end{matrix}\\right]$"
      ],
      "text/plain": [
       "Matrix([\n",
       "[d0 - sqrt((o_x_eq - x_0)**2 + (o_y_eq - y_0)**2 + (o_z_eq - z_0)**2)],\n",
       "[d1 - sqrt((o_x_eq - x_1)**2 + (o_y_eq - y_1)**2 + (o_z_eq - z_1)**2)],\n",
       "[d2 - sqrt((o_x_eq - x_2)**2 + (o_y_eq - y_2)**2 + (o_z_eq - z_2)**2)],\n",
       "[d3 - sqrt((o_x_eq - x_3)**2 + (o_y_eq - y_3)**2 + (o_z_eq - z_3)**2)],\n",
       "[d4 - sqrt((o_x_eq - x_4)**2 + (o_y_eq - y_4)**2 + (o_z_eq - z_4)**2)],\n",
       "[d5 - sqrt((o_x_eq - x_5)**2 + (o_y_eq - y_5)**2 + (o_z_eq - z_5)**2)],\n",
       "[d6 - sqrt((o_x_eq - x_6)**2 + (o_y_eq - y_6)**2 + (o_z_eq - z_6)**2)],\n",
       "[d7 - sqrt((o_x_eq - x_7)**2 + (o_y_eq - y_7)**2 + (o_z_eq - z_7)**2)],\n",
       "[                                                                 n_x],\n",
       "[                                                                 n_y],\n",
       "[                                                         -o_z_eq + r]])"
      ]
     },
     "execution_count": 27,
     "metadata": {},
     "output_type": "execute_result"
    }
   ],
   "source": [
    "x = sym.Matrix([o_x, o_y, o_z, psi, theta, phi, v_x, v_y, v_z]) - sym.Matrix(s_eq)\n",
    "u = sym.Matrix([w_x, w_y, w_z, a_z]) - sym.Matrix(i_eq)\n",
    "y = sym.Matrix(o) - h.subs(tuple(zip(s, s_eq))).subs(tuple(zip(i, i_eq)))\n",
    "y"
   ]
  },
  {
   "cell_type": "code",
   "execution_count": 28,
   "metadata": {},
   "outputs": [
    {
     "data": {
      "text/plain": [
       "(Matrix([\n",
       " [0, 0, 0, 0, 0,  0, 1, 0, 0],\n",
       " [0, 0, 0, 0, 0,  0, 0, 1, 0],\n",
       " [0, 0, 0, 0, 0,  0, 0, 0, 1],\n",
       " [0, 0, 0, 0, 0,  0, 0, 0, 0],\n",
       " [0, 0, 0, 0, 0,  0, 0, 0, 0],\n",
       " [0, 0, 0, 0, 0,  0, 0, 0, 0],\n",
       " [0, 0, 0, 0, g,  0, 0, 0, 0],\n",
       " [0, 0, 0, 0, 0, -g, 0, 0, 0],\n",
       " [0, 0, 0, 0, 0,  0, 0, 0, 0]]),\n",
       " Matrix([\n",
       " [0, 0, 0, 0],\n",
       " [0, 0, 0, 0],\n",
       " [0, 0, 0, 0],\n",
       " [0, 0, 1, 0],\n",
       " [0, 1, 0, 0],\n",
       " [1, 0, 0, 0],\n",
       " [0, 0, 0, 0],\n",
       " [0, 0, 0, 0],\n",
       " [0, 0, 0, 1]]))"
      ]
     },
     "execution_count": 28,
     "metadata": {},
     "output_type": "execute_result"
    }
   ],
   "source": [
    "A = f.jacobian(s).subs(tuple(zip(s, s_eq))).subs(tuple(zip(i, i_eq)))\n",
    "B = f.jacobian(i).subs(tuple(zip(s, s_eq))).subs(tuple(zip(i, i_eq)))\n",
    "A, B"
   ]
  },
  {
   "cell_type": "code",
   "execution_count": 29,
   "metadata": {},
   "outputs": [],
   "source": [
    "C = h.jacobian(s).subs(tuple(zip(s, s_eq))).subs(tuple(zip(i, i_eq)))\n",
    "D = h.jacobian(i).subs(tuple(zip(s, s_eq))).subs(tuple(zip(i, i_eq)))"
   ]
  },
  {
   "cell_type": "code",
   "execution_count": 30,
   "metadata": {},
   "outputs": [],
   "source": [
    "s_obs_index = [0, 1, 2, 4, 5, 6, 7, 8]\n",
    "A_obs = A[s_obs_index, :][:, s_obs_index]\n",
    "B_obs = B[s_obs_index, :]\n",
    "C_obs = C[:, s_obs_index]\n",
    "D_obs = D"
   ]
  },
  {
   "cell_type": "code",
   "execution_count": 31,
   "metadata": {},
   "outputs": [
    {
     "data": {
      "text/latex": [
       "$\\displaystyle \\left[\\begin{matrix}0 & 0 & 0 & 0 & 0 & 1 & 0 & 0\\\\0 & 0 & 0 & 0 & 0 & 0 & 1 & 0\\\\0 & 0 & 0 & 0 & 0 & 0 & 0 & 1\\\\0 & 0 & 0 & 0 & 0 & 0 & 0 & 0\\\\0 & 0 & 0 & 0 & 0 & 0 & 0 & 0\\\\0 & 0 & 0 & g & 0 & 0 & 0 & 0\\\\0 & 0 & 0 & 0 & - g & 0 & 0 & 0\\\\0 & 0 & 0 & 0 & 0 & 0 & 0 & 0\\end{matrix}\\right]$"
      ],
      "text/plain": [
       "Matrix([\n",
       "[0, 0, 0, 0,  0, 1, 0, 0],\n",
       "[0, 0, 0, 0,  0, 0, 1, 0],\n",
       "[0, 0, 0, 0,  0, 0, 0, 1],\n",
       "[0, 0, 0, 0,  0, 0, 0, 0],\n",
       "[0, 0, 0, 0,  0, 0, 0, 0],\n",
       "[0, 0, 0, g,  0, 0, 0, 0],\n",
       "[0, 0, 0, 0, -g, 0, 0, 0],\n",
       "[0, 0, 0, 0,  0, 0, 0, 0]])"
      ]
     },
     "execution_count": 31,
     "metadata": {},
     "output_type": "execute_result"
    }
   ],
   "source": [
    "A_obs"
   ]
  },
  {
   "cell_type": "code",
   "execution_count": 32,
   "metadata": {},
   "outputs": [
    {
     "data": {
      "text/latex": [
       "$\\displaystyle \\left[\\begin{matrix}0 & 0 & 0 & 0\\\\0 & 0 & 0 & 0\\\\0 & 0 & 0 & 0\\\\0 & 1 & 0 & 0\\\\1 & 0 & 0 & 0\\\\0 & 0 & 0 & 0\\\\0 & 0 & 0 & 0\\\\0 & 0 & 0 & 1\\end{matrix}\\right]$"
      ],
      "text/plain": [
       "Matrix([\n",
       "[0, 0, 0, 0],\n",
       "[0, 0, 0, 0],\n",
       "[0, 0, 0, 0],\n",
       "[0, 1, 0, 0],\n",
       "[1, 0, 0, 0],\n",
       "[0, 0, 0, 0],\n",
       "[0, 0, 0, 0],\n",
       "[0, 0, 0, 1]])"
      ]
     },
     "execution_count": 32,
     "metadata": {},
     "output_type": "execute_result"
    }
   ],
   "source": [
    "B_obs"
   ]
  },
  {
   "cell_type": "code",
   "execution_count": 33,
   "metadata": {},
   "outputs": [
    {
     "data": {
      "text/latex": [
       "$\\displaystyle \\left[\\begin{matrix}\\frac{o_{x eq} - x_{0}}{\\sqrt{\\left(o_{x eq} - x_{0}\\right)^{2} + \\left(o_{y eq} - y_{0}\\right)^{2} + \\left(o_{z eq} - z_{0}\\right)^{2}}} & \\frac{o_{y eq} - y_{0}}{\\sqrt{\\left(o_{x eq} - x_{0}\\right)^{2} + \\left(o_{y eq} - y_{0}\\right)^{2} + \\left(o_{z eq} - z_{0}\\right)^{2}}} & \\frac{o_{z eq} - z_{0}}{\\sqrt{\\left(o_{x eq} - x_{0}\\right)^{2} + \\left(o_{y eq} - y_{0}\\right)^{2} + \\left(o_{z eq} - z_{0}\\right)^{2}}} & 0 & 0 & 0 & 0 & 0\\\\\\frac{o_{x eq} - x_{1}}{\\sqrt{\\left(o_{x eq} - x_{1}\\right)^{2} + \\left(o_{y eq} - y_{1}\\right)^{2} + \\left(o_{z eq} - z_{1}\\right)^{2}}} & \\frac{o_{y eq} - y_{1}}{\\sqrt{\\left(o_{x eq} - x_{1}\\right)^{2} + \\left(o_{y eq} - y_{1}\\right)^{2} + \\left(o_{z eq} - z_{1}\\right)^{2}}} & \\frac{o_{z eq} - z_{1}}{\\sqrt{\\left(o_{x eq} - x_{1}\\right)^{2} + \\left(o_{y eq} - y_{1}\\right)^{2} + \\left(o_{z eq} - z_{1}\\right)^{2}}} & 0 & 0 & 0 & 0 & 0\\\\\\frac{o_{x eq} - x_{2}}{\\sqrt{\\left(o_{x eq} - x_{2}\\right)^{2} + \\left(o_{y eq} - y_{2}\\right)^{2} + \\left(o_{z eq} - z_{2}\\right)^{2}}} & \\frac{o_{y eq} - y_{2}}{\\sqrt{\\left(o_{x eq} - x_{2}\\right)^{2} + \\left(o_{y eq} - y_{2}\\right)^{2} + \\left(o_{z eq} - z_{2}\\right)^{2}}} & \\frac{o_{z eq} - z_{2}}{\\sqrt{\\left(o_{x eq} - x_{2}\\right)^{2} + \\left(o_{y eq} - y_{2}\\right)^{2} + \\left(o_{z eq} - z_{2}\\right)^{2}}} & 0 & 0 & 0 & 0 & 0\\\\\\frac{o_{x eq} - x_{3}}{\\sqrt{\\left(o_{x eq} - x_{3}\\right)^{2} + \\left(o_{y eq} - y_{3}\\right)^{2} + \\left(o_{z eq} - z_{3}\\right)^{2}}} & \\frac{o_{y eq} - y_{3}}{\\sqrt{\\left(o_{x eq} - x_{3}\\right)^{2} + \\left(o_{y eq} - y_{3}\\right)^{2} + \\left(o_{z eq} - z_{3}\\right)^{2}}} & \\frac{o_{z eq} - z_{3}}{\\sqrt{\\left(o_{x eq} - x_{3}\\right)^{2} + \\left(o_{y eq} - y_{3}\\right)^{2} + \\left(o_{z eq} - z_{3}\\right)^{2}}} & 0 & 0 & 0 & 0 & 0\\\\\\frac{o_{x eq} - x_{4}}{\\sqrt{\\left(o_{x eq} - x_{4}\\right)^{2} + \\left(o_{y eq} - y_{4}\\right)^{2} + \\left(o_{z eq} - z_{4}\\right)^{2}}} & \\frac{o_{y eq} - y_{4}}{\\sqrt{\\left(o_{x eq} - x_{4}\\right)^{2} + \\left(o_{y eq} - y_{4}\\right)^{2} + \\left(o_{z eq} - z_{4}\\right)^{2}}} & \\frac{o_{z eq} - z_{4}}{\\sqrt{\\left(o_{x eq} - x_{4}\\right)^{2} + \\left(o_{y eq} - y_{4}\\right)^{2} + \\left(o_{z eq} - z_{4}\\right)^{2}}} & 0 & 0 & 0 & 0 & 0\\\\\\frac{o_{x eq} - x_{5}}{\\sqrt{\\left(o_{x eq} - x_{5}\\right)^{2} + \\left(o_{y eq} - y_{5}\\right)^{2} + \\left(o_{z eq} - z_{5}\\right)^{2}}} & \\frac{o_{y eq} - y_{5}}{\\sqrt{\\left(o_{x eq} - x_{5}\\right)^{2} + \\left(o_{y eq} - y_{5}\\right)^{2} + \\left(o_{z eq} - z_{5}\\right)^{2}}} & \\frac{o_{z eq} - z_{5}}{\\sqrt{\\left(o_{x eq} - x_{5}\\right)^{2} + \\left(o_{y eq} - y_{5}\\right)^{2} + \\left(o_{z eq} - z_{5}\\right)^{2}}} & 0 & 0 & 0 & 0 & 0\\\\\\frac{o_{x eq} - x_{6}}{\\sqrt{\\left(o_{x eq} - x_{6}\\right)^{2} + \\left(o_{y eq} - y_{6}\\right)^{2} + \\left(o_{z eq} - z_{6}\\right)^{2}}} & \\frac{o_{y eq} - y_{6}}{\\sqrt{\\left(o_{x eq} - x_{6}\\right)^{2} + \\left(o_{y eq} - y_{6}\\right)^{2} + \\left(o_{z eq} - z_{6}\\right)^{2}}} & \\frac{o_{z eq} - z_{6}}{\\sqrt{\\left(o_{x eq} - x_{6}\\right)^{2} + \\left(o_{y eq} - y_{6}\\right)^{2} + \\left(o_{z eq} - z_{6}\\right)^{2}}} & 0 & 0 & 0 & 0 & 0\\\\\\frac{o_{x eq} - x_{7}}{\\sqrt{\\left(o_{x eq} - x_{7}\\right)^{2} + \\left(o_{y eq} - y_{7}\\right)^{2} + \\left(o_{z eq} - z_{7}\\right)^{2}}} & \\frac{o_{y eq} - y_{7}}{\\sqrt{\\left(o_{x eq} - x_{7}\\right)^{2} + \\left(o_{y eq} - y_{7}\\right)^{2} + \\left(o_{z eq} - z_{7}\\right)^{2}}} & \\frac{o_{z eq} - z_{7}}{\\sqrt{\\left(o_{x eq} - x_{7}\\right)^{2} + \\left(o_{y eq} - y_{7}\\right)^{2} + \\left(o_{z eq} - z_{7}\\right)^{2}}} & 0 & 0 & 0 & 0 & 0\\\\0 & 0 & 0 & 0 & 0 & \\frac{k_{flow}}{o_{z eq}} & 0 & 0\\\\0 & 0 & 0 & 0 & 0 & 0 & \\frac{k_{flow}}{o_{z eq}} & 0\\\\0 & 0 & 1 & 0 & 0 & 0 & 0 & 0\\end{matrix}\\right]$"
      ],
      "text/plain": [
       "Matrix([\n",
       "[(o_x_eq - x_0)/sqrt((o_x_eq - x_0)**2 + (o_y_eq - y_0)**2 + (o_z_eq - z_0)**2), (o_y_eq - y_0)/sqrt((o_x_eq - x_0)**2 + (o_y_eq - y_0)**2 + (o_z_eq - z_0)**2), (o_z_eq - z_0)/sqrt((o_x_eq - x_0)**2 + (o_y_eq - y_0)**2 + (o_z_eq - z_0)**2), 0, 0,             0,             0, 0],\n",
       "[(o_x_eq - x_1)/sqrt((o_x_eq - x_1)**2 + (o_y_eq - y_1)**2 + (o_z_eq - z_1)**2), (o_y_eq - y_1)/sqrt((o_x_eq - x_1)**2 + (o_y_eq - y_1)**2 + (o_z_eq - z_1)**2), (o_z_eq - z_1)/sqrt((o_x_eq - x_1)**2 + (o_y_eq - y_1)**2 + (o_z_eq - z_1)**2), 0, 0,             0,             0, 0],\n",
       "[(o_x_eq - x_2)/sqrt((o_x_eq - x_2)**2 + (o_y_eq - y_2)**2 + (o_z_eq - z_2)**2), (o_y_eq - y_2)/sqrt((o_x_eq - x_2)**2 + (o_y_eq - y_2)**2 + (o_z_eq - z_2)**2), (o_z_eq - z_2)/sqrt((o_x_eq - x_2)**2 + (o_y_eq - y_2)**2 + (o_z_eq - z_2)**2), 0, 0,             0,             0, 0],\n",
       "[(o_x_eq - x_3)/sqrt((o_x_eq - x_3)**2 + (o_y_eq - y_3)**2 + (o_z_eq - z_3)**2), (o_y_eq - y_3)/sqrt((o_x_eq - x_3)**2 + (o_y_eq - y_3)**2 + (o_z_eq - z_3)**2), (o_z_eq - z_3)/sqrt((o_x_eq - x_3)**2 + (o_y_eq - y_3)**2 + (o_z_eq - z_3)**2), 0, 0,             0,             0, 0],\n",
       "[(o_x_eq - x_4)/sqrt((o_x_eq - x_4)**2 + (o_y_eq - y_4)**2 + (o_z_eq - z_4)**2), (o_y_eq - y_4)/sqrt((o_x_eq - x_4)**2 + (o_y_eq - y_4)**2 + (o_z_eq - z_4)**2), (o_z_eq - z_4)/sqrt((o_x_eq - x_4)**2 + (o_y_eq - y_4)**2 + (o_z_eq - z_4)**2), 0, 0,             0,             0, 0],\n",
       "[(o_x_eq - x_5)/sqrt((o_x_eq - x_5)**2 + (o_y_eq - y_5)**2 + (o_z_eq - z_5)**2), (o_y_eq - y_5)/sqrt((o_x_eq - x_5)**2 + (o_y_eq - y_5)**2 + (o_z_eq - z_5)**2), (o_z_eq - z_5)/sqrt((o_x_eq - x_5)**2 + (o_y_eq - y_5)**2 + (o_z_eq - z_5)**2), 0, 0,             0,             0, 0],\n",
       "[(o_x_eq - x_6)/sqrt((o_x_eq - x_6)**2 + (o_y_eq - y_6)**2 + (o_z_eq - z_6)**2), (o_y_eq - y_6)/sqrt((o_x_eq - x_6)**2 + (o_y_eq - y_6)**2 + (o_z_eq - z_6)**2), (o_z_eq - z_6)/sqrt((o_x_eq - x_6)**2 + (o_y_eq - y_6)**2 + (o_z_eq - z_6)**2), 0, 0,             0,             0, 0],\n",
       "[(o_x_eq - x_7)/sqrt((o_x_eq - x_7)**2 + (o_y_eq - y_7)**2 + (o_z_eq - z_7)**2), (o_y_eq - y_7)/sqrt((o_x_eq - x_7)**2 + (o_y_eq - y_7)**2 + (o_z_eq - z_7)**2), (o_z_eq - z_7)/sqrt((o_x_eq - x_7)**2 + (o_y_eq - y_7)**2 + (o_z_eq - z_7)**2), 0, 0,             0,             0, 0],\n",
       "[                                                                             0,                                                                              0,                                                                              0, 0, 0, k_flow/o_z_eq,             0, 0],\n",
       "[                                                                             0,                                                                              0,                                                                              0, 0, 0,             0, k_flow/o_z_eq, 0],\n",
       "[                                                                             0,                                                                              0,                                                                              1, 0, 0,             0,             0, 0]])"
      ]
     },
     "execution_count": 33,
     "metadata": {},
     "output_type": "execute_result"
    }
   ],
   "source": [
    "C_obs"
   ]
  },
  {
   "cell_type": "code",
   "execution_count": 34,
   "metadata": {},
   "outputs": [
    {
     "data": {
      "text/latex": [
       "$\\displaystyle \\left[\\begin{matrix}0 & 0 & 0 & 0\\\\0 & 0 & 0 & 0\\\\0 & 0 & 0 & 0\\\\0 & 0 & 0 & 0\\\\0 & 0 & 0 & 0\\\\0 & 0 & 0 & 0\\\\0 & 0 & 0 & 0\\\\0 & 0 & 0 & 0\\\\0 & - k_{flow} & 0 & 0\\\\k_{flow} & 0 & 0 & 0\\\\0 & 0 & 0 & 0\\end{matrix}\\right]$"
      ],
      "text/plain": [
       "Matrix([\n",
       "[     0,       0, 0, 0],\n",
       "[     0,       0, 0, 0],\n",
       "[     0,       0, 0, 0],\n",
       "[     0,       0, 0, 0],\n",
       "[     0,       0, 0, 0],\n",
       "[     0,       0, 0, 0],\n",
       "[     0,       0, 0, 0],\n",
       "[     0,       0, 0, 0],\n",
       "[     0, -k_flow, 0, 0],\n",
       "[k_flow,       0, 0, 0],\n",
       "[     0,       0, 0, 0]])"
      ]
     },
     "execution_count": 34,
     "metadata": {},
     "output_type": "execute_result"
    }
   ],
   "source": [
    "D_obs"
   ]
  },
  {
   "cell_type": "code",
   "execution_count": 35,
   "metadata": {},
   "outputs": [
    {
     "data": {
      "text/latex": [
       "$\\displaystyle \\left[\\begin{matrix}\\frac{o_{x} \\left(o_{x eq} - x_{0}\\right)}{\\sqrt{\\left(o_{x eq} - x_{0}\\right)^{2} + \\left(o_{y eq} - y_{0}\\right)^{2} + \\left(o_{z eq} - z_{0}\\right)^{2}}} + \\frac{o_{y} \\left(o_{y eq} - y_{0}\\right)}{\\sqrt{\\left(o_{x eq} - x_{0}\\right)^{2} + \\left(o_{y eq} - y_{0}\\right)^{2} + \\left(o_{z eq} - z_{0}\\right)^{2}}} + \\frac{\\left(o_{z} - o_{z eq}\\right) \\left(o_{z eq} - z_{0}\\right)}{\\sqrt{\\left(o_{x eq} - x_{0}\\right)^{2} + \\left(o_{y eq} - y_{0}\\right)^{2} + \\left(o_{z eq} - z_{0}\\right)^{2}}}\\\\\\frac{o_{x} \\left(o_{x eq} - x_{1}\\right)}{\\sqrt{\\left(o_{x eq} - x_{1}\\right)^{2} + \\left(o_{y eq} - y_{1}\\right)^{2} + \\left(o_{z eq} - z_{1}\\right)^{2}}} + \\frac{o_{y} \\left(o_{y eq} - y_{1}\\right)}{\\sqrt{\\left(o_{x eq} - x_{1}\\right)^{2} + \\left(o_{y eq} - y_{1}\\right)^{2} + \\left(o_{z eq} - z_{1}\\right)^{2}}} + \\frac{\\left(o_{z} - o_{z eq}\\right) \\left(o_{z eq} - z_{1}\\right)}{\\sqrt{\\left(o_{x eq} - x_{1}\\right)^{2} + \\left(o_{y eq} - y_{1}\\right)^{2} + \\left(o_{z eq} - z_{1}\\right)^{2}}}\\\\\\frac{o_{x} \\left(o_{x eq} - x_{2}\\right)}{\\sqrt{\\left(o_{x eq} - x_{2}\\right)^{2} + \\left(o_{y eq} - y_{2}\\right)^{2} + \\left(o_{z eq} - z_{2}\\right)^{2}}} + \\frac{o_{y} \\left(o_{y eq} - y_{2}\\right)}{\\sqrt{\\left(o_{x eq} - x_{2}\\right)^{2} + \\left(o_{y eq} - y_{2}\\right)^{2} + \\left(o_{z eq} - z_{2}\\right)^{2}}} + \\frac{\\left(o_{z} - o_{z eq}\\right) \\left(o_{z eq} - z_{2}\\right)}{\\sqrt{\\left(o_{x eq} - x_{2}\\right)^{2} + \\left(o_{y eq} - y_{2}\\right)^{2} + \\left(o_{z eq} - z_{2}\\right)^{2}}}\\\\\\frac{o_{x} \\left(o_{x eq} - x_{3}\\right)}{\\sqrt{\\left(o_{x eq} - x_{3}\\right)^{2} + \\left(o_{y eq} - y_{3}\\right)^{2} + \\left(o_{z eq} - z_{3}\\right)^{2}}} + \\frac{o_{y} \\left(o_{y eq} - y_{3}\\right)}{\\sqrt{\\left(o_{x eq} - x_{3}\\right)^{2} + \\left(o_{y eq} - y_{3}\\right)^{2} + \\left(o_{z eq} - z_{3}\\right)^{2}}} + \\frac{\\left(o_{z} - o_{z eq}\\right) \\left(o_{z eq} - z_{3}\\right)}{\\sqrt{\\left(o_{x eq} - x_{3}\\right)^{2} + \\left(o_{y eq} - y_{3}\\right)^{2} + \\left(o_{z eq} - z_{3}\\right)^{2}}}\\\\\\frac{o_{x} \\left(o_{x eq} - x_{4}\\right)}{\\sqrt{\\left(o_{x eq} - x_{4}\\right)^{2} + \\left(o_{y eq} - y_{4}\\right)^{2} + \\left(o_{z eq} - z_{4}\\right)^{2}}} + \\frac{o_{y} \\left(o_{y eq} - y_{4}\\right)}{\\sqrt{\\left(o_{x eq} - x_{4}\\right)^{2} + \\left(o_{y eq} - y_{4}\\right)^{2} + \\left(o_{z eq} - z_{4}\\right)^{2}}} + \\frac{\\left(o_{z} - o_{z eq}\\right) \\left(o_{z eq} - z_{4}\\right)}{\\sqrt{\\left(o_{x eq} - x_{4}\\right)^{2} + \\left(o_{y eq} - y_{4}\\right)^{2} + \\left(o_{z eq} - z_{4}\\right)^{2}}}\\\\\\frac{o_{x} \\left(o_{x eq} - x_{5}\\right)}{\\sqrt{\\left(o_{x eq} - x_{5}\\right)^{2} + \\left(o_{y eq} - y_{5}\\right)^{2} + \\left(o_{z eq} - z_{5}\\right)^{2}}} + \\frac{o_{y} \\left(o_{y eq} - y_{5}\\right)}{\\sqrt{\\left(o_{x eq} - x_{5}\\right)^{2} + \\left(o_{y eq} - y_{5}\\right)^{2} + \\left(o_{z eq} - z_{5}\\right)^{2}}} + \\frac{\\left(o_{z} - o_{z eq}\\right) \\left(o_{z eq} - z_{5}\\right)}{\\sqrt{\\left(o_{x eq} - x_{5}\\right)^{2} + \\left(o_{y eq} - y_{5}\\right)^{2} + \\left(o_{z eq} - z_{5}\\right)^{2}}}\\\\\\frac{o_{x} \\left(o_{x eq} - x_{6}\\right)}{\\sqrt{\\left(o_{x eq} - x_{6}\\right)^{2} + \\left(o_{y eq} - y_{6}\\right)^{2} + \\left(o_{z eq} - z_{6}\\right)^{2}}} + \\frac{o_{y} \\left(o_{y eq} - y_{6}\\right)}{\\sqrt{\\left(o_{x eq} - x_{6}\\right)^{2} + \\left(o_{y eq} - y_{6}\\right)^{2} + \\left(o_{z eq} - z_{6}\\right)^{2}}} + \\frac{\\left(o_{z} - o_{z eq}\\right) \\left(o_{z eq} - z_{6}\\right)}{\\sqrt{\\left(o_{x eq} - x_{6}\\right)^{2} + \\left(o_{y eq} - y_{6}\\right)^{2} + \\left(o_{z eq} - z_{6}\\right)^{2}}}\\\\\\frac{o_{x} \\left(o_{x eq} - x_{7}\\right)}{\\sqrt{\\left(o_{x eq} - x_{7}\\right)^{2} + \\left(o_{y eq} - y_{7}\\right)^{2} + \\left(o_{z eq} - z_{7}\\right)^{2}}} + \\frac{o_{y} \\left(o_{y eq} - y_{7}\\right)}{\\sqrt{\\left(o_{x eq} - x_{7}\\right)^{2} + \\left(o_{y eq} - y_{7}\\right)^{2} + \\left(o_{z eq} - z_{7}\\right)^{2}}} + \\frac{\\left(o_{z} - o_{z eq}\\right) \\left(o_{z eq} - z_{7}\\right)}{\\sqrt{\\left(o_{x eq} - x_{7}\\right)^{2} + \\left(o_{y eq} - y_{7}\\right)^{2} + \\left(o_{z eq} - z_{7}\\right)^{2}}}\\\\- k_{flow} w_{y} + \\frac{k_{flow} v_{x}}{o_{z eq}}\\\\k_{flow} w_{x} + \\frac{k_{flow} v_{y}}{o_{z eq}}\\\\o_{z} - o_{z eq}\\end{matrix}\\right]$"
      ],
      "text/plain": [
       "Matrix([\n",
       "[o_x*(o_x_eq - x_0)/sqrt((o_x_eq - x_0)**2 + (o_y_eq - y_0)**2 + (o_z_eq - z_0)**2) + o_y*(o_y_eq - y_0)/sqrt((o_x_eq - x_0)**2 + (o_y_eq - y_0)**2 + (o_z_eq - z_0)**2) + (o_z - o_z_eq)*(o_z_eq - z_0)/sqrt((o_x_eq - x_0)**2 + (o_y_eq - y_0)**2 + (o_z_eq - z_0)**2)],\n",
       "[o_x*(o_x_eq - x_1)/sqrt((o_x_eq - x_1)**2 + (o_y_eq - y_1)**2 + (o_z_eq - z_1)**2) + o_y*(o_y_eq - y_1)/sqrt((o_x_eq - x_1)**2 + (o_y_eq - y_1)**2 + (o_z_eq - z_1)**2) + (o_z - o_z_eq)*(o_z_eq - z_1)/sqrt((o_x_eq - x_1)**2 + (o_y_eq - y_1)**2 + (o_z_eq - z_1)**2)],\n",
       "[o_x*(o_x_eq - x_2)/sqrt((o_x_eq - x_2)**2 + (o_y_eq - y_2)**2 + (o_z_eq - z_2)**2) + o_y*(o_y_eq - y_2)/sqrt((o_x_eq - x_2)**2 + (o_y_eq - y_2)**2 + (o_z_eq - z_2)**2) + (o_z - o_z_eq)*(o_z_eq - z_2)/sqrt((o_x_eq - x_2)**2 + (o_y_eq - y_2)**2 + (o_z_eq - z_2)**2)],\n",
       "[o_x*(o_x_eq - x_3)/sqrt((o_x_eq - x_3)**2 + (o_y_eq - y_3)**2 + (o_z_eq - z_3)**2) + o_y*(o_y_eq - y_3)/sqrt((o_x_eq - x_3)**2 + (o_y_eq - y_3)**2 + (o_z_eq - z_3)**2) + (o_z - o_z_eq)*(o_z_eq - z_3)/sqrt((o_x_eq - x_3)**2 + (o_y_eq - y_3)**2 + (o_z_eq - z_3)**2)],\n",
       "[o_x*(o_x_eq - x_4)/sqrt((o_x_eq - x_4)**2 + (o_y_eq - y_4)**2 + (o_z_eq - z_4)**2) + o_y*(o_y_eq - y_4)/sqrt((o_x_eq - x_4)**2 + (o_y_eq - y_4)**2 + (o_z_eq - z_4)**2) + (o_z - o_z_eq)*(o_z_eq - z_4)/sqrt((o_x_eq - x_4)**2 + (o_y_eq - y_4)**2 + (o_z_eq - z_4)**2)],\n",
       "[o_x*(o_x_eq - x_5)/sqrt((o_x_eq - x_5)**2 + (o_y_eq - y_5)**2 + (o_z_eq - z_5)**2) + o_y*(o_y_eq - y_5)/sqrt((o_x_eq - x_5)**2 + (o_y_eq - y_5)**2 + (o_z_eq - z_5)**2) + (o_z - o_z_eq)*(o_z_eq - z_5)/sqrt((o_x_eq - x_5)**2 + (o_y_eq - y_5)**2 + (o_z_eq - z_5)**2)],\n",
       "[o_x*(o_x_eq - x_6)/sqrt((o_x_eq - x_6)**2 + (o_y_eq - y_6)**2 + (o_z_eq - z_6)**2) + o_y*(o_y_eq - y_6)/sqrt((o_x_eq - x_6)**2 + (o_y_eq - y_6)**2 + (o_z_eq - z_6)**2) + (o_z - o_z_eq)*(o_z_eq - z_6)/sqrt((o_x_eq - x_6)**2 + (o_y_eq - y_6)**2 + (o_z_eq - z_6)**2)],\n",
       "[o_x*(o_x_eq - x_7)/sqrt((o_x_eq - x_7)**2 + (o_y_eq - y_7)**2 + (o_z_eq - z_7)**2) + o_y*(o_y_eq - y_7)/sqrt((o_x_eq - x_7)**2 + (o_y_eq - y_7)**2 + (o_z_eq - z_7)**2) + (o_z - o_z_eq)*(o_z_eq - z_7)/sqrt((o_x_eq - x_7)**2 + (o_y_eq - y_7)**2 + (o_z_eq - z_7)**2)],\n",
       "[                                                                                                                                                                                                                                        -k_flow*w_y + k_flow*v_x/o_z_eq],\n",
       "[                                                                                                                                                                                                                                         k_flow*w_x + k_flow*v_y/o_z_eq],\n",
       "[                                                                                                                                                                                                                                                           o_z - o_z_eq]])"
      ]
     },
     "execution_count": 35,
     "metadata": {},
     "output_type": "execute_result"
    }
   ],
   "source": [
    "x_obs = sym.Matrix([o_x, o_y, o_z - o_z_eq, theta, phi, v_x, v_y, v_z])\n",
    "C_obs*x_obs + D_obs*u"
   ]
  },
  {
   "cell_type": "code",
   "execution_count": 36,
   "metadata": {},
   "outputs": [
    {
     "data": {
      "text/latex": [
       "$\\displaystyle \\left[\\begin{matrix}- d_{0} + \\frac{o_{x} \\left(o_{x eq} - x_{0}\\right)}{\\sqrt{\\left(o_{x eq} - x_{0}\\right)^{2} + \\left(o_{y eq} - y_{0}\\right)^{2} + \\left(o_{z eq} - z_{0}\\right)^{2}}} + \\frac{o_{y} \\left(o_{y eq} - y_{0}\\right)}{\\sqrt{\\left(o_{x eq} - x_{0}\\right)^{2} + \\left(o_{y eq} - y_{0}\\right)^{2} + \\left(o_{z eq} - z_{0}\\right)^{2}}} + \\frac{\\left(o_{z} - o_{z eq}\\right) \\left(o_{z eq} - z_{0}\\right)}{\\sqrt{\\left(o_{x eq} - x_{0}\\right)^{2} + \\left(o_{y eq} - y_{0}\\right)^{2} + \\left(o_{z eq} - z_{0}\\right)^{2}}} + \\sqrt{\\left(o_{x eq} - x_{0}\\right)^{2} + \\left(o_{y eq} - y_{0}\\right)^{2} + \\left(o_{z eq} - z_{0}\\right)^{2}}\\\\- d_{1} + \\frac{o_{x} \\left(o_{x eq} - x_{1}\\right)}{\\sqrt{\\left(o_{x eq} - x_{1}\\right)^{2} + \\left(o_{y eq} - y_{1}\\right)^{2} + \\left(o_{z eq} - z_{1}\\right)^{2}}} + \\frac{o_{y} \\left(o_{y eq} - y_{1}\\right)}{\\sqrt{\\left(o_{x eq} - x_{1}\\right)^{2} + \\left(o_{y eq} - y_{1}\\right)^{2} + \\left(o_{z eq} - z_{1}\\right)^{2}}} + \\frac{\\left(o_{z} - o_{z eq}\\right) \\left(o_{z eq} - z_{1}\\right)}{\\sqrt{\\left(o_{x eq} - x_{1}\\right)^{2} + \\left(o_{y eq} - y_{1}\\right)^{2} + \\left(o_{z eq} - z_{1}\\right)^{2}}} + \\sqrt{\\left(o_{x eq} - x_{1}\\right)^{2} + \\left(o_{y eq} - y_{1}\\right)^{2} + \\left(o_{z eq} - z_{1}\\right)^{2}}\\\\- d_{2} + \\frac{o_{x} \\left(o_{x eq} - x_{2}\\right)}{\\sqrt{\\left(o_{x eq} - x_{2}\\right)^{2} + \\left(o_{y eq} - y_{2}\\right)^{2} + \\left(o_{z eq} - z_{2}\\right)^{2}}} + \\frac{o_{y} \\left(o_{y eq} - y_{2}\\right)}{\\sqrt{\\left(o_{x eq} - x_{2}\\right)^{2} + \\left(o_{y eq} - y_{2}\\right)^{2} + \\left(o_{z eq} - z_{2}\\right)^{2}}} + \\frac{\\left(o_{z} - o_{z eq}\\right) \\left(o_{z eq} - z_{2}\\right)}{\\sqrt{\\left(o_{x eq} - x_{2}\\right)^{2} + \\left(o_{y eq} - y_{2}\\right)^{2} + \\left(o_{z eq} - z_{2}\\right)^{2}}} + \\sqrt{\\left(o_{x eq} - x_{2}\\right)^{2} + \\left(o_{y eq} - y_{2}\\right)^{2} + \\left(o_{z eq} - z_{2}\\right)^{2}}\\\\- d_{3} + \\frac{o_{x} \\left(o_{x eq} - x_{3}\\right)}{\\sqrt{\\left(o_{x eq} - x_{3}\\right)^{2} + \\left(o_{y eq} - y_{3}\\right)^{2} + \\left(o_{z eq} - z_{3}\\right)^{2}}} + \\frac{o_{y} \\left(o_{y eq} - y_{3}\\right)}{\\sqrt{\\left(o_{x eq} - x_{3}\\right)^{2} + \\left(o_{y eq} - y_{3}\\right)^{2} + \\left(o_{z eq} - z_{3}\\right)^{2}}} + \\frac{\\left(o_{z} - o_{z eq}\\right) \\left(o_{z eq} - z_{3}\\right)}{\\sqrt{\\left(o_{x eq} - x_{3}\\right)^{2} + \\left(o_{y eq} - y_{3}\\right)^{2} + \\left(o_{z eq} - z_{3}\\right)^{2}}} + \\sqrt{\\left(o_{x eq} - x_{3}\\right)^{2} + \\left(o_{y eq} - y_{3}\\right)^{2} + \\left(o_{z eq} - z_{3}\\right)^{2}}\\\\- d_{4} + \\frac{o_{x} \\left(o_{x eq} - x_{4}\\right)}{\\sqrt{\\left(o_{x eq} - x_{4}\\right)^{2} + \\left(o_{y eq} - y_{4}\\right)^{2} + \\left(o_{z eq} - z_{4}\\right)^{2}}} + \\frac{o_{y} \\left(o_{y eq} - y_{4}\\right)}{\\sqrt{\\left(o_{x eq} - x_{4}\\right)^{2} + \\left(o_{y eq} - y_{4}\\right)^{2} + \\left(o_{z eq} - z_{4}\\right)^{2}}} + \\frac{\\left(o_{z} - o_{z eq}\\right) \\left(o_{z eq} - z_{4}\\right)}{\\sqrt{\\left(o_{x eq} - x_{4}\\right)^{2} + \\left(o_{y eq} - y_{4}\\right)^{2} + \\left(o_{z eq} - z_{4}\\right)^{2}}} + \\sqrt{\\left(o_{x eq} - x_{4}\\right)^{2} + \\left(o_{y eq} - y_{4}\\right)^{2} + \\left(o_{z eq} - z_{4}\\right)^{2}}\\\\- d_{5} + \\frac{o_{x} \\left(o_{x eq} - x_{5}\\right)}{\\sqrt{\\left(o_{x eq} - x_{5}\\right)^{2} + \\left(o_{y eq} - y_{5}\\right)^{2} + \\left(o_{z eq} - z_{5}\\right)^{2}}} + \\frac{o_{y} \\left(o_{y eq} - y_{5}\\right)}{\\sqrt{\\left(o_{x eq} - x_{5}\\right)^{2} + \\left(o_{y eq} - y_{5}\\right)^{2} + \\left(o_{z eq} - z_{5}\\right)^{2}}} + \\frac{\\left(o_{z} - o_{z eq}\\right) \\left(o_{z eq} - z_{5}\\right)}{\\sqrt{\\left(o_{x eq} - x_{5}\\right)^{2} + \\left(o_{y eq} - y_{5}\\right)^{2} + \\left(o_{z eq} - z_{5}\\right)^{2}}} + \\sqrt{\\left(o_{x eq} - x_{5}\\right)^{2} + \\left(o_{y eq} - y_{5}\\right)^{2} + \\left(o_{z eq} - z_{5}\\right)^{2}}\\\\- d_{6} + \\frac{o_{x} \\left(o_{x eq} - x_{6}\\right)}{\\sqrt{\\left(o_{x eq} - x_{6}\\right)^{2} + \\left(o_{y eq} - y_{6}\\right)^{2} + \\left(o_{z eq} - z_{6}\\right)^{2}}} + \\frac{o_{y} \\left(o_{y eq} - y_{6}\\right)}{\\sqrt{\\left(o_{x eq} - x_{6}\\right)^{2} + \\left(o_{y eq} - y_{6}\\right)^{2} + \\left(o_{z eq} - z_{6}\\right)^{2}}} + \\frac{\\left(o_{z} - o_{z eq}\\right) \\left(o_{z eq} - z_{6}\\right)}{\\sqrt{\\left(o_{x eq} - x_{6}\\right)^{2} + \\left(o_{y eq} - y_{6}\\right)^{2} + \\left(o_{z eq} - z_{6}\\right)^{2}}} + \\sqrt{\\left(o_{x eq} - x_{6}\\right)^{2} + \\left(o_{y eq} - y_{6}\\right)^{2} + \\left(o_{z eq} - z_{6}\\right)^{2}}\\\\- d_{7} + \\frac{o_{x} \\left(o_{x eq} - x_{7}\\right)}{\\sqrt{\\left(o_{x eq} - x_{7}\\right)^{2} + \\left(o_{y eq} - y_{7}\\right)^{2} + \\left(o_{z eq} - z_{7}\\right)^{2}}} + \\frac{o_{y} \\left(o_{y eq} - y_{7}\\right)}{\\sqrt{\\left(o_{x eq} - x_{7}\\right)^{2} + \\left(o_{y eq} - y_{7}\\right)^{2} + \\left(o_{z eq} - z_{7}\\right)^{2}}} + \\frac{\\left(o_{z} - o_{z eq}\\right) \\left(o_{z eq} - z_{7}\\right)}{\\sqrt{\\left(o_{x eq} - x_{7}\\right)^{2} + \\left(o_{y eq} - y_{7}\\right)^{2} + \\left(o_{z eq} - z_{7}\\right)^{2}}} + \\sqrt{\\left(o_{x eq} - x_{7}\\right)^{2} + \\left(o_{y eq} - y_{7}\\right)^{2} + \\left(o_{z eq} - z_{7}\\right)^{2}}\\\\- k_{flow} w_{y} + \\frac{k_{flow} v_{x}}{o_{z eq}} - n_{x}\\\\k_{flow} w_{x} + \\frac{k_{flow} v_{y}}{o_{z eq}} - n_{y}\\\\o_{z} - r\\end{matrix}\\right]$"
      ],
      "text/plain": [
       "Matrix([\n",
       "[-d0 + o_x*(o_x_eq - x_0)/sqrt((o_x_eq - x_0)**2 + (o_y_eq - y_0)**2 + (o_z_eq - z_0)**2) + o_y*(o_y_eq - y_0)/sqrt((o_x_eq - x_0)**2 + (o_y_eq - y_0)**2 + (o_z_eq - z_0)**2) + (o_z - o_z_eq)*(o_z_eq - z_0)/sqrt((o_x_eq - x_0)**2 + (o_y_eq - y_0)**2 + (o_z_eq - z_0)**2) + sqrt((o_x_eq - x_0)**2 + (o_y_eq - y_0)**2 + (o_z_eq - z_0)**2)],\n",
       "[-d1 + o_x*(o_x_eq - x_1)/sqrt((o_x_eq - x_1)**2 + (o_y_eq - y_1)**2 + (o_z_eq - z_1)**2) + o_y*(o_y_eq - y_1)/sqrt((o_x_eq - x_1)**2 + (o_y_eq - y_1)**2 + (o_z_eq - z_1)**2) + (o_z - o_z_eq)*(o_z_eq - z_1)/sqrt((o_x_eq - x_1)**2 + (o_y_eq - y_1)**2 + (o_z_eq - z_1)**2) + sqrt((o_x_eq - x_1)**2 + (o_y_eq - y_1)**2 + (o_z_eq - z_1)**2)],\n",
       "[-d2 + o_x*(o_x_eq - x_2)/sqrt((o_x_eq - x_2)**2 + (o_y_eq - y_2)**2 + (o_z_eq - z_2)**2) + o_y*(o_y_eq - y_2)/sqrt((o_x_eq - x_2)**2 + (o_y_eq - y_2)**2 + (o_z_eq - z_2)**2) + (o_z - o_z_eq)*(o_z_eq - z_2)/sqrt((o_x_eq - x_2)**2 + (o_y_eq - y_2)**2 + (o_z_eq - z_2)**2) + sqrt((o_x_eq - x_2)**2 + (o_y_eq - y_2)**2 + (o_z_eq - z_2)**2)],\n",
       "[-d3 + o_x*(o_x_eq - x_3)/sqrt((o_x_eq - x_3)**2 + (o_y_eq - y_3)**2 + (o_z_eq - z_3)**2) + o_y*(o_y_eq - y_3)/sqrt((o_x_eq - x_3)**2 + (o_y_eq - y_3)**2 + (o_z_eq - z_3)**2) + (o_z - o_z_eq)*(o_z_eq - z_3)/sqrt((o_x_eq - x_3)**2 + (o_y_eq - y_3)**2 + (o_z_eq - z_3)**2) + sqrt((o_x_eq - x_3)**2 + (o_y_eq - y_3)**2 + (o_z_eq - z_3)**2)],\n",
       "[-d4 + o_x*(o_x_eq - x_4)/sqrt((o_x_eq - x_4)**2 + (o_y_eq - y_4)**2 + (o_z_eq - z_4)**2) + o_y*(o_y_eq - y_4)/sqrt((o_x_eq - x_4)**2 + (o_y_eq - y_4)**2 + (o_z_eq - z_4)**2) + (o_z - o_z_eq)*(o_z_eq - z_4)/sqrt((o_x_eq - x_4)**2 + (o_y_eq - y_4)**2 + (o_z_eq - z_4)**2) + sqrt((o_x_eq - x_4)**2 + (o_y_eq - y_4)**2 + (o_z_eq - z_4)**2)],\n",
       "[-d5 + o_x*(o_x_eq - x_5)/sqrt((o_x_eq - x_5)**2 + (o_y_eq - y_5)**2 + (o_z_eq - z_5)**2) + o_y*(o_y_eq - y_5)/sqrt((o_x_eq - x_5)**2 + (o_y_eq - y_5)**2 + (o_z_eq - z_5)**2) + (o_z - o_z_eq)*(o_z_eq - z_5)/sqrt((o_x_eq - x_5)**2 + (o_y_eq - y_5)**2 + (o_z_eq - z_5)**2) + sqrt((o_x_eq - x_5)**2 + (o_y_eq - y_5)**2 + (o_z_eq - z_5)**2)],\n",
       "[-d6 + o_x*(o_x_eq - x_6)/sqrt((o_x_eq - x_6)**2 + (o_y_eq - y_6)**2 + (o_z_eq - z_6)**2) + o_y*(o_y_eq - y_6)/sqrt((o_x_eq - x_6)**2 + (o_y_eq - y_6)**2 + (o_z_eq - z_6)**2) + (o_z - o_z_eq)*(o_z_eq - z_6)/sqrt((o_x_eq - x_6)**2 + (o_y_eq - y_6)**2 + (o_z_eq - z_6)**2) + sqrt((o_x_eq - x_6)**2 + (o_y_eq - y_6)**2 + (o_z_eq - z_6)**2)],\n",
       "[-d7 + o_x*(o_x_eq - x_7)/sqrt((o_x_eq - x_7)**2 + (o_y_eq - y_7)**2 + (o_z_eq - z_7)**2) + o_y*(o_y_eq - y_7)/sqrt((o_x_eq - x_7)**2 + (o_y_eq - y_7)**2 + (o_z_eq - z_7)**2) + (o_z - o_z_eq)*(o_z_eq - z_7)/sqrt((o_x_eq - x_7)**2 + (o_y_eq - y_7)**2 + (o_z_eq - z_7)**2) + sqrt((o_x_eq - x_7)**2 + (o_y_eq - y_7)**2 + (o_z_eq - z_7)**2)],\n",
       "[                                                                                                                                                                                                                                                                                                          -k_flow*w_y + k_flow*v_x/o_z_eq - n_x],\n",
       "[                                                                                                                                                                                                                                                                                                           k_flow*w_x + k_flow*v_y/o_z_eq - n_y],\n",
       "[                                                                                                                                                                                                                                                                                                                                        o_z - r]])"
      ]
     },
     "execution_count": 36,
     "metadata": {},
     "output_type": "execute_result"
    }
   ],
   "source": [
    "C_obs*x_obs + D_obs*u-y"
   ]
  },
  {
   "cell_type": "code",
   "execution_count": 41,
   "metadata": {},
   "outputs": [],
   "source": [
    "anchors_x_sym = [x_0, x_1, x_2, x_3, x_4, x_5, x_6, x_7]\n",
    "anchors_y_sym = [y_0, y_1, y_2, y_3, y_4, y_5, y_6, y_7]\n",
    "anchors_z_sym = [z_0, z_1, z_2, z_3, z_4, z_5, z_6, z_7]\n",
    "anchors_x = [-1.82, -3.57, 1.82, 2.67, -3.61, 1.84, 2.74, -1.85]\n",
    "anchors_y = [2.18, 3.18, 2.21, -3.30, -3.30, -0.90, 3.18, -0.93]\n",
    "anchors_z = [1.10, 2.24, 1.10, 2.20, 2.25, 1.10, 2.24, 1.09]"
   ]
  },
  {
   "cell_type": "code",
   "execution_count": 37,
   "metadata": {},
   "outputs": [
    {
     "data": {
      "text/latex": [
       "$\\displaystyle \\left[\\begin{matrix}\\frac{o_{x eq} - x_{0}}{\\sqrt{\\left(o_{x eq} - x_{0}\\right)^{2} + \\left(o_{y eq} - y_{0}\\right)^{2} + \\left(o_{z eq} - z_{0}\\right)^{2}}} & \\frac{o_{y eq} - y_{0}}{\\sqrt{\\left(o_{x eq} - x_{0}\\right)^{2} + \\left(o_{y eq} - y_{0}\\right)^{2} + \\left(o_{z eq} - z_{0}\\right)^{2}}} & \\frac{o_{z eq} - z_{0}}{\\sqrt{\\left(o_{x eq} - x_{0}\\right)^{2} + \\left(o_{y eq} - y_{0}\\right)^{2} + \\left(o_{z eq} - z_{0}\\right)^{2}}} & 0 & 0 & 0 & 0 & 0\\\\\\frac{o_{x eq} - x_{1}}{\\sqrt{\\left(o_{x eq} - x_{1}\\right)^{2} + \\left(o_{y eq} - y_{1}\\right)^{2} + \\left(o_{z eq} - z_{1}\\right)^{2}}} & \\frac{o_{y eq} - y_{1}}{\\sqrt{\\left(o_{x eq} - x_{1}\\right)^{2} + \\left(o_{y eq} - y_{1}\\right)^{2} + \\left(o_{z eq} - z_{1}\\right)^{2}}} & \\frac{o_{z eq} - z_{1}}{\\sqrt{\\left(o_{x eq} - x_{1}\\right)^{2} + \\left(o_{y eq} - y_{1}\\right)^{2} + \\left(o_{z eq} - z_{1}\\right)^{2}}} & 0 & 0 & 0 & 0 & 0\\\\\\frac{o_{x eq} - x_{2}}{\\sqrt{\\left(o_{x eq} - x_{2}\\right)^{2} + \\left(o_{y eq} - y_{2}\\right)^{2} + \\left(o_{z eq} - z_{2}\\right)^{2}}} & \\frac{o_{y eq} - y_{2}}{\\sqrt{\\left(o_{x eq} - x_{2}\\right)^{2} + \\left(o_{y eq} - y_{2}\\right)^{2} + \\left(o_{z eq} - z_{2}\\right)^{2}}} & \\frac{o_{z eq} - z_{2}}{\\sqrt{\\left(o_{x eq} - x_{2}\\right)^{2} + \\left(o_{y eq} - y_{2}\\right)^{2} + \\left(o_{z eq} - z_{2}\\right)^{2}}} & 0 & 0 & 0 & 0 & 0\\\\\\frac{o_{x eq} - x_{3}}{\\sqrt{\\left(o_{x eq} - x_{3}\\right)^{2} + \\left(o_{y eq} - y_{3}\\right)^{2} + \\left(o_{z eq} - z_{3}\\right)^{2}}} & \\frac{o_{y eq} - y_{3}}{\\sqrt{\\left(o_{x eq} - x_{3}\\right)^{2} + \\left(o_{y eq} - y_{3}\\right)^{2} + \\left(o_{z eq} - z_{3}\\right)^{2}}} & \\frac{o_{z eq} - z_{3}}{\\sqrt{\\left(o_{x eq} - x_{3}\\right)^{2} + \\left(o_{y eq} - y_{3}\\right)^{2} + \\left(o_{z eq} - z_{3}\\right)^{2}}} & 0 & 0 & 0 & 0 & 0\\\\\\frac{o_{x eq} - x_{4}}{\\sqrt{\\left(o_{x eq} - x_{4}\\right)^{2} + \\left(o_{y eq} - y_{4}\\right)^{2} + \\left(o_{z eq} - z_{4}\\right)^{2}}} & \\frac{o_{y eq} - y_{4}}{\\sqrt{\\left(o_{x eq} - x_{4}\\right)^{2} + \\left(o_{y eq} - y_{4}\\right)^{2} + \\left(o_{z eq} - z_{4}\\right)^{2}}} & \\frac{o_{z eq} - z_{4}}{\\sqrt{\\left(o_{x eq} - x_{4}\\right)^{2} + \\left(o_{y eq} - y_{4}\\right)^{2} + \\left(o_{z eq} - z_{4}\\right)^{2}}} & 0 & 0 & 0 & 0 & 0\\\\\\frac{o_{x eq} - x_{5}}{\\sqrt{\\left(o_{x eq} - x_{5}\\right)^{2} + \\left(o_{y eq} - y_{5}\\right)^{2} + \\left(o_{z eq} - z_{5}\\right)^{2}}} & \\frac{o_{y eq} - y_{5}}{\\sqrt{\\left(o_{x eq} - x_{5}\\right)^{2} + \\left(o_{y eq} - y_{5}\\right)^{2} + \\left(o_{z eq} - z_{5}\\right)^{2}}} & \\frac{o_{z eq} - z_{5}}{\\sqrt{\\left(o_{x eq} - x_{5}\\right)^{2} + \\left(o_{y eq} - y_{5}\\right)^{2} + \\left(o_{z eq} - z_{5}\\right)^{2}}} & 0 & 0 & 0 & 0 & 0\\\\\\frac{o_{x eq} - x_{6}}{\\sqrt{\\left(o_{x eq} - x_{6}\\right)^{2} + \\left(o_{y eq} - y_{6}\\right)^{2} + \\left(o_{z eq} - z_{6}\\right)^{2}}} & \\frac{o_{y eq} - y_{6}}{\\sqrt{\\left(o_{x eq} - x_{6}\\right)^{2} + \\left(o_{y eq} - y_{6}\\right)^{2} + \\left(o_{z eq} - z_{6}\\right)^{2}}} & \\frac{o_{z eq} - z_{6}}{\\sqrt{\\left(o_{x eq} - x_{6}\\right)^{2} + \\left(o_{y eq} - y_{6}\\right)^{2} + \\left(o_{z eq} - z_{6}\\right)^{2}}} & 0 & 0 & 0 & 0 & 0\\\\\\frac{o_{x eq} - x_{7}}{\\sqrt{\\left(o_{x eq} - x_{7}\\right)^{2} + \\left(o_{y eq} - y_{7}\\right)^{2} + \\left(o_{z eq} - z_{7}\\right)^{2}}} & \\frac{o_{y eq} - y_{7}}{\\sqrt{\\left(o_{x eq} - x_{7}\\right)^{2} + \\left(o_{y eq} - y_{7}\\right)^{2} + \\left(o_{z eq} - z_{7}\\right)^{2}}} & \\frac{o_{z eq} - z_{7}}{\\sqrt{\\left(o_{x eq} - x_{7}\\right)^{2} + \\left(o_{y eq} - y_{7}\\right)^{2} + \\left(o_{z eq} - z_{7}\\right)^{2}}} & 0 & 0 & 0 & 0 & 0\\\\0 & 0 & 0 & 0 & 0 & \\frac{k_{flow}}{o_{z eq}} & 0 & 0\\\\0 & 0 & 0 & 0 & 0 & 0 & \\frac{k_{flow}}{o_{z eq}} & 0\\\\0 & 0 & 1 & 0 & 0 & 0 & 0 & 0\\end{matrix}\\right]$"
      ],
      "text/plain": [
       "Matrix([\n",
       "[(o_x_eq - x_0)/sqrt((o_x_eq - x_0)**2 + (o_y_eq - y_0)**2 + (o_z_eq - z_0)**2), (o_y_eq - y_0)/sqrt((o_x_eq - x_0)**2 + (o_y_eq - y_0)**2 + (o_z_eq - z_0)**2), (o_z_eq - z_0)/sqrt((o_x_eq - x_0)**2 + (o_y_eq - y_0)**2 + (o_z_eq - z_0)**2), 0, 0,             0,             0, 0],\n",
       "[(o_x_eq - x_1)/sqrt((o_x_eq - x_1)**2 + (o_y_eq - y_1)**2 + (o_z_eq - z_1)**2), (o_y_eq - y_1)/sqrt((o_x_eq - x_1)**2 + (o_y_eq - y_1)**2 + (o_z_eq - z_1)**2), (o_z_eq - z_1)/sqrt((o_x_eq - x_1)**2 + (o_y_eq - y_1)**2 + (o_z_eq - z_1)**2), 0, 0,             0,             0, 0],\n",
       "[(o_x_eq - x_2)/sqrt((o_x_eq - x_2)**2 + (o_y_eq - y_2)**2 + (o_z_eq - z_2)**2), (o_y_eq - y_2)/sqrt((o_x_eq - x_2)**2 + (o_y_eq - y_2)**2 + (o_z_eq - z_2)**2), (o_z_eq - z_2)/sqrt((o_x_eq - x_2)**2 + (o_y_eq - y_2)**2 + (o_z_eq - z_2)**2), 0, 0,             0,             0, 0],\n",
       "[(o_x_eq - x_3)/sqrt((o_x_eq - x_3)**2 + (o_y_eq - y_3)**2 + (o_z_eq - z_3)**2), (o_y_eq - y_3)/sqrt((o_x_eq - x_3)**2 + (o_y_eq - y_3)**2 + (o_z_eq - z_3)**2), (o_z_eq - z_3)/sqrt((o_x_eq - x_3)**2 + (o_y_eq - y_3)**2 + (o_z_eq - z_3)**2), 0, 0,             0,             0, 0],\n",
       "[(o_x_eq - x_4)/sqrt((o_x_eq - x_4)**2 + (o_y_eq - y_4)**2 + (o_z_eq - z_4)**2), (o_y_eq - y_4)/sqrt((o_x_eq - x_4)**2 + (o_y_eq - y_4)**2 + (o_z_eq - z_4)**2), (o_z_eq - z_4)/sqrt((o_x_eq - x_4)**2 + (o_y_eq - y_4)**2 + (o_z_eq - z_4)**2), 0, 0,             0,             0, 0],\n",
       "[(o_x_eq - x_5)/sqrt((o_x_eq - x_5)**2 + (o_y_eq - y_5)**2 + (o_z_eq - z_5)**2), (o_y_eq - y_5)/sqrt((o_x_eq - x_5)**2 + (o_y_eq - y_5)**2 + (o_z_eq - z_5)**2), (o_z_eq - z_5)/sqrt((o_x_eq - x_5)**2 + (o_y_eq - y_5)**2 + (o_z_eq - z_5)**2), 0, 0,             0,             0, 0],\n",
       "[(o_x_eq - x_6)/sqrt((o_x_eq - x_6)**2 + (o_y_eq - y_6)**2 + (o_z_eq - z_6)**2), (o_y_eq - y_6)/sqrt((o_x_eq - x_6)**2 + (o_y_eq - y_6)**2 + (o_z_eq - z_6)**2), (o_z_eq - z_6)/sqrt((o_x_eq - x_6)**2 + (o_y_eq - y_6)**2 + (o_z_eq - z_6)**2), 0, 0,             0,             0, 0],\n",
       "[(o_x_eq - x_7)/sqrt((o_x_eq - x_7)**2 + (o_y_eq - y_7)**2 + (o_z_eq - z_7)**2), (o_y_eq - y_7)/sqrt((o_x_eq - x_7)**2 + (o_y_eq - y_7)**2 + (o_z_eq - z_7)**2), (o_z_eq - z_7)/sqrt((o_x_eq - x_7)**2 + (o_y_eq - y_7)**2 + (o_z_eq - z_7)**2), 0, 0,             0,             0, 0],\n",
       "[                                                                             0,                                                                              0,                                                                              0, 0, 0, k_flow/o_z_eq,             0, 0],\n",
       "[                                                                             0,                                                                              0,                                                                              0, 0, 0,             0, k_flow/o_z_eq, 0],\n",
       "[                                                                             0,                                                                              0,                                                                              1, 0, 0,             0,             0, 0]])"
      ]
     },
     "execution_count": 37,
     "metadata": {},
     "output_type": "execute_result"
    }
   ],
   "source": [
    "# C_obs = C_obs.subs(tuple(zip(anchors_x_sym, anchors_x))).subs(tuple(zip(anchors_y_sym, anchors_y))).subs(tuple(zip(anchors_z_sym, anchors_z)))\n",
    "# C_obs = C_obs.subs(o_x_eq, 0).subs(o_y_eq, 0).subs(o_z_eq, 0.5).subs(k_flow, 0.01 * 30.0 / np.deg2rad(4.2))\n",
    "C_obs"
   ]
  },
  {
   "cell_type": "code",
   "execution_count": 42,
   "metadata": {},
   "outputs": [],
   "source": [
    "A_arr = np.array(A_obs.subs(g, -9.81).tolist(), dtype=np.float64)\n",
    "B_arr = np.array(B_obs.subs(g, -9.81).tolist(), dtype=np.float64)\n",
    "C_arr = np.array(C_obs.subs(tuple(zip(anchors_x_sym, anchors_x))).subs(tuple(zip(anchors_y_sym, anchors_y))).subs(tuple(zip(anchors_z_sym, anchors_z))).subs(o_x_eq, 0).subs(o_y_eq, 0).subs(o_z_eq, 0.5).subs(k_flow, 0.01 * 30.0 / np.deg2rad(4.2)).tolist(), dtype=np.float64)"
   ]
  },
  {
   "cell_type": "code",
   "execution_count": 40,
   "metadata": {},
   "outputs": [
    {
     "name": "stdout",
     "output_type": "stream",
     "text": [
      "      rank of W_o is: 8\n",
      "\"full rank\" would be: 8\n",
      "[[  0.6  -0.8  -0.2   0.    0.    0.    0.    0. ]\n",
      " [  0.7  -0.6  -0.3   0.    0.    0.    0.    0. ]\n",
      " [ -0.6  -0.8  -0.2   0.    0.    0.    0.    0. ]\n",
      " [ -0.6   0.7  -0.4   0.    0.    0.    0.    0. ]\n",
      " [  0.7   0.6  -0.3   0.    0.    0.    0.    0. ]\n",
      " [ -0.9   0.4  -0.3   0.    0.    0.    0.    0. ]\n",
      " [ -0.6  -0.7  -0.4   0.    0.    0.    0.    0. ]\n",
      " [  0.9   0.4  -0.3   0.    0.    0.    0.    0. ]\n",
      " [  0.    0.    0.    0.    0.    8.2   0.    0. ]\n",
      " [  0.    0.    0.    0.    0.    0.    8.2   0. ]\n",
      " [  0.    0.    1.    0.    0.    0.    0.    0. ]\n",
      " [  0.    0.    0.    0.    0.    0.6  -0.8  -0.2]\n",
      " [  0.    0.    0.    0.    0.    0.7  -0.6  -0.3]\n",
      " [  0.    0.    0.    0.    0.   -0.6  -0.8  -0.2]\n",
      " [  0.    0.    0.    0.    0.   -0.6   0.7  -0.4]\n",
      " [  0.    0.    0.    0.    0.    0.7   0.6  -0.3]\n",
      " [  0.    0.    0.    0.    0.   -0.9   0.4  -0.3]\n",
      " [  0.    0.    0.    0.    0.   -0.6  -0.7  -0.4]\n",
      " [  0.    0.    0.    0.    0.    0.9   0.4  -0.3]\n",
      " [  0.    0.    0.  -80.3   0.    0.    0.    0. ]\n",
      " [  0.    0.    0.    0.   80.3   0.    0.    0. ]\n",
      " [  0.    0.    0.    0.    0.    0.    0.    1. ]\n",
      " [  0.    0.    0.   -6.2  -7.4   0.    0.    0. ]\n",
      " [  0.    0.    0.   -6.9  -6.1   0.    0.    0. ]\n",
      " [  0.    0.    0.    6.1  -7.4   0.    0.    0. ]\n",
      " [  0.    0.    0.    5.7   7.1   0.    0.    0. ]\n",
      " [  0.    0.    0.   -6.8   6.2   0.    0.    0. ]\n",
      " [  0.    0.    0.    8.5   4.1   0.    0.    0. ]\n",
      " [  0.    0.    0.    5.9  -6.9   0.    0.    0. ]\n",
      " [  0.    0.    0.   -8.4   4.2   0.    0.    0. ]\n",
      " [  0.    0.    0.    0.    0.    0.    0.    0. ]\n",
      " [  0.    0.    0.    0.    0.    0.    0.    0. ]\n",
      " [  0.    0.    0.    0.    0.    0.    0.    0. ]\n",
      " [  0.    0.    0.    0.    0.    0.    0.    0. ]\n",
      " [  0.    0.    0.    0.    0.    0.    0.    0. ]\n",
      " [  0.    0.    0.    0.    0.    0.    0.    0. ]\n",
      " [  0.    0.    0.    0.    0.    0.    0.    0. ]\n",
      " [  0.    0.    0.    0.    0.    0.    0.    0. ]\n",
      " [  0.    0.    0.    0.    0.    0.    0.    0. ]\n",
      " [  0.    0.    0.    0.    0.    0.    0.    0. ]\n",
      " [  0.    0.    0.    0.    0.    0.    0.    0. ]\n",
      " [  0.    0.    0.    0.    0.    0.    0.    0. ]\n",
      " [  0.    0.    0.    0.    0.    0.    0.    0. ]\n",
      " [  0.    0.    0.    0.    0.    0.    0.    0. ]\n",
      " [  0.    0.    0.    0.    0.    0.    0.    0. ]\n",
      " [  0.    0.    0.    0.    0.    0.    0.    0. ]\n",
      " [  0.    0.    0.    0.    0.    0.    0.    0. ]\n",
      " [  0.    0.    0.    0.    0.    0.    0.    0. ]\n",
      " [  0.    0.    0.    0.    0.    0.    0.    0. ]\n",
      " [  0.    0.    0.    0.    0.    0.    0.    0. ]\n",
      " [  0.    0.    0.    0.    0.    0.    0.    0. ]\n",
      " [  0.    0.    0.    0.    0.    0.    0.    0. ]\n",
      " [  0.    0.    0.    0.    0.    0.    0.    0. ]\n",
      " [  0.    0.    0.    0.    0.    0.    0.    0. ]\n",
      " [  0.    0.    0.    0.    0.    0.    0.    0. ]\n",
      " [  0.    0.    0.    0.    0.    0.    0.    0. ]\n",
      " [  0.    0.    0.    0.    0.    0.    0.    0. ]\n",
      " [  0.    0.    0.    0.    0.    0.    0.    0. ]\n",
      " [  0.    0.    0.    0.    0.    0.    0.    0. ]\n",
      " [  0.    0.    0.    0.    0.    0.    0.    0. ]\n",
      " [  0.    0.    0.    0.    0.    0.    0.    0. ]\n",
      " [  0.    0.    0.    0.    0.    0.    0.    0. ]\n",
      " [  0.    0.    0.    0.    0.    0.    0.    0. ]\n",
      " [  0.    0.    0.    0.    0.    0.    0.    0. ]\n",
      " [  0.    0.    0.    0.    0.    0.    0.    0. ]\n",
      " [  0.    0.    0.    0.    0.    0.    0.    0. ]\n",
      " [  0.    0.    0.    0.    0.    0.    0.    0. ]\n",
      " [  0.    0.    0.    0.    0.    0.    0.    0. ]\n",
      " [  0.    0.    0.    0.    0.    0.    0.    0. ]\n",
      " [  0.    0.    0.    0.    0.    0.    0.    0. ]\n",
      " [  0.    0.    0.    0.    0.    0.    0.    0. ]\n",
      " [  0.    0.    0.    0.    0.    0.    0.    0. ]\n",
      " [  0.    0.    0.    0.    0.    0.    0.    0. ]\n",
      " [  0.    0.    0.    0.    0.    0.    0.    0. ]\n",
      " [  0.    0.    0.    0.    0.    0.    0.    0. ]\n",
      " [  0.    0.    0.    0.    0.    0.    0.    0. ]\n",
      " [  0.    0.    0.    0.    0.    0.    0.    0. ]\n",
      " [  0.    0.    0.    0.    0.    0.    0.    0. ]\n",
      " [  0.    0.    0.    0.    0.    0.    0.    0. ]\n",
      " [  0.    0.    0.    0.    0.    0.    0.    0. ]\n",
      " [  0.    0.    0.    0.    0.    0.    0.    0. ]\n",
      " [  0.    0.    0.    0.    0.    0.    0.    0. ]\n",
      " [  0.    0.    0.    0.    0.    0.    0.    0. ]\n",
      " [  0.    0.    0.    0.    0.    0.    0.    0. ]\n",
      " [  0.    0.    0.    0.    0.    0.    0.    0. ]\n",
      " [  0.    0.    0.    0.    0.    0.    0.    0. ]\n",
      " [  0.    0.    0.    0.    0.    0.    0.    0. ]\n",
      " [  0.    0.    0.    0.    0.    0.    0.    0. ]]\n"
     ]
    }
   ],
   "source": [
    "def obsv(A, C):\n",
    "    W = C\n",
    "    for i in range(1, A.shape[0]):\n",
    "        W = np.vstack([W, C @ np.linalg.matrix_power(A, i)])\n",
    "    return W\n",
    "W_o = obsv(A_arr, C_arr)\n",
    "print(f'      rank of W_o is: {np.linalg.matrix_rank(W_o)}')\n",
    "print(f'\"full rank\" would be: {A_arr.shape[0]}')\n",
    "\n",
    "np.set_printoptions(precision=1)\n",
    "print(W_o)"
   ]
  },
  {
   "cell_type": "code",
   "execution_count": 52,
   "metadata": {},
   "outputs": [],
   "source": [
    "L_0, L_1, L_2, L_3, L_4, L_5, L_6, L_7, L_8, L_9, L_10 = sym.symbols('L_0, L_1, L_2, L_3, L_4, L_5, L_6, L_7, L_8, L_9, L_10')\n",
    "L_11, L_12, L_13, L_14, L_15, L_16, L_17, L_18, L_19, L_20, L_21 = sym.symbols('L_11, L_12, L_13, L_14, L_15, L_16, L_17, L_18, L_19, L_20, L_21')\n",
    "L_22, L_23, L_24, L_25, L_26, L_27, L_28, L_29, L_30, L_31, L_32 = sym.symbols('L_22, L_23, L_24, L_25, L_26, L_27, L_28, L_29, L_30, L_31, L_32')\n",
    "L_33, L_34, L_35, L_36, L_37, L_38, L_39, L_40, L_41, L_42, L_43 = sym.symbols('L_33, L_34, L_35, L_36, L_37, L_38, L_39, L_40, L_41, L_42, L_43')\n",
    "L_44, L_45, L_46, L_47, L_48, L_49, L_50, L_51, L_52, L_53, L_54 = sym.symbols('L_44, L_45, L_46, L_47, L_48, L_49, L_50, L_51, L_52, L_53, L_54')\n",
    "L_55, L_56, L_57, L_58, L_59, L_60, L_61, L_62, L_63, L_64, L_65 = sym.symbols('L_55, L_56, L_57, L_58, L_59, L_60, L_61, L_62, L_63, L_64, L_65')\n",
    "L_66, L_67, L_68, L_69, L_70, L_71, L_72, L_73, L_74, L_75, L_76 = sym.symbols('L_66, L_67, L_68, L_69, L_70, L_71, L_72, L_73, L_74, L_75, L_76')\n",
    "L_77, L_78, L_79, L_80, L_81, L_82, L_83, L_84, L_85, L_86, L_87 = sym.symbols('L_77, L_78, L_79, L_80, L_81, L_82, L_83, L_84, L_85, L_86, L_87')\n",
    "L_var_sym = sym.Matrix([[L_0, L_1, L_2, L_3, L_4, L_5, L_6, L_7, L_8, L_9, L_10],\n",
    "                        [L_11, L_12, L_13, L_14, L_15, L_16, L_17, L_18, L_19, L_20, L_21],\n",
    "                        [L_22, L_23, L_24, L_25, L_26, L_27, L_28, L_29, L_30, L_31, L_32],\n",
    "                        [L_33, L_34, L_35, L_36, L_37, L_38, L_39, L_40, L_41, L_42, L_43],\n",
    "                        [L_44, L_45, L_46, L_47, L_48, L_49, L_50, L_51, L_52, L_53, L_54],\n",
    "                        [L_55, L_56, L_57, L_58, L_59, L_60, L_61, L_62, L_63, L_64, L_65],\n",
    "                        [L_66, L_67, L_68, L_69, L_70, L_71, L_72, L_73, L_74, L_75, L_76],\n",
    "                        [L_77, L_78, L_79, L_80, L_81, L_82, L_83, L_84, L_85, L_86, L_87]])"
   ]
  },
  {
   "cell_type": "code",
   "execution_count": 55,
   "metadata": {},
   "outputs": [
    {
     "name": "stdout",
     "output_type": "stream",
     "text": [
      "[[1.12707648705855, 0.5476728004584999, -1.0615881241413503, -0.22705939253042295, 0.5521059845228115, -1.6658726982264331, -0.4755268549752721, 2.071143650670068, 0.021468870601493426, -0.0016840796699426899, 0.03396661692088785], [-1.738162426062706, -0.6740358712502084, -1.6909174624896368, 0.3254181936459032, 0.7878964648099376, 1.195676799153298, -0.6579244075067123, 1.3521973430235452, -0.0019777992550057506, 0.022790100502690716, -0.018269759746850644], [-0.8179381353446243, -0.7226154439982491, -1.3565303235806452, -0.43358432416940296, -1.055131098765307, -1.9635185747847415, -1.0668322493240292, -2.1841243716682874, 0.0024293584737009205, -0.001088214634718461, 0.6031404742871412], [-0.19647989907609797, -0.09856264001587232, 0.1946635210026783, 0.03617026307544228, -0.11115485414170244, 0.28064544271884173, 0.08378407944223545, -0.3956183463009701, -0.014008854739422613, 0.00028130782638563777, -0.002395797816329901], [-0.22234364742970822, -0.08642764272198877, -0.22887531386048784, 0.04039268988162583, 0.10364746104515564, 0.14326594572401147, -0.09044168735045245, 0.18312552530419549, -0.0002694739313074293, 0.01195707390512434, -0.0010213429272134416], [2.1142306705516383, 1.0486914615993255, -2.0530147211341325, -0.4019977166000695, 1.1372956873870097, -3.054287923933685, -0.8958945382801147, 4.119518180108477, 0.12505261332285708, -0.003287252785843368, 0.03897582137371166], [-2.75863977433452, -1.0716810061034272, -2.781287005335082, 0.5064584260544468, 1.2714257473183508, 1.8207875517293508, -1.093340236246712, 2.222262202148835, -0.003452080785269257, 0.1250669723382753, -0.018334373873168493], [-1.4918056422090549, -1.2673037654303163, -2.259451220296155, -0.7064840764678336, -1.7884643900743296, -3.1667616300876653, -1.781781643455883, -3.76752897355177, 0.004860102535236004, -0.0020354212081781006, 1.0117984912488085]]\n"
     ]
    }
   ],
   "source": [
    "def lqr(A, B, Q, R):\n",
    "    P = linalg.solve_continuous_are(A, B, Q, R)\n",
    "    K = linalg.inv(R) @  B.T @ P\n",
    "    return K\n",
    "Q = np.diag([\n",
    "    1/0.049**2,\n",
    "    1/0.072**2,\n",
    "    1/0.046**2,\n",
    "    1/0.114**2,\n",
    "    1/0.063**2,\n",
    "    1/0.048**2,\n",
    "    1/0.07**2,\n",
    "    1/0.038**2,\n",
    "    1/1.696**2,             # n_x\n",
    "    1/1.738**2,             # n_y\n",
    "    1/0.148**2,             # r\n",
    "])\n",
    "\n",
    "R = np.diag([\n",
    "    1/0.094**2,\n",
    "    1/0.111**2,\n",
    "    1/0.009**2, # o_z\n",
    "    1/0.036**2, # theta\n",
    "    1/0.030**2, # phi\n",
    "    1/0.176**2, # v_x\n",
    "    1/0.178**2, # v_y\n",
    "    1/0.354**2, # v_z\n",
    "])\n",
    "L_2 = lqr(np.array(A_arr.tolist()).T, np.array(C_arr.tolist()).T, linalg.inv(R), linalg.inv(Q)).T\n",
    "print(L_2.tolist())\n"
   ]
  },
  {
   "cell_type": "code",
   "execution_count": 48,
   "metadata": {},
   "outputs": [
    {
     "name": "stdout",
     "output_type": "stream",
     "text": [
      "[[0.3180489943470645, 0.3553443337717232, -0.31585157789868507, -0.2982189814509199, 0.3509203825098959, -0.43880375885054024, -0.3067959493668199, 0.4346906747212534, 0.11790331190534352, -9.654711870720172e-06, 0.0035907444592605956], [-0.4140433503589006, -0.3423397612797527, -0.41552483450602606, 0.405793758565189, 0.35635821522408806, 0.23841012171915674, -0.3821835054177547, 0.2426216586331783, -9.665354708967095e-06, 0.11849182375122305, -0.01395588078308466], [-0.23465260273614175, -0.3980459263629877, -0.23716485961905617, -0.4570934079435634, -0.4095359783329232, -0.34540030810949485, -0.4506647630854788, -0.3308925346291107, 3.667091612311155e-05, -0.00012857175039766942, 1.1967500474500081], [-0.0013389045963223677, -0.0014997924714295811, 0.0013278869703700386, 0.0012415335824376356, -0.0014879763763421458, 0.0018368121665299632, 0.0012851484950959667, -0.0018377365930699306, -0.9999910181328046, 3.604321660515015e-08, 9.28577500702319e-06], [-0.0015156421660876616, -0.0012667824611892055, -0.0015271486910381242, 0.001436791570133647, 0.0012669342830147498, 0.0008362053936300399, -0.0014212732616684987, 0.0008607174098531224, -3.601809779230126e-08, 0.9999933175488614, 3.437177681877703e-05], [0.009032149426736899, 0.010106767110497706, -0.008962435071213635, -0.00841350714358457, 0.010008121875932216, -0.01241960831767902, -0.00868683640964248, 0.012375531725703113, 1.842877044710449, -5.736088511770889e-07, 4.480197582496796e-06], [-0.010870269652328256, -0.009043769589390346, -0.010933290297481107, 0.010454022830890069, 0.009200911995813592, 0.0061096993790627305, -0.010124362549209606, 0.006256435237261471, -5.736088511770889e-07, 1.8429125778244702, -1.5708002586441623e-05], [-0.15012429881639477, -0.2529956928202832, -0.15103784420343344, -0.28651678810850584, -0.2573972465703522, -0.2165544809078721, -0.28565936484182836, -0.20831529345767125, 3.212018738151595e-05, -0.00011248767004033479, 0.755252170093528]]\n"
     ]
    }
   ],
   "source": [
    "def lqr(A, B, Q, R):\n",
    "    P = linalg.solve_continuous_are(A, B, Q, R)\n",
    "    K = linalg.inv(R) @  B.T @ P\n",
    "    return K\n",
    "Q = np.diag([\n",
    "    1,\n",
    "    1,\n",
    "    1,\n",
    "    1,\n",
    "    1,\n",
    "    1,\n",
    "    1,\n",
    "    1,\n",
    "    1,             # n_x\n",
    "    1,             # n_y\n",
    "    1,             # r\n",
    "])\n",
    "\n",
    "R = np.diag([\n",
    "    1,\n",
    "    1,\n",
    "    1, # o_z\n",
    "    1, # theta\n",
    "    1, # phi\n",
    "    1, # v_x\n",
    "    1, # v_y\n",
    "    1, # v_z\n",
    "])\n",
    "L_1 = lqr(np.array(A_arr.tolist()).T, np.array(C_arr.tolist()).T, linalg.inv(R), linalg.inv(Q)).T\n",
    "L_1_round = L_1.copy()\n",
    "for i in range(L_1.shape[0]):\n",
    "    for j in range(L_1.shape[1]):\n",
    "        L_1_round[i,j] = round(L_1[i,j], 6)\n",
    "print(L_1.tolist())"
   ]
  },
  {
   "cell_type": "code",
   "execution_count": 56,
   "metadata": {},
   "outputs": [
    {
     "name": "stdout",
     "output_type": "stream",
     "text": [
      "L = [[      1.1271       0.5477      -1.0616      -0.2271       0.5521      -1.6659      -0.4755       2.0711       0.0215      -0.0017       0.0340]\n",
      "     [     -1.7382      -0.6740      -1.6909       0.3254       0.7879       1.1957      -0.6579       1.3522      -0.0020       0.0228      -0.0183]\n",
      "     [     -0.8179      -0.7226      -1.3565      -0.4336      -1.0551      -1.9635      -1.0668      -2.1841       0.0024      -0.0011       0.6031]\n",
      "     [     -0.1965      -0.0986       0.1947       0.0362      -0.1112       0.2806       0.0838      -0.3956      -0.0140       0.0003      -0.0024]\n",
      "     [     -0.2223      -0.0864      -0.2289       0.0404       0.1036       0.1433      -0.0904       0.1831      -0.0003       0.0120      -0.0010]\n",
      "     [      2.1142       1.0487      -2.0530      -0.4020       1.1373      -3.0543      -0.8959       4.1195       0.1251      -0.0033       0.0390]\n",
      "     [     -2.7586      -1.0717      -2.7813       0.5065       1.2714       1.8208      -1.0933       2.2223      -0.0035       0.1251      -0.0183]\n",
      "     [     -1.4918      -1.2673      -2.2595      -0.7065      -1.7885      -3.1668      -1.7818      -3.7675       0.0049      -0.0020       1.0118]]\n"
     ]
    }
   ],
   "source": [
    "L_str = np.array2string(L_2,\n",
    "                        formatter={'float_kind': lambda x: f'{x:12.4f}'},\n",
    "                        prefix='    ',\n",
    "                        max_line_width=np.inf)\n",
    "\n",
    "print(f'L = {L_str}')"
   ]
  },
  {
   "cell_type": "code",
   "execution_count": 57,
   "metadata": {},
   "outputs": [],
   "source": [
    "A_sym = sym.Matrix(A)\n",
    "B_sym = sym.Matrix(B)\n",
    "A_obs_sym = sym.Matrix(A_obs)\n",
    "B_obs_sym = sym.Matrix(B_obs)\n",
    "C_obs_sym = sym.Matrix(C_obs)\n",
    "D_obs_sym = sym.Matrix(D_obs)\n",
    "# L_0, L_1, L_2, L_3, L_4, L_5 = sym.symbols('L_0, L_1, L_2, L_3, L_4, L_5')\n",
    "# L_sym = sym.Matrix([[0, 0, L_0],\n",
    "#                     [L_1, 0, 0],\n",
    "#                     [0, L_2, 0],\n",
    "#                     [L_3, 0, 0],\n",
    "#                     [0, L_4, 0],\n",
    "#                     [0, 0, L_5]])\n",
    "L_sym = sym.Matrix(L_2)\n",
    "o_x, o_y, o_z = sym.symbols('o_x, o_y, o_z')\n",
    "psi, theta, phi = sym.symbols('psi, theta, phi')\n",
    "v_x, v_y, v_z = sym.symbols('v_x, v_y, v_z')\n",
    "w_x, w_y, w_z = sym.symbols('w_x, w_y, w_z')\n",
    "a_z, g, n_x, n_y, r = sym.symbols('a_z, g, n_x, n_y, r')\n",
    "x_sym = sym.Matrix([o_x, o_y, o_z, psi, theta, phi, v_x, v_y, v_z])\n",
    "x_obs_sym = sym.Matrix([o_x, o_y, o_z, theta, phi, v_x, v_y, v_z])\n",
    "u_sym = sym.Matrix([w_x, w_y, w_z, a_z - g])\n",
    "y_sym = sym.Matrix([a_0, a_1, a_2, a_3, a_4, a_5, a_6, a_7, n_x, n_y, r])\n",
    "x_dot_sym = A_sym * x_sym + B_sym * u_sym\n",
    "x_obs_dot_sym = A_obs_sym * x_obs_sym + B_obs_sym * u_sym\n",
    "y_err_sym = C_obs_sym * x_obs_sym + D_obs_sym * u_sym - y_sym\n",
    "x_hat_dot_sym = x_obs_dot_sym - L_sym * y_err_sym"
   ]
  },
  {
   "cell_type": "code",
   "execution_count": 53,
   "metadata": {},
   "outputs": [],
   "source": [
    "u_sym = sym.Matrix([w_x, w_y, w_z, a_z - g])\n",
    "x_obs_dot = A_obs * x_obs + B_obs * u_sym\n",
    "y_err_sym = C_obs * x_obs + D_obs * u_sym - y\n",
    "# L_sym = sym.Matrix(L_1_round)\n",
    "x_hat_dot_sym = x_obs_dot - L_var_sym * y_err_sym"
   ]
  },
  {
   "cell_type": "code",
   "execution_count": 54,
   "metadata": {},
   "outputs": [
    {
     "data": {
      "text/latex": [
       "$\\displaystyle \\left[\\begin{matrix}- L_{0} \\left(- d_{0} + \\frac{o_{x} \\left(o_{x eq} - x_{0}\\right)}{\\sqrt{\\left(o_{x eq} - x_{0}\\right)^{2} + \\left(o_{y eq} - y_{0}\\right)^{2} + \\left(o_{z eq} - z_{0}\\right)^{2}}} + \\frac{o_{y} \\left(o_{y eq} - y_{0}\\right)}{\\sqrt{\\left(o_{x eq} - x_{0}\\right)^{2} + \\left(o_{y eq} - y_{0}\\right)^{2} + \\left(o_{z eq} - z_{0}\\right)^{2}}} + \\frac{\\left(o_{z} - o_{z eq}\\right) \\left(o_{z eq} - z_{0}\\right)}{\\sqrt{\\left(o_{x eq} - x_{0}\\right)^{2} + \\left(o_{y eq} - y_{0}\\right)^{2} + \\left(o_{z eq} - z_{0}\\right)^{2}}} + \\sqrt{\\left(o_{x eq} - x_{0}\\right)^{2} + \\left(o_{y eq} - y_{0}\\right)^{2} + \\left(o_{z eq} - z_{0}\\right)^{2}}\\right) - L_{1} \\left(- d_{1} + \\frac{o_{x} \\left(o_{x eq} - x_{1}\\right)}{\\sqrt{\\left(o_{x eq} - x_{1}\\right)^{2} + \\left(o_{y eq} - y_{1}\\right)^{2} + \\left(o_{z eq} - z_{1}\\right)^{2}}} + \\frac{o_{y} \\left(o_{y eq} - y_{1}\\right)}{\\sqrt{\\left(o_{x eq} - x_{1}\\right)^{2} + \\left(o_{y eq} - y_{1}\\right)^{2} + \\left(o_{z eq} - z_{1}\\right)^{2}}} + \\frac{\\left(o_{z} - o_{z eq}\\right) \\left(o_{z eq} - z_{1}\\right)}{\\sqrt{\\left(o_{x eq} - x_{1}\\right)^{2} + \\left(o_{y eq} - y_{1}\\right)^{2} + \\left(o_{z eq} - z_{1}\\right)^{2}}} + \\sqrt{\\left(o_{x eq} - x_{1}\\right)^{2} + \\left(o_{y eq} - y_{1}\\right)^{2} + \\left(o_{z eq} - z_{1}\\right)^{2}}\\right) - L_{10} \\left(o_{z} - r\\right) - L_{2} \\left(- d_{2} + \\frac{o_{x} \\left(o_{x eq} - x_{2}\\right)}{\\sqrt{\\left(o_{x eq} - x_{2}\\right)^{2} + \\left(o_{y eq} - y_{2}\\right)^{2} + \\left(o_{z eq} - z_{2}\\right)^{2}}} + \\frac{o_{y} \\left(o_{y eq} - y_{2}\\right)}{\\sqrt{\\left(o_{x eq} - x_{2}\\right)^{2} + \\left(o_{y eq} - y_{2}\\right)^{2} + \\left(o_{z eq} - z_{2}\\right)^{2}}} + \\frac{\\left(o_{z} - o_{z eq}\\right) \\left(o_{z eq} - z_{2}\\right)}{\\sqrt{\\left(o_{x eq} - x_{2}\\right)^{2} + \\left(o_{y eq} - y_{2}\\right)^{2} + \\left(o_{z eq} - z_{2}\\right)^{2}}} + \\sqrt{\\left(o_{x eq} - x_{2}\\right)^{2} + \\left(o_{y eq} - y_{2}\\right)^{2} + \\left(o_{z eq} - z_{2}\\right)^{2}}\\right) - L_{3} \\left(- d_{3} + \\frac{o_{x} \\left(o_{x eq} - x_{3}\\right)}{\\sqrt{\\left(o_{x eq} - x_{3}\\right)^{2} + \\left(o_{y eq} - y_{3}\\right)^{2} + \\left(o_{z eq} - z_{3}\\right)^{2}}} + \\frac{o_{y} \\left(o_{y eq} - y_{3}\\right)}{\\sqrt{\\left(o_{x eq} - x_{3}\\right)^{2} + \\left(o_{y eq} - y_{3}\\right)^{2} + \\left(o_{z eq} - z_{3}\\right)^{2}}} + \\frac{\\left(o_{z} - o_{z eq}\\right) \\left(o_{z eq} - z_{3}\\right)}{\\sqrt{\\left(o_{x eq} - x_{3}\\right)^{2} + \\left(o_{y eq} - y_{3}\\right)^{2} + \\left(o_{z eq} - z_{3}\\right)^{2}}} + \\sqrt{\\left(o_{x eq} - x_{3}\\right)^{2} + \\left(o_{y eq} - y_{3}\\right)^{2} + \\left(o_{z eq} - z_{3}\\right)^{2}}\\right) - L_{4} \\left(- d_{4} + \\frac{o_{x} \\left(o_{x eq} - x_{4}\\right)}{\\sqrt{\\left(o_{x eq} - x_{4}\\right)^{2} + \\left(o_{y eq} - y_{4}\\right)^{2} + \\left(o_{z eq} - z_{4}\\right)^{2}}} + \\frac{o_{y} \\left(o_{y eq} - y_{4}\\right)}{\\sqrt{\\left(o_{x eq} - x_{4}\\right)^{2} + \\left(o_{y eq} - y_{4}\\right)^{2} + \\left(o_{z eq} - z_{4}\\right)^{2}}} + \\frac{\\left(o_{z} - o_{z eq}\\right) \\left(o_{z eq} - z_{4}\\right)}{\\sqrt{\\left(o_{x eq} - x_{4}\\right)^{2} + \\left(o_{y eq} - y_{4}\\right)^{2} + \\left(o_{z eq} - z_{4}\\right)^{2}}} + \\sqrt{\\left(o_{x eq} - x_{4}\\right)^{2} + \\left(o_{y eq} - y_{4}\\right)^{2} + \\left(o_{z eq} - z_{4}\\right)^{2}}\\right) - L_{5} \\left(- d_{5} + \\frac{o_{x} \\left(o_{x eq} - x_{5}\\right)}{\\sqrt{\\left(o_{x eq} - x_{5}\\right)^{2} + \\left(o_{y eq} - y_{5}\\right)^{2} + \\left(o_{z eq} - z_{5}\\right)^{2}}} + \\frac{o_{y} \\left(o_{y eq} - y_{5}\\right)}{\\sqrt{\\left(o_{x eq} - x_{5}\\right)^{2} + \\left(o_{y eq} - y_{5}\\right)^{2} + \\left(o_{z eq} - z_{5}\\right)^{2}}} + \\frac{\\left(o_{z} - o_{z eq}\\right) \\left(o_{z eq} - z_{5}\\right)}{\\sqrt{\\left(o_{x eq} - x_{5}\\right)^{2} + \\left(o_{y eq} - y_{5}\\right)^{2} + \\left(o_{z eq} - z_{5}\\right)^{2}}} + \\sqrt{\\left(o_{x eq} - x_{5}\\right)^{2} + \\left(o_{y eq} - y_{5}\\right)^{2} + \\left(o_{z eq} - z_{5}\\right)^{2}}\\right) - L_{6} \\left(- d_{6} + \\frac{o_{x} \\left(o_{x eq} - x_{6}\\right)}{\\sqrt{\\left(o_{x eq} - x_{6}\\right)^{2} + \\left(o_{y eq} - y_{6}\\right)^{2} + \\left(o_{z eq} - z_{6}\\right)^{2}}} + \\frac{o_{y} \\left(o_{y eq} - y_{6}\\right)}{\\sqrt{\\left(o_{x eq} - x_{6}\\right)^{2} + \\left(o_{y eq} - y_{6}\\right)^{2} + \\left(o_{z eq} - z_{6}\\right)^{2}}} + \\frac{\\left(o_{z} - o_{z eq}\\right) \\left(o_{z eq} - z_{6}\\right)}{\\sqrt{\\left(o_{x eq} - x_{6}\\right)^{2} + \\left(o_{y eq} - y_{6}\\right)^{2} + \\left(o_{z eq} - z_{6}\\right)^{2}}} + \\sqrt{\\left(o_{x eq} - x_{6}\\right)^{2} + \\left(o_{y eq} - y_{6}\\right)^{2} + \\left(o_{z eq} - z_{6}\\right)^{2}}\\right) - L_{7} \\left(- d_{7} + \\frac{o_{x} \\left(o_{x eq} - x_{7}\\right)}{\\sqrt{\\left(o_{x eq} - x_{7}\\right)^{2} + \\left(o_{y eq} - y_{7}\\right)^{2} + \\left(o_{z eq} - z_{7}\\right)^{2}}} + \\frac{o_{y} \\left(o_{y eq} - y_{7}\\right)}{\\sqrt{\\left(o_{x eq} - x_{7}\\right)^{2} + \\left(o_{y eq} - y_{7}\\right)^{2} + \\left(o_{z eq} - z_{7}\\right)^{2}}} + \\frac{\\left(o_{z} - o_{z eq}\\right) \\left(o_{z eq} - z_{7}\\right)}{\\sqrt{\\left(o_{x eq} - x_{7}\\right)^{2} + \\left(o_{y eq} - y_{7}\\right)^{2} + \\left(o_{z eq} - z_{7}\\right)^{2}}} + \\sqrt{\\left(o_{x eq} - x_{7}\\right)^{2} + \\left(o_{y eq} - y_{7}\\right)^{2} + \\left(o_{z eq} - z_{7}\\right)^{2}}\\right) - L_{8} \\left(- k_{flow} w_{y} + \\frac{k_{flow} v_{x}}{o_{z eq}} - n_{x}\\right) - L_{9} \\left(k_{flow} w_{x} + \\frac{k_{flow} v_{y}}{o_{z eq}} - n_{y}\\right) + v_{x}\\\\- L_{11} \\left(- d_{0} + \\frac{o_{x} \\left(o_{x eq} - x_{0}\\right)}{\\sqrt{\\left(o_{x eq} - x_{0}\\right)^{2} + \\left(o_{y eq} - y_{0}\\right)^{2} + \\left(o_{z eq} - z_{0}\\right)^{2}}} + \\frac{o_{y} \\left(o_{y eq} - y_{0}\\right)}{\\sqrt{\\left(o_{x eq} - x_{0}\\right)^{2} + \\left(o_{y eq} - y_{0}\\right)^{2} + \\left(o_{z eq} - z_{0}\\right)^{2}}} + \\frac{\\left(o_{z} - o_{z eq}\\right) \\left(o_{z eq} - z_{0}\\right)}{\\sqrt{\\left(o_{x eq} - x_{0}\\right)^{2} + \\left(o_{y eq} - y_{0}\\right)^{2} + \\left(o_{z eq} - z_{0}\\right)^{2}}} + \\sqrt{\\left(o_{x eq} - x_{0}\\right)^{2} + \\left(o_{y eq} - y_{0}\\right)^{2} + \\left(o_{z eq} - z_{0}\\right)^{2}}\\right) - L_{12} \\left(- d_{1} + \\frac{o_{x} \\left(o_{x eq} - x_{1}\\right)}{\\sqrt{\\left(o_{x eq} - x_{1}\\right)^{2} + \\left(o_{y eq} - y_{1}\\right)^{2} + \\left(o_{z eq} - z_{1}\\right)^{2}}} + \\frac{o_{y} \\left(o_{y eq} - y_{1}\\right)}{\\sqrt{\\left(o_{x eq} - x_{1}\\right)^{2} + \\left(o_{y eq} - y_{1}\\right)^{2} + \\left(o_{z eq} - z_{1}\\right)^{2}}} + \\frac{\\left(o_{z} - o_{z eq}\\right) \\left(o_{z eq} - z_{1}\\right)}{\\sqrt{\\left(o_{x eq} - x_{1}\\right)^{2} + \\left(o_{y eq} - y_{1}\\right)^{2} + \\left(o_{z eq} - z_{1}\\right)^{2}}} + \\sqrt{\\left(o_{x eq} - x_{1}\\right)^{2} + \\left(o_{y eq} - y_{1}\\right)^{2} + \\left(o_{z eq} - z_{1}\\right)^{2}}\\right) - L_{13} \\left(- d_{2} + \\frac{o_{x} \\left(o_{x eq} - x_{2}\\right)}{\\sqrt{\\left(o_{x eq} - x_{2}\\right)^{2} + \\left(o_{y eq} - y_{2}\\right)^{2} + \\left(o_{z eq} - z_{2}\\right)^{2}}} + \\frac{o_{y} \\left(o_{y eq} - y_{2}\\right)}{\\sqrt{\\left(o_{x eq} - x_{2}\\right)^{2} + \\left(o_{y eq} - y_{2}\\right)^{2} + \\left(o_{z eq} - z_{2}\\right)^{2}}} + \\frac{\\left(o_{z} - o_{z eq}\\right) \\left(o_{z eq} - z_{2}\\right)}{\\sqrt{\\left(o_{x eq} - x_{2}\\right)^{2} + \\left(o_{y eq} - y_{2}\\right)^{2} + \\left(o_{z eq} - z_{2}\\right)^{2}}} + \\sqrt{\\left(o_{x eq} - x_{2}\\right)^{2} + \\left(o_{y eq} - y_{2}\\right)^{2} + \\left(o_{z eq} - z_{2}\\right)^{2}}\\right) - L_{14} \\left(- d_{3} + \\frac{o_{x} \\left(o_{x eq} - x_{3}\\right)}{\\sqrt{\\left(o_{x eq} - x_{3}\\right)^{2} + \\left(o_{y eq} - y_{3}\\right)^{2} + \\left(o_{z eq} - z_{3}\\right)^{2}}} + \\frac{o_{y} \\left(o_{y eq} - y_{3}\\right)}{\\sqrt{\\left(o_{x eq} - x_{3}\\right)^{2} + \\left(o_{y eq} - y_{3}\\right)^{2} + \\left(o_{z eq} - z_{3}\\right)^{2}}} + \\frac{\\left(o_{z} - o_{z eq}\\right) \\left(o_{z eq} - z_{3}\\right)}{\\sqrt{\\left(o_{x eq} - x_{3}\\right)^{2} + \\left(o_{y eq} - y_{3}\\right)^{2} + \\left(o_{z eq} - z_{3}\\right)^{2}}} + \\sqrt{\\left(o_{x eq} - x_{3}\\right)^{2} + \\left(o_{y eq} - y_{3}\\right)^{2} + \\left(o_{z eq} - z_{3}\\right)^{2}}\\right) - L_{15} \\left(- d_{4} + \\frac{o_{x} \\left(o_{x eq} - x_{4}\\right)}{\\sqrt{\\left(o_{x eq} - x_{4}\\right)^{2} + \\left(o_{y eq} - y_{4}\\right)^{2} + \\left(o_{z eq} - z_{4}\\right)^{2}}} + \\frac{o_{y} \\left(o_{y eq} - y_{4}\\right)}{\\sqrt{\\left(o_{x eq} - x_{4}\\right)^{2} + \\left(o_{y eq} - y_{4}\\right)^{2} + \\left(o_{z eq} - z_{4}\\right)^{2}}} + \\frac{\\left(o_{z} - o_{z eq}\\right) \\left(o_{z eq} - z_{4}\\right)}{\\sqrt{\\left(o_{x eq} - x_{4}\\right)^{2} + \\left(o_{y eq} - y_{4}\\right)^{2} + \\left(o_{z eq} - z_{4}\\right)^{2}}} + \\sqrt{\\left(o_{x eq} - x_{4}\\right)^{2} + \\left(o_{y eq} - y_{4}\\right)^{2} + \\left(o_{z eq} - z_{4}\\right)^{2}}\\right) - L_{16} \\left(- d_{5} + \\frac{o_{x} \\left(o_{x eq} - x_{5}\\right)}{\\sqrt{\\left(o_{x eq} - x_{5}\\right)^{2} + \\left(o_{y eq} - y_{5}\\right)^{2} + \\left(o_{z eq} - z_{5}\\right)^{2}}} + \\frac{o_{y} \\left(o_{y eq} - y_{5}\\right)}{\\sqrt{\\left(o_{x eq} - x_{5}\\right)^{2} + \\left(o_{y eq} - y_{5}\\right)^{2} + \\left(o_{z eq} - z_{5}\\right)^{2}}} + \\frac{\\left(o_{z} - o_{z eq}\\right) \\left(o_{z eq} - z_{5}\\right)}{\\sqrt{\\left(o_{x eq} - x_{5}\\right)^{2} + \\left(o_{y eq} - y_{5}\\right)^{2} + \\left(o_{z eq} - z_{5}\\right)^{2}}} + \\sqrt{\\left(o_{x eq} - x_{5}\\right)^{2} + \\left(o_{y eq} - y_{5}\\right)^{2} + \\left(o_{z eq} - z_{5}\\right)^{2}}\\right) - L_{17} \\left(- d_{6} + \\frac{o_{x} \\left(o_{x eq} - x_{6}\\right)}{\\sqrt{\\left(o_{x eq} - x_{6}\\right)^{2} + \\left(o_{y eq} - y_{6}\\right)^{2} + \\left(o_{z eq} - z_{6}\\right)^{2}}} + \\frac{o_{y} \\left(o_{y eq} - y_{6}\\right)}{\\sqrt{\\left(o_{x eq} - x_{6}\\right)^{2} + \\left(o_{y eq} - y_{6}\\right)^{2} + \\left(o_{z eq} - z_{6}\\right)^{2}}} + \\frac{\\left(o_{z} - o_{z eq}\\right) \\left(o_{z eq} - z_{6}\\right)}{\\sqrt{\\left(o_{x eq} - x_{6}\\right)^{2} + \\left(o_{y eq} - y_{6}\\right)^{2} + \\left(o_{z eq} - z_{6}\\right)^{2}}} + \\sqrt{\\left(o_{x eq} - x_{6}\\right)^{2} + \\left(o_{y eq} - y_{6}\\right)^{2} + \\left(o_{z eq} - z_{6}\\right)^{2}}\\right) - L_{18} \\left(- d_{7} + \\frac{o_{x} \\left(o_{x eq} - x_{7}\\right)}{\\sqrt{\\left(o_{x eq} - x_{7}\\right)^{2} + \\left(o_{y eq} - y_{7}\\right)^{2} + \\left(o_{z eq} - z_{7}\\right)^{2}}} + \\frac{o_{y} \\left(o_{y eq} - y_{7}\\right)}{\\sqrt{\\left(o_{x eq} - x_{7}\\right)^{2} + \\left(o_{y eq} - y_{7}\\right)^{2} + \\left(o_{z eq} - z_{7}\\right)^{2}}} + \\frac{\\left(o_{z} - o_{z eq}\\right) \\left(o_{z eq} - z_{7}\\right)}{\\sqrt{\\left(o_{x eq} - x_{7}\\right)^{2} + \\left(o_{y eq} - y_{7}\\right)^{2} + \\left(o_{z eq} - z_{7}\\right)^{2}}} + \\sqrt{\\left(o_{x eq} - x_{7}\\right)^{2} + \\left(o_{y eq} - y_{7}\\right)^{2} + \\left(o_{z eq} - z_{7}\\right)^{2}}\\right) - L_{19} \\left(- k_{flow} w_{y} + \\frac{k_{flow} v_{x}}{o_{z eq}} - n_{x}\\right) - L_{20} \\left(k_{flow} w_{x} + \\frac{k_{flow} v_{y}}{o_{z eq}} - n_{y}\\right) - L_{21} \\left(o_{z} - r\\right) + v_{y}\\\\- L_{22} \\left(- d_{0} + \\frac{o_{x} \\left(o_{x eq} - x_{0}\\right)}{\\sqrt{\\left(o_{x eq} - x_{0}\\right)^{2} + \\left(o_{y eq} - y_{0}\\right)^{2} + \\left(o_{z eq} - z_{0}\\right)^{2}}} + \\frac{o_{y} \\left(o_{y eq} - y_{0}\\right)}{\\sqrt{\\left(o_{x eq} - x_{0}\\right)^{2} + \\left(o_{y eq} - y_{0}\\right)^{2} + \\left(o_{z eq} - z_{0}\\right)^{2}}} + \\frac{\\left(o_{z} - o_{z eq}\\right) \\left(o_{z eq} - z_{0}\\right)}{\\sqrt{\\left(o_{x eq} - x_{0}\\right)^{2} + \\left(o_{y eq} - y_{0}\\right)^{2} + \\left(o_{z eq} - z_{0}\\right)^{2}}} + \\sqrt{\\left(o_{x eq} - x_{0}\\right)^{2} + \\left(o_{y eq} - y_{0}\\right)^{2} + \\left(o_{z eq} - z_{0}\\right)^{2}}\\right) - L_{23} \\left(- d_{1} + \\frac{o_{x} \\left(o_{x eq} - x_{1}\\right)}{\\sqrt{\\left(o_{x eq} - x_{1}\\right)^{2} + \\left(o_{y eq} - y_{1}\\right)^{2} + \\left(o_{z eq} - z_{1}\\right)^{2}}} + \\frac{o_{y} \\left(o_{y eq} - y_{1}\\right)}{\\sqrt{\\left(o_{x eq} - x_{1}\\right)^{2} + \\left(o_{y eq} - y_{1}\\right)^{2} + \\left(o_{z eq} - z_{1}\\right)^{2}}} + \\frac{\\left(o_{z} - o_{z eq}\\right) \\left(o_{z eq} - z_{1}\\right)}{\\sqrt{\\left(o_{x eq} - x_{1}\\right)^{2} + \\left(o_{y eq} - y_{1}\\right)^{2} + \\left(o_{z eq} - z_{1}\\right)^{2}}} + \\sqrt{\\left(o_{x eq} - x_{1}\\right)^{2} + \\left(o_{y eq} - y_{1}\\right)^{2} + \\left(o_{z eq} - z_{1}\\right)^{2}}\\right) - L_{24} \\left(- d_{2} + \\frac{o_{x} \\left(o_{x eq} - x_{2}\\right)}{\\sqrt{\\left(o_{x eq} - x_{2}\\right)^{2} + \\left(o_{y eq} - y_{2}\\right)^{2} + \\left(o_{z eq} - z_{2}\\right)^{2}}} + \\frac{o_{y} \\left(o_{y eq} - y_{2}\\right)}{\\sqrt{\\left(o_{x eq} - x_{2}\\right)^{2} + \\left(o_{y eq} - y_{2}\\right)^{2} + \\left(o_{z eq} - z_{2}\\right)^{2}}} + \\frac{\\left(o_{z} - o_{z eq}\\right) \\left(o_{z eq} - z_{2}\\right)}{\\sqrt{\\left(o_{x eq} - x_{2}\\right)^{2} + \\left(o_{y eq} - y_{2}\\right)^{2} + \\left(o_{z eq} - z_{2}\\right)^{2}}} + \\sqrt{\\left(o_{x eq} - x_{2}\\right)^{2} + \\left(o_{y eq} - y_{2}\\right)^{2} + \\left(o_{z eq} - z_{2}\\right)^{2}}\\right) - L_{25} \\left(- d_{3} + \\frac{o_{x} \\left(o_{x eq} - x_{3}\\right)}{\\sqrt{\\left(o_{x eq} - x_{3}\\right)^{2} + \\left(o_{y eq} - y_{3}\\right)^{2} + \\left(o_{z eq} - z_{3}\\right)^{2}}} + \\frac{o_{y} \\left(o_{y eq} - y_{3}\\right)}{\\sqrt{\\left(o_{x eq} - x_{3}\\right)^{2} + \\left(o_{y eq} - y_{3}\\right)^{2} + \\left(o_{z eq} - z_{3}\\right)^{2}}} + \\frac{\\left(o_{z} - o_{z eq}\\right) \\left(o_{z eq} - z_{3}\\right)}{\\sqrt{\\left(o_{x eq} - x_{3}\\right)^{2} + \\left(o_{y eq} - y_{3}\\right)^{2} + \\left(o_{z eq} - z_{3}\\right)^{2}}} + \\sqrt{\\left(o_{x eq} - x_{3}\\right)^{2} + \\left(o_{y eq} - y_{3}\\right)^{2} + \\left(o_{z eq} - z_{3}\\right)^{2}}\\right) - L_{26} \\left(- d_{4} + \\frac{o_{x} \\left(o_{x eq} - x_{4}\\right)}{\\sqrt{\\left(o_{x eq} - x_{4}\\right)^{2} + \\left(o_{y eq} - y_{4}\\right)^{2} + \\left(o_{z eq} - z_{4}\\right)^{2}}} + \\frac{o_{y} \\left(o_{y eq} - y_{4}\\right)}{\\sqrt{\\left(o_{x eq} - x_{4}\\right)^{2} + \\left(o_{y eq} - y_{4}\\right)^{2} + \\left(o_{z eq} - z_{4}\\right)^{2}}} + \\frac{\\left(o_{z} - o_{z eq}\\right) \\left(o_{z eq} - z_{4}\\right)}{\\sqrt{\\left(o_{x eq} - x_{4}\\right)^{2} + \\left(o_{y eq} - y_{4}\\right)^{2} + \\left(o_{z eq} - z_{4}\\right)^{2}}} + \\sqrt{\\left(o_{x eq} - x_{4}\\right)^{2} + \\left(o_{y eq} - y_{4}\\right)^{2} + \\left(o_{z eq} - z_{4}\\right)^{2}}\\right) - L_{27} \\left(- d_{5} + \\frac{o_{x} \\left(o_{x eq} - x_{5}\\right)}{\\sqrt{\\left(o_{x eq} - x_{5}\\right)^{2} + \\left(o_{y eq} - y_{5}\\right)^{2} + \\left(o_{z eq} - z_{5}\\right)^{2}}} + \\frac{o_{y} \\left(o_{y eq} - y_{5}\\right)}{\\sqrt{\\left(o_{x eq} - x_{5}\\right)^{2} + \\left(o_{y eq} - y_{5}\\right)^{2} + \\left(o_{z eq} - z_{5}\\right)^{2}}} + \\frac{\\left(o_{z} - o_{z eq}\\right) \\left(o_{z eq} - z_{5}\\right)}{\\sqrt{\\left(o_{x eq} - x_{5}\\right)^{2} + \\left(o_{y eq} - y_{5}\\right)^{2} + \\left(o_{z eq} - z_{5}\\right)^{2}}} + \\sqrt{\\left(o_{x eq} - x_{5}\\right)^{2} + \\left(o_{y eq} - y_{5}\\right)^{2} + \\left(o_{z eq} - z_{5}\\right)^{2}}\\right) - L_{28} \\left(- d_{6} + \\frac{o_{x} \\left(o_{x eq} - x_{6}\\right)}{\\sqrt{\\left(o_{x eq} - x_{6}\\right)^{2} + \\left(o_{y eq} - y_{6}\\right)^{2} + \\left(o_{z eq} - z_{6}\\right)^{2}}} + \\frac{o_{y} \\left(o_{y eq} - y_{6}\\right)}{\\sqrt{\\left(o_{x eq} - x_{6}\\right)^{2} + \\left(o_{y eq} - y_{6}\\right)^{2} + \\left(o_{z eq} - z_{6}\\right)^{2}}} + \\frac{\\left(o_{z} - o_{z eq}\\right) \\left(o_{z eq} - z_{6}\\right)}{\\sqrt{\\left(o_{x eq} - x_{6}\\right)^{2} + \\left(o_{y eq} - y_{6}\\right)^{2} + \\left(o_{z eq} - z_{6}\\right)^{2}}} + \\sqrt{\\left(o_{x eq} - x_{6}\\right)^{2} + \\left(o_{y eq} - y_{6}\\right)^{2} + \\left(o_{z eq} - z_{6}\\right)^{2}}\\right) - L_{29} \\left(- d_{7} + \\frac{o_{x} \\left(o_{x eq} - x_{7}\\right)}{\\sqrt{\\left(o_{x eq} - x_{7}\\right)^{2} + \\left(o_{y eq} - y_{7}\\right)^{2} + \\left(o_{z eq} - z_{7}\\right)^{2}}} + \\frac{o_{y} \\left(o_{y eq} - y_{7}\\right)}{\\sqrt{\\left(o_{x eq} - x_{7}\\right)^{2} + \\left(o_{y eq} - y_{7}\\right)^{2} + \\left(o_{z eq} - z_{7}\\right)^{2}}} + \\frac{\\left(o_{z} - o_{z eq}\\right) \\left(o_{z eq} - z_{7}\\right)}{\\sqrt{\\left(o_{x eq} - x_{7}\\right)^{2} + \\left(o_{y eq} - y_{7}\\right)^{2} + \\left(o_{z eq} - z_{7}\\right)^{2}}} + \\sqrt{\\left(o_{x eq} - x_{7}\\right)^{2} + \\left(o_{y eq} - y_{7}\\right)^{2} + \\left(o_{z eq} - z_{7}\\right)^{2}}\\right) - L_{30} \\left(- k_{flow} w_{y} + \\frac{k_{flow} v_{x}}{o_{z eq}} - n_{x}\\right) - L_{31} \\left(k_{flow} w_{x} + \\frac{k_{flow} v_{y}}{o_{z eq}} - n_{y}\\right) - L_{32} \\left(o_{z} - r\\right) + v_{z}\\\\- L_{33} \\left(- d_{0} + \\frac{o_{x} \\left(o_{x eq} - x_{0}\\right)}{\\sqrt{\\left(o_{x eq} - x_{0}\\right)^{2} + \\left(o_{y eq} - y_{0}\\right)^{2} + \\left(o_{z eq} - z_{0}\\right)^{2}}} + \\frac{o_{y} \\left(o_{y eq} - y_{0}\\right)}{\\sqrt{\\left(o_{x eq} - x_{0}\\right)^{2} + \\left(o_{y eq} - y_{0}\\right)^{2} + \\left(o_{z eq} - z_{0}\\right)^{2}}} + \\frac{\\left(o_{z} - o_{z eq}\\right) \\left(o_{z eq} - z_{0}\\right)}{\\sqrt{\\left(o_{x eq} - x_{0}\\right)^{2} + \\left(o_{y eq} - y_{0}\\right)^{2} + \\left(o_{z eq} - z_{0}\\right)^{2}}} + \\sqrt{\\left(o_{x eq} - x_{0}\\right)^{2} + \\left(o_{y eq} - y_{0}\\right)^{2} + \\left(o_{z eq} - z_{0}\\right)^{2}}\\right) - L_{34} \\left(- d_{1} + \\frac{o_{x} \\left(o_{x eq} - x_{1}\\right)}{\\sqrt{\\left(o_{x eq} - x_{1}\\right)^{2} + \\left(o_{y eq} - y_{1}\\right)^{2} + \\left(o_{z eq} - z_{1}\\right)^{2}}} + \\frac{o_{y} \\left(o_{y eq} - y_{1}\\right)}{\\sqrt{\\left(o_{x eq} - x_{1}\\right)^{2} + \\left(o_{y eq} - y_{1}\\right)^{2} + \\left(o_{z eq} - z_{1}\\right)^{2}}} + \\frac{\\left(o_{z} - o_{z eq}\\right) \\left(o_{z eq} - z_{1}\\right)}{\\sqrt{\\left(o_{x eq} - x_{1}\\right)^{2} + \\left(o_{y eq} - y_{1}\\right)^{2} + \\left(o_{z eq} - z_{1}\\right)^{2}}} + \\sqrt{\\left(o_{x eq} - x_{1}\\right)^{2} + \\left(o_{y eq} - y_{1}\\right)^{2} + \\left(o_{z eq} - z_{1}\\right)^{2}}\\right) - L_{35} \\left(- d_{2} + \\frac{o_{x} \\left(o_{x eq} - x_{2}\\right)}{\\sqrt{\\left(o_{x eq} - x_{2}\\right)^{2} + \\left(o_{y eq} - y_{2}\\right)^{2} + \\left(o_{z eq} - z_{2}\\right)^{2}}} + \\frac{o_{y} \\left(o_{y eq} - y_{2}\\right)}{\\sqrt{\\left(o_{x eq} - x_{2}\\right)^{2} + \\left(o_{y eq} - y_{2}\\right)^{2} + \\left(o_{z eq} - z_{2}\\right)^{2}}} + \\frac{\\left(o_{z} - o_{z eq}\\right) \\left(o_{z eq} - z_{2}\\right)}{\\sqrt{\\left(o_{x eq} - x_{2}\\right)^{2} + \\left(o_{y eq} - y_{2}\\right)^{2} + \\left(o_{z eq} - z_{2}\\right)^{2}}} + \\sqrt{\\left(o_{x eq} - x_{2}\\right)^{2} + \\left(o_{y eq} - y_{2}\\right)^{2} + \\left(o_{z eq} - z_{2}\\right)^{2}}\\right) - L_{36} \\left(- d_{3} + \\frac{o_{x} \\left(o_{x eq} - x_{3}\\right)}{\\sqrt{\\left(o_{x eq} - x_{3}\\right)^{2} + \\left(o_{y eq} - y_{3}\\right)^{2} + \\left(o_{z eq} - z_{3}\\right)^{2}}} + \\frac{o_{y} \\left(o_{y eq} - y_{3}\\right)}{\\sqrt{\\left(o_{x eq} - x_{3}\\right)^{2} + \\left(o_{y eq} - y_{3}\\right)^{2} + \\left(o_{z eq} - z_{3}\\right)^{2}}} + \\frac{\\left(o_{z} - o_{z eq}\\right) \\left(o_{z eq} - z_{3}\\right)}{\\sqrt{\\left(o_{x eq} - x_{3}\\right)^{2} + \\left(o_{y eq} - y_{3}\\right)^{2} + \\left(o_{z eq} - z_{3}\\right)^{2}}} + \\sqrt{\\left(o_{x eq} - x_{3}\\right)^{2} + \\left(o_{y eq} - y_{3}\\right)^{2} + \\left(o_{z eq} - z_{3}\\right)^{2}}\\right) - L_{37} \\left(- d_{4} + \\frac{o_{x} \\left(o_{x eq} - x_{4}\\right)}{\\sqrt{\\left(o_{x eq} - x_{4}\\right)^{2} + \\left(o_{y eq} - y_{4}\\right)^{2} + \\left(o_{z eq} - z_{4}\\right)^{2}}} + \\frac{o_{y} \\left(o_{y eq} - y_{4}\\right)}{\\sqrt{\\left(o_{x eq} - x_{4}\\right)^{2} + \\left(o_{y eq} - y_{4}\\right)^{2} + \\left(o_{z eq} - z_{4}\\right)^{2}}} + \\frac{\\left(o_{z} - o_{z eq}\\right) \\left(o_{z eq} - z_{4}\\right)}{\\sqrt{\\left(o_{x eq} - x_{4}\\right)^{2} + \\left(o_{y eq} - y_{4}\\right)^{2} + \\left(o_{z eq} - z_{4}\\right)^{2}}} + \\sqrt{\\left(o_{x eq} - x_{4}\\right)^{2} + \\left(o_{y eq} - y_{4}\\right)^{2} + \\left(o_{z eq} - z_{4}\\right)^{2}}\\right) - L_{38} \\left(- d_{5} + \\frac{o_{x} \\left(o_{x eq} - x_{5}\\right)}{\\sqrt{\\left(o_{x eq} - x_{5}\\right)^{2} + \\left(o_{y eq} - y_{5}\\right)^{2} + \\left(o_{z eq} - z_{5}\\right)^{2}}} + \\frac{o_{y} \\left(o_{y eq} - y_{5}\\right)}{\\sqrt{\\left(o_{x eq} - x_{5}\\right)^{2} + \\left(o_{y eq} - y_{5}\\right)^{2} + \\left(o_{z eq} - z_{5}\\right)^{2}}} + \\frac{\\left(o_{z} - o_{z eq}\\right) \\left(o_{z eq} - z_{5}\\right)}{\\sqrt{\\left(o_{x eq} - x_{5}\\right)^{2} + \\left(o_{y eq} - y_{5}\\right)^{2} + \\left(o_{z eq} - z_{5}\\right)^{2}}} + \\sqrt{\\left(o_{x eq} - x_{5}\\right)^{2} + \\left(o_{y eq} - y_{5}\\right)^{2} + \\left(o_{z eq} - z_{5}\\right)^{2}}\\right) - L_{39} \\left(- d_{6} + \\frac{o_{x} \\left(o_{x eq} - x_{6}\\right)}{\\sqrt{\\left(o_{x eq} - x_{6}\\right)^{2} + \\left(o_{y eq} - y_{6}\\right)^{2} + \\left(o_{z eq} - z_{6}\\right)^{2}}} + \\frac{o_{y} \\left(o_{y eq} - y_{6}\\right)}{\\sqrt{\\left(o_{x eq} - x_{6}\\right)^{2} + \\left(o_{y eq} - y_{6}\\right)^{2} + \\left(o_{z eq} - z_{6}\\right)^{2}}} + \\frac{\\left(o_{z} - o_{z eq}\\right) \\left(o_{z eq} - z_{6}\\right)}{\\sqrt{\\left(o_{x eq} - x_{6}\\right)^{2} + \\left(o_{y eq} - y_{6}\\right)^{2} + \\left(o_{z eq} - z_{6}\\right)^{2}}} + \\sqrt{\\left(o_{x eq} - x_{6}\\right)^{2} + \\left(o_{y eq} - y_{6}\\right)^{2} + \\left(o_{z eq} - z_{6}\\right)^{2}}\\right) - L_{40} \\left(- d_{7} + \\frac{o_{x} \\left(o_{x eq} - x_{7}\\right)}{\\sqrt{\\left(o_{x eq} - x_{7}\\right)^{2} + \\left(o_{y eq} - y_{7}\\right)^{2} + \\left(o_{z eq} - z_{7}\\right)^{2}}} + \\frac{o_{y} \\left(o_{y eq} - y_{7}\\right)}{\\sqrt{\\left(o_{x eq} - x_{7}\\right)^{2} + \\left(o_{y eq} - y_{7}\\right)^{2} + \\left(o_{z eq} - z_{7}\\right)^{2}}} + \\frac{\\left(o_{z} - o_{z eq}\\right) \\left(o_{z eq} - z_{7}\\right)}{\\sqrt{\\left(o_{x eq} - x_{7}\\right)^{2} + \\left(o_{y eq} - y_{7}\\right)^{2} + \\left(o_{z eq} - z_{7}\\right)^{2}}} + \\sqrt{\\left(o_{x eq} - x_{7}\\right)^{2} + \\left(o_{y eq} - y_{7}\\right)^{2} + \\left(o_{z eq} - z_{7}\\right)^{2}}\\right) - L_{41} \\left(- k_{flow} w_{y} + \\frac{k_{flow} v_{x}}{o_{z eq}} - n_{x}\\right) - L_{42} \\left(k_{flow} w_{x} + \\frac{k_{flow} v_{y}}{o_{z eq}} - n_{y}\\right) - L_{43} \\left(o_{z} - r\\right) + w_{y}\\\\- L_{44} \\left(- d_{0} + \\frac{o_{x} \\left(o_{x eq} - x_{0}\\right)}{\\sqrt{\\left(o_{x eq} - x_{0}\\right)^{2} + \\left(o_{y eq} - y_{0}\\right)^{2} + \\left(o_{z eq} - z_{0}\\right)^{2}}} + \\frac{o_{y} \\left(o_{y eq} - y_{0}\\right)}{\\sqrt{\\left(o_{x eq} - x_{0}\\right)^{2} + \\left(o_{y eq} - y_{0}\\right)^{2} + \\left(o_{z eq} - z_{0}\\right)^{2}}} + \\frac{\\left(o_{z} - o_{z eq}\\right) \\left(o_{z eq} - z_{0}\\right)}{\\sqrt{\\left(o_{x eq} - x_{0}\\right)^{2} + \\left(o_{y eq} - y_{0}\\right)^{2} + \\left(o_{z eq} - z_{0}\\right)^{2}}} + \\sqrt{\\left(o_{x eq} - x_{0}\\right)^{2} + \\left(o_{y eq} - y_{0}\\right)^{2} + \\left(o_{z eq} - z_{0}\\right)^{2}}\\right) - L_{45} \\left(- d_{1} + \\frac{o_{x} \\left(o_{x eq} - x_{1}\\right)}{\\sqrt{\\left(o_{x eq} - x_{1}\\right)^{2} + \\left(o_{y eq} - y_{1}\\right)^{2} + \\left(o_{z eq} - z_{1}\\right)^{2}}} + \\frac{o_{y} \\left(o_{y eq} - y_{1}\\right)}{\\sqrt{\\left(o_{x eq} - x_{1}\\right)^{2} + \\left(o_{y eq} - y_{1}\\right)^{2} + \\left(o_{z eq} - z_{1}\\right)^{2}}} + \\frac{\\left(o_{z} - o_{z eq}\\right) \\left(o_{z eq} - z_{1}\\right)}{\\sqrt{\\left(o_{x eq} - x_{1}\\right)^{2} + \\left(o_{y eq} - y_{1}\\right)^{2} + \\left(o_{z eq} - z_{1}\\right)^{2}}} + \\sqrt{\\left(o_{x eq} - x_{1}\\right)^{2} + \\left(o_{y eq} - y_{1}\\right)^{2} + \\left(o_{z eq} - z_{1}\\right)^{2}}\\right) - L_{46} \\left(- d_{2} + \\frac{o_{x} \\left(o_{x eq} - x_{2}\\right)}{\\sqrt{\\left(o_{x eq} - x_{2}\\right)^{2} + \\left(o_{y eq} - y_{2}\\right)^{2} + \\left(o_{z eq} - z_{2}\\right)^{2}}} + \\frac{o_{y} \\left(o_{y eq} - y_{2}\\right)}{\\sqrt{\\left(o_{x eq} - x_{2}\\right)^{2} + \\left(o_{y eq} - y_{2}\\right)^{2} + \\left(o_{z eq} - z_{2}\\right)^{2}}} + \\frac{\\left(o_{z} - o_{z eq}\\right) \\left(o_{z eq} - z_{2}\\right)}{\\sqrt{\\left(o_{x eq} - x_{2}\\right)^{2} + \\left(o_{y eq} - y_{2}\\right)^{2} + \\left(o_{z eq} - z_{2}\\right)^{2}}} + \\sqrt{\\left(o_{x eq} - x_{2}\\right)^{2} + \\left(o_{y eq} - y_{2}\\right)^{2} + \\left(o_{z eq} - z_{2}\\right)^{2}}\\right) - L_{47} \\left(- d_{3} + \\frac{o_{x} \\left(o_{x eq} - x_{3}\\right)}{\\sqrt{\\left(o_{x eq} - x_{3}\\right)^{2} + \\left(o_{y eq} - y_{3}\\right)^{2} + \\left(o_{z eq} - z_{3}\\right)^{2}}} + \\frac{o_{y} \\left(o_{y eq} - y_{3}\\right)}{\\sqrt{\\left(o_{x eq} - x_{3}\\right)^{2} + \\left(o_{y eq} - y_{3}\\right)^{2} + \\left(o_{z eq} - z_{3}\\right)^{2}}} + \\frac{\\left(o_{z} - o_{z eq}\\right) \\left(o_{z eq} - z_{3}\\right)}{\\sqrt{\\left(o_{x eq} - x_{3}\\right)^{2} + \\left(o_{y eq} - y_{3}\\right)^{2} + \\left(o_{z eq} - z_{3}\\right)^{2}}} + \\sqrt{\\left(o_{x eq} - x_{3}\\right)^{2} + \\left(o_{y eq} - y_{3}\\right)^{2} + \\left(o_{z eq} - z_{3}\\right)^{2}}\\right) - L_{48} \\left(- d_{4} + \\frac{o_{x} \\left(o_{x eq} - x_{4}\\right)}{\\sqrt{\\left(o_{x eq} - x_{4}\\right)^{2} + \\left(o_{y eq} - y_{4}\\right)^{2} + \\left(o_{z eq} - z_{4}\\right)^{2}}} + \\frac{o_{y} \\left(o_{y eq} - y_{4}\\right)}{\\sqrt{\\left(o_{x eq} - x_{4}\\right)^{2} + \\left(o_{y eq} - y_{4}\\right)^{2} + \\left(o_{z eq} - z_{4}\\right)^{2}}} + \\frac{\\left(o_{z} - o_{z eq}\\right) \\left(o_{z eq} - z_{4}\\right)}{\\sqrt{\\left(o_{x eq} - x_{4}\\right)^{2} + \\left(o_{y eq} - y_{4}\\right)^{2} + \\left(o_{z eq} - z_{4}\\right)^{2}}} + \\sqrt{\\left(o_{x eq} - x_{4}\\right)^{2} + \\left(o_{y eq} - y_{4}\\right)^{2} + \\left(o_{z eq} - z_{4}\\right)^{2}}\\right) - L_{49} \\left(- d_{5} + \\frac{o_{x} \\left(o_{x eq} - x_{5}\\right)}{\\sqrt{\\left(o_{x eq} - x_{5}\\right)^{2} + \\left(o_{y eq} - y_{5}\\right)^{2} + \\left(o_{z eq} - z_{5}\\right)^{2}}} + \\frac{o_{y} \\left(o_{y eq} - y_{5}\\right)}{\\sqrt{\\left(o_{x eq} - x_{5}\\right)^{2} + \\left(o_{y eq} - y_{5}\\right)^{2} + \\left(o_{z eq} - z_{5}\\right)^{2}}} + \\frac{\\left(o_{z} - o_{z eq}\\right) \\left(o_{z eq} - z_{5}\\right)}{\\sqrt{\\left(o_{x eq} - x_{5}\\right)^{2} + \\left(o_{y eq} - y_{5}\\right)^{2} + \\left(o_{z eq} - z_{5}\\right)^{2}}} + \\sqrt{\\left(o_{x eq} - x_{5}\\right)^{2} + \\left(o_{y eq} - y_{5}\\right)^{2} + \\left(o_{z eq} - z_{5}\\right)^{2}}\\right) - L_{50} \\left(- d_{6} + \\frac{o_{x} \\left(o_{x eq} - x_{6}\\right)}{\\sqrt{\\left(o_{x eq} - x_{6}\\right)^{2} + \\left(o_{y eq} - y_{6}\\right)^{2} + \\left(o_{z eq} - z_{6}\\right)^{2}}} + \\frac{o_{y} \\left(o_{y eq} - y_{6}\\right)}{\\sqrt{\\left(o_{x eq} - x_{6}\\right)^{2} + \\left(o_{y eq} - y_{6}\\right)^{2} + \\left(o_{z eq} - z_{6}\\right)^{2}}} + \\frac{\\left(o_{z} - o_{z eq}\\right) \\left(o_{z eq} - z_{6}\\right)}{\\sqrt{\\left(o_{x eq} - x_{6}\\right)^{2} + \\left(o_{y eq} - y_{6}\\right)^{2} + \\left(o_{z eq} - z_{6}\\right)^{2}}} + \\sqrt{\\left(o_{x eq} - x_{6}\\right)^{2} + \\left(o_{y eq} - y_{6}\\right)^{2} + \\left(o_{z eq} - z_{6}\\right)^{2}}\\right) - L_{51} \\left(- d_{7} + \\frac{o_{x} \\left(o_{x eq} - x_{7}\\right)}{\\sqrt{\\left(o_{x eq} - x_{7}\\right)^{2} + \\left(o_{y eq} - y_{7}\\right)^{2} + \\left(o_{z eq} - z_{7}\\right)^{2}}} + \\frac{o_{y} \\left(o_{y eq} - y_{7}\\right)}{\\sqrt{\\left(o_{x eq} - x_{7}\\right)^{2} + \\left(o_{y eq} - y_{7}\\right)^{2} + \\left(o_{z eq} - z_{7}\\right)^{2}}} + \\frac{\\left(o_{z} - o_{z eq}\\right) \\left(o_{z eq} - z_{7}\\right)}{\\sqrt{\\left(o_{x eq} - x_{7}\\right)^{2} + \\left(o_{y eq} - y_{7}\\right)^{2} + \\left(o_{z eq} - z_{7}\\right)^{2}}} + \\sqrt{\\left(o_{x eq} - x_{7}\\right)^{2} + \\left(o_{y eq} - y_{7}\\right)^{2} + \\left(o_{z eq} - z_{7}\\right)^{2}}\\right) - L_{52} \\left(- k_{flow} w_{y} + \\frac{k_{flow} v_{x}}{o_{z eq}} - n_{x}\\right) - L_{53} \\left(k_{flow} w_{x} + \\frac{k_{flow} v_{y}}{o_{z eq}} - n_{y}\\right) - L_{54} \\left(o_{z} - r\\right) + w_{x}\\\\- L_{55} \\left(- d_{0} + \\frac{o_{x} \\left(o_{x eq} - x_{0}\\right)}{\\sqrt{\\left(o_{x eq} - x_{0}\\right)^{2} + \\left(o_{y eq} - y_{0}\\right)^{2} + \\left(o_{z eq} - z_{0}\\right)^{2}}} + \\frac{o_{y} \\left(o_{y eq} - y_{0}\\right)}{\\sqrt{\\left(o_{x eq} - x_{0}\\right)^{2} + \\left(o_{y eq} - y_{0}\\right)^{2} + \\left(o_{z eq} - z_{0}\\right)^{2}}} + \\frac{\\left(o_{z} - o_{z eq}\\right) \\left(o_{z eq} - z_{0}\\right)}{\\sqrt{\\left(o_{x eq} - x_{0}\\right)^{2} + \\left(o_{y eq} - y_{0}\\right)^{2} + \\left(o_{z eq} - z_{0}\\right)^{2}}} + \\sqrt{\\left(o_{x eq} - x_{0}\\right)^{2} + \\left(o_{y eq} - y_{0}\\right)^{2} + \\left(o_{z eq} - z_{0}\\right)^{2}}\\right) - L_{56} \\left(- d_{1} + \\frac{o_{x} \\left(o_{x eq} - x_{1}\\right)}{\\sqrt{\\left(o_{x eq} - x_{1}\\right)^{2} + \\left(o_{y eq} - y_{1}\\right)^{2} + \\left(o_{z eq} - z_{1}\\right)^{2}}} + \\frac{o_{y} \\left(o_{y eq} - y_{1}\\right)}{\\sqrt{\\left(o_{x eq} - x_{1}\\right)^{2} + \\left(o_{y eq} - y_{1}\\right)^{2} + \\left(o_{z eq} - z_{1}\\right)^{2}}} + \\frac{\\left(o_{z} - o_{z eq}\\right) \\left(o_{z eq} - z_{1}\\right)}{\\sqrt{\\left(o_{x eq} - x_{1}\\right)^{2} + \\left(o_{y eq} - y_{1}\\right)^{2} + \\left(o_{z eq} - z_{1}\\right)^{2}}} + \\sqrt{\\left(o_{x eq} - x_{1}\\right)^{2} + \\left(o_{y eq} - y_{1}\\right)^{2} + \\left(o_{z eq} - z_{1}\\right)^{2}}\\right) - L_{57} \\left(- d_{2} + \\frac{o_{x} \\left(o_{x eq} - x_{2}\\right)}{\\sqrt{\\left(o_{x eq} - x_{2}\\right)^{2} + \\left(o_{y eq} - y_{2}\\right)^{2} + \\left(o_{z eq} - z_{2}\\right)^{2}}} + \\frac{o_{y} \\left(o_{y eq} - y_{2}\\right)}{\\sqrt{\\left(o_{x eq} - x_{2}\\right)^{2} + \\left(o_{y eq} - y_{2}\\right)^{2} + \\left(o_{z eq} - z_{2}\\right)^{2}}} + \\frac{\\left(o_{z} - o_{z eq}\\right) \\left(o_{z eq} - z_{2}\\right)}{\\sqrt{\\left(o_{x eq} - x_{2}\\right)^{2} + \\left(o_{y eq} - y_{2}\\right)^{2} + \\left(o_{z eq} - z_{2}\\right)^{2}}} + \\sqrt{\\left(o_{x eq} - x_{2}\\right)^{2} + \\left(o_{y eq} - y_{2}\\right)^{2} + \\left(o_{z eq} - z_{2}\\right)^{2}}\\right) - L_{58} \\left(- d_{3} + \\frac{o_{x} \\left(o_{x eq} - x_{3}\\right)}{\\sqrt{\\left(o_{x eq} - x_{3}\\right)^{2} + \\left(o_{y eq} - y_{3}\\right)^{2} + \\left(o_{z eq} - z_{3}\\right)^{2}}} + \\frac{o_{y} \\left(o_{y eq} - y_{3}\\right)}{\\sqrt{\\left(o_{x eq} - x_{3}\\right)^{2} + \\left(o_{y eq} - y_{3}\\right)^{2} + \\left(o_{z eq} - z_{3}\\right)^{2}}} + \\frac{\\left(o_{z} - o_{z eq}\\right) \\left(o_{z eq} - z_{3}\\right)}{\\sqrt{\\left(o_{x eq} - x_{3}\\right)^{2} + \\left(o_{y eq} - y_{3}\\right)^{2} + \\left(o_{z eq} - z_{3}\\right)^{2}}} + \\sqrt{\\left(o_{x eq} - x_{3}\\right)^{2} + \\left(o_{y eq} - y_{3}\\right)^{2} + \\left(o_{z eq} - z_{3}\\right)^{2}}\\right) - L_{59} \\left(- d_{4} + \\frac{o_{x} \\left(o_{x eq} - x_{4}\\right)}{\\sqrt{\\left(o_{x eq} - x_{4}\\right)^{2} + \\left(o_{y eq} - y_{4}\\right)^{2} + \\left(o_{z eq} - z_{4}\\right)^{2}}} + \\frac{o_{y} \\left(o_{y eq} - y_{4}\\right)}{\\sqrt{\\left(o_{x eq} - x_{4}\\right)^{2} + \\left(o_{y eq} - y_{4}\\right)^{2} + \\left(o_{z eq} - z_{4}\\right)^{2}}} + \\frac{\\left(o_{z} - o_{z eq}\\right) \\left(o_{z eq} - z_{4}\\right)}{\\sqrt{\\left(o_{x eq} - x_{4}\\right)^{2} + \\left(o_{y eq} - y_{4}\\right)^{2} + \\left(o_{z eq} - z_{4}\\right)^{2}}} + \\sqrt{\\left(o_{x eq} - x_{4}\\right)^{2} + \\left(o_{y eq} - y_{4}\\right)^{2} + \\left(o_{z eq} - z_{4}\\right)^{2}}\\right) - L_{60} \\left(- d_{5} + \\frac{o_{x} \\left(o_{x eq} - x_{5}\\right)}{\\sqrt{\\left(o_{x eq} - x_{5}\\right)^{2} + \\left(o_{y eq} - y_{5}\\right)^{2} + \\left(o_{z eq} - z_{5}\\right)^{2}}} + \\frac{o_{y} \\left(o_{y eq} - y_{5}\\right)}{\\sqrt{\\left(o_{x eq} - x_{5}\\right)^{2} + \\left(o_{y eq} - y_{5}\\right)^{2} + \\left(o_{z eq} - z_{5}\\right)^{2}}} + \\frac{\\left(o_{z} - o_{z eq}\\right) \\left(o_{z eq} - z_{5}\\right)}{\\sqrt{\\left(o_{x eq} - x_{5}\\right)^{2} + \\left(o_{y eq} - y_{5}\\right)^{2} + \\left(o_{z eq} - z_{5}\\right)^{2}}} + \\sqrt{\\left(o_{x eq} - x_{5}\\right)^{2} + \\left(o_{y eq} - y_{5}\\right)^{2} + \\left(o_{z eq} - z_{5}\\right)^{2}}\\right) - L_{61} \\left(- d_{6} + \\frac{o_{x} \\left(o_{x eq} - x_{6}\\right)}{\\sqrt{\\left(o_{x eq} - x_{6}\\right)^{2} + \\left(o_{y eq} - y_{6}\\right)^{2} + \\left(o_{z eq} - z_{6}\\right)^{2}}} + \\frac{o_{y} \\left(o_{y eq} - y_{6}\\right)}{\\sqrt{\\left(o_{x eq} - x_{6}\\right)^{2} + \\left(o_{y eq} - y_{6}\\right)^{2} + \\left(o_{z eq} - z_{6}\\right)^{2}}} + \\frac{\\left(o_{z} - o_{z eq}\\right) \\left(o_{z eq} - z_{6}\\right)}{\\sqrt{\\left(o_{x eq} - x_{6}\\right)^{2} + \\left(o_{y eq} - y_{6}\\right)^{2} + \\left(o_{z eq} - z_{6}\\right)^{2}}} + \\sqrt{\\left(o_{x eq} - x_{6}\\right)^{2} + \\left(o_{y eq} - y_{6}\\right)^{2} + \\left(o_{z eq} - z_{6}\\right)^{2}}\\right) - L_{62} \\left(- d_{7} + \\frac{o_{x} \\left(o_{x eq} - x_{7}\\right)}{\\sqrt{\\left(o_{x eq} - x_{7}\\right)^{2} + \\left(o_{y eq} - y_{7}\\right)^{2} + \\left(o_{z eq} - z_{7}\\right)^{2}}} + \\frac{o_{y} \\left(o_{y eq} - y_{7}\\right)}{\\sqrt{\\left(o_{x eq} - x_{7}\\right)^{2} + \\left(o_{y eq} - y_{7}\\right)^{2} + \\left(o_{z eq} - z_{7}\\right)^{2}}} + \\frac{\\left(o_{z} - o_{z eq}\\right) \\left(o_{z eq} - z_{7}\\right)}{\\sqrt{\\left(o_{x eq} - x_{7}\\right)^{2} + \\left(o_{y eq} - y_{7}\\right)^{2} + \\left(o_{z eq} - z_{7}\\right)^{2}}} + \\sqrt{\\left(o_{x eq} - x_{7}\\right)^{2} + \\left(o_{y eq} - y_{7}\\right)^{2} + \\left(o_{z eq} - z_{7}\\right)^{2}}\\right) - L_{63} \\left(- k_{flow} w_{y} + \\frac{k_{flow} v_{x}}{o_{z eq}} - n_{x}\\right) - L_{64} \\left(k_{flow} w_{x} + \\frac{k_{flow} v_{y}}{o_{z eq}} - n_{y}\\right) - L_{65} \\left(o_{z} - r\\right) + g \\theta\\\\- L_{66} \\left(- d_{0} + \\frac{o_{x} \\left(o_{x eq} - x_{0}\\right)}{\\sqrt{\\left(o_{x eq} - x_{0}\\right)^{2} + \\left(o_{y eq} - y_{0}\\right)^{2} + \\left(o_{z eq} - z_{0}\\right)^{2}}} + \\frac{o_{y} \\left(o_{y eq} - y_{0}\\right)}{\\sqrt{\\left(o_{x eq} - x_{0}\\right)^{2} + \\left(o_{y eq} - y_{0}\\right)^{2} + \\left(o_{z eq} - z_{0}\\right)^{2}}} + \\frac{\\left(o_{z} - o_{z eq}\\right) \\left(o_{z eq} - z_{0}\\right)}{\\sqrt{\\left(o_{x eq} - x_{0}\\right)^{2} + \\left(o_{y eq} - y_{0}\\right)^{2} + \\left(o_{z eq} - z_{0}\\right)^{2}}} + \\sqrt{\\left(o_{x eq} - x_{0}\\right)^{2} + \\left(o_{y eq} - y_{0}\\right)^{2} + \\left(o_{z eq} - z_{0}\\right)^{2}}\\right) - L_{67} \\left(- d_{1} + \\frac{o_{x} \\left(o_{x eq} - x_{1}\\right)}{\\sqrt{\\left(o_{x eq} - x_{1}\\right)^{2} + \\left(o_{y eq} - y_{1}\\right)^{2} + \\left(o_{z eq} - z_{1}\\right)^{2}}} + \\frac{o_{y} \\left(o_{y eq} - y_{1}\\right)}{\\sqrt{\\left(o_{x eq} - x_{1}\\right)^{2} + \\left(o_{y eq} - y_{1}\\right)^{2} + \\left(o_{z eq} - z_{1}\\right)^{2}}} + \\frac{\\left(o_{z} - o_{z eq}\\right) \\left(o_{z eq} - z_{1}\\right)}{\\sqrt{\\left(o_{x eq} - x_{1}\\right)^{2} + \\left(o_{y eq} - y_{1}\\right)^{2} + \\left(o_{z eq} - z_{1}\\right)^{2}}} + \\sqrt{\\left(o_{x eq} - x_{1}\\right)^{2} + \\left(o_{y eq} - y_{1}\\right)^{2} + \\left(o_{z eq} - z_{1}\\right)^{2}}\\right) - L_{68} \\left(- d_{2} + \\frac{o_{x} \\left(o_{x eq} - x_{2}\\right)}{\\sqrt{\\left(o_{x eq} - x_{2}\\right)^{2} + \\left(o_{y eq} - y_{2}\\right)^{2} + \\left(o_{z eq} - z_{2}\\right)^{2}}} + \\frac{o_{y} \\left(o_{y eq} - y_{2}\\right)}{\\sqrt{\\left(o_{x eq} - x_{2}\\right)^{2} + \\left(o_{y eq} - y_{2}\\right)^{2} + \\left(o_{z eq} - z_{2}\\right)^{2}}} + \\frac{\\left(o_{z} - o_{z eq}\\right) \\left(o_{z eq} - z_{2}\\right)}{\\sqrt{\\left(o_{x eq} - x_{2}\\right)^{2} + \\left(o_{y eq} - y_{2}\\right)^{2} + \\left(o_{z eq} - z_{2}\\right)^{2}}} + \\sqrt{\\left(o_{x eq} - x_{2}\\right)^{2} + \\left(o_{y eq} - y_{2}\\right)^{2} + \\left(o_{z eq} - z_{2}\\right)^{2}}\\right) - L_{69} \\left(- d_{3} + \\frac{o_{x} \\left(o_{x eq} - x_{3}\\right)}{\\sqrt{\\left(o_{x eq} - x_{3}\\right)^{2} + \\left(o_{y eq} - y_{3}\\right)^{2} + \\left(o_{z eq} - z_{3}\\right)^{2}}} + \\frac{o_{y} \\left(o_{y eq} - y_{3}\\right)}{\\sqrt{\\left(o_{x eq} - x_{3}\\right)^{2} + \\left(o_{y eq} - y_{3}\\right)^{2} + \\left(o_{z eq} - z_{3}\\right)^{2}}} + \\frac{\\left(o_{z} - o_{z eq}\\right) \\left(o_{z eq} - z_{3}\\right)}{\\sqrt{\\left(o_{x eq} - x_{3}\\right)^{2} + \\left(o_{y eq} - y_{3}\\right)^{2} + \\left(o_{z eq} - z_{3}\\right)^{2}}} + \\sqrt{\\left(o_{x eq} - x_{3}\\right)^{2} + \\left(o_{y eq} - y_{3}\\right)^{2} + \\left(o_{z eq} - z_{3}\\right)^{2}}\\right) - L_{70} \\left(- d_{4} + \\frac{o_{x} \\left(o_{x eq} - x_{4}\\right)}{\\sqrt{\\left(o_{x eq} - x_{4}\\right)^{2} + \\left(o_{y eq} - y_{4}\\right)^{2} + \\left(o_{z eq} - z_{4}\\right)^{2}}} + \\frac{o_{y} \\left(o_{y eq} - y_{4}\\right)}{\\sqrt{\\left(o_{x eq} - x_{4}\\right)^{2} + \\left(o_{y eq} - y_{4}\\right)^{2} + \\left(o_{z eq} - z_{4}\\right)^{2}}} + \\frac{\\left(o_{z} - o_{z eq}\\right) \\left(o_{z eq} - z_{4}\\right)}{\\sqrt{\\left(o_{x eq} - x_{4}\\right)^{2} + \\left(o_{y eq} - y_{4}\\right)^{2} + \\left(o_{z eq} - z_{4}\\right)^{2}}} + \\sqrt{\\left(o_{x eq} - x_{4}\\right)^{2} + \\left(o_{y eq} - y_{4}\\right)^{2} + \\left(o_{z eq} - z_{4}\\right)^{2}}\\right) - L_{71} \\left(- d_{5} + \\frac{o_{x} \\left(o_{x eq} - x_{5}\\right)}{\\sqrt{\\left(o_{x eq} - x_{5}\\right)^{2} + \\left(o_{y eq} - y_{5}\\right)^{2} + \\left(o_{z eq} - z_{5}\\right)^{2}}} + \\frac{o_{y} \\left(o_{y eq} - y_{5}\\right)}{\\sqrt{\\left(o_{x eq} - x_{5}\\right)^{2} + \\left(o_{y eq} - y_{5}\\right)^{2} + \\left(o_{z eq} - z_{5}\\right)^{2}}} + \\frac{\\left(o_{z} - o_{z eq}\\right) \\left(o_{z eq} - z_{5}\\right)}{\\sqrt{\\left(o_{x eq} - x_{5}\\right)^{2} + \\left(o_{y eq} - y_{5}\\right)^{2} + \\left(o_{z eq} - z_{5}\\right)^{2}}} + \\sqrt{\\left(o_{x eq} - x_{5}\\right)^{2} + \\left(o_{y eq} - y_{5}\\right)^{2} + \\left(o_{z eq} - z_{5}\\right)^{2}}\\right) - L_{72} \\left(- d_{6} + \\frac{o_{x} \\left(o_{x eq} - x_{6}\\right)}{\\sqrt{\\left(o_{x eq} - x_{6}\\right)^{2} + \\left(o_{y eq} - y_{6}\\right)^{2} + \\left(o_{z eq} - z_{6}\\right)^{2}}} + \\frac{o_{y} \\left(o_{y eq} - y_{6}\\right)}{\\sqrt{\\left(o_{x eq} - x_{6}\\right)^{2} + \\left(o_{y eq} - y_{6}\\right)^{2} + \\left(o_{z eq} - z_{6}\\right)^{2}}} + \\frac{\\left(o_{z} - o_{z eq}\\right) \\left(o_{z eq} - z_{6}\\right)}{\\sqrt{\\left(o_{x eq} - x_{6}\\right)^{2} + \\left(o_{y eq} - y_{6}\\right)^{2} + \\left(o_{z eq} - z_{6}\\right)^{2}}} + \\sqrt{\\left(o_{x eq} - x_{6}\\right)^{2} + \\left(o_{y eq} - y_{6}\\right)^{2} + \\left(o_{z eq} - z_{6}\\right)^{2}}\\right) - L_{73} \\left(- d_{7} + \\frac{o_{x} \\left(o_{x eq} - x_{7}\\right)}{\\sqrt{\\left(o_{x eq} - x_{7}\\right)^{2} + \\left(o_{y eq} - y_{7}\\right)^{2} + \\left(o_{z eq} - z_{7}\\right)^{2}}} + \\frac{o_{y} \\left(o_{y eq} - y_{7}\\right)}{\\sqrt{\\left(o_{x eq} - x_{7}\\right)^{2} + \\left(o_{y eq} - y_{7}\\right)^{2} + \\left(o_{z eq} - z_{7}\\right)^{2}}} + \\frac{\\left(o_{z} - o_{z eq}\\right) \\left(o_{z eq} - z_{7}\\right)}{\\sqrt{\\left(o_{x eq} - x_{7}\\right)^{2} + \\left(o_{y eq} - y_{7}\\right)^{2} + \\left(o_{z eq} - z_{7}\\right)^{2}}} + \\sqrt{\\left(o_{x eq} - x_{7}\\right)^{2} + \\left(o_{y eq} - y_{7}\\right)^{2} + \\left(o_{z eq} - z_{7}\\right)^{2}}\\right) - L_{74} \\left(- k_{flow} w_{y} + \\frac{k_{flow} v_{x}}{o_{z eq}} - n_{x}\\right) - L_{75} \\left(k_{flow} w_{x} + \\frac{k_{flow} v_{y}}{o_{z eq}} - n_{y}\\right) - L_{76} \\left(o_{z} - r\\right) - g \\phi\\\\- L_{77} \\left(- d_{0} + \\frac{o_{x} \\left(o_{x eq} - x_{0}\\right)}{\\sqrt{\\left(o_{x eq} - x_{0}\\right)^{2} + \\left(o_{y eq} - y_{0}\\right)^{2} + \\left(o_{z eq} - z_{0}\\right)^{2}}} + \\frac{o_{y} \\left(o_{y eq} - y_{0}\\right)}{\\sqrt{\\left(o_{x eq} - x_{0}\\right)^{2} + \\left(o_{y eq} - y_{0}\\right)^{2} + \\left(o_{z eq} - z_{0}\\right)^{2}}} + \\frac{\\left(o_{z} - o_{z eq}\\right) \\left(o_{z eq} - z_{0}\\right)}{\\sqrt{\\left(o_{x eq} - x_{0}\\right)^{2} + \\left(o_{y eq} - y_{0}\\right)^{2} + \\left(o_{z eq} - z_{0}\\right)^{2}}} + \\sqrt{\\left(o_{x eq} - x_{0}\\right)^{2} + \\left(o_{y eq} - y_{0}\\right)^{2} + \\left(o_{z eq} - z_{0}\\right)^{2}}\\right) - L_{78} \\left(- d_{1} + \\frac{o_{x} \\left(o_{x eq} - x_{1}\\right)}{\\sqrt{\\left(o_{x eq} - x_{1}\\right)^{2} + \\left(o_{y eq} - y_{1}\\right)^{2} + \\left(o_{z eq} - z_{1}\\right)^{2}}} + \\frac{o_{y} \\left(o_{y eq} - y_{1}\\right)}{\\sqrt{\\left(o_{x eq} - x_{1}\\right)^{2} + \\left(o_{y eq} - y_{1}\\right)^{2} + \\left(o_{z eq} - z_{1}\\right)^{2}}} + \\frac{\\left(o_{z} - o_{z eq}\\right) \\left(o_{z eq} - z_{1}\\right)}{\\sqrt{\\left(o_{x eq} - x_{1}\\right)^{2} + \\left(o_{y eq} - y_{1}\\right)^{2} + \\left(o_{z eq} - z_{1}\\right)^{2}}} + \\sqrt{\\left(o_{x eq} - x_{1}\\right)^{2} + \\left(o_{y eq} - y_{1}\\right)^{2} + \\left(o_{z eq} - z_{1}\\right)^{2}}\\right) - L_{79} \\left(- d_{2} + \\frac{o_{x} \\left(o_{x eq} - x_{2}\\right)}{\\sqrt{\\left(o_{x eq} - x_{2}\\right)^{2} + \\left(o_{y eq} - y_{2}\\right)^{2} + \\left(o_{z eq} - z_{2}\\right)^{2}}} + \\frac{o_{y} \\left(o_{y eq} - y_{2}\\right)}{\\sqrt{\\left(o_{x eq} - x_{2}\\right)^{2} + \\left(o_{y eq} - y_{2}\\right)^{2} + \\left(o_{z eq} - z_{2}\\right)^{2}}} + \\frac{\\left(o_{z} - o_{z eq}\\right) \\left(o_{z eq} - z_{2}\\right)}{\\sqrt{\\left(o_{x eq} - x_{2}\\right)^{2} + \\left(o_{y eq} - y_{2}\\right)^{2} + \\left(o_{z eq} - z_{2}\\right)^{2}}} + \\sqrt{\\left(o_{x eq} - x_{2}\\right)^{2} + \\left(o_{y eq} - y_{2}\\right)^{2} + \\left(o_{z eq} - z_{2}\\right)^{2}}\\right) - L_{80} \\left(- d_{3} + \\frac{o_{x} \\left(o_{x eq} - x_{3}\\right)}{\\sqrt{\\left(o_{x eq} - x_{3}\\right)^{2} + \\left(o_{y eq} - y_{3}\\right)^{2} + \\left(o_{z eq} - z_{3}\\right)^{2}}} + \\frac{o_{y} \\left(o_{y eq} - y_{3}\\right)}{\\sqrt{\\left(o_{x eq} - x_{3}\\right)^{2} + \\left(o_{y eq} - y_{3}\\right)^{2} + \\left(o_{z eq} - z_{3}\\right)^{2}}} + \\frac{\\left(o_{z} - o_{z eq}\\right) \\left(o_{z eq} - z_{3}\\right)}{\\sqrt{\\left(o_{x eq} - x_{3}\\right)^{2} + \\left(o_{y eq} - y_{3}\\right)^{2} + \\left(o_{z eq} - z_{3}\\right)^{2}}} + \\sqrt{\\left(o_{x eq} - x_{3}\\right)^{2} + \\left(o_{y eq} - y_{3}\\right)^{2} + \\left(o_{z eq} - z_{3}\\right)^{2}}\\right) - L_{81} \\left(- d_{4} + \\frac{o_{x} \\left(o_{x eq} - x_{4}\\right)}{\\sqrt{\\left(o_{x eq} - x_{4}\\right)^{2} + \\left(o_{y eq} - y_{4}\\right)^{2} + \\left(o_{z eq} - z_{4}\\right)^{2}}} + \\frac{o_{y} \\left(o_{y eq} - y_{4}\\right)}{\\sqrt{\\left(o_{x eq} - x_{4}\\right)^{2} + \\left(o_{y eq} - y_{4}\\right)^{2} + \\left(o_{z eq} - z_{4}\\right)^{2}}} + \\frac{\\left(o_{z} - o_{z eq}\\right) \\left(o_{z eq} - z_{4}\\right)}{\\sqrt{\\left(o_{x eq} - x_{4}\\right)^{2} + \\left(o_{y eq} - y_{4}\\right)^{2} + \\left(o_{z eq} - z_{4}\\right)^{2}}} + \\sqrt{\\left(o_{x eq} - x_{4}\\right)^{2} + \\left(o_{y eq} - y_{4}\\right)^{2} + \\left(o_{z eq} - z_{4}\\right)^{2}}\\right) - L_{82} \\left(- d_{5} + \\frac{o_{x} \\left(o_{x eq} - x_{5}\\right)}{\\sqrt{\\left(o_{x eq} - x_{5}\\right)^{2} + \\left(o_{y eq} - y_{5}\\right)^{2} + \\left(o_{z eq} - z_{5}\\right)^{2}}} + \\frac{o_{y} \\left(o_{y eq} - y_{5}\\right)}{\\sqrt{\\left(o_{x eq} - x_{5}\\right)^{2} + \\left(o_{y eq} - y_{5}\\right)^{2} + \\left(o_{z eq} - z_{5}\\right)^{2}}} + \\frac{\\left(o_{z} - o_{z eq}\\right) \\left(o_{z eq} - z_{5}\\right)}{\\sqrt{\\left(o_{x eq} - x_{5}\\right)^{2} + \\left(o_{y eq} - y_{5}\\right)^{2} + \\left(o_{z eq} - z_{5}\\right)^{2}}} + \\sqrt{\\left(o_{x eq} - x_{5}\\right)^{2} + \\left(o_{y eq} - y_{5}\\right)^{2} + \\left(o_{z eq} - z_{5}\\right)^{2}}\\right) - L_{83} \\left(- d_{6} + \\frac{o_{x} \\left(o_{x eq} - x_{6}\\right)}{\\sqrt{\\left(o_{x eq} - x_{6}\\right)^{2} + \\left(o_{y eq} - y_{6}\\right)^{2} + \\left(o_{z eq} - z_{6}\\right)^{2}}} + \\frac{o_{y} \\left(o_{y eq} - y_{6}\\right)}{\\sqrt{\\left(o_{x eq} - x_{6}\\right)^{2} + \\left(o_{y eq} - y_{6}\\right)^{2} + \\left(o_{z eq} - z_{6}\\right)^{2}}} + \\frac{\\left(o_{z} - o_{z eq}\\right) \\left(o_{z eq} - z_{6}\\right)}{\\sqrt{\\left(o_{x eq} - x_{6}\\right)^{2} + \\left(o_{y eq} - y_{6}\\right)^{2} + \\left(o_{z eq} - z_{6}\\right)^{2}}} + \\sqrt{\\left(o_{x eq} - x_{6}\\right)^{2} + \\left(o_{y eq} - y_{6}\\right)^{2} + \\left(o_{z eq} - z_{6}\\right)^{2}}\\right) - L_{84} \\left(- d_{7} + \\frac{o_{x} \\left(o_{x eq} - x_{7}\\right)}{\\sqrt{\\left(o_{x eq} - x_{7}\\right)^{2} + \\left(o_{y eq} - y_{7}\\right)^{2} + \\left(o_{z eq} - z_{7}\\right)^{2}}} + \\frac{o_{y} \\left(o_{y eq} - y_{7}\\right)}{\\sqrt{\\left(o_{x eq} - x_{7}\\right)^{2} + \\left(o_{y eq} - y_{7}\\right)^{2} + \\left(o_{z eq} - z_{7}\\right)^{2}}} + \\frac{\\left(o_{z} - o_{z eq}\\right) \\left(o_{z eq} - z_{7}\\right)}{\\sqrt{\\left(o_{x eq} - x_{7}\\right)^{2} + \\left(o_{y eq} - y_{7}\\right)^{2} + \\left(o_{z eq} - z_{7}\\right)^{2}}} + \\sqrt{\\left(o_{x eq} - x_{7}\\right)^{2} + \\left(o_{y eq} - y_{7}\\right)^{2} + \\left(o_{z eq} - z_{7}\\right)^{2}}\\right) - L_{85} \\left(- k_{flow} w_{y} + \\frac{k_{flow} v_{x}}{o_{z eq}} - n_{x}\\right) - L_{86} \\left(k_{flow} w_{x} + \\frac{k_{flow} v_{y}}{o_{z eq}} - n_{y}\\right) - L_{87} \\left(o_{z} - r\\right) + a_{z} - g\\end{matrix}\\right]$"
      ],
      "text/plain": [
       "Matrix([\n",
       "[              -L_0*(-d0 + o_x*(o_x_eq - x_0)/sqrt((o_x_eq - x_0)**2 + (o_y_eq - y_0)**2 + (o_z_eq - z_0)**2) + o_y*(o_y_eq - y_0)/sqrt((o_x_eq - x_0)**2 + (o_y_eq - y_0)**2 + (o_z_eq - z_0)**2) + (o_z - o_z_eq)*(o_z_eq - z_0)/sqrt((o_x_eq - x_0)**2 + (o_y_eq - y_0)**2 + (o_z_eq - z_0)**2) + sqrt((o_x_eq - x_0)**2 + (o_y_eq - y_0)**2 + (o_z_eq - z_0)**2)) - L_1*(-d1 + o_x*(o_x_eq - x_1)/sqrt((o_x_eq - x_1)**2 + (o_y_eq - y_1)**2 + (o_z_eq - z_1)**2) + o_y*(o_y_eq - y_1)/sqrt((o_x_eq - x_1)**2 + (o_y_eq - y_1)**2 + (o_z_eq - z_1)**2) + (o_z - o_z_eq)*(o_z_eq - z_1)/sqrt((o_x_eq - x_1)**2 + (o_y_eq - y_1)**2 + (o_z_eq - z_1)**2) + sqrt((o_x_eq - x_1)**2 + (o_y_eq - y_1)**2 + (o_z_eq - z_1)**2)) - L_10*(o_z - r) - L_2*(-d2 + o_x*(o_x_eq - x_2)/sqrt((o_x_eq - x_2)**2 + (o_y_eq - y_2)**2 + (o_z_eq - z_2)**2) + o_y*(o_y_eq - y_2)/sqrt((o_x_eq - x_2)**2 + (o_y_eq - y_2)**2 + (o_z_eq - z_2)**2) + (o_z - o_z_eq)*(o_z_eq - z_2)/sqrt((o_x_eq - x_2)**2 + (o_y_eq - y_2)**2 + (o_z_eq - z_2)**2) + sqrt((o_x_eq - x_2)**2 + (o_y_eq - y_2)**2 + (o_z_eq - z_2)**2)) - L_3*(-d3 + o_x*(o_x_eq - x_3)/sqrt((o_x_eq - x_3)**2 + (o_y_eq - y_3)**2 + (o_z_eq - z_3)**2) + o_y*(o_y_eq - y_3)/sqrt((o_x_eq - x_3)**2 + (o_y_eq - y_3)**2 + (o_z_eq - z_3)**2) + (o_z - o_z_eq)*(o_z_eq - z_3)/sqrt((o_x_eq - x_3)**2 + (o_y_eq - y_3)**2 + (o_z_eq - z_3)**2) + sqrt((o_x_eq - x_3)**2 + (o_y_eq - y_3)**2 + (o_z_eq - z_3)**2)) - L_4*(-d4 + o_x*(o_x_eq - x_4)/sqrt((o_x_eq - x_4)**2 + (o_y_eq - y_4)**2 + (o_z_eq - z_4)**2) + o_y*(o_y_eq - y_4)/sqrt((o_x_eq - x_4)**2 + (o_y_eq - y_4)**2 + (o_z_eq - z_4)**2) + (o_z - o_z_eq)*(o_z_eq - z_4)/sqrt((o_x_eq - x_4)**2 + (o_y_eq - y_4)**2 + (o_z_eq - z_4)**2) + sqrt((o_x_eq - x_4)**2 + (o_y_eq - y_4)**2 + (o_z_eq - z_4)**2)) - L_5*(-d5 + o_x*(o_x_eq - x_5)/sqrt((o_x_eq - x_5)**2 + (o_y_eq - y_5)**2 + (o_z_eq - z_5)**2) + o_y*(o_y_eq - y_5)/sqrt((o_x_eq - x_5)**2 + (o_y_eq - y_5)**2 + (o_z_eq - z_5)**2) + (o_z - o_z_eq)*(o_z_eq - z_5)/sqrt((o_x_eq - x_5)**2 + (o_y_eq - y_5)**2 + (o_z_eq - z_5)**2) + sqrt((o_x_eq - x_5)**2 + (o_y_eq - y_5)**2 + (o_z_eq - z_5)**2)) - L_6*(-d6 + o_x*(o_x_eq - x_6)/sqrt((o_x_eq - x_6)**2 + (o_y_eq - y_6)**2 + (o_z_eq - z_6)**2) + o_y*(o_y_eq - y_6)/sqrt((o_x_eq - x_6)**2 + (o_y_eq - y_6)**2 + (o_z_eq - z_6)**2) + (o_z - o_z_eq)*(o_z_eq - z_6)/sqrt((o_x_eq - x_6)**2 + (o_y_eq - y_6)**2 + (o_z_eq - z_6)**2) + sqrt((o_x_eq - x_6)**2 + (o_y_eq - y_6)**2 + (o_z_eq - z_6)**2)) - L_7*(-d7 + o_x*(o_x_eq - x_7)/sqrt((o_x_eq - x_7)**2 + (o_y_eq - y_7)**2 + (o_z_eq - z_7)**2) + o_y*(o_y_eq - y_7)/sqrt((o_x_eq - x_7)**2 + (o_y_eq - y_7)**2 + (o_z_eq - z_7)**2) + (o_z - o_z_eq)*(o_z_eq - z_7)/sqrt((o_x_eq - x_7)**2 + (o_y_eq - y_7)**2 + (o_z_eq - z_7)**2) + sqrt((o_x_eq - x_7)**2 + (o_y_eq - y_7)**2 + (o_z_eq - z_7)**2)) - L_8*(-k_flow*w_y + k_flow*v_x/o_z_eq - n_x) - L_9*(k_flow*w_x + k_flow*v_y/o_z_eq - n_y) + v_x],\n",
       "[    -L_11*(-d0 + o_x*(o_x_eq - x_0)/sqrt((o_x_eq - x_0)**2 + (o_y_eq - y_0)**2 + (o_z_eq - z_0)**2) + o_y*(o_y_eq - y_0)/sqrt((o_x_eq - x_0)**2 + (o_y_eq - y_0)**2 + (o_z_eq - z_0)**2) + (o_z - o_z_eq)*(o_z_eq - z_0)/sqrt((o_x_eq - x_0)**2 + (o_y_eq - y_0)**2 + (o_z_eq - z_0)**2) + sqrt((o_x_eq - x_0)**2 + (o_y_eq - y_0)**2 + (o_z_eq - z_0)**2)) - L_12*(-d1 + o_x*(o_x_eq - x_1)/sqrt((o_x_eq - x_1)**2 + (o_y_eq - y_1)**2 + (o_z_eq - z_1)**2) + o_y*(o_y_eq - y_1)/sqrt((o_x_eq - x_1)**2 + (o_y_eq - y_1)**2 + (o_z_eq - z_1)**2) + (o_z - o_z_eq)*(o_z_eq - z_1)/sqrt((o_x_eq - x_1)**2 + (o_y_eq - y_1)**2 + (o_z_eq - z_1)**2) + sqrt((o_x_eq - x_1)**2 + (o_y_eq - y_1)**2 + (o_z_eq - z_1)**2)) - L_13*(-d2 + o_x*(o_x_eq - x_2)/sqrt((o_x_eq - x_2)**2 + (o_y_eq - y_2)**2 + (o_z_eq - z_2)**2) + o_y*(o_y_eq - y_2)/sqrt((o_x_eq - x_2)**2 + (o_y_eq - y_2)**2 + (o_z_eq - z_2)**2) + (o_z - o_z_eq)*(o_z_eq - z_2)/sqrt((o_x_eq - x_2)**2 + (o_y_eq - y_2)**2 + (o_z_eq - z_2)**2) + sqrt((o_x_eq - x_2)**2 + (o_y_eq - y_2)**2 + (o_z_eq - z_2)**2)) - L_14*(-d3 + o_x*(o_x_eq - x_3)/sqrt((o_x_eq - x_3)**2 + (o_y_eq - y_3)**2 + (o_z_eq - z_3)**2) + o_y*(o_y_eq - y_3)/sqrt((o_x_eq - x_3)**2 + (o_y_eq - y_3)**2 + (o_z_eq - z_3)**2) + (o_z - o_z_eq)*(o_z_eq - z_3)/sqrt((o_x_eq - x_3)**2 + (o_y_eq - y_3)**2 + (o_z_eq - z_3)**2) + sqrt((o_x_eq - x_3)**2 + (o_y_eq - y_3)**2 + (o_z_eq - z_3)**2)) - L_15*(-d4 + o_x*(o_x_eq - x_4)/sqrt((o_x_eq - x_4)**2 + (o_y_eq - y_4)**2 + (o_z_eq - z_4)**2) + o_y*(o_y_eq - y_4)/sqrt((o_x_eq - x_4)**2 + (o_y_eq - y_4)**2 + (o_z_eq - z_4)**2) + (o_z - o_z_eq)*(o_z_eq - z_4)/sqrt((o_x_eq - x_4)**2 + (o_y_eq - y_4)**2 + (o_z_eq - z_4)**2) + sqrt((o_x_eq - x_4)**2 + (o_y_eq - y_4)**2 + (o_z_eq - z_4)**2)) - L_16*(-d5 + o_x*(o_x_eq - x_5)/sqrt((o_x_eq - x_5)**2 + (o_y_eq - y_5)**2 + (o_z_eq - z_5)**2) + o_y*(o_y_eq - y_5)/sqrt((o_x_eq - x_5)**2 + (o_y_eq - y_5)**2 + (o_z_eq - z_5)**2) + (o_z - o_z_eq)*(o_z_eq - z_5)/sqrt((o_x_eq - x_5)**2 + (o_y_eq - y_5)**2 + (o_z_eq - z_5)**2) + sqrt((o_x_eq - x_5)**2 + (o_y_eq - y_5)**2 + (o_z_eq - z_5)**2)) - L_17*(-d6 + o_x*(o_x_eq - x_6)/sqrt((o_x_eq - x_6)**2 + (o_y_eq - y_6)**2 + (o_z_eq - z_6)**2) + o_y*(o_y_eq - y_6)/sqrt((o_x_eq - x_6)**2 + (o_y_eq - y_6)**2 + (o_z_eq - z_6)**2) + (o_z - o_z_eq)*(o_z_eq - z_6)/sqrt((o_x_eq - x_6)**2 + (o_y_eq - y_6)**2 + (o_z_eq - z_6)**2) + sqrt((o_x_eq - x_6)**2 + (o_y_eq - y_6)**2 + (o_z_eq - z_6)**2)) - L_18*(-d7 + o_x*(o_x_eq - x_7)/sqrt((o_x_eq - x_7)**2 + (o_y_eq - y_7)**2 + (o_z_eq - z_7)**2) + o_y*(o_y_eq - y_7)/sqrt((o_x_eq - x_7)**2 + (o_y_eq - y_7)**2 + (o_z_eq - z_7)**2) + (o_z - o_z_eq)*(o_z_eq - z_7)/sqrt((o_x_eq - x_7)**2 + (o_y_eq - y_7)**2 + (o_z_eq - z_7)**2) + sqrt((o_x_eq - x_7)**2 + (o_y_eq - y_7)**2 + (o_z_eq - z_7)**2)) - L_19*(-k_flow*w_y + k_flow*v_x/o_z_eq - n_x) - L_20*(k_flow*w_x + k_flow*v_y/o_z_eq - n_y) - L_21*(o_z - r) + v_y],\n",
       "[    -L_22*(-d0 + o_x*(o_x_eq - x_0)/sqrt((o_x_eq - x_0)**2 + (o_y_eq - y_0)**2 + (o_z_eq - z_0)**2) + o_y*(o_y_eq - y_0)/sqrt((o_x_eq - x_0)**2 + (o_y_eq - y_0)**2 + (o_z_eq - z_0)**2) + (o_z - o_z_eq)*(o_z_eq - z_0)/sqrt((o_x_eq - x_0)**2 + (o_y_eq - y_0)**2 + (o_z_eq - z_0)**2) + sqrt((o_x_eq - x_0)**2 + (o_y_eq - y_0)**2 + (o_z_eq - z_0)**2)) - L_23*(-d1 + o_x*(o_x_eq - x_1)/sqrt((o_x_eq - x_1)**2 + (o_y_eq - y_1)**2 + (o_z_eq - z_1)**2) + o_y*(o_y_eq - y_1)/sqrt((o_x_eq - x_1)**2 + (o_y_eq - y_1)**2 + (o_z_eq - z_1)**2) + (o_z - o_z_eq)*(o_z_eq - z_1)/sqrt((o_x_eq - x_1)**2 + (o_y_eq - y_1)**2 + (o_z_eq - z_1)**2) + sqrt((o_x_eq - x_1)**2 + (o_y_eq - y_1)**2 + (o_z_eq - z_1)**2)) - L_24*(-d2 + o_x*(o_x_eq - x_2)/sqrt((o_x_eq - x_2)**2 + (o_y_eq - y_2)**2 + (o_z_eq - z_2)**2) + o_y*(o_y_eq - y_2)/sqrt((o_x_eq - x_2)**2 + (o_y_eq - y_2)**2 + (o_z_eq - z_2)**2) + (o_z - o_z_eq)*(o_z_eq - z_2)/sqrt((o_x_eq - x_2)**2 + (o_y_eq - y_2)**2 + (o_z_eq - z_2)**2) + sqrt((o_x_eq - x_2)**2 + (o_y_eq - y_2)**2 + (o_z_eq - z_2)**2)) - L_25*(-d3 + o_x*(o_x_eq - x_3)/sqrt((o_x_eq - x_3)**2 + (o_y_eq - y_3)**2 + (o_z_eq - z_3)**2) + o_y*(o_y_eq - y_3)/sqrt((o_x_eq - x_3)**2 + (o_y_eq - y_3)**2 + (o_z_eq - z_3)**2) + (o_z - o_z_eq)*(o_z_eq - z_3)/sqrt((o_x_eq - x_3)**2 + (o_y_eq - y_3)**2 + (o_z_eq - z_3)**2) + sqrt((o_x_eq - x_3)**2 + (o_y_eq - y_3)**2 + (o_z_eq - z_3)**2)) - L_26*(-d4 + o_x*(o_x_eq - x_4)/sqrt((o_x_eq - x_4)**2 + (o_y_eq - y_4)**2 + (o_z_eq - z_4)**2) + o_y*(o_y_eq - y_4)/sqrt((o_x_eq - x_4)**2 + (o_y_eq - y_4)**2 + (o_z_eq - z_4)**2) + (o_z - o_z_eq)*(o_z_eq - z_4)/sqrt((o_x_eq - x_4)**2 + (o_y_eq - y_4)**2 + (o_z_eq - z_4)**2) + sqrt((o_x_eq - x_4)**2 + (o_y_eq - y_4)**2 + (o_z_eq - z_4)**2)) - L_27*(-d5 + o_x*(o_x_eq - x_5)/sqrt((o_x_eq - x_5)**2 + (o_y_eq - y_5)**2 + (o_z_eq - z_5)**2) + o_y*(o_y_eq - y_5)/sqrt((o_x_eq - x_5)**2 + (o_y_eq - y_5)**2 + (o_z_eq - z_5)**2) + (o_z - o_z_eq)*(o_z_eq - z_5)/sqrt((o_x_eq - x_5)**2 + (o_y_eq - y_5)**2 + (o_z_eq - z_5)**2) + sqrt((o_x_eq - x_5)**2 + (o_y_eq - y_5)**2 + (o_z_eq - z_5)**2)) - L_28*(-d6 + o_x*(o_x_eq - x_6)/sqrt((o_x_eq - x_6)**2 + (o_y_eq - y_6)**2 + (o_z_eq - z_6)**2) + o_y*(o_y_eq - y_6)/sqrt((o_x_eq - x_6)**2 + (o_y_eq - y_6)**2 + (o_z_eq - z_6)**2) + (o_z - o_z_eq)*(o_z_eq - z_6)/sqrt((o_x_eq - x_6)**2 + (o_y_eq - y_6)**2 + (o_z_eq - z_6)**2) + sqrt((o_x_eq - x_6)**2 + (o_y_eq - y_6)**2 + (o_z_eq - z_6)**2)) - L_29*(-d7 + o_x*(o_x_eq - x_7)/sqrt((o_x_eq - x_7)**2 + (o_y_eq - y_7)**2 + (o_z_eq - z_7)**2) + o_y*(o_y_eq - y_7)/sqrt((o_x_eq - x_7)**2 + (o_y_eq - y_7)**2 + (o_z_eq - z_7)**2) + (o_z - o_z_eq)*(o_z_eq - z_7)/sqrt((o_x_eq - x_7)**2 + (o_y_eq - y_7)**2 + (o_z_eq - z_7)**2) + sqrt((o_x_eq - x_7)**2 + (o_y_eq - y_7)**2 + (o_z_eq - z_7)**2)) - L_30*(-k_flow*w_y + k_flow*v_x/o_z_eq - n_x) - L_31*(k_flow*w_x + k_flow*v_y/o_z_eq - n_y) - L_32*(o_z - r) + v_z],\n",
       "[    -L_33*(-d0 + o_x*(o_x_eq - x_0)/sqrt((o_x_eq - x_0)**2 + (o_y_eq - y_0)**2 + (o_z_eq - z_0)**2) + o_y*(o_y_eq - y_0)/sqrt((o_x_eq - x_0)**2 + (o_y_eq - y_0)**2 + (o_z_eq - z_0)**2) + (o_z - o_z_eq)*(o_z_eq - z_0)/sqrt((o_x_eq - x_0)**2 + (o_y_eq - y_0)**2 + (o_z_eq - z_0)**2) + sqrt((o_x_eq - x_0)**2 + (o_y_eq - y_0)**2 + (o_z_eq - z_0)**2)) - L_34*(-d1 + o_x*(o_x_eq - x_1)/sqrt((o_x_eq - x_1)**2 + (o_y_eq - y_1)**2 + (o_z_eq - z_1)**2) + o_y*(o_y_eq - y_1)/sqrt((o_x_eq - x_1)**2 + (o_y_eq - y_1)**2 + (o_z_eq - z_1)**2) + (o_z - o_z_eq)*(o_z_eq - z_1)/sqrt((o_x_eq - x_1)**2 + (o_y_eq - y_1)**2 + (o_z_eq - z_1)**2) + sqrt((o_x_eq - x_1)**2 + (o_y_eq - y_1)**2 + (o_z_eq - z_1)**2)) - L_35*(-d2 + o_x*(o_x_eq - x_2)/sqrt((o_x_eq - x_2)**2 + (o_y_eq - y_2)**2 + (o_z_eq - z_2)**2) + o_y*(o_y_eq - y_2)/sqrt((o_x_eq - x_2)**2 + (o_y_eq - y_2)**2 + (o_z_eq - z_2)**2) + (o_z - o_z_eq)*(o_z_eq - z_2)/sqrt((o_x_eq - x_2)**2 + (o_y_eq - y_2)**2 + (o_z_eq - z_2)**2) + sqrt((o_x_eq - x_2)**2 + (o_y_eq - y_2)**2 + (o_z_eq - z_2)**2)) - L_36*(-d3 + o_x*(o_x_eq - x_3)/sqrt((o_x_eq - x_3)**2 + (o_y_eq - y_3)**2 + (o_z_eq - z_3)**2) + o_y*(o_y_eq - y_3)/sqrt((o_x_eq - x_3)**2 + (o_y_eq - y_3)**2 + (o_z_eq - z_3)**2) + (o_z - o_z_eq)*(o_z_eq - z_3)/sqrt((o_x_eq - x_3)**2 + (o_y_eq - y_3)**2 + (o_z_eq - z_3)**2) + sqrt((o_x_eq - x_3)**2 + (o_y_eq - y_3)**2 + (o_z_eq - z_3)**2)) - L_37*(-d4 + o_x*(o_x_eq - x_4)/sqrt((o_x_eq - x_4)**2 + (o_y_eq - y_4)**2 + (o_z_eq - z_4)**2) + o_y*(o_y_eq - y_4)/sqrt((o_x_eq - x_4)**2 + (o_y_eq - y_4)**2 + (o_z_eq - z_4)**2) + (o_z - o_z_eq)*(o_z_eq - z_4)/sqrt((o_x_eq - x_4)**2 + (o_y_eq - y_4)**2 + (o_z_eq - z_4)**2) + sqrt((o_x_eq - x_4)**2 + (o_y_eq - y_4)**2 + (o_z_eq - z_4)**2)) - L_38*(-d5 + o_x*(o_x_eq - x_5)/sqrt((o_x_eq - x_5)**2 + (o_y_eq - y_5)**2 + (o_z_eq - z_5)**2) + o_y*(o_y_eq - y_5)/sqrt((o_x_eq - x_5)**2 + (o_y_eq - y_5)**2 + (o_z_eq - z_5)**2) + (o_z - o_z_eq)*(o_z_eq - z_5)/sqrt((o_x_eq - x_5)**2 + (o_y_eq - y_5)**2 + (o_z_eq - z_5)**2) + sqrt((o_x_eq - x_5)**2 + (o_y_eq - y_5)**2 + (o_z_eq - z_5)**2)) - L_39*(-d6 + o_x*(o_x_eq - x_6)/sqrt((o_x_eq - x_6)**2 + (o_y_eq - y_6)**2 + (o_z_eq - z_6)**2) + o_y*(o_y_eq - y_6)/sqrt((o_x_eq - x_6)**2 + (o_y_eq - y_6)**2 + (o_z_eq - z_6)**2) + (o_z - o_z_eq)*(o_z_eq - z_6)/sqrt((o_x_eq - x_6)**2 + (o_y_eq - y_6)**2 + (o_z_eq - z_6)**2) + sqrt((o_x_eq - x_6)**2 + (o_y_eq - y_6)**2 + (o_z_eq - z_6)**2)) - L_40*(-d7 + o_x*(o_x_eq - x_7)/sqrt((o_x_eq - x_7)**2 + (o_y_eq - y_7)**2 + (o_z_eq - z_7)**2) + o_y*(o_y_eq - y_7)/sqrt((o_x_eq - x_7)**2 + (o_y_eq - y_7)**2 + (o_z_eq - z_7)**2) + (o_z - o_z_eq)*(o_z_eq - z_7)/sqrt((o_x_eq - x_7)**2 + (o_y_eq - y_7)**2 + (o_z_eq - z_7)**2) + sqrt((o_x_eq - x_7)**2 + (o_y_eq - y_7)**2 + (o_z_eq - z_7)**2)) - L_41*(-k_flow*w_y + k_flow*v_x/o_z_eq - n_x) - L_42*(k_flow*w_x + k_flow*v_y/o_z_eq - n_y) - L_43*(o_z - r) + w_y],\n",
       "[    -L_44*(-d0 + o_x*(o_x_eq - x_0)/sqrt((o_x_eq - x_0)**2 + (o_y_eq - y_0)**2 + (o_z_eq - z_0)**2) + o_y*(o_y_eq - y_0)/sqrt((o_x_eq - x_0)**2 + (o_y_eq - y_0)**2 + (o_z_eq - z_0)**2) + (o_z - o_z_eq)*(o_z_eq - z_0)/sqrt((o_x_eq - x_0)**2 + (o_y_eq - y_0)**2 + (o_z_eq - z_0)**2) + sqrt((o_x_eq - x_0)**2 + (o_y_eq - y_0)**2 + (o_z_eq - z_0)**2)) - L_45*(-d1 + o_x*(o_x_eq - x_1)/sqrt((o_x_eq - x_1)**2 + (o_y_eq - y_1)**2 + (o_z_eq - z_1)**2) + o_y*(o_y_eq - y_1)/sqrt((o_x_eq - x_1)**2 + (o_y_eq - y_1)**2 + (o_z_eq - z_1)**2) + (o_z - o_z_eq)*(o_z_eq - z_1)/sqrt((o_x_eq - x_1)**2 + (o_y_eq - y_1)**2 + (o_z_eq - z_1)**2) + sqrt((o_x_eq - x_1)**2 + (o_y_eq - y_1)**2 + (o_z_eq - z_1)**2)) - L_46*(-d2 + o_x*(o_x_eq - x_2)/sqrt((o_x_eq - x_2)**2 + (o_y_eq - y_2)**2 + (o_z_eq - z_2)**2) + o_y*(o_y_eq - y_2)/sqrt((o_x_eq - x_2)**2 + (o_y_eq - y_2)**2 + (o_z_eq - z_2)**2) + (o_z - o_z_eq)*(o_z_eq - z_2)/sqrt((o_x_eq - x_2)**2 + (o_y_eq - y_2)**2 + (o_z_eq - z_2)**2) + sqrt((o_x_eq - x_2)**2 + (o_y_eq - y_2)**2 + (o_z_eq - z_2)**2)) - L_47*(-d3 + o_x*(o_x_eq - x_3)/sqrt((o_x_eq - x_3)**2 + (o_y_eq - y_3)**2 + (o_z_eq - z_3)**2) + o_y*(o_y_eq - y_3)/sqrt((o_x_eq - x_3)**2 + (o_y_eq - y_3)**2 + (o_z_eq - z_3)**2) + (o_z - o_z_eq)*(o_z_eq - z_3)/sqrt((o_x_eq - x_3)**2 + (o_y_eq - y_3)**2 + (o_z_eq - z_3)**2) + sqrt((o_x_eq - x_3)**2 + (o_y_eq - y_3)**2 + (o_z_eq - z_3)**2)) - L_48*(-d4 + o_x*(o_x_eq - x_4)/sqrt((o_x_eq - x_4)**2 + (o_y_eq - y_4)**2 + (o_z_eq - z_4)**2) + o_y*(o_y_eq - y_4)/sqrt((o_x_eq - x_4)**2 + (o_y_eq - y_4)**2 + (o_z_eq - z_4)**2) + (o_z - o_z_eq)*(o_z_eq - z_4)/sqrt((o_x_eq - x_4)**2 + (o_y_eq - y_4)**2 + (o_z_eq - z_4)**2) + sqrt((o_x_eq - x_4)**2 + (o_y_eq - y_4)**2 + (o_z_eq - z_4)**2)) - L_49*(-d5 + o_x*(o_x_eq - x_5)/sqrt((o_x_eq - x_5)**2 + (o_y_eq - y_5)**2 + (o_z_eq - z_5)**2) + o_y*(o_y_eq - y_5)/sqrt((o_x_eq - x_5)**2 + (o_y_eq - y_5)**2 + (o_z_eq - z_5)**2) + (o_z - o_z_eq)*(o_z_eq - z_5)/sqrt((o_x_eq - x_5)**2 + (o_y_eq - y_5)**2 + (o_z_eq - z_5)**2) + sqrt((o_x_eq - x_5)**2 + (o_y_eq - y_5)**2 + (o_z_eq - z_5)**2)) - L_50*(-d6 + o_x*(o_x_eq - x_6)/sqrt((o_x_eq - x_6)**2 + (o_y_eq - y_6)**2 + (o_z_eq - z_6)**2) + o_y*(o_y_eq - y_6)/sqrt((o_x_eq - x_6)**2 + (o_y_eq - y_6)**2 + (o_z_eq - z_6)**2) + (o_z - o_z_eq)*(o_z_eq - z_6)/sqrt((o_x_eq - x_6)**2 + (o_y_eq - y_6)**2 + (o_z_eq - z_6)**2) + sqrt((o_x_eq - x_6)**2 + (o_y_eq - y_6)**2 + (o_z_eq - z_6)**2)) - L_51*(-d7 + o_x*(o_x_eq - x_7)/sqrt((o_x_eq - x_7)**2 + (o_y_eq - y_7)**2 + (o_z_eq - z_7)**2) + o_y*(o_y_eq - y_7)/sqrt((o_x_eq - x_7)**2 + (o_y_eq - y_7)**2 + (o_z_eq - z_7)**2) + (o_z - o_z_eq)*(o_z_eq - z_7)/sqrt((o_x_eq - x_7)**2 + (o_y_eq - y_7)**2 + (o_z_eq - z_7)**2) + sqrt((o_x_eq - x_7)**2 + (o_y_eq - y_7)**2 + (o_z_eq - z_7)**2)) - L_52*(-k_flow*w_y + k_flow*v_x/o_z_eq - n_x) - L_53*(k_flow*w_x + k_flow*v_y/o_z_eq - n_y) - L_54*(o_z - r) + w_x],\n",
       "[-L_55*(-d0 + o_x*(o_x_eq - x_0)/sqrt((o_x_eq - x_0)**2 + (o_y_eq - y_0)**2 + (o_z_eq - z_0)**2) + o_y*(o_y_eq - y_0)/sqrt((o_x_eq - x_0)**2 + (o_y_eq - y_0)**2 + (o_z_eq - z_0)**2) + (o_z - o_z_eq)*(o_z_eq - z_0)/sqrt((o_x_eq - x_0)**2 + (o_y_eq - y_0)**2 + (o_z_eq - z_0)**2) + sqrt((o_x_eq - x_0)**2 + (o_y_eq - y_0)**2 + (o_z_eq - z_0)**2)) - L_56*(-d1 + o_x*(o_x_eq - x_1)/sqrt((o_x_eq - x_1)**2 + (o_y_eq - y_1)**2 + (o_z_eq - z_1)**2) + o_y*(o_y_eq - y_1)/sqrt((o_x_eq - x_1)**2 + (o_y_eq - y_1)**2 + (o_z_eq - z_1)**2) + (o_z - o_z_eq)*(o_z_eq - z_1)/sqrt((o_x_eq - x_1)**2 + (o_y_eq - y_1)**2 + (o_z_eq - z_1)**2) + sqrt((o_x_eq - x_1)**2 + (o_y_eq - y_1)**2 + (o_z_eq - z_1)**2)) - L_57*(-d2 + o_x*(o_x_eq - x_2)/sqrt((o_x_eq - x_2)**2 + (o_y_eq - y_2)**2 + (o_z_eq - z_2)**2) + o_y*(o_y_eq - y_2)/sqrt((o_x_eq - x_2)**2 + (o_y_eq - y_2)**2 + (o_z_eq - z_2)**2) + (o_z - o_z_eq)*(o_z_eq - z_2)/sqrt((o_x_eq - x_2)**2 + (o_y_eq - y_2)**2 + (o_z_eq - z_2)**2) + sqrt((o_x_eq - x_2)**2 + (o_y_eq - y_2)**2 + (o_z_eq - z_2)**2)) - L_58*(-d3 + o_x*(o_x_eq - x_3)/sqrt((o_x_eq - x_3)**2 + (o_y_eq - y_3)**2 + (o_z_eq - z_3)**2) + o_y*(o_y_eq - y_3)/sqrt((o_x_eq - x_3)**2 + (o_y_eq - y_3)**2 + (o_z_eq - z_3)**2) + (o_z - o_z_eq)*(o_z_eq - z_3)/sqrt((o_x_eq - x_3)**2 + (o_y_eq - y_3)**2 + (o_z_eq - z_3)**2) + sqrt((o_x_eq - x_3)**2 + (o_y_eq - y_3)**2 + (o_z_eq - z_3)**2)) - L_59*(-d4 + o_x*(o_x_eq - x_4)/sqrt((o_x_eq - x_4)**2 + (o_y_eq - y_4)**2 + (o_z_eq - z_4)**2) + o_y*(o_y_eq - y_4)/sqrt((o_x_eq - x_4)**2 + (o_y_eq - y_4)**2 + (o_z_eq - z_4)**2) + (o_z - o_z_eq)*(o_z_eq - z_4)/sqrt((o_x_eq - x_4)**2 + (o_y_eq - y_4)**2 + (o_z_eq - z_4)**2) + sqrt((o_x_eq - x_4)**2 + (o_y_eq - y_4)**2 + (o_z_eq - z_4)**2)) - L_60*(-d5 + o_x*(o_x_eq - x_5)/sqrt((o_x_eq - x_5)**2 + (o_y_eq - y_5)**2 + (o_z_eq - z_5)**2) + o_y*(o_y_eq - y_5)/sqrt((o_x_eq - x_5)**2 + (o_y_eq - y_5)**2 + (o_z_eq - z_5)**2) + (o_z - o_z_eq)*(o_z_eq - z_5)/sqrt((o_x_eq - x_5)**2 + (o_y_eq - y_5)**2 + (o_z_eq - z_5)**2) + sqrt((o_x_eq - x_5)**2 + (o_y_eq - y_5)**2 + (o_z_eq - z_5)**2)) - L_61*(-d6 + o_x*(o_x_eq - x_6)/sqrt((o_x_eq - x_6)**2 + (o_y_eq - y_6)**2 + (o_z_eq - z_6)**2) + o_y*(o_y_eq - y_6)/sqrt((o_x_eq - x_6)**2 + (o_y_eq - y_6)**2 + (o_z_eq - z_6)**2) + (o_z - o_z_eq)*(o_z_eq - z_6)/sqrt((o_x_eq - x_6)**2 + (o_y_eq - y_6)**2 + (o_z_eq - z_6)**2) + sqrt((o_x_eq - x_6)**2 + (o_y_eq - y_6)**2 + (o_z_eq - z_6)**2)) - L_62*(-d7 + o_x*(o_x_eq - x_7)/sqrt((o_x_eq - x_7)**2 + (o_y_eq - y_7)**2 + (o_z_eq - z_7)**2) + o_y*(o_y_eq - y_7)/sqrt((o_x_eq - x_7)**2 + (o_y_eq - y_7)**2 + (o_z_eq - z_7)**2) + (o_z - o_z_eq)*(o_z_eq - z_7)/sqrt((o_x_eq - x_7)**2 + (o_y_eq - y_7)**2 + (o_z_eq - z_7)**2) + sqrt((o_x_eq - x_7)**2 + (o_y_eq - y_7)**2 + (o_z_eq - z_7)**2)) - L_63*(-k_flow*w_y + k_flow*v_x/o_z_eq - n_x) - L_64*(k_flow*w_x + k_flow*v_y/o_z_eq - n_y) - L_65*(o_z - r) + g*theta],\n",
       "[  -L_66*(-d0 + o_x*(o_x_eq - x_0)/sqrt((o_x_eq - x_0)**2 + (o_y_eq - y_0)**2 + (o_z_eq - z_0)**2) + o_y*(o_y_eq - y_0)/sqrt((o_x_eq - x_0)**2 + (o_y_eq - y_0)**2 + (o_z_eq - z_0)**2) + (o_z - o_z_eq)*(o_z_eq - z_0)/sqrt((o_x_eq - x_0)**2 + (o_y_eq - y_0)**2 + (o_z_eq - z_0)**2) + sqrt((o_x_eq - x_0)**2 + (o_y_eq - y_0)**2 + (o_z_eq - z_0)**2)) - L_67*(-d1 + o_x*(o_x_eq - x_1)/sqrt((o_x_eq - x_1)**2 + (o_y_eq - y_1)**2 + (o_z_eq - z_1)**2) + o_y*(o_y_eq - y_1)/sqrt((o_x_eq - x_1)**2 + (o_y_eq - y_1)**2 + (o_z_eq - z_1)**2) + (o_z - o_z_eq)*(o_z_eq - z_1)/sqrt((o_x_eq - x_1)**2 + (o_y_eq - y_1)**2 + (o_z_eq - z_1)**2) + sqrt((o_x_eq - x_1)**2 + (o_y_eq - y_1)**2 + (o_z_eq - z_1)**2)) - L_68*(-d2 + o_x*(o_x_eq - x_2)/sqrt((o_x_eq - x_2)**2 + (o_y_eq - y_2)**2 + (o_z_eq - z_2)**2) + o_y*(o_y_eq - y_2)/sqrt((o_x_eq - x_2)**2 + (o_y_eq - y_2)**2 + (o_z_eq - z_2)**2) + (o_z - o_z_eq)*(o_z_eq - z_2)/sqrt((o_x_eq - x_2)**2 + (o_y_eq - y_2)**2 + (o_z_eq - z_2)**2) + sqrt((o_x_eq - x_2)**2 + (o_y_eq - y_2)**2 + (o_z_eq - z_2)**2)) - L_69*(-d3 + o_x*(o_x_eq - x_3)/sqrt((o_x_eq - x_3)**2 + (o_y_eq - y_3)**2 + (o_z_eq - z_3)**2) + o_y*(o_y_eq - y_3)/sqrt((o_x_eq - x_3)**2 + (o_y_eq - y_3)**2 + (o_z_eq - z_3)**2) + (o_z - o_z_eq)*(o_z_eq - z_3)/sqrt((o_x_eq - x_3)**2 + (o_y_eq - y_3)**2 + (o_z_eq - z_3)**2) + sqrt((o_x_eq - x_3)**2 + (o_y_eq - y_3)**2 + (o_z_eq - z_3)**2)) - L_70*(-d4 + o_x*(o_x_eq - x_4)/sqrt((o_x_eq - x_4)**2 + (o_y_eq - y_4)**2 + (o_z_eq - z_4)**2) + o_y*(o_y_eq - y_4)/sqrt((o_x_eq - x_4)**2 + (o_y_eq - y_4)**2 + (o_z_eq - z_4)**2) + (o_z - o_z_eq)*(o_z_eq - z_4)/sqrt((o_x_eq - x_4)**2 + (o_y_eq - y_4)**2 + (o_z_eq - z_4)**2) + sqrt((o_x_eq - x_4)**2 + (o_y_eq - y_4)**2 + (o_z_eq - z_4)**2)) - L_71*(-d5 + o_x*(o_x_eq - x_5)/sqrt((o_x_eq - x_5)**2 + (o_y_eq - y_5)**2 + (o_z_eq - z_5)**2) + o_y*(o_y_eq - y_5)/sqrt((o_x_eq - x_5)**2 + (o_y_eq - y_5)**2 + (o_z_eq - z_5)**2) + (o_z - o_z_eq)*(o_z_eq - z_5)/sqrt((o_x_eq - x_5)**2 + (o_y_eq - y_5)**2 + (o_z_eq - z_5)**2) + sqrt((o_x_eq - x_5)**2 + (o_y_eq - y_5)**2 + (o_z_eq - z_5)**2)) - L_72*(-d6 + o_x*(o_x_eq - x_6)/sqrt((o_x_eq - x_6)**2 + (o_y_eq - y_6)**2 + (o_z_eq - z_6)**2) + o_y*(o_y_eq - y_6)/sqrt((o_x_eq - x_6)**2 + (o_y_eq - y_6)**2 + (o_z_eq - z_6)**2) + (o_z - o_z_eq)*(o_z_eq - z_6)/sqrt((o_x_eq - x_6)**2 + (o_y_eq - y_6)**2 + (o_z_eq - z_6)**2) + sqrt((o_x_eq - x_6)**2 + (o_y_eq - y_6)**2 + (o_z_eq - z_6)**2)) - L_73*(-d7 + o_x*(o_x_eq - x_7)/sqrt((o_x_eq - x_7)**2 + (o_y_eq - y_7)**2 + (o_z_eq - z_7)**2) + o_y*(o_y_eq - y_7)/sqrt((o_x_eq - x_7)**2 + (o_y_eq - y_7)**2 + (o_z_eq - z_7)**2) + (o_z - o_z_eq)*(o_z_eq - z_7)/sqrt((o_x_eq - x_7)**2 + (o_y_eq - y_7)**2 + (o_z_eq - z_7)**2) + sqrt((o_x_eq - x_7)**2 + (o_y_eq - y_7)**2 + (o_z_eq - z_7)**2)) - L_74*(-k_flow*w_y + k_flow*v_x/o_z_eq - n_x) - L_75*(k_flow*w_x + k_flow*v_y/o_z_eq - n_y) - L_76*(o_z - r) - g*phi],\n",
       "[-L_77*(-d0 + o_x*(o_x_eq - x_0)/sqrt((o_x_eq - x_0)**2 + (o_y_eq - y_0)**2 + (o_z_eq - z_0)**2) + o_y*(o_y_eq - y_0)/sqrt((o_x_eq - x_0)**2 + (o_y_eq - y_0)**2 + (o_z_eq - z_0)**2) + (o_z - o_z_eq)*(o_z_eq - z_0)/sqrt((o_x_eq - x_0)**2 + (o_y_eq - y_0)**2 + (o_z_eq - z_0)**2) + sqrt((o_x_eq - x_0)**2 + (o_y_eq - y_0)**2 + (o_z_eq - z_0)**2)) - L_78*(-d1 + o_x*(o_x_eq - x_1)/sqrt((o_x_eq - x_1)**2 + (o_y_eq - y_1)**2 + (o_z_eq - z_1)**2) + o_y*(o_y_eq - y_1)/sqrt((o_x_eq - x_1)**2 + (o_y_eq - y_1)**2 + (o_z_eq - z_1)**2) + (o_z - o_z_eq)*(o_z_eq - z_1)/sqrt((o_x_eq - x_1)**2 + (o_y_eq - y_1)**2 + (o_z_eq - z_1)**2) + sqrt((o_x_eq - x_1)**2 + (o_y_eq - y_1)**2 + (o_z_eq - z_1)**2)) - L_79*(-d2 + o_x*(o_x_eq - x_2)/sqrt((o_x_eq - x_2)**2 + (o_y_eq - y_2)**2 + (o_z_eq - z_2)**2) + o_y*(o_y_eq - y_2)/sqrt((o_x_eq - x_2)**2 + (o_y_eq - y_2)**2 + (o_z_eq - z_2)**2) + (o_z - o_z_eq)*(o_z_eq - z_2)/sqrt((o_x_eq - x_2)**2 + (o_y_eq - y_2)**2 + (o_z_eq - z_2)**2) + sqrt((o_x_eq - x_2)**2 + (o_y_eq - y_2)**2 + (o_z_eq - z_2)**2)) - L_80*(-d3 + o_x*(o_x_eq - x_3)/sqrt((o_x_eq - x_3)**2 + (o_y_eq - y_3)**2 + (o_z_eq - z_3)**2) + o_y*(o_y_eq - y_3)/sqrt((o_x_eq - x_3)**2 + (o_y_eq - y_3)**2 + (o_z_eq - z_3)**2) + (o_z - o_z_eq)*(o_z_eq - z_3)/sqrt((o_x_eq - x_3)**2 + (o_y_eq - y_3)**2 + (o_z_eq - z_3)**2) + sqrt((o_x_eq - x_3)**2 + (o_y_eq - y_3)**2 + (o_z_eq - z_3)**2)) - L_81*(-d4 + o_x*(o_x_eq - x_4)/sqrt((o_x_eq - x_4)**2 + (o_y_eq - y_4)**2 + (o_z_eq - z_4)**2) + o_y*(o_y_eq - y_4)/sqrt((o_x_eq - x_4)**2 + (o_y_eq - y_4)**2 + (o_z_eq - z_4)**2) + (o_z - o_z_eq)*(o_z_eq - z_4)/sqrt((o_x_eq - x_4)**2 + (o_y_eq - y_4)**2 + (o_z_eq - z_4)**2) + sqrt((o_x_eq - x_4)**2 + (o_y_eq - y_4)**2 + (o_z_eq - z_4)**2)) - L_82*(-d5 + o_x*(o_x_eq - x_5)/sqrt((o_x_eq - x_5)**2 + (o_y_eq - y_5)**2 + (o_z_eq - z_5)**2) + o_y*(o_y_eq - y_5)/sqrt((o_x_eq - x_5)**2 + (o_y_eq - y_5)**2 + (o_z_eq - z_5)**2) + (o_z - o_z_eq)*(o_z_eq - z_5)/sqrt((o_x_eq - x_5)**2 + (o_y_eq - y_5)**2 + (o_z_eq - z_5)**2) + sqrt((o_x_eq - x_5)**2 + (o_y_eq - y_5)**2 + (o_z_eq - z_5)**2)) - L_83*(-d6 + o_x*(o_x_eq - x_6)/sqrt((o_x_eq - x_6)**2 + (o_y_eq - y_6)**2 + (o_z_eq - z_6)**2) + o_y*(o_y_eq - y_6)/sqrt((o_x_eq - x_6)**2 + (o_y_eq - y_6)**2 + (o_z_eq - z_6)**2) + (o_z - o_z_eq)*(o_z_eq - z_6)/sqrt((o_x_eq - x_6)**2 + (o_y_eq - y_6)**2 + (o_z_eq - z_6)**2) + sqrt((o_x_eq - x_6)**2 + (o_y_eq - y_6)**2 + (o_z_eq - z_6)**2)) - L_84*(-d7 + o_x*(o_x_eq - x_7)/sqrt((o_x_eq - x_7)**2 + (o_y_eq - y_7)**2 + (o_z_eq - z_7)**2) + o_y*(o_y_eq - y_7)/sqrt((o_x_eq - x_7)**2 + (o_y_eq - y_7)**2 + (o_z_eq - z_7)**2) + (o_z - o_z_eq)*(o_z_eq - z_7)/sqrt((o_x_eq - x_7)**2 + (o_y_eq - y_7)**2 + (o_z_eq - z_7)**2) + sqrt((o_x_eq - x_7)**2 + (o_y_eq - y_7)**2 + (o_z_eq - z_7)**2)) - L_85*(-k_flow*w_y + k_flow*v_x/o_z_eq - n_x) - L_86*(k_flow*w_x + k_flow*v_y/o_z_eq - n_y) - L_87*(o_z - r) + a_z - g]])"
      ]
     },
     "execution_count": 54,
     "metadata": {},
     "output_type": "execute_result"
    }
   ],
   "source": [
    "x_hat_dot_sym"
   ]
  },
  {
   "cell_type": "markdown",
   "metadata": {},
   "source": [
    "default c and o hover\n",
    "default c and o hover with loco\n",
    "custom c and default o hover with loco\n",
    "implement observer offline"
   ]
  },
  {
   "cell_type": "code",
   "execution_count": 58,
   "metadata": {},
   "outputs": [
    {
     "data": {
      "text/plain": [
       "[[-1.12707648705855*Y_0 - 0.5476728004585*Y_1 - 0.0339666169208879*Y_10 + 1.06158812414135*Y_2 + 0.227059392530423*Y_3 - 0.552105984522811*Y_4 + 1.66587269822643*Y_5 + 0.475526854975272*Y_6 - 2.07114365067007*Y_7 - 0.0214688706014934*Y_8 + 0.00168407966994269*Y_9 + v_x],\n",
       " [1.73816242606271*Y_0 + 0.674035871250208*Y_1 + 0.0182697597468506*Y_10 + 1.69091746248964*Y_2 - 0.325418193645903*Y_3 - 0.787896464809938*Y_4 - 1.1956767991533*Y_5 + 0.657924407506712*Y_6 - 1.35219734302355*Y_7 + 0.00197779925500575*Y_8 - 0.0227901005026907*Y_9 + v_y],\n",
       " [0.817938135344624*Y_0 + 0.722615443998249*Y_1 - 0.603140474287141*Y_10 + 1.35653032358065*Y_2 + 0.433584324169403*Y_3 + 1.05513109876531*Y_4 + 1.96351857478474*Y_5 + 1.06683224932403*Y_6 + 2.18412437166829*Y_7 - 0.00242935847370092*Y_8 + 0.00108821463471846*Y_9 + v_z],\n",
       " [0.196479899076098*Y_0 + 0.0985626400158723*Y_1 + 0.0023957978163299*Y_10 - 0.194663521002678*Y_2 - 0.0361702630754423*Y_3 + 0.111154854141702*Y_4 - 0.280645442718842*Y_5 - 0.0837840794422355*Y_6 + 0.39561834630097*Y_7 + 0.0140088547394226*Y_8 - 0.000281307826385638*Y_9 + w_y],\n",
       " [0.222343647429708*Y_0 + 0.0864276427219888*Y_1 + 0.00102134292721344*Y_10 + 0.228875313860488*Y_2 - 0.0403926898816258*Y_3 - 0.103647461045156*Y_4 - 0.143265945724011*Y_5 + 0.0904416873504525*Y_6 - 0.183125525304195*Y_7 + 0.000269473931307429*Y_8 - 0.0119570739051243*Y_9 + w_x],\n",
       " [-2.11423067055164*Y_0 - 1.04869146159933*Y_1 - 0.0389758213737117*Y_10 + 2.05301472113413*Y_2 + 0.401997716600069*Y_3 - 1.13729568738701*Y_4 + 3.05428792393369*Y_5 + 0.895894538280115*Y_6 - 4.11951818010848*Y_7 - 0.125052613322857*Y_8 + 0.00328725278584337*Y_9 + g*theta],\n",
       " [2.75863977433452*Y_0 + 1.07168100610343*Y_1 + 0.0183343738731685*Y_10 + 2.78128700533508*Y_2 - 0.506458426054447*Y_3 - 1.27142574731835*Y_4 - 1.82078755172935*Y_5 + 1.09334023624671*Y_6 - 2.22226220214884*Y_7 + 0.00345208078526926*Y_8 - 0.125066972338275*Y_9 - g*phi],\n",
       " [1.49180564220905*Y_0 + 1.26730376543032*Y_1 - 1.01179849124881*Y_10 + 2.25945122029615*Y_2 + 0.706484076467834*Y_3 + 1.78846439007433*Y_4 + 3.16676163008767*Y_5 + 1.78178164345588*Y_6 + 3.76752897355177*Y_7 - 0.004860102535236*Y_8 + 0.0020354212081781*Y_9 + a_z - g]]"
      ]
     },
     "execution_count": 58,
     "metadata": {},
     "output_type": "execute_result"
    }
   ],
   "source": [
    "Y_0, Y_1, Y_2, Y_3, Y_4, Y_5, Y_6, Y_7, Y_8, Y_9, Y_10 = sym.symbols('Y_0, Y_1, Y_2, Y_3, Y_4, Y_5, Y_6, Y_7, Y_8, Y_9, Y_10')\n",
    "Y_err = sym.Matrix([Y_0, Y_1, Y_2, Y_3, Y_4, Y_5, Y_6, Y_7, Y_8, Y_9, Y_10])\n",
    "output_list = (x_obs_dot_sym - L_sym * Y_err).tolist()\n",
    "output_list"
   ]
  },
  {
   "cell_type": "code",
   "execution_count": 59,
   "metadata": {},
   "outputs": [
    {
     "name": "stdout",
     "output_type": "stream",
     "text": [
      "[-1.12707648705855f*Y_0 - 0.5476728004585f*Y_1 - 0.0339666169208879f*Y_10 + 1.06158812414135f*Y_2 + 0.227059392530423f*Y_3 - 0.552105984522811f*Y_4 + 1.66587269822643f*Y_5 + 0.475526854975272f*Y_6 - 2.07114365067007f*Y_7 - 0.0214688706014934f*Y_8 + 0.00168407966994269f*Y_9 + v_x]\n",
      "\n",
      "\n",
      "[1.73816242606271f*Y_0 + 0.674035871250208f*Y_1 + 0.0182697597468506f*Y_10 + 1.69091746248964f*Y_2 - 0.325418193645903f*Y_3 - 0.787896464809938f*Y_4 - 1.1956767991533f*Y_5 + 0.657924407506712f*Y_6 - 1.35219734302355f*Y_7 + 0.00197779925500575f*Y_8 - 0.0227901005026907f*Y_9 + v_y]\n",
      "\n",
      "\n",
      "[0.817938135344624f*Y_0 + 0.722615443998249f*Y_1 - 0.603140474287141f*Y_10 + 1.35653032358065f*Y_2 + 0.433584324169403f*Y_3 + 1.05513109876531f*Y_4 + 1.96351857478474f*Y_5 + 1.06683224932403f*Y_6 + 2.18412437166829f*Y_7 - 0.00242935847370092f*Y_8 + 0.00108821463471846f*Y_9 + v_z]\n",
      "\n",
      "\n",
      "[0.196479899076098f*Y_0 + 0.0985626400158723f*Y_1 + 0.0023957978163299f*Y_10 - 0.194663521002678f*Y_2 - 0.0361702630754423f*Y_3 + 0.111154854141702f*Y_4 - 0.280645442718842f*Y_5 - 0.0837840794422355f*Y_6 + 0.39561834630097f*Y_7 + 0.0140088547394226f*Y_8 - 0.000281307826385638f*Y_9 + w_y]\n",
      "\n",
      "\n",
      "[0.222343647429708f*Y_0 + 0.0864276427219888f*Y_1 + 0.00102134292721344f*Y_10 + 0.228875313860488f*Y_2 - 0.0403926898816258f*Y_3 - 0.103647461045156f*Y_4 - 0.143265945724011f*Y_5 + 0.0904416873504525f*Y_6 - 0.183125525304195f*Y_7 + 0.000269473931307429f*Y_8 - 0.0119570739051243f*Y_9 + w_x]\n",
      "\n",
      "\n",
      "[-2.11423067055164f*Y_0 - 1.04869146159933f*Y_1 - 0.0389758213737117f*Y_10 + 2.05301472113413f*Y_2 + 0.401997716600069f*Y_3 - 1.13729568738701f*Y_4 + 3.05428792393369f*Y_5 + 0.895894538280115f*Y_6 - 4.11951818010848f*Y_7 - 0.125052613322857f*Y_8 + 0.00328725278584337f*Y_9 + gf*theta]\n",
      "\n",
      "\n",
      "[2.75863977433452f*Y_0 + 1.07168100610343f*Y_1 + 0.0183343738731685f*Y_10 + 2.78128700533508f*Y_2 - 0.506458426054447f*Y_3 - 1.27142574731835f*Y_4 - 1.82078755172935f*Y_5 + 1.09334023624671f*Y_6 - 2.22226220214884f*Y_7 + 0.00345208078526926f*Y_8 - 0.125066972338275f*Y_9 - gf*phi]\n",
      "\n",
      "\n",
      "[1.49180564220905f*Y_0 + 1.26730376543032f*Y_1 - 1.01179849124881f*Y_10 + 2.25945122029615f*Y_2 + 0.706484076467834f*Y_3 + 1.78846439007433f*Y_4 + 3.16676163008767f*Y_5 + 1.78178164345588f*Y_6 + 3.76752897355177f*Y_7 - 0.004860102535236f*Y_8 + 0.0020354212081781f*Y_9 + a_z - g]\n",
      "\n",
      "\n"
     ]
    }
   ],
   "source": [
    "for i in range(len(output_list)):\n",
    "    line = str(output_list[i])\n",
    "    output_list[i] = line.replace(\"*\", \"f*\" )\n",
    "    print(output_list[i])\n",
    "    print(\"\\n\")\n",
    "\n"
   ]
  },
  {
   "cell_type": "code",
   "execution_count": 47,
   "metadata": {},
   "outputs": [
    {
     "data": {
      "text/latex": [
       "$\\displaystyle \\left[\\begin{matrix}v_{x}\\\\v_{y}\\\\v_{z}\\\\w_{z}\\\\w_{y}\\\\w_{x}\\\\g \\theta\\\\- g \\phi\\\\a_{z} - g\\end{matrix}\\right]$"
      ],
      "text/plain": [
       "Matrix([\n",
       "[    v_x],\n",
       "[    v_y],\n",
       "[    v_z],\n",
       "[    w_z],\n",
       "[    w_y],\n",
       "[    w_x],\n",
       "[g*theta],\n",
       "[ -g*phi],\n",
       "[a_z - g]])"
      ]
     },
     "execution_count": 47,
     "metadata": {},
     "output_type": "execute_result"
    }
   ],
   "source": [
    "x_dot_sym"
   ]
  },
  {
   "cell_type": "code",
   "execution_count": 48,
   "metadata": {},
   "outputs": [
    {
     "data": {
      "text/latex": [
       "$\\displaystyle \\left[\\begin{matrix}0.318048994347065 a_{0} + 0.355344333771723 a_{1} - 0.315851577898685 a_{2} - 0.29821898145092 a_{3} + 0.350920382509896 a_{4} - 0.43880375885054 a_{5} - 0.30679594936682 a_{6} + 0.434690674721253 a_{7} + 9.65471187072017 \\cdot 10^{-6} k_{flow} w_{x} + 0.117903311905344 k_{flow} w_{y} + 0.117903311905344 n_{x} - 9.65471187072017 \\cdot 10^{-6} n_{y} - 2.0000819388963 o_{x} - 0.00280219058557235 o_{y} + 0.00453090403648562 o_{z} + 0.0035907444592606 r + 0.0349482624584663 v_{x} + 7.90248918010174 \\cdot 10^{-5} v_{y}\\\\- 0.414043350358901 a_{0} - 0.342339761279753 a_{1} - 0.415524834506026 a_{2} + 0.405793758565189 a_{3} + 0.356358215224088 a_{4} + 0.238410121719157 a_{5} - 0.382183505417755 a_{6} + 0.242621658633178 a_{7} - 0.118491823751223 k_{flow} w_{x} - 9.6653547089671 \\cdot 10^{-6} k_{flow} w_{y} - 9.6653547089671 \\cdot 10^{-6} n_{x} + 0.118491823751223 n_{y} - 0.00280453047536086 o_{x} - 1.83091493368707 o_{y} - 0.0158698944774888 o_{z} - 0.0139558807830847 r + 7.91120046172444 \\cdot 10^{-5} v_{x} + 0.0301312274638448 v_{y}\\\\- 0.234652602736142 a_{0} - 0.398045926362988 a_{1} - 0.237164859619056 a_{2} - 0.457093407943563 a_{3} - 0.409535978332923 a_{4} - 0.345400308109495 a_{5} - 0.450664763085479 a_{6} - 0.330892534629111 a_{7} + 0.000128571750397669 k_{flow} w_{x} + 3.66709161231115 \\cdot 10^{-5} k_{flow} w_{y} + 3.66709161231115 \\cdot 10^{-5} n_{x} - 0.000128571750397669 n_{y} + 0.011392300268078 o_{x} - 0.0409862015581721 o_{y} - 2.09828044965945 o_{z} + 1.19675004745001 r - 0.000300155532104648 v_{x} + 0.00105237409462799 v_{y} + v_{z}\\\\- 0.00133890459632237 a_{0} - 0.00149979247142958 a_{1} + 0.00132788697037004 a_{2} + 0.00124153358243764 a_{3} - 0.00148797637634215 a_{4} + 0.00183681216652996 a_{5} + 0.00128514849509597 a_{6} - 0.00183773659306993 a_{7} - 3.60432166051502 \\cdot 10^{-8} k_{flow} w_{x} - 0.999991018132805 k_{flow} w_{y} - 0.999991018132805 n_{x} + 3.60432166051502 \\cdot 10^{-8} n_{y} + 0.008414630006585 o_{x} + 2.81550390331147 \\cdot 10^{-5} o_{y} - 6.14497139885171 \\cdot 10^{-5} o_{z} + 9.28577500702319 \\cdot 10^{-6} r + 8.18503784142855 v_{x} - 2.95017741650136 \\cdot 10^{-7} v_{y} + w_{y}\\\\- 0.00151564216608766 a_{0} - 0.00126678246118921 a_{1} - 0.00152714869103812 a_{2} + 0.00143679157013365 a_{3} + 0.00126693428301475 a_{4} + 0.00083620539363004 a_{5} - 0.0014212732616685 a_{6} + 0.000860717409853122 a_{7} - 0.999993317548861 k_{flow} w_{x} - 3.60180977923013 \\cdot 10^{-8} k_{flow} w_{y} - 3.60180977923013 \\cdot 10^{-8} n_{x} + 0.999993317548861 n_{y} - 2.81508144242944 \\cdot 10^{-5} o_{x} - 0.00664470358220795 o_{y} - 0.000206495167828909 o_{z} + 3.4371776818777 \\cdot 10^{-5} r + 2.94812141369761 \\cdot 10^{-7} v_{x} - 8.18505666240504 v_{y} + w_{x}\\\\0.0090321494267369 a_{0} + 0.0101067671104977 a_{1} - 0.00896243507121364 a_{2} - 0.00841350714358457 a_{3} + 0.0100081218759322 a_{4} - 0.012419608317679 a_{5} - 0.00868683640964248 a_{6} + 0.0123755317257031 a_{7} + g \\theta + 5.73608851177089 \\cdot 10^{-7} k_{flow} w_{x} + 1.84287704471045 k_{flow} w_{y} + 1.84287704471045 n_{x} - 5.73608851177089 \\cdot 10^{-7} n_{y} - 0.0567779756129925 o_{x} - 0.000144380566210856 o_{y} + 0.00029798163705828 o_{z} + 4.4801975824968 \\cdot 10^{-6} r - 15.0841538319215 v_{x} + 4.69505232339928 \\cdot 10^{-6} v_{y}\\\\- 0.0108702696523283 a_{0} - 0.00904376958939035 a_{1} - 0.0109332902974811 a_{2} + 0.0104540228308901 a_{3} + 0.00920091199581359 a_{4} + 0.00610969937906273 a_{5} - 0.0101243625492096 a_{6} + 0.00625643523726147 a_{7} - g \\phi - 1.84291257782447 k_{flow} w_{x} - 5.73608851177089 \\cdot 10^{-7} k_{flow} w_{y} - 5.73608851177089 \\cdot 10^{-7} n_{x} + 1.84291257782447 n_{y} - 0.000144378859411569 o_{x} - 0.047830832678934 o_{y} - 0.00102560568914401 o_{z} - 1.57080025864416 \\cdot 10^{-5} r + 4.69505232339928 \\cdot 10^{-6} v_{x} - 15.0844446744167 v_{y}\\\\- 0.150124298816395 a_{0} - 0.252995692820283 a_{1} - 0.151037844203433 a_{2} - 0.286516788108506 a_{3} - 0.257397246570352 a_{4} - 0.216554480907872 a_{5} - 0.285659364841828 a_{6} - 0.208315293457671 a_{7} + a_{z} - g + 0.000112487670040335 k_{flow} w_{x} + 3.21201873815159 \\cdot 10^{-5} k_{flow} w_{y} + 3.21201873815159 \\cdot 10^{-5} n_{x} - 0.000112487670040335 n_{y} + 0.00931810801457519 o_{x} - 0.0333214553221919 o_{y} - 1.32437122741312 o_{z} + 0.755252170093528 r - 0.000262907310590032 v_{x} + 0.000920724105795911 v_{y}\\end{matrix}\\right]$"
      ],
      "text/plain": [
       "Matrix([\n",
       "[                             0.318048994347065*a_0 + 0.355344333771723*a_1 - 0.315851577898685*a_2 - 0.29821898145092*a_3 + 0.350920382509896*a_4 - 0.43880375885054*a_5 - 0.30679594936682*a_6 + 0.434690674721253*a_7 + 9.65471187072017e-6*k_flow*w_x + 0.117903311905344*k_flow*w_y + 0.117903311905344*n_x - 9.65471187072017e-6*n_y - 2.0000819388963*o_x - 0.00280219058557235*o_y + 0.00453090403648562*o_z + 0.0035907444592606*r + 0.0349482624584663*v_x + 7.90248918010174e-5*v_y],\n",
       "[                           -0.414043350358901*a_0 - 0.342339761279753*a_1 - 0.415524834506026*a_2 + 0.405793758565189*a_3 + 0.356358215224088*a_4 + 0.238410121719157*a_5 - 0.382183505417755*a_6 + 0.242621658633178*a_7 - 0.118491823751223*k_flow*w_x - 9.6653547089671e-6*k_flow*w_y - 9.6653547089671e-6*n_x + 0.118491823751223*n_y - 0.00280453047536086*o_x - 1.83091493368707*o_y - 0.0158698944774888*o_z - 0.0139558807830847*r + 7.91120046172444e-5*v_x + 0.0301312274638448*v_y],\n",
       "[               -0.234652602736142*a_0 - 0.398045926362988*a_1 - 0.237164859619056*a_2 - 0.457093407943563*a_3 - 0.409535978332923*a_4 - 0.345400308109495*a_5 - 0.450664763085479*a_6 - 0.330892534629111*a_7 + 0.000128571750397669*k_flow*w_x + 3.66709161231115e-5*k_flow*w_y + 3.66709161231115e-5*n_x - 0.000128571750397669*n_y + 0.011392300268078*o_x - 0.0409862015581721*o_y - 2.09828044965945*o_z + 1.19675004745001*r - 0.000300155532104648*v_x + 0.00105237409462799*v_y + v_z],\n",
       "[  -0.00133890459632237*a_0 - 0.00149979247142958*a_1 + 0.00132788697037004*a_2 + 0.00124153358243764*a_3 - 0.00148797637634215*a_4 + 0.00183681216652996*a_5 + 0.00128514849509597*a_6 - 0.00183773659306993*a_7 - 3.60432166051502e-8*k_flow*w_x - 0.999991018132805*k_flow*w_y - 0.999991018132805*n_x + 3.60432166051502e-8*n_y + 0.008414630006585*o_x + 2.81550390331147e-5*o_y - 6.14497139885171e-5*o_z + 9.28577500702319e-6*r + 8.18503784142855*v_x - 2.95017741650136e-7*v_y + w_y],\n",
       "[-0.00151564216608766*a_0 - 0.00126678246118921*a_1 - 0.00152714869103812*a_2 + 0.00143679157013365*a_3 + 0.00126693428301475*a_4 + 0.00083620539363004*a_5 - 0.0014212732616685*a_6 + 0.000860717409853122*a_7 - 0.999993317548861*k_flow*w_x - 3.60180977923013e-8*k_flow*w_y - 3.60180977923013e-8*n_x + 0.999993317548861*n_y - 2.81508144242944e-5*o_x - 0.00664470358220795*o_y - 0.000206495167828909*o_z + 3.4371776818777e-5*r + 2.94812141369761e-7*v_x - 8.18505666240504*v_y + w_x],\n",
       "[      0.0090321494267369*a_0 + 0.0101067671104977*a_1 - 0.00896243507121364*a_2 - 0.00841350714358457*a_3 + 0.0100081218759322*a_4 - 0.012419608317679*a_5 - 0.00868683640964248*a_6 + 0.0123755317257031*a_7 + g*theta + 5.73608851177089e-7*k_flow*w_x + 1.84287704471045*k_flow*w_y + 1.84287704471045*n_x - 5.73608851177089e-7*n_y - 0.0567779756129925*o_x - 0.000144380566210856*o_y + 0.00029798163705828*o_z + 4.4801975824968e-6*r - 15.0841538319215*v_x + 4.69505232339928e-6*v_y],\n",
       "[     -0.0108702696523283*a_0 - 0.00904376958939035*a_1 - 0.0109332902974811*a_2 + 0.0104540228308901*a_3 + 0.00920091199581359*a_4 + 0.00610969937906273*a_5 - 0.0101243625492096*a_6 + 0.00625643523726147*a_7 - g*phi - 1.84291257782447*k_flow*w_x - 5.73608851177089e-7*k_flow*w_y - 5.73608851177089e-7*n_x + 1.84291257782447*n_y - 0.000144378859411569*o_x - 0.047830832678934*o_y - 0.00102560568914401*o_z - 1.57080025864416e-5*r + 4.69505232339928e-6*v_x - 15.0844446744167*v_y],\n",
       "[       -0.150124298816395*a_0 - 0.252995692820283*a_1 - 0.151037844203433*a_2 - 0.286516788108506*a_3 - 0.257397246570352*a_4 - 0.216554480907872*a_5 - 0.285659364841828*a_6 - 0.208315293457671*a_7 + a_z - g + 0.000112487670040335*k_flow*w_x + 3.21201873815159e-5*k_flow*w_y + 3.21201873815159e-5*n_x - 0.000112487670040335*n_y + 0.00931810801457519*o_x - 0.0333214553221919*o_y - 1.32437122741312*o_z + 0.755252170093528*r - 0.000262907310590032*v_x + 0.000920724105795911*v_y]])"
      ]
     },
     "execution_count": 48,
     "metadata": {},
     "output_type": "execute_result"
    }
   ],
   "source": [
    "x_hat_dot_sym\n"
   ]
  }
 ],
 "metadata": {
  "kernelspec": {
   "display_name": "Python 3.10.6 ('ae483')",
   "language": "python",
   "name": "python3"
  },
  "language_info": {
   "codemirror_mode": {
    "name": "ipython",
    "version": 3
   },
   "file_extension": ".py",
   "mimetype": "text/x-python",
   "name": "python",
   "nbconvert_exporter": "python",
   "pygments_lexer": "ipython3",
   "version": "3.10.6"
  },
  "vscode": {
   "interpreter": {
    "hash": "c959fa4f0541601308a953d801e2f7407c9165d9841ffaf3df2f071accd4d274"
   }
  }
 },
 "nbformat": 4,
 "nbformat_minor": 2
}
