{
 "cells": [
  {
   "cell_type": "code",
   "execution_count": 1,
   "metadata": {},
   "outputs": [],
   "source": [
    "import numpy as np\n",
    "import sympy as sym\n",
    "import json\n",
    "import matplotlib.pyplot as plt\n",
    "from scipy import linalg\n",
    "from scipy.interpolate import interp1d\n",
    "from IPython.display import display, IFrame, HTML"
   ]
  },
  {
   "cell_type": "markdown",
   "metadata": {},
   "source": [
    "# Controller Equations\n",
    "\n",
    "\\begin{gather}\n",
    "\\dot{x} = Ax + Bu \\\\\n",
    "A = \\frac{\\partial f}{\\partial x} = \\frac{\\partial f}{\\partial s} \\quad\\quad B = \\frac{\\partial f}{\\partial u} = \\frac{\\partial f}{\\partial i} \\\\\n",
    "u = -Kx \\\\\n",
    "x = s - s_{eq} \\quad\\quad u = i - i_{eq} \\\\\n",
    "s = [o_x, o_y, o_z, \\psi, \\theta, \\phi, v_x, v_y, v_z, w_x, w_y, w_z] \\\\\n",
    "u = [\\tau_x, \\tau_y, \\tau_z, f_z]\n",
    "\\end{gather}"
   ]
  },
  {
   "cell_type": "code",
   "execution_count": 2,
   "metadata": {},
   "outputs": [],
   "source": [
    "o_x, o_y, o_z, psi, theta, phi, v_x, v_y, v_z, w_x, w_y, w_z, a_z = sym.S(\"o_x, o_y, o_z, psi, theta, phi, v_x, v_y, v_z, w_x, w_y, w_z, a_z\")\n",
    "tau_x, tau_y, tau_z, f_z = sym.S(\"tau_x, tau_y, tau_z, f_z\")"
   ]
  },
  {
   "cell_type": "markdown",
   "metadata": {},
   "source": [
    "\\begin{gather}\n",
    "s_{eq} = [0, 0, 0, 0, 0, 0, 0, 0, 0, 0, 0, 0] \\\\\n",
    "i_{eq} = [0, 0, 0, g]\n",
    "\\end{gather}"
   ]
  },
  {
   "cell_type": "code",
   "execution_count": 3,
   "metadata": {},
   "outputs": [],
   "source": [
    "s = [o_x, o_y, o_z, psi, theta, phi, v_x, v_y, v_z]\n",
    "i = [w_x, w_y, w_z, a_z]"
   ]
  },
  {
   "cell_type": "code",
   "execution_count": 4,
   "metadata": {},
   "outputs": [],
   "source": [
    "x = []\n",
    "u = []"
   ]
  },
  {
   "cell_type": "markdown",
   "id": "9916514f",
   "metadata": {},
   "source": [
    "# 2. Derive models"
   ]
  },
  {
   "cell_type": "markdown",
   "id": "35c1d51d",
   "metadata": {},
   "source": [
    "## 2.1 Define symbolic variables"
   ]
  },
  {
   "cell_type": "markdown",
   "id": "e2ff5fef",
   "metadata": {},
   "source": [
    "Define states."
   ]
  },
  {
   "cell_type": "code",
   "execution_count": 5,
   "id": "0402b5da",
   "metadata": {},
   "outputs": [],
   "source": [
    "# components of position (meters)\n",
    "o_x, o_y, o_z = sym.symbols('o_x, o_y, o_z')\n",
    "\n",
    "# yaw, pitch, and roll angles (radians)\n",
    "psi, theta, phi = sym.symbols('psi, theta, phi')\n",
    "\n",
    "# components of linear velocity (meters / second)\n",
    "v_x, v_y, v_z = sym.symbols('v_x, v_y, v_z')"
   ]
  },
  {
   "cell_type": "markdown",
   "id": "570af22c",
   "metadata": {},
   "source": [
    "Define inputs."
   ]
  },
  {
   "cell_type": "code",
   "execution_count": 6,
   "id": "ad893cec",
   "metadata": {},
   "outputs": [],
   "source": [
    "# gyroscope measurements - components of angular velocity (radians / second)\n",
    "w_x, w_y, w_z = sym.symbols('w_x, w_y, w_z')\n",
    "\n",
    "# z-axis accelerometer measurement - specific force (meters / second^2)\n",
    "a_z = sym.symbols('a_z')"
   ]
  },
  {
   "cell_type": "markdown",
   "id": "5e97b298",
   "metadata": {},
   "source": [
    "Define outputs."
   ]
  },
  {
   "cell_type": "code",
   "execution_count": 7,
   "id": "752442f5",
   "metadata": {},
   "outputs": [],
   "source": [
    "d0, d1, d2, d3, d4, d5, d6, d7, n_x, n_y, r = sym.symbols('d0, d1, d2, d3, d4, d5, d6, d7,n_x, n_y, r')\n",
    "a_0, a_1, a_2, a_3, a_4, a_5, a_6, a_7 = sym.symbols('a_0, a_1, a_2, a_3, a_4, a_5, a_6, a_7 ')"
   ]
  },
  {
   "cell_type": "markdown",
   "id": "ed8ded70",
   "metadata": {},
   "source": [
    "Define parameters."
   ]
  },
  {
   "cell_type": "code",
   "execution_count": 8,
   "id": "e4962fab",
   "metadata": {},
   "outputs": [],
   "source": [
    "g, k_flow = sym.symbols('g, k_flow')"
   ]
  },
  {
   "cell_type": "markdown",
   "id": "7368343d",
   "metadata": {},
   "source": [
    "Create linear and angular velocity vectors (in coordinates of the body frame)."
   ]
  },
  {
   "cell_type": "code",
   "execution_count": 9,
   "id": "9d524269",
   "metadata": {},
   "outputs": [],
   "source": [
    "v_01in1 = sym.Matrix([[v_x], [v_y], [v_z]])\n",
    "w_01in1 = sym.Matrix([[w_x], [w_y], [w_z]])"
   ]
  },
  {
   "cell_type": "markdown",
   "id": "851ff168",
   "metadata": {},
   "source": [
    "## 2.2 Define kinematics of orientation"
   ]
  },
  {
   "cell_type": "markdown",
   "id": "f68e60c2",
   "metadata": {},
   "source": [
    "### 2.2.1 Rotation matrix in terms of yaw, pitch, roll angles"
   ]
  },
  {
   "cell_type": "markdown",
   "id": "3e03c29d",
   "metadata": {},
   "source": [
    "Define individual rotation matrices."
   ]
  },
  {
   "cell_type": "code",
   "execution_count": 10,
   "id": "1f70f130",
   "metadata": {},
   "outputs": [],
   "source": [
    "Rz = sym.Matrix([[sym.cos(psi), -sym.sin(psi), 0],\n",
    "                 [sym.sin(psi), sym.cos(psi), 0],\n",
    "                 [0, 0, 1]])\n",
    "\n",
    "Ry = sym.Matrix([[sym.cos(theta), 0, sym.sin(theta)],\n",
    "                 [0, 1, 0],\n",
    "                 [-sym.sin(theta), 0, sym.cos(theta)]])\n",
    "\n",
    "Rx = sym.Matrix([[1, 0, 0],\n",
    "                 [0, sym.cos(phi), -sym.sin(phi)],\n",
    "                 [0, sym.sin(phi), sym.cos(phi)]])"
   ]
  },
  {
   "cell_type": "markdown",
   "id": "e494d515",
   "metadata": {},
   "source": [
    "Apply sequential transformation to compute the rotation matrix that describes the orientation of the drone (i.e., of frame 1 in the coordinates of frame 0)."
   ]
  },
  {
   "cell_type": "code",
   "execution_count": 11,
   "id": "9a4041f3",
   "metadata": {},
   "outputs": [],
   "source": [
    "R_1in0 = Rz * Ry * Rx"
   ]
  },
  {
   "cell_type": "markdown",
   "id": "69ac916b",
   "metadata": {},
   "source": [
    "### 2.2.2 Map from angular velocity to angular rates"
   ]
  },
  {
   "cell_type": "markdown",
   "id": "bb2179ef",
   "metadata": {},
   "source": [
    "Recall that\n",
    "\n",
    "$$\\begin{bmatrix} \\dot{\\psi} \\\\ \\dot{\\theta} \\\\ \\dot{\\phi} \\end{bmatrix} = N w_{0, 1}^{1}$$\n",
    "\n",
    "for some matrix $N$. Here is how to compute that matrix for a ZYX (yaw, pitch, roll) Euler angle sequence.  First, we compute its inverse:"
   ]
  },
  {
   "cell_type": "code",
   "execution_count": 12,
   "id": "4ceedf24",
   "metadata": {},
   "outputs": [],
   "source": [
    "Ninv = sym.Matrix.hstack((Ry * Rx).T * sym.Matrix([[0], [0], [1]]),\n",
    "                              (Rx).T * sym.Matrix([[0], [1], [0]]),\n",
    "                                       sym.Matrix([[1], [0], [0]]))"
   ]
  },
  {
   "cell_type": "markdown",
   "id": "938044d2",
   "metadata": {},
   "source": [
    "Then, we compute $N$ by taking the inverse of $N^{-1}$:"
   ]
  },
  {
   "cell_type": "code",
   "execution_count": 13,
   "id": "41071e08",
   "metadata": {},
   "outputs": [],
   "source": [
    "N = sym.simplify(Ninv.inv())"
   ]
  },
  {
   "cell_type": "markdown",
   "id": "7cea7d8c",
   "metadata": {},
   "source": [
    "## 2.3 Derive equations of motion"
   ]
  },
  {
   "cell_type": "markdown",
   "id": "cdad5b0f",
   "metadata": {},
   "source": [
    "Ratio of net thrust to mass in terms of z-axis accelerometer measurement."
   ]
  },
  {
   "cell_type": "code",
   "execution_count": 14,
   "id": "6d53c0ee",
   "metadata": {},
   "outputs": [],
   "source": [
    "f_z_over_m = a_z + (w_01in1.cross(v_01in1))[2]"
   ]
  },
  {
   "cell_type": "markdown",
   "id": "c165643a",
   "metadata": {},
   "source": [
    "Ratio of forces to mass."
   ]
  },
  {
   "cell_type": "code",
   "execution_count": 15,
   "id": "5f7687be",
   "metadata": {},
   "outputs": [],
   "source": [
    "f_in1_over_m = R_1in0.T * sym.Matrix([[0], [0], [-g]]) + sym.Matrix([[0], [0], [f_z_over_m]])"
   ]
  },
  {
   "cell_type": "markdown",
   "id": "2416c08f",
   "metadata": {},
   "source": [
    "Equations of motion."
   ]
  },
  {
   "cell_type": "code",
   "execution_count": 16,
   "id": "9b552611",
   "metadata": {},
   "outputs": [],
   "source": [
    "f = sym.Matrix.vstack(\n",
    "    R_1in0 * v_01in1,\n",
    "    N * w_01in1,\n",
    "    (f_in1_over_m - w_01in1.cross(v_01in1)),\n",
    ")"
   ]
  },
  {
   "cell_type": "markdown",
   "id": "96dd4da6",
   "metadata": {},
   "source": [
    "Show equations of motion, which have the form\n",
    "\n",
    "$$\\dot{s} = f(s, i, p)$$\n",
    "\n",
    "where\n",
    "\n",
    "$$\n",
    "s = \\begin{bmatrix} o_x \\\\ o_y \\\\ o_z \\\\ \\psi \\\\ \\theta \\\\ \\phi \\\\ v_x \\\\ v_y \\\\ v_z \\end{bmatrix}\n",
    "\\qquad\\qquad\n",
    "i = \\begin{bmatrix} w_x \\\\ w_y \\\\ w_z \\\\ a_z \\end{bmatrix}\n",
    "\\qquad\\qquad\n",
    "p = \\begin{bmatrix} g \\\\ k_\\text{flow} \\end{bmatrix}.\n",
    "$$"
   ]
  },
  {
   "cell_type": "code",
   "execution_count": 17,
   "id": "e0225f66",
   "metadata": {},
   "outputs": [
    {
     "data": {
      "text/latex": [
       "$\\displaystyle \\left[\\begin{matrix}v_{x} \\cos{\\left(\\psi \\right)} \\cos{\\left(\\theta \\right)} + v_{y} \\left(\\sin{\\left(\\phi \\right)} \\sin{\\left(\\theta \\right)} \\cos{\\left(\\psi \\right)} - \\sin{\\left(\\psi \\right)} \\cos{\\left(\\phi \\right)}\\right) + v_{z} \\left(\\sin{\\left(\\phi \\right)} \\sin{\\left(\\psi \\right)} + \\sin{\\left(\\theta \\right)} \\cos{\\left(\\phi \\right)} \\cos{\\left(\\psi \\right)}\\right)\\\\v_{x} \\sin{\\left(\\psi \\right)} \\cos{\\left(\\theta \\right)} + v_{y} \\left(\\sin{\\left(\\phi \\right)} \\sin{\\left(\\psi \\right)} \\sin{\\left(\\theta \\right)} + \\cos{\\left(\\phi \\right)} \\cos{\\left(\\psi \\right)}\\right) + v_{z} \\left(- \\sin{\\left(\\phi \\right)} \\cos{\\left(\\psi \\right)} + \\sin{\\left(\\psi \\right)} \\sin{\\left(\\theta \\right)} \\cos{\\left(\\phi \\right)}\\right)\\\\- v_{x} \\sin{\\left(\\theta \\right)} + v_{y} \\sin{\\left(\\phi \\right)} \\cos{\\left(\\theta \\right)} + v_{z} \\cos{\\left(\\phi \\right)} \\cos{\\left(\\theta \\right)}\\\\\\frac{w_{y} \\sin{\\left(\\phi \\right)}}{\\cos{\\left(\\theta \\right)}} + \\frac{w_{z} \\cos{\\left(\\phi \\right)}}{\\cos{\\left(\\theta \\right)}}\\\\w_{y} \\cos{\\left(\\phi \\right)} - w_{z} \\sin{\\left(\\phi \\right)}\\\\w_{x} + w_{y} \\sin{\\left(\\phi \\right)} \\tan{\\left(\\theta \\right)} + w_{z} \\cos{\\left(\\phi \\right)} \\tan{\\left(\\theta \\right)}\\\\g \\sin{\\left(\\theta \\right)} + v_{y} w_{z} - v_{z} w_{y}\\\\- g \\sin{\\left(\\phi \\right)} \\cos{\\left(\\theta \\right)} - v_{x} w_{z} + v_{z} w_{x}\\\\a_{z} - g \\cos{\\left(\\phi \\right)} \\cos{\\left(\\theta \\right)}\\end{matrix}\\right]$"
      ],
      "text/plain": [
       "Matrix([\n",
       "[ v_x*cos(psi)*cos(theta) + v_y*(sin(phi)*sin(theta)*cos(psi) - sin(psi)*cos(phi)) + v_z*(sin(phi)*sin(psi) + sin(theta)*cos(phi)*cos(psi))],\n",
       "[v_x*sin(psi)*cos(theta) + v_y*(sin(phi)*sin(psi)*sin(theta) + cos(phi)*cos(psi)) + v_z*(-sin(phi)*cos(psi) + sin(psi)*sin(theta)*cos(phi))],\n",
       "[                                                                       -v_x*sin(theta) + v_y*sin(phi)*cos(theta) + v_z*cos(phi)*cos(theta)],\n",
       "[                                                                                         w_y*sin(phi)/cos(theta) + w_z*cos(phi)/cos(theta)],\n",
       "[                                                                                                               w_y*cos(phi) - w_z*sin(phi)],\n",
       "[                                                                                   w_x + w_y*sin(phi)*tan(theta) + w_z*cos(phi)*tan(theta)],\n",
       "[                                                                                                          g*sin(theta) + v_y*w_z - v_z*w_y],\n",
       "[                                                                                                -g*sin(phi)*cos(theta) - v_x*w_z + v_z*w_x],\n",
       "[                                                                                                               a_z - g*cos(phi)*cos(theta)]])"
      ]
     },
     "execution_count": 17,
     "metadata": {},
     "output_type": "execute_result"
    }
   ],
   "source": [
    "f"
   ]
  },
  {
   "cell_type": "markdown",
   "metadata": {},
   "source": [
    "# Observer Equations"
   ]
  },
  {
   "cell_type": "code",
   "execution_count": 18,
   "metadata": {},
   "outputs": [],
   "source": [
    "o_x, o_y, o_z = sym.S(\"o_x, o_y, o_z\") # drone position in abosulte frame -> loco pos frame\n",
    "x_0, y_0, z_0 = sym.S(\"x_0, y_0, z_0\")\n",
    "x_1, y_1, z_1 = sym.S(\"x_1, y_1, z_1\")\n",
    "x_2, y_2, z_2 = sym.S(\"x_2, y_2, z_2\")\n",
    "x_3, y_3, z_3 = sym.S(\"x_3, y_3, z_3\")\n",
    "x_4, y_4, z_4 = sym.S(\"x_4, y_4, z_4\")\n",
    "x_5, y_5, z_5 = sym.S(\"x_5, y_5, z_5\")\n",
    "x_6, y_6, z_6 = sym.S(\"x_6, y_6, z_6\")\n",
    "x_7, y_7, z_7 = sym.S(\"x_7, y_7, z_7\")"
   ]
  },
  {
   "cell_type": "code",
   "execution_count": 19,
   "metadata": {},
   "outputs": [],
   "source": [
    "psi, theta, phi = sym.S(\"psi, theta, phi\")\n",
    "v_x, v_y, v_z = sym.S(\"v_x, v_y, v_z\")"
   ]
  },
  {
   "cell_type": "code",
   "execution_count": 20,
   "metadata": {},
   "outputs": [],
   "source": [
    "w_x, w_y, w_z = sym.S(\"w_x, w_y, w_z\")\n",
    "a_z = sym.S(\"a_z\")"
   ]
  },
  {
   "cell_type": "code",
   "execution_count": 21,
   "metadata": {},
   "outputs": [],
   "source": [
    "n_x, n_y, r = sym.S(\"n_x, n_y, r\")"
   ]
  },
  {
   "cell_type": "code",
   "execution_count": 22,
   "metadata": {},
   "outputs": [],
   "source": [
    "g, k_flow = sym.S(\"g, k_flow\")"
   ]
  },
  {
   "cell_type": "code",
   "execution_count": 23,
   "metadata": {},
   "outputs": [],
   "source": [
    "anchor_pos_0 = sym.sqrt((o_x-x_0)**2 + (o_y-y_0)**2 + (o_z-z_0)**2)\n",
    "anchor_pos_1 = sym.sqrt((o_x-x_1)**2 + (o_y-y_1)**2 + (o_z-z_1)**2)\n",
    "anchor_pos_2 = sym.sqrt((o_x-x_2)**2 + (o_y-y_2)**2 + (o_z-z_2)**2)\n",
    "anchor_pos_3 = sym.sqrt((o_x-x_3)**2 + (o_y-y_3)**2 + (o_z-z_3)**2)\n",
    "anchor_pos_4 = sym.sqrt((o_x-x_4)**2 + (o_y-y_4)**2 + (o_z-z_4)**2)\n",
    "anchor_pos_5 = sym.sqrt((o_x-x_5)**2 + (o_y-y_5)**2 + (o_z-z_5)**2)\n",
    "anchor_pos_6 = sym.sqrt((o_x-x_6)**2 + (o_y-y_6)**2 + (o_z-z_6)**2)\n",
    "anchor_pos_7 = sym.sqrt((o_x-x_7)**2 + (o_y-y_7)**2 + (o_z-z_7)**2)"
   ]
  },
  {
   "cell_type": "code",
   "execution_count": 24,
   "metadata": {},
   "outputs": [
    {
     "data": {
      "text/latex": [
       "$\\displaystyle \\left[\\begin{matrix}\\sqrt{\\left(o_{x} - x_{0}\\right)^{2} + \\left(o_{y} - y_{0}\\right)^{2} + \\left(o_{z} - z_{0}\\right)^{2}}\\\\\\sqrt{\\left(o_{x} - x_{1}\\right)^{2} + \\left(o_{y} - y_{1}\\right)^{2} + \\left(o_{z} - z_{1}\\right)^{2}}\\\\\\sqrt{\\left(o_{x} - x_{2}\\right)^{2} + \\left(o_{y} - y_{2}\\right)^{2} + \\left(o_{z} - z_{2}\\right)^{2}}\\\\\\sqrt{\\left(o_{x} - x_{3}\\right)^{2} + \\left(o_{y} - y_{3}\\right)^{2} + \\left(o_{z} - z_{3}\\right)^{2}}\\\\\\sqrt{\\left(o_{x} - x_{4}\\right)^{2} + \\left(o_{y} - y_{4}\\right)^{2} + \\left(o_{z} - z_{4}\\right)^{2}}\\\\\\sqrt{\\left(o_{x} - x_{5}\\right)^{2} + \\left(o_{y} - y_{5}\\right)^{2} + \\left(o_{z} - z_{5}\\right)^{2}}\\\\\\sqrt{\\left(o_{x} - x_{6}\\right)^{2} + \\left(o_{y} - y_{6}\\right)^{2} + \\left(o_{z} - z_{6}\\right)^{2}}\\\\\\sqrt{\\left(o_{x} - x_{7}\\right)^{2} + \\left(o_{y} - y_{7}\\right)^{2} + \\left(o_{z} - z_{7}\\right)^{2}}\\\\\\frac{k_{flow} \\left(- o_{z} w_{y} + v_{x}\\right)}{o_{z}}\\\\\\frac{k_{flow} \\left(o_{z} w_{x} + v_{y}\\right)}{o_{z}}\\\\\\frac{o_{z}}{\\cos{\\left(\\phi \\right)} \\cos{\\left(\\theta \\right)}}\\end{matrix}\\right]$"
      ],
      "text/plain": [
       "Matrix([\n",
       "[sqrt((o_x - x_0)**2 + (o_y - y_0)**2 + (o_z - z_0)**2)],\n",
       "[sqrt((o_x - x_1)**2 + (o_y - y_1)**2 + (o_z - z_1)**2)],\n",
       "[sqrt((o_x - x_2)**2 + (o_y - y_2)**2 + (o_z - z_2)**2)],\n",
       "[sqrt((o_x - x_3)**2 + (o_y - y_3)**2 + (o_z - z_3)**2)],\n",
       "[sqrt((o_x - x_4)**2 + (o_y - y_4)**2 + (o_z - z_4)**2)],\n",
       "[sqrt((o_x - x_5)**2 + (o_y - y_5)**2 + (o_z - z_5)**2)],\n",
       "[sqrt((o_x - x_6)**2 + (o_y - y_6)**2 + (o_z - z_6)**2)],\n",
       "[sqrt((o_x - x_7)**2 + (o_y - y_7)**2 + (o_z - z_7)**2)],\n",
       "[                           k_flow*(-o_z*w_y + v_x)/o_z],\n",
       "[                            k_flow*(o_z*w_x + v_y)/o_z],\n",
       "[                             o_z/(cos(phi)*cos(theta))]])"
      ]
     },
     "execution_count": 24,
     "metadata": {},
     "output_type": "execute_result"
    }
   ],
   "source": [
    "h = sym.Matrix([\n",
    "    anchor_pos_0,\n",
    "    anchor_pos_1,\n",
    "    anchor_pos_2,\n",
    "    anchor_pos_3,\n",
    "    anchor_pos_4,\n",
    "    anchor_pos_5,\n",
    "    anchor_pos_6,\n",
    "    anchor_pos_7,\n",
    "    k_flow*(v_x-o_z*w_y)/o_z, # n_x\n",
    "    k_flow*(v_y+o_z*w_x)/o_z, # n_y\n",
    "    o_z / (sym.cos(phi)*sym.cos(theta)) # r\n",
    "])\n",
    "h"
   ]
  },
  {
   "cell_type": "code",
   "execution_count": 25,
   "metadata": {},
   "outputs": [],
   "source": [
    "s = [o_x, o_y, o_z, psi, theta, phi, v_x, v_y, v_z]\n",
    "i = [w_x, w_y, w_z, a_z]\n",
    "o = [d0,\n",
    "    d1,\n",
    "    d2,\n",
    "    d3,\n",
    "    d4,\n",
    "    d5,\n",
    "    d6,\n",
    "    d7,\n",
    "    n_x,\n",
    "    n_y,\n",
    "    r,\n",
    "    ]\n",
    "p = [g, k_flow]\n"
   ]
  },
  {
   "cell_type": "code",
   "execution_count": 26,
   "metadata": {},
   "outputs": [],
   "source": [
    "o_x_eq = sym.symbols('o_x_eq')\n",
    "o_y_eq = sym.symbols('o_y_eq')\n",
    "o_z_eq = sym.symbols('o_z_eq')\n",
    "s_eq = [o_x_eq, o_y_eq, o_z_eq, 0, 0, 0, 0, 0, 0]\n",
    "i_eq = [0, 0, 0, g]\n",
    "\n",
    "s_eq = [sym.nsimplify(a) for a in s_eq]\n",
    "i_eq = [sym.nsimplify(a) for a in i_eq]\n"
   ]
  },
  {
   "cell_type": "code",
   "execution_count": 27,
   "metadata": {},
   "outputs": [
    {
     "data": {
      "text/latex": [
       "$\\displaystyle \\left[\\begin{matrix}d_{0} - \\sqrt{\\left(o_{x eq} - x_{0}\\right)^{2} + \\left(o_{y eq} - y_{0}\\right)^{2} + \\left(o_{z eq} - z_{0}\\right)^{2}}\\\\d_{1} - \\sqrt{\\left(o_{x eq} - x_{1}\\right)^{2} + \\left(o_{y eq} - y_{1}\\right)^{2} + \\left(o_{z eq} - z_{1}\\right)^{2}}\\\\d_{2} - \\sqrt{\\left(o_{x eq} - x_{2}\\right)^{2} + \\left(o_{y eq} - y_{2}\\right)^{2} + \\left(o_{z eq} - z_{2}\\right)^{2}}\\\\d_{3} - \\sqrt{\\left(o_{x eq} - x_{3}\\right)^{2} + \\left(o_{y eq} - y_{3}\\right)^{2} + \\left(o_{z eq} - z_{3}\\right)^{2}}\\\\d_{4} - \\sqrt{\\left(o_{x eq} - x_{4}\\right)^{2} + \\left(o_{y eq} - y_{4}\\right)^{2} + \\left(o_{z eq} - z_{4}\\right)^{2}}\\\\d_{5} - \\sqrt{\\left(o_{x eq} - x_{5}\\right)^{2} + \\left(o_{y eq} - y_{5}\\right)^{2} + \\left(o_{z eq} - z_{5}\\right)^{2}}\\\\d_{6} - \\sqrt{\\left(o_{x eq} - x_{6}\\right)^{2} + \\left(o_{y eq} - y_{6}\\right)^{2} + \\left(o_{z eq} - z_{6}\\right)^{2}}\\\\d_{7} - \\sqrt{\\left(o_{x eq} - x_{7}\\right)^{2} + \\left(o_{y eq} - y_{7}\\right)^{2} + \\left(o_{z eq} - z_{7}\\right)^{2}}\\\\n_{x}\\\\n_{y}\\\\- o_{z eq} + r\\end{matrix}\\right]$"
      ],
      "text/plain": [
       "Matrix([\n",
       "[d0 - sqrt((o_x_eq - x_0)**2 + (o_y_eq - y_0)**2 + (o_z_eq - z_0)**2)],\n",
       "[d1 - sqrt((o_x_eq - x_1)**2 + (o_y_eq - y_1)**2 + (o_z_eq - z_1)**2)],\n",
       "[d2 - sqrt((o_x_eq - x_2)**2 + (o_y_eq - y_2)**2 + (o_z_eq - z_2)**2)],\n",
       "[d3 - sqrt((o_x_eq - x_3)**2 + (o_y_eq - y_3)**2 + (o_z_eq - z_3)**2)],\n",
       "[d4 - sqrt((o_x_eq - x_4)**2 + (o_y_eq - y_4)**2 + (o_z_eq - z_4)**2)],\n",
       "[d5 - sqrt((o_x_eq - x_5)**2 + (o_y_eq - y_5)**2 + (o_z_eq - z_5)**2)],\n",
       "[d6 - sqrt((o_x_eq - x_6)**2 + (o_y_eq - y_6)**2 + (o_z_eq - z_6)**2)],\n",
       "[d7 - sqrt((o_x_eq - x_7)**2 + (o_y_eq - y_7)**2 + (o_z_eq - z_7)**2)],\n",
       "[                                                                 n_x],\n",
       "[                                                                 n_y],\n",
       "[                                                         -o_z_eq + r]])"
      ]
     },
     "execution_count": 27,
     "metadata": {},
     "output_type": "execute_result"
    }
   ],
   "source": [
    "x = sym.Matrix([o_x, o_y, o_z, psi, theta, phi, v_x, v_y, v_z]) - sym.Matrix(s_eq)\n",
    "u = sym.Matrix([w_x, w_y, w_z, a_z]) - sym.Matrix(i_eq)\n",
    "y = sym.Matrix(o) - h.subs(tuple(zip(s, s_eq))).subs(tuple(zip(i, i_eq)))\n",
    "y"
   ]
  },
  {
   "cell_type": "code",
   "execution_count": 28,
   "metadata": {},
   "outputs": [
    {
     "data": {
      "text/plain": [
       "(Matrix([\n",
       " [0, 0, 0, 0, 0,  0, 1, 0, 0],\n",
       " [0, 0, 0, 0, 0,  0, 0, 1, 0],\n",
       " [0, 0, 0, 0, 0,  0, 0, 0, 1],\n",
       " [0, 0, 0, 0, 0,  0, 0, 0, 0],\n",
       " [0, 0, 0, 0, 0,  0, 0, 0, 0],\n",
       " [0, 0, 0, 0, 0,  0, 0, 0, 0],\n",
       " [0, 0, 0, 0, g,  0, 0, 0, 0],\n",
       " [0, 0, 0, 0, 0, -g, 0, 0, 0],\n",
       " [0, 0, 0, 0, 0,  0, 0, 0, 0]]),\n",
       " Matrix([\n",
       " [0, 0, 0, 0],\n",
       " [0, 0, 0, 0],\n",
       " [0, 0, 0, 0],\n",
       " [0, 0, 1, 0],\n",
       " [0, 1, 0, 0],\n",
       " [1, 0, 0, 0],\n",
       " [0, 0, 0, 0],\n",
       " [0, 0, 0, 0],\n",
       " [0, 0, 0, 1]]))"
      ]
     },
     "execution_count": 28,
     "metadata": {},
     "output_type": "execute_result"
    }
   ],
   "source": [
    "A = f.jacobian(s).subs(tuple(zip(s, s_eq))).subs(tuple(zip(i, i_eq)))\n",
    "B = f.jacobian(i).subs(tuple(zip(s, s_eq))).subs(tuple(zip(i, i_eq)))\n",
    "A, B"
   ]
  },
  {
   "cell_type": "code",
   "execution_count": 29,
   "metadata": {},
   "outputs": [],
   "source": [
    "\n",
    "C = h.jacobian(s).subs(tuple(zip(s, s_eq))).subs(tuple(zip(i, i_eq)))\n",
    "D = h.jacobian(i).subs(tuple(zip(s, s_eq))).subs(tuple(zip(i, i_eq)))\n",
    "\n"
   ]
  },
  {
   "cell_type": "code",
   "execution_count": 30,
   "metadata": {},
   "outputs": [
    {
     "data": {
      "text/latex": [
       "$\\displaystyle \\left[\\begin{matrix}\\frac{o_{x eq} - x_{0}}{\\sqrt{\\left(o_{x eq} - x_{0}\\right)^{2} + \\left(o_{y eq} - y_{0}\\right)^{2} + \\left(o_{z eq} - z_{0}\\right)^{2}}} & \\frac{o_{y eq} - y_{0}}{\\sqrt{\\left(o_{x eq} - x_{0}\\right)^{2} + \\left(o_{y eq} - y_{0}\\right)^{2} + \\left(o_{z eq} - z_{0}\\right)^{2}}} & \\frac{o_{z eq} - z_{0}}{\\sqrt{\\left(o_{x eq} - x_{0}\\right)^{2} + \\left(o_{y eq} - y_{0}\\right)^{2} + \\left(o_{z eq} - z_{0}\\right)^{2}}} & 0 & 0 & 0 & 0 & 0\\\\\\frac{o_{x eq} - x_{1}}{\\sqrt{\\left(o_{x eq} - x_{1}\\right)^{2} + \\left(o_{y eq} - y_{1}\\right)^{2} + \\left(o_{z eq} - z_{1}\\right)^{2}}} & \\frac{o_{y eq} - y_{1}}{\\sqrt{\\left(o_{x eq} - x_{1}\\right)^{2} + \\left(o_{y eq} - y_{1}\\right)^{2} + \\left(o_{z eq} - z_{1}\\right)^{2}}} & \\frac{o_{z eq} - z_{1}}{\\sqrt{\\left(o_{x eq} - x_{1}\\right)^{2} + \\left(o_{y eq} - y_{1}\\right)^{2} + \\left(o_{z eq} - z_{1}\\right)^{2}}} & 0 & 0 & 0 & 0 & 0\\\\\\frac{o_{x eq} - x_{2}}{\\sqrt{\\left(o_{x eq} - x_{2}\\right)^{2} + \\left(o_{y eq} - y_{2}\\right)^{2} + \\left(o_{z eq} - z_{2}\\right)^{2}}} & \\frac{o_{y eq} - y_{2}}{\\sqrt{\\left(o_{x eq} - x_{2}\\right)^{2} + \\left(o_{y eq} - y_{2}\\right)^{2} + \\left(o_{z eq} - z_{2}\\right)^{2}}} & \\frac{o_{z eq} - z_{2}}{\\sqrt{\\left(o_{x eq} - x_{2}\\right)^{2} + \\left(o_{y eq} - y_{2}\\right)^{2} + \\left(o_{z eq} - z_{2}\\right)^{2}}} & 0 & 0 & 0 & 0 & 0\\\\\\frac{o_{x eq} - x_{3}}{\\sqrt{\\left(o_{x eq} - x_{3}\\right)^{2} + \\left(o_{y eq} - y_{3}\\right)^{2} + \\left(o_{z eq} - z_{3}\\right)^{2}}} & \\frac{o_{y eq} - y_{3}}{\\sqrt{\\left(o_{x eq} - x_{3}\\right)^{2} + \\left(o_{y eq} - y_{3}\\right)^{2} + \\left(o_{z eq} - z_{3}\\right)^{2}}} & \\frac{o_{z eq} - z_{3}}{\\sqrt{\\left(o_{x eq} - x_{3}\\right)^{2} + \\left(o_{y eq} - y_{3}\\right)^{2} + \\left(o_{z eq} - z_{3}\\right)^{2}}} & 0 & 0 & 0 & 0 & 0\\\\\\frac{o_{x eq} - x_{4}}{\\sqrt{\\left(o_{x eq} - x_{4}\\right)^{2} + \\left(o_{y eq} - y_{4}\\right)^{2} + \\left(o_{z eq} - z_{4}\\right)^{2}}} & \\frac{o_{y eq} - y_{4}}{\\sqrt{\\left(o_{x eq} - x_{4}\\right)^{2} + \\left(o_{y eq} - y_{4}\\right)^{2} + \\left(o_{z eq} - z_{4}\\right)^{2}}} & \\frac{o_{z eq} - z_{4}}{\\sqrt{\\left(o_{x eq} - x_{4}\\right)^{2} + \\left(o_{y eq} - y_{4}\\right)^{2} + \\left(o_{z eq} - z_{4}\\right)^{2}}} & 0 & 0 & 0 & 0 & 0\\\\\\frac{o_{x eq} - x_{5}}{\\sqrt{\\left(o_{x eq} - x_{5}\\right)^{2} + \\left(o_{y eq} - y_{5}\\right)^{2} + \\left(o_{z eq} - z_{5}\\right)^{2}}} & \\frac{o_{y eq} - y_{5}}{\\sqrt{\\left(o_{x eq} - x_{5}\\right)^{2} + \\left(o_{y eq} - y_{5}\\right)^{2} + \\left(o_{z eq} - z_{5}\\right)^{2}}} & \\frac{o_{z eq} - z_{5}}{\\sqrt{\\left(o_{x eq} - x_{5}\\right)^{2} + \\left(o_{y eq} - y_{5}\\right)^{2} + \\left(o_{z eq} - z_{5}\\right)^{2}}} & 0 & 0 & 0 & 0 & 0\\\\\\frac{o_{x eq} - x_{6}}{\\sqrt{\\left(o_{x eq} - x_{6}\\right)^{2} + \\left(o_{y eq} - y_{6}\\right)^{2} + \\left(o_{z eq} - z_{6}\\right)^{2}}} & \\frac{o_{y eq} - y_{6}}{\\sqrt{\\left(o_{x eq} - x_{6}\\right)^{2} + \\left(o_{y eq} - y_{6}\\right)^{2} + \\left(o_{z eq} - z_{6}\\right)^{2}}} & \\frac{o_{z eq} - z_{6}}{\\sqrt{\\left(o_{x eq} - x_{6}\\right)^{2} + \\left(o_{y eq} - y_{6}\\right)^{2} + \\left(o_{z eq} - z_{6}\\right)^{2}}} & 0 & 0 & 0 & 0 & 0\\\\\\frac{o_{x eq} - x_{7}}{\\sqrt{\\left(o_{x eq} - x_{7}\\right)^{2} + \\left(o_{y eq} - y_{7}\\right)^{2} + \\left(o_{z eq} - z_{7}\\right)^{2}}} & \\frac{o_{y eq} - y_{7}}{\\sqrt{\\left(o_{x eq} - x_{7}\\right)^{2} + \\left(o_{y eq} - y_{7}\\right)^{2} + \\left(o_{z eq} - z_{7}\\right)^{2}}} & \\frac{o_{z eq} - z_{7}}{\\sqrt{\\left(o_{x eq} - x_{7}\\right)^{2} + \\left(o_{y eq} - y_{7}\\right)^{2} + \\left(o_{z eq} - z_{7}\\right)^{2}}} & 0 & 0 & 0 & 0 & 0\\\\0 & 0 & 0 & 0 & 0 & \\frac{k_{flow}}{o_{z eq}} & 0 & 0\\\\0 & 0 & 0 & 0 & 0 & 0 & \\frac{k_{flow}}{o_{z eq}} & 0\\\\0 & 0 & 1 & 0 & 0 & 0 & 0 & 0\\end{matrix}\\right]$"
      ],
      "text/plain": [
       "Matrix([\n",
       "[(o_x_eq - x_0)/sqrt((o_x_eq - x_0)**2 + (o_y_eq - y_0)**2 + (o_z_eq - z_0)**2), (o_y_eq - y_0)/sqrt((o_x_eq - x_0)**2 + (o_y_eq - y_0)**2 + (o_z_eq - z_0)**2), (o_z_eq - z_0)/sqrt((o_x_eq - x_0)**2 + (o_y_eq - y_0)**2 + (o_z_eq - z_0)**2), 0, 0,             0,             0, 0],\n",
       "[(o_x_eq - x_1)/sqrt((o_x_eq - x_1)**2 + (o_y_eq - y_1)**2 + (o_z_eq - z_1)**2), (o_y_eq - y_1)/sqrt((o_x_eq - x_1)**2 + (o_y_eq - y_1)**2 + (o_z_eq - z_1)**2), (o_z_eq - z_1)/sqrt((o_x_eq - x_1)**2 + (o_y_eq - y_1)**2 + (o_z_eq - z_1)**2), 0, 0,             0,             0, 0],\n",
       "[(o_x_eq - x_2)/sqrt((o_x_eq - x_2)**2 + (o_y_eq - y_2)**2 + (o_z_eq - z_2)**2), (o_y_eq - y_2)/sqrt((o_x_eq - x_2)**2 + (o_y_eq - y_2)**2 + (o_z_eq - z_2)**2), (o_z_eq - z_2)/sqrt((o_x_eq - x_2)**2 + (o_y_eq - y_2)**2 + (o_z_eq - z_2)**2), 0, 0,             0,             0, 0],\n",
       "[(o_x_eq - x_3)/sqrt((o_x_eq - x_3)**2 + (o_y_eq - y_3)**2 + (o_z_eq - z_3)**2), (o_y_eq - y_3)/sqrt((o_x_eq - x_3)**2 + (o_y_eq - y_3)**2 + (o_z_eq - z_3)**2), (o_z_eq - z_3)/sqrt((o_x_eq - x_3)**2 + (o_y_eq - y_3)**2 + (o_z_eq - z_3)**2), 0, 0,             0,             0, 0],\n",
       "[(o_x_eq - x_4)/sqrt((o_x_eq - x_4)**2 + (o_y_eq - y_4)**2 + (o_z_eq - z_4)**2), (o_y_eq - y_4)/sqrt((o_x_eq - x_4)**2 + (o_y_eq - y_4)**2 + (o_z_eq - z_4)**2), (o_z_eq - z_4)/sqrt((o_x_eq - x_4)**2 + (o_y_eq - y_4)**2 + (o_z_eq - z_4)**2), 0, 0,             0,             0, 0],\n",
       "[(o_x_eq - x_5)/sqrt((o_x_eq - x_5)**2 + (o_y_eq - y_5)**2 + (o_z_eq - z_5)**2), (o_y_eq - y_5)/sqrt((o_x_eq - x_5)**2 + (o_y_eq - y_5)**2 + (o_z_eq - z_5)**2), (o_z_eq - z_5)/sqrt((o_x_eq - x_5)**2 + (o_y_eq - y_5)**2 + (o_z_eq - z_5)**2), 0, 0,             0,             0, 0],\n",
       "[(o_x_eq - x_6)/sqrt((o_x_eq - x_6)**2 + (o_y_eq - y_6)**2 + (o_z_eq - z_6)**2), (o_y_eq - y_6)/sqrt((o_x_eq - x_6)**2 + (o_y_eq - y_6)**2 + (o_z_eq - z_6)**2), (o_z_eq - z_6)/sqrt((o_x_eq - x_6)**2 + (o_y_eq - y_6)**2 + (o_z_eq - z_6)**2), 0, 0,             0,             0, 0],\n",
       "[(o_x_eq - x_7)/sqrt((o_x_eq - x_7)**2 + (o_y_eq - y_7)**2 + (o_z_eq - z_7)**2), (o_y_eq - y_7)/sqrt((o_x_eq - x_7)**2 + (o_y_eq - y_7)**2 + (o_z_eq - z_7)**2), (o_z_eq - z_7)/sqrt((o_x_eq - x_7)**2 + (o_y_eq - y_7)**2 + (o_z_eq - z_7)**2), 0, 0,             0,             0, 0],\n",
       "[                                                                             0,                                                                              0,                                                                              0, 0, 0, k_flow/o_z_eq,             0, 0],\n",
       "[                                                                             0,                                                                              0,                                                                              0, 0, 0,             0, k_flow/o_z_eq, 0],\n",
       "[                                                                             0,                                                                              0,                                                                              1, 0, 0,             0,             0, 0]])"
      ]
     },
     "execution_count": 30,
     "metadata": {},
     "output_type": "execute_result"
    }
   ],
   "source": [
    "s_obs_index = [0, 1, 2, 4, 5, 6, 7, 8]\n",
    "A_obs = A[s_obs_index, :][:, s_obs_index]\n",
    "B_obs = B[s_obs_index, :]\n",
    "C_obs = C[:, s_obs_index]\n",
    "D_obs = D\n",
    "C_obs"
   ]
  },
  {
   "cell_type": "code",
   "execution_count": 31,
   "metadata": {},
   "outputs": [
    {
     "data": {
      "text/latex": [
       "$\\displaystyle \\left[\\begin{matrix}- d_{0} + \\frac{o_{x} \\left(o_{x eq} - x_{0}\\right)}{\\sqrt{\\left(o_{x eq} - x_{0}\\right)^{2} + \\left(o_{y eq} - y_{0}\\right)^{2} + \\left(o_{z eq} - z_{0}\\right)^{2}}} + \\frac{o_{y} \\left(o_{y eq} - y_{0}\\right)}{\\sqrt{\\left(o_{x eq} - x_{0}\\right)^{2} + \\left(o_{y eq} - y_{0}\\right)^{2} + \\left(o_{z eq} - z_{0}\\right)^{2}}} + \\frac{\\left(o_{z} - o_{z eq}\\right) \\left(o_{z eq} - z_{0}\\right)}{\\sqrt{\\left(o_{x eq} - x_{0}\\right)^{2} + \\left(o_{y eq} - y_{0}\\right)^{2} + \\left(o_{z eq} - z_{0}\\right)^{2}}} + \\sqrt{\\left(o_{x eq} - x_{0}\\right)^{2} + \\left(o_{y eq} - y_{0}\\right)^{2} + \\left(o_{z eq} - z_{0}\\right)^{2}}\\\\- d_{1} + \\frac{o_{x} \\left(o_{x eq} - x_{1}\\right)}{\\sqrt{\\left(o_{x eq} - x_{1}\\right)^{2} + \\left(o_{y eq} - y_{1}\\right)^{2} + \\left(o_{z eq} - z_{1}\\right)^{2}}} + \\frac{o_{y} \\left(o_{y eq} - y_{1}\\right)}{\\sqrt{\\left(o_{x eq} - x_{1}\\right)^{2} + \\left(o_{y eq} - y_{1}\\right)^{2} + \\left(o_{z eq} - z_{1}\\right)^{2}}} + \\frac{\\left(o_{z} - o_{z eq}\\right) \\left(o_{z eq} - z_{1}\\right)}{\\sqrt{\\left(o_{x eq} - x_{1}\\right)^{2} + \\left(o_{y eq} - y_{1}\\right)^{2} + \\left(o_{z eq} - z_{1}\\right)^{2}}} + \\sqrt{\\left(o_{x eq} - x_{1}\\right)^{2} + \\left(o_{y eq} - y_{1}\\right)^{2} + \\left(o_{z eq} - z_{1}\\right)^{2}}\\\\- d_{2} + \\frac{o_{x} \\left(o_{x eq} - x_{2}\\right)}{\\sqrt{\\left(o_{x eq} - x_{2}\\right)^{2} + \\left(o_{y eq} - y_{2}\\right)^{2} + \\left(o_{z eq} - z_{2}\\right)^{2}}} + \\frac{o_{y} \\left(o_{y eq} - y_{2}\\right)}{\\sqrt{\\left(o_{x eq} - x_{2}\\right)^{2} + \\left(o_{y eq} - y_{2}\\right)^{2} + \\left(o_{z eq} - z_{2}\\right)^{2}}} + \\frac{\\left(o_{z} - o_{z eq}\\right) \\left(o_{z eq} - z_{2}\\right)}{\\sqrt{\\left(o_{x eq} - x_{2}\\right)^{2} + \\left(o_{y eq} - y_{2}\\right)^{2} + \\left(o_{z eq} - z_{2}\\right)^{2}}} + \\sqrt{\\left(o_{x eq} - x_{2}\\right)^{2} + \\left(o_{y eq} - y_{2}\\right)^{2} + \\left(o_{z eq} - z_{2}\\right)^{2}}\\\\- d_{3} + \\frac{o_{x} \\left(o_{x eq} - x_{3}\\right)}{\\sqrt{\\left(o_{x eq} - x_{3}\\right)^{2} + \\left(o_{y eq} - y_{3}\\right)^{2} + \\left(o_{z eq} - z_{3}\\right)^{2}}} + \\frac{o_{y} \\left(o_{y eq} - y_{3}\\right)}{\\sqrt{\\left(o_{x eq} - x_{3}\\right)^{2} + \\left(o_{y eq} - y_{3}\\right)^{2} + \\left(o_{z eq} - z_{3}\\right)^{2}}} + \\frac{\\left(o_{z} - o_{z eq}\\right) \\left(o_{z eq} - z_{3}\\right)}{\\sqrt{\\left(o_{x eq} - x_{3}\\right)^{2} + \\left(o_{y eq} - y_{3}\\right)^{2} + \\left(o_{z eq} - z_{3}\\right)^{2}}} + \\sqrt{\\left(o_{x eq} - x_{3}\\right)^{2} + \\left(o_{y eq} - y_{3}\\right)^{2} + \\left(o_{z eq} - z_{3}\\right)^{2}}\\\\- d_{4} + \\frac{o_{x} \\left(o_{x eq} - x_{4}\\right)}{\\sqrt{\\left(o_{x eq} - x_{4}\\right)^{2} + \\left(o_{y eq} - y_{4}\\right)^{2} + \\left(o_{z eq} - z_{4}\\right)^{2}}} + \\frac{o_{y} \\left(o_{y eq} - y_{4}\\right)}{\\sqrt{\\left(o_{x eq} - x_{4}\\right)^{2} + \\left(o_{y eq} - y_{4}\\right)^{2} + \\left(o_{z eq} - z_{4}\\right)^{2}}} + \\frac{\\left(o_{z} - o_{z eq}\\right) \\left(o_{z eq} - z_{4}\\right)}{\\sqrt{\\left(o_{x eq} - x_{4}\\right)^{2} + \\left(o_{y eq} - y_{4}\\right)^{2} + \\left(o_{z eq} - z_{4}\\right)^{2}}} + \\sqrt{\\left(o_{x eq} - x_{4}\\right)^{2} + \\left(o_{y eq} - y_{4}\\right)^{2} + \\left(o_{z eq} - z_{4}\\right)^{2}}\\\\- d_{5} + \\frac{o_{x} \\left(o_{x eq} - x_{5}\\right)}{\\sqrt{\\left(o_{x eq} - x_{5}\\right)^{2} + \\left(o_{y eq} - y_{5}\\right)^{2} + \\left(o_{z eq} - z_{5}\\right)^{2}}} + \\frac{o_{y} \\left(o_{y eq} - y_{5}\\right)}{\\sqrt{\\left(o_{x eq} - x_{5}\\right)^{2} + \\left(o_{y eq} - y_{5}\\right)^{2} + \\left(o_{z eq} - z_{5}\\right)^{2}}} + \\frac{\\left(o_{z} - o_{z eq}\\right) \\left(o_{z eq} - z_{5}\\right)}{\\sqrt{\\left(o_{x eq} - x_{5}\\right)^{2} + \\left(o_{y eq} - y_{5}\\right)^{2} + \\left(o_{z eq} - z_{5}\\right)^{2}}} + \\sqrt{\\left(o_{x eq} - x_{5}\\right)^{2} + \\left(o_{y eq} - y_{5}\\right)^{2} + \\left(o_{z eq} - z_{5}\\right)^{2}}\\\\- d_{6} + \\frac{o_{x} \\left(o_{x eq} - x_{6}\\right)}{\\sqrt{\\left(o_{x eq} - x_{6}\\right)^{2} + \\left(o_{y eq} - y_{6}\\right)^{2} + \\left(o_{z eq} - z_{6}\\right)^{2}}} + \\frac{o_{y} \\left(o_{y eq} - y_{6}\\right)}{\\sqrt{\\left(o_{x eq} - x_{6}\\right)^{2} + \\left(o_{y eq} - y_{6}\\right)^{2} + \\left(o_{z eq} - z_{6}\\right)^{2}}} + \\frac{\\left(o_{z} - o_{z eq}\\right) \\left(o_{z eq} - z_{6}\\right)}{\\sqrt{\\left(o_{x eq} - x_{6}\\right)^{2} + \\left(o_{y eq} - y_{6}\\right)^{2} + \\left(o_{z eq} - z_{6}\\right)^{2}}} + \\sqrt{\\left(o_{x eq} - x_{6}\\right)^{2} + \\left(o_{y eq} - y_{6}\\right)^{2} + \\left(o_{z eq} - z_{6}\\right)^{2}}\\\\- d_{7} + \\frac{o_{x} \\left(o_{x eq} - x_{7}\\right)}{\\sqrt{\\left(o_{x eq} - x_{7}\\right)^{2} + \\left(o_{y eq} - y_{7}\\right)^{2} + \\left(o_{z eq} - z_{7}\\right)^{2}}} + \\frac{o_{y} \\left(o_{y eq} - y_{7}\\right)}{\\sqrt{\\left(o_{x eq} - x_{7}\\right)^{2} + \\left(o_{y eq} - y_{7}\\right)^{2} + \\left(o_{z eq} - z_{7}\\right)^{2}}} + \\frac{\\left(o_{z} - o_{z eq}\\right) \\left(o_{z eq} - z_{7}\\right)}{\\sqrt{\\left(o_{x eq} - x_{7}\\right)^{2} + \\left(o_{y eq} - y_{7}\\right)^{2} + \\left(o_{z eq} - z_{7}\\right)^{2}}} + \\sqrt{\\left(o_{x eq} - x_{7}\\right)^{2} + \\left(o_{y eq} - y_{7}\\right)^{2} + \\left(o_{z eq} - z_{7}\\right)^{2}}\\\\- k_{flow} w_{y} + \\frac{k_{flow} v_{x}}{o_{z eq}} - n_{x}\\\\k_{flow} w_{x} + \\frac{k_{flow} v_{y}}{o_{z eq}} - n_{y}\\\\o_{z} - r\\end{matrix}\\right]$"
      ],
      "text/plain": [
       "Matrix([\n",
       "[-d0 + o_x*(o_x_eq - x_0)/sqrt((o_x_eq - x_0)**2 + (o_y_eq - y_0)**2 + (o_z_eq - z_0)**2) + o_y*(o_y_eq - y_0)/sqrt((o_x_eq - x_0)**2 + (o_y_eq - y_0)**2 + (o_z_eq - z_0)**2) + (o_z - o_z_eq)*(o_z_eq - z_0)/sqrt((o_x_eq - x_0)**2 + (o_y_eq - y_0)**2 + (o_z_eq - z_0)**2) + sqrt((o_x_eq - x_0)**2 + (o_y_eq - y_0)**2 + (o_z_eq - z_0)**2)],\n",
       "[-d1 + o_x*(o_x_eq - x_1)/sqrt((o_x_eq - x_1)**2 + (o_y_eq - y_1)**2 + (o_z_eq - z_1)**2) + o_y*(o_y_eq - y_1)/sqrt((o_x_eq - x_1)**2 + (o_y_eq - y_1)**2 + (o_z_eq - z_1)**2) + (o_z - o_z_eq)*(o_z_eq - z_1)/sqrt((o_x_eq - x_1)**2 + (o_y_eq - y_1)**2 + (o_z_eq - z_1)**2) + sqrt((o_x_eq - x_1)**2 + (o_y_eq - y_1)**2 + (o_z_eq - z_1)**2)],\n",
       "[-d2 + o_x*(o_x_eq - x_2)/sqrt((o_x_eq - x_2)**2 + (o_y_eq - y_2)**2 + (o_z_eq - z_2)**2) + o_y*(o_y_eq - y_2)/sqrt((o_x_eq - x_2)**2 + (o_y_eq - y_2)**2 + (o_z_eq - z_2)**2) + (o_z - o_z_eq)*(o_z_eq - z_2)/sqrt((o_x_eq - x_2)**2 + (o_y_eq - y_2)**2 + (o_z_eq - z_2)**2) + sqrt((o_x_eq - x_2)**2 + (o_y_eq - y_2)**2 + (o_z_eq - z_2)**2)],\n",
       "[-d3 + o_x*(o_x_eq - x_3)/sqrt((o_x_eq - x_3)**2 + (o_y_eq - y_3)**2 + (o_z_eq - z_3)**2) + o_y*(o_y_eq - y_3)/sqrt((o_x_eq - x_3)**2 + (o_y_eq - y_3)**2 + (o_z_eq - z_3)**2) + (o_z - o_z_eq)*(o_z_eq - z_3)/sqrt((o_x_eq - x_3)**2 + (o_y_eq - y_3)**2 + (o_z_eq - z_3)**2) + sqrt((o_x_eq - x_3)**2 + (o_y_eq - y_3)**2 + (o_z_eq - z_3)**2)],\n",
       "[-d4 + o_x*(o_x_eq - x_4)/sqrt((o_x_eq - x_4)**2 + (o_y_eq - y_4)**2 + (o_z_eq - z_4)**2) + o_y*(o_y_eq - y_4)/sqrt((o_x_eq - x_4)**2 + (o_y_eq - y_4)**2 + (o_z_eq - z_4)**2) + (o_z - o_z_eq)*(o_z_eq - z_4)/sqrt((o_x_eq - x_4)**2 + (o_y_eq - y_4)**2 + (o_z_eq - z_4)**2) + sqrt((o_x_eq - x_4)**2 + (o_y_eq - y_4)**2 + (o_z_eq - z_4)**2)],\n",
       "[-d5 + o_x*(o_x_eq - x_5)/sqrt((o_x_eq - x_5)**2 + (o_y_eq - y_5)**2 + (o_z_eq - z_5)**2) + o_y*(o_y_eq - y_5)/sqrt((o_x_eq - x_5)**2 + (o_y_eq - y_5)**2 + (o_z_eq - z_5)**2) + (o_z - o_z_eq)*(o_z_eq - z_5)/sqrt((o_x_eq - x_5)**2 + (o_y_eq - y_5)**2 + (o_z_eq - z_5)**2) + sqrt((o_x_eq - x_5)**2 + (o_y_eq - y_5)**2 + (o_z_eq - z_5)**2)],\n",
       "[-d6 + o_x*(o_x_eq - x_6)/sqrt((o_x_eq - x_6)**2 + (o_y_eq - y_6)**2 + (o_z_eq - z_6)**2) + o_y*(o_y_eq - y_6)/sqrt((o_x_eq - x_6)**2 + (o_y_eq - y_6)**2 + (o_z_eq - z_6)**2) + (o_z - o_z_eq)*(o_z_eq - z_6)/sqrt((o_x_eq - x_6)**2 + (o_y_eq - y_6)**2 + (o_z_eq - z_6)**2) + sqrt((o_x_eq - x_6)**2 + (o_y_eq - y_6)**2 + (o_z_eq - z_6)**2)],\n",
       "[-d7 + o_x*(o_x_eq - x_7)/sqrt((o_x_eq - x_7)**2 + (o_y_eq - y_7)**2 + (o_z_eq - z_7)**2) + o_y*(o_y_eq - y_7)/sqrt((o_x_eq - x_7)**2 + (o_y_eq - y_7)**2 + (o_z_eq - z_7)**2) + (o_z - o_z_eq)*(o_z_eq - z_7)/sqrt((o_x_eq - x_7)**2 + (o_y_eq - y_7)**2 + (o_z_eq - z_7)**2) + sqrt((o_x_eq - x_7)**2 + (o_y_eq - y_7)**2 + (o_z_eq - z_7)**2)],\n",
       "[                                                                                                                                                                                                                                                                                                          -k_flow*w_y + k_flow*v_x/o_z_eq - n_x],\n",
       "[                                                                                                                                                                                                                                                                                                           k_flow*w_x + k_flow*v_y/o_z_eq - n_y],\n",
       "[                                                                                                                                                                                                                                                                                                                                        o_z - r]])"
      ]
     },
     "execution_count": 31,
     "metadata": {},
     "output_type": "execute_result"
    }
   ],
   "source": [
    "x_obs = sym.Matrix([o_x, o_y, o_z - o_z_eq, theta, phi, v_x, v_y, v_z])\n",
    "C_obs*x_obs + D_obs*u - y"
   ]
  },
  {
   "cell_type": "code",
   "execution_count": 32,
   "metadata": {},
   "outputs": [],
   "source": [
    "anchors_x_sym = [x_0, x_1, x_2, x_3, x_4, x_5, x_6, x_7]\n",
    "anchors_y_sym = [y_0, y_1, y_2, y_3, y_4, y_5, y_6, y_7]\n",
    "anchors_z_sym = [z_0, z_1, z_2, z_3, z_4, z_5, z_6, z_7]\n",
    "anchors_x = [-1.82, -3.57, 1.82, 2.67, -3.61, 1.84, 2.74, -1.85]\n",
    "anchors_y = [2.18, 3.18, 2.21, -3.30, -3.30, -0.90, 3.18, -0.93]\n",
    "anchors_z = [1.10, 2.24, 1.10, 2.20, 2.25, 1.10, 2.24, 1.09]"
   ]
  },
  {
   "cell_type": "code",
   "execution_count": 33,
   "metadata": {},
   "outputs": [
    {
     "data": {
      "text/latex": [
       "$\\displaystyle \\left[\\begin{matrix}0.627034718512852 & -0.751063563932977 & -0.206714742366874 & 0 & 0 & 0 & 0 & 0\\\\0.701689487884987 & -0.625034333746291 & -0.341999918464952 & 0 & 0 & 0 & 0 & 0\\\\-0.622190406739018 & -0.755516922468808 & -0.205117716507369 & 0 & 0 & 0 & 0 & 0\\\\-0.583909671379651 & 0.72168611069395 & -0.371777693387793 & 0 & 0 & 0 & 0 & 0\\\\0.694943039652432 & 0.635266490541004 & -0.336883744983866 & 0 & 0 & 0 & 0 & 0\\\\-0.862074960391653 & 0.421667100191569 & -0.281111400127713 & 0 & 0 & 0 & 0 & 0\\\\-0.602997864002159 & -0.699829637783527 & -0.382925650862685 & 0 & 0 & 0 & 0 & 0\\\\0.859257706054903 & 0.431951171151924 & -0.27403353868778 & 0 & 0 & 0 & 0 & 0\\\\0 & 0 & 0 & 0 & 0 & 8.18511135901176 & 0 & 0\\\\0 & 0 & 0 & 0 & 0 & 0 & 8.18511135901176 & 0\\\\0 & 0 & 1 & 0 & 0 & 0 & 0 & 0\\end{matrix}\\right]$"
      ],
      "text/plain": [
       "Matrix([\n",
       "[ 0.627034718512852, -0.751063563932977, -0.206714742366874, 0, 0,                0,                0, 0],\n",
       "[ 0.701689487884987, -0.625034333746291, -0.341999918464952, 0, 0,                0,                0, 0],\n",
       "[-0.622190406739018, -0.755516922468808, -0.205117716507369, 0, 0,                0,                0, 0],\n",
       "[-0.583909671379651,   0.72168611069395, -0.371777693387793, 0, 0,                0,                0, 0],\n",
       "[ 0.694943039652432,  0.635266490541004, -0.336883744983866, 0, 0,                0,                0, 0],\n",
       "[-0.862074960391653,  0.421667100191569, -0.281111400127713, 0, 0,                0,                0, 0],\n",
       "[-0.602997864002159, -0.699829637783527, -0.382925650862685, 0, 0,                0,                0, 0],\n",
       "[ 0.859257706054903,  0.431951171151924,  -0.27403353868778, 0, 0,                0,                0, 0],\n",
       "[                 0,                  0,                  0, 0, 0, 8.18511135901176,                0, 0],\n",
       "[                 0,                  0,                  0, 0, 0,                0, 8.18511135901176, 0],\n",
       "[                 0,                  0,                  1, 0, 0,                0,                0, 0]])"
      ]
     },
     "execution_count": 33,
     "metadata": {},
     "output_type": "execute_result"
    }
   ],
   "source": [
    "C_obs = C_obs.subs(tuple(zip(anchors_x_sym, anchors_x))).subs(tuple(zip(anchors_y_sym, anchors_y))).subs(tuple(zip(anchors_z_sym, anchors_z)))\n",
    "C_obs = C_obs.subs(o_x_eq, 0).subs(o_y_eq, 0).subs(o_z_eq, 0.5).subs(k_flow, 0.01 * 30.0 / np.deg2rad(4.2))\n",
    "C_obs\n"
   ]
  },
  {
   "cell_type": "code",
   "execution_count": 34,
   "metadata": {},
   "outputs": [],
   "source": [
    "A_arr = np.array(A_obs.subs(g, -9.81).tolist(), dtype=np.float64)\n",
    "B_arr = np.array(B_obs.subs(g, -9.81).tolist(), dtype=np.float64)\n",
    "C_arr = np.array(C_obs.tolist(), dtype=np.float64)"
   ]
  },
  {
   "cell_type": "code",
   "execution_count": 35,
   "metadata": {},
   "outputs": [
    {
     "name": "stdout",
     "output_type": "stream",
     "text": [
      "[[1.0612354567973687, 0.5120515444032716, -1.227422341494915, -0.23602589430824622, 0.5720823035122847, -1.743479318219069, -0.0027509951457110617, 2.13496862753227, 0.022054950986334473, -0.0009918237959717557, 0.05568053447424029], [-1.8265623351877684, -0.7216832159932789, -1.914327947922793, 0.31356160012248663, 0.8156385587324054, 1.0919070460636557, -0.0037896847062179563, 1.440080240130129, -0.0011664347360733967, 0.023748065969326774, 0.010696428477186657], [-1.0308784680767624, -0.8410014443671401, -1.8790640480913656, -0.46580007967827997, -1.0070209845052163, -2.221890807147945, -0.006575106275751487, -2.016991927839532, 0.00390442604268722, 0.0006624141354791948, 0.6766781347187489], [-0.19119621603323952, -0.0960446261344245, 0.20943001664848512, 0.036544018295334525, -0.11451841840016151, 0.2860702931259912, 0.0004457391446861992, -0.40492827518313934, -0.014105118985698283, 0.0001684160760758503, -0.0037822735957417164], [-0.2285348991646402, -0.08941836278437573, -0.24599947899988756, 0.03991443047668339, 0.10737908159523753, 0.13681903867123885, -0.0004842241115609369, 0.1935341046147997, -0.00016116725215708052, 0.012084188467792816, 0.0006447626789846577], [2.03419698551227, 1.0079935755075022, -2.2656300595181533, -0.4102468701032357, 1.174996484037654, -3.1424142139368945, -0.004912116382236066, 4.228995392470496, 0.12618452236476174, -0.0019554404127483265, 0.06264131607338067], [-2.8581326381102463, -1.1223478353047691, -3.045259490287606, 0.49613034588048166, 1.3179053658521798, 1.711075351994969, -0.006006216316962795, 2.3574298342826268, -0.002053489255422636, 0.1267128893902205, 0.011160434744465039], [-1.740960067955247, -1.399906550818188, -2.8953213984321984, -0.7381047700063892, -1.701839475554228, -3.4545300604126266, -0.010330162336197381, -3.5000295927904412, 0.00767433575147951, 0.0012903684629867317, 1.0915856886239959]]\n"
     ]
    }
   ],
   "source": [
    "def lqr(A, B, Q, R):\n",
    "    P = linalg.solve_continuous_are(A, B, Q, R)\n",
    "    K = linalg.inv(R) @  B.T @ P\n",
    "    return K\n",
    "Q = np.diag([\n",
    "    1/0.049**2,\n",
    "    1/0.072**2,\n",
    "    1/0.046**2,\n",
    "    1/0.114**2,\n",
    "    1/0.063**2,\n",
    "    1/0.048**2,\n",
    "    1,\n",
    "    1/0.038**2,\n",
    "    1/1.696**2,             # n_x\n",
    "    1/1.738**2,             # n_y\n",
    "    1/0.148**2,             # r\n",
    "])\n",
    "\n",
    "R = np.diag([\n",
    "    1/0.094**2,\n",
    "    1/0.111**2,\n",
    "    1/0.009**2, # o_z\n",
    "    1/0.036**2, # theta\n",
    "    1/0.030**2, # phi\n",
    "    1/0.176**2, # v_x\n",
    "    1/0.178**2, # v_y\n",
    "    1/0.354**2, # v_z\n",
    "])\n",
    "L_1 = lqr(np.array(A_arr.tolist()).T, np.array(C_arr.tolist()).T, linalg.inv(R), linalg.inv(Q)).T\n",
    "print(L_1.tolist())\n"
   ]
  },
  {
   "cell_type": "code",
   "execution_count": 36,
   "metadata": {},
   "outputs": [
    {
     "name": "stdout",
     "output_type": "stream",
     "text": [
      "[[0.3180489943470645, 0.35534433377172314, -0.31585157789868495, -0.29821898145092024, 0.3509203825098955, -0.43880375885054035, -0.30679594936681986, 0.43469067472125306, 0.11790331190534478, -9.654711870144457e-06, 0.003590744459261043], [-0.41404335035890094, -0.34233976127975285, -0.41552483450602606, 0.40579375856518957, 0.3563582152240883, 0.2384101217191572, -0.3821835054177546, 0.24262165863317836, -9.665354709109912e-06, 0.11849182375122658, -0.013955880783085102], [-0.2346526027361412, -0.3980459263629872, -0.23716485961905617, -0.45709340794356407, -0.4095359783329232, -0.34540030810949546, -0.45066476308547887, -0.3308925346291106, 3.6670916123952184e-05, -0.00012857175039797036, 1.1967500474500083], [-0.0013389045963223254, -0.0014997924714295298, 0.0013278869703701028, 0.0012415335824376597, -0.0014879763763421447, 0.0018368121665299935, 0.0012851484950960482, -0.0018377365930699315, -0.999991018132803, 3.604321715027406e-08, 9.285775006909661e-06], [-0.0015156421660878594, -0.001266782461189354, -0.0015271486910384373, 0.0014367915701338381, 0.0012669342830150282, 0.0008362053936301043, -0.001421273261668791, 0.0008607174098533469, -3.601809720344589e-08, 0.9999933175488612, 3.437177681877787e-05], [0.00903214942673699, 0.01010676711049779, -0.00896243507121374, -0.00841350714358471, 0.010008121875932276, -0.012419608317679192, -0.008686836409642601, 0.01237553172570321, 1.8428770447104486, -5.73608850836629e-07, 4.480197582599498e-06], [-0.010870269652328525, -0.00904376958939055, -0.010933290297481468, 0.010454022830890352, 0.009200911995813927, 0.006109699379062862, -0.010124362549209936, 0.006256435237261726, -5.73608850836629e-07, 1.8429125778244693, -1.5708002586478387e-05], [-0.15012429881639444, -0.25299569282028284, -0.1510378442034338, -0.2865167881085063, -0.25739724657035185, -0.21655448090787266, -0.28565936484182874, -0.20831529345767086, 3.212018738233927e-05, -0.00011248767004221673, 0.7552521700935282]]\n"
     ]
    }
   ],
   "source": [
    "def lqr(A, B, Q, R):\n",
    "    P = linalg.solve_continuous_are(A, B, Q, R)\n",
    "    K = linalg.inv(R) @  B.T @ P\n",
    "    return K\n",
    "Q = np.diag([\n",
    "    1,\n",
    "    1,\n",
    "    1,\n",
    "    1,\n",
    "    1,\n",
    "    1,\n",
    "    1,\n",
    "    1,\n",
    "    1,             # n_x\n",
    "    1,             # n_y\n",
    "    1,             # r\n",
    "])\n",
    "\n",
    "R = np.diag([\n",
    "    1,\n",
    "    1,\n",
    "    1, # o_z\n",
    "    1, # theta\n",
    "    1, # phi\n",
    "    1, # v_x\n",
    "    1, # v_y\n",
    "    1, # v_z\n",
    "])\n",
    "L_1 = lqr(np.array(A_arr.tolist()).T, np.array(C_arr.tolist()).T, linalg.inv(R), linalg.inv(Q)).T\n",
    "print(L_1.tolist())\n"
   ]
  },
  {
   "cell_type": "code",
   "execution_count": 37,
   "metadata": {},
   "outputs": [
    {
     "name": "stdout",
     "output_type": "stream",
     "text": [
      "L = [[      0.3180       0.3553      -0.3159      -0.2982       0.3509      -0.4388      -0.3068       0.4347       0.1179      -0.0000       0.0036]\n",
      "     [     -0.4140      -0.3423      -0.4155       0.4058       0.3564       0.2384      -0.3822       0.2426      -0.0000       0.1185      -0.0140]\n",
      "     [     -0.2347      -0.3980      -0.2372      -0.4571      -0.4095      -0.3454      -0.4507      -0.3309       0.0000      -0.0001       1.1968]\n",
      "     [     -0.0013      -0.0015       0.0013       0.0012      -0.0015       0.0018       0.0013      -0.0018      -1.0000       0.0000       0.0000]\n",
      "     [     -0.0015      -0.0013      -0.0015       0.0014       0.0013       0.0008      -0.0014       0.0009      -0.0000       1.0000       0.0000]\n",
      "     [      0.0090       0.0101      -0.0090      -0.0084       0.0100      -0.0124      -0.0087       0.0124       1.8429      -0.0000       0.0000]\n",
      "     [     -0.0109      -0.0090      -0.0109       0.0105       0.0092       0.0061      -0.0101       0.0063      -0.0000       1.8429      -0.0000]\n",
      "     [     -0.1501      -0.2530      -0.1510      -0.2865      -0.2574      -0.2166      -0.2857      -0.2083       0.0000      -0.0001       0.7553]]\n"
     ]
    }
   ],
   "source": [
    "L_str = np.array2string(L_1,\n",
    "                        formatter={'float_kind': lambda x: f'{x:12.4f}'},\n",
    "                        prefix='    ',\n",
    "                        max_line_width=np.inf)\n",
    "\n",
    "print(f'L = {L_str}')"
   ]
  },
  {
   "cell_type": "code",
   "execution_count": 38,
   "metadata": {},
   "outputs": [],
   "source": [
    "A_sym = sym.Matrix(A)\n",
    "B_sym = sym.Matrix(B)\n",
    "A_obs_sym = sym.Matrix(A_obs)\n",
    "B_obs_sym = sym.Matrix(B_obs)\n",
    "C_obs_sym = sym.Matrix(C_obs)\n",
    "D_obs_sym = sym.Matrix(D_obs)\n",
    "# L_0, L_1, L_2, L_3, L_4, L_5 = sym.symbols('L_0, L_1, L_2, L_3, L_4, L_5')\n",
    "# L_sym = sym.Matrix([[0, 0, L_0],\n",
    "#                     [L_1, 0, 0],\n",
    "#                     [0, L_2, 0],\n",
    "#                     [L_3, 0, 0],\n",
    "#                     [0, L_4, 0],\n",
    "#                     [0, 0, L_5]])\n",
    "L_sym = sym.Matrix(L_1)\n",
    "o_x, o_y, o_z = sym.symbols('o_x, o_y, o_z')\n",
    "psi, theta, phi = sym.symbols('psi, theta, phi')\n",
    "v_x, v_y, v_z = sym.symbols('v_x, v_y, v_z')\n",
    "w_x, w_y, w_z = sym.symbols('w_x, w_y, w_z')\n",
    "a_z, g, n_x, n_y, r = sym.symbols('a_z, g, n_x, n_y, r')\n",
    "x_sym = sym.Matrix([o_x, o_y, o_z, psi, theta, phi, v_x, v_y, v_z])\n",
    "x_obs_sym = sym.Matrix([o_x, o_y, o_z, theta, phi, v_x, v_y, v_z])\n",
    "u_sym = sym.Matrix([w_x, w_y, w_z, a_z - g])\n",
    "y_sym = sym.Matrix([a_0, a_1, a_2, a_3, a_4, a_5, a_6, a_7, n_x, n_y, r])\n",
    "x_dot_sym = A_sym * x_sym + B_sym * u_sym\n",
    "x_obs_dot_sym = A_obs_sym * x_obs_sym + B_obs_sym * u_sym\n",
    "y_err_sym = C_obs_sym * x_obs_sym + D_obs_sym * u_sym - y_sym\n",
    "x_hat_dot_sym = x_obs_dot_sym - L_sym * y_err_sym"
   ]
  },
  {
   "cell_type": "code",
   "execution_count": 39,
   "metadata": {},
   "outputs": [
    {
     "data": {
      "text/plain": [
       "[[-0.318048994347065*Y_0 - 0.355344333771723*Y_1 - 0.00359074445926104*Y_10 + 0.315851577898685*Y_2 + 0.29821898145092*Y_3 - 0.350920382509895*Y_4 + 0.43880375885054*Y_5 + 0.30679594936682*Y_6 - 0.434690674721253*Y_7 - 0.117903311905345*Y_8 + 9.65471187014446e-6*Y_9 + v_x],\n",
       " [0.414043350358901*Y_0 + 0.342339761279753*Y_1 + 0.0139558807830851*Y_10 + 0.415524834506026*Y_2 - 0.40579375856519*Y_3 - 0.356358215224088*Y_4 - 0.238410121719157*Y_5 + 0.382183505417755*Y_6 - 0.242621658633178*Y_7 + 9.66535470910991e-6*Y_8 - 0.118491823751227*Y_9 + v_y],\n",
       " [0.234652602736141*Y_0 + 0.398045926362987*Y_1 - 1.19675004745001*Y_10 + 0.237164859619056*Y_2 + 0.457093407943564*Y_3 + 0.409535978332923*Y_4 + 0.345400308109495*Y_5 + 0.450664763085479*Y_6 + 0.330892534629111*Y_7 - 3.66709161239522e-5*Y_8 + 0.00012857175039797*Y_9 + v_z],\n",
       " [0.00133890459632233*Y_0 + 0.00149979247142953*Y_1 - 9.28577500690966e-6*Y_10 - 0.0013278869703701*Y_2 - 0.00124153358243766*Y_3 + 0.00148797637634214*Y_4 - 0.00183681216652999*Y_5 - 0.00128514849509605*Y_6 + 0.00183773659306993*Y_7 + 0.999991018132803*Y_8 - 3.60432171502741e-8*Y_9 + w_y],\n",
       " [0.00151564216608786*Y_0 + 0.00126678246118935*Y_1 - 3.43717768187779e-5*Y_10 + 0.00152714869103844*Y_2 - 0.00143679157013384*Y_3 - 0.00126693428301503*Y_4 - 0.000836205393630104*Y_5 + 0.00142127326166879*Y_6 - 0.000860717409853347*Y_7 + 3.60180972034459e-8*Y_8 - 0.999993317548861*Y_9 + w_x],\n",
       " [-0.00903214942673699*Y_0 - 0.0101067671104978*Y_1 - 4.4801975825995e-6*Y_10 + 0.00896243507121374*Y_2 + 0.00841350714358471*Y_3 - 0.0100081218759323*Y_4 + 0.0124196083176792*Y_5 + 0.0086868364096426*Y_6 - 0.0123755317257032*Y_7 - 1.84287704471045*Y_8 + 5.73608850836629e-7*Y_9 + g*theta],\n",
       " [0.0108702696523285*Y_0 + 0.00904376958939055*Y_1 + 1.57080025864784e-5*Y_10 + 0.0109332902974815*Y_2 - 0.0104540228308904*Y_3 - 0.00920091199581393*Y_4 - 0.00610969937906286*Y_5 + 0.0101243625492099*Y_6 - 0.00625643523726173*Y_7 + 5.73608850836629e-7*Y_8 - 1.84291257782447*Y_9 - g*phi],\n",
       " [0.150124298816394*Y_0 + 0.252995692820283*Y_1 - 0.755252170093528*Y_10 + 0.151037844203434*Y_2 + 0.286516788108506*Y_3 + 0.257397246570352*Y_4 + 0.216554480907873*Y_5 + 0.285659364841829*Y_6 + 0.208315293457671*Y_7 - 3.21201873823393e-5*Y_8 + 0.000112487670042217*Y_9 + a_z - g]]"
      ]
     },
     "execution_count": 39,
     "metadata": {},
     "output_type": "execute_result"
    }
   ],
   "source": [
    "Y_0, Y_1, Y_2, Y_3, Y_4, Y_5, Y_6, Y_7, Y_8, Y_9, Y_10 = sym.symbols('Y_0, Y_1, Y_2, Y_3, Y_4, Y_5, Y_6, Y_7, Y_8, Y_9, Y_10')\n",
    "Y_err = sym.Matrix([Y_0, Y_1, Y_2, Y_3, Y_4, Y_5, Y_6, Y_7, Y_8, Y_9, Y_10])\n",
    "output_list = (x_obs_dot_sym - L_sym * Y_err).tolist()\n",
    "output_list"
   ]
  },
  {
   "cell_type": "code",
   "execution_count": 40,
   "metadata": {},
   "outputs": [
    {
     "name": "stdout",
     "output_type": "stream",
     "text": [
      "[-0.318048994347065f*Y_0 - 0.355344333771723f*Y_1 - 0.00359074445926104f*Y_10 + 0.315851577898685f*Y_2 + 0.29821898145092f*Y_3 - 0.350920382509895f*Y_4 + 0.43880375885054f*Y_5 + 0.30679594936682f*Y_6 - 0.434690674721253f*Y_7 - 0.117903311905345f*Y_8 + 9.65471187014446e-6f*Y_9 + v_x]\n",
      "\n",
      "\n",
      "[0.414043350358901f*Y_0 + 0.342339761279753f*Y_1 + 0.0139558807830851f*Y_10 + 0.415524834506026f*Y_2 - 0.40579375856519f*Y_3 - 0.356358215224088f*Y_4 - 0.238410121719157f*Y_5 + 0.382183505417755f*Y_6 - 0.242621658633178f*Y_7 + 9.66535470910991e-6f*Y_8 - 0.118491823751227f*Y_9 + v_y]\n",
      "\n",
      "\n",
      "[0.234652602736141f*Y_0 + 0.398045926362987f*Y_1 - 1.19675004745001f*Y_10 + 0.237164859619056f*Y_2 + 0.457093407943564f*Y_3 + 0.409535978332923f*Y_4 + 0.345400308109495f*Y_5 + 0.450664763085479f*Y_6 + 0.330892534629111f*Y_7 - 3.66709161239522e-5f*Y_8 + 0.00012857175039797f*Y_9 + v_z]\n",
      "\n",
      "\n",
      "[0.00133890459632233f*Y_0 + 0.00149979247142953f*Y_1 - 9.28577500690966e-6f*Y_10 - 0.0013278869703701f*Y_2 - 0.00124153358243766f*Y_3 + 0.00148797637634214f*Y_4 - 0.00183681216652999f*Y_5 - 0.00128514849509605f*Y_6 + 0.00183773659306993f*Y_7 + 0.999991018132803f*Y_8 - 3.60432171502741e-8f*Y_9 + w_y]\n",
      "\n",
      "\n",
      "[0.00151564216608786f*Y_0 + 0.00126678246118935f*Y_1 - 3.43717768187779e-5f*Y_10 + 0.00152714869103844f*Y_2 - 0.00143679157013384f*Y_3 - 0.00126693428301503f*Y_4 - 0.000836205393630104f*Y_5 + 0.00142127326166879f*Y_6 - 0.000860717409853347f*Y_7 + 3.60180972034459e-8f*Y_8 - 0.999993317548861f*Y_9 + w_x]\n",
      "\n",
      "\n",
      "[-0.00903214942673699f*Y_0 - 0.0101067671104978f*Y_1 - 4.4801975825995e-6f*Y_10 + 0.00896243507121374f*Y_2 + 0.00841350714358471f*Y_3 - 0.0100081218759323f*Y_4 + 0.0124196083176792f*Y_5 + 0.0086868364096426f*Y_6 - 0.0123755317257032f*Y_7 - 1.84287704471045f*Y_8 + 5.73608850836629e-7f*Y_9 + gf*theta]\n",
      "\n",
      "\n",
      "[0.0108702696523285f*Y_0 + 0.00904376958939055f*Y_1 + 1.57080025864784e-5f*Y_10 + 0.0109332902974815f*Y_2 - 0.0104540228308904f*Y_3 - 0.00920091199581393f*Y_4 - 0.00610969937906286f*Y_5 + 0.0101243625492099f*Y_6 - 0.00625643523726173f*Y_7 + 5.73608850836629e-7f*Y_8 - 1.84291257782447f*Y_9 - gf*phi]\n",
      "\n",
      "\n",
      "[0.150124298816394f*Y_0 + 0.252995692820283f*Y_1 - 0.755252170093528f*Y_10 + 0.151037844203434f*Y_2 + 0.286516788108506f*Y_3 + 0.257397246570352f*Y_4 + 0.216554480907873f*Y_5 + 0.285659364841829f*Y_6 + 0.208315293457671f*Y_7 - 3.21201873823393e-5f*Y_8 + 0.000112487670042217f*Y_9 + a_z - g]\n",
      "\n",
      "\n"
     ]
    }
   ],
   "source": [
    "for i in range(len(output_list)):\n",
    "    line = str(output_list[i])\n",
    "    output_list[i] = line.replace(\"*\", \"f*\" )\n",
    "    print(output_list[i])\n",
    "    print(\"\\n\")\n",
    "\n"
   ]
  },
  {
   "cell_type": "code",
   "execution_count": 41,
   "metadata": {},
   "outputs": [
    {
     "data": {
      "text/latex": [
       "$\\displaystyle \\left[\\begin{matrix}v_{x}\\\\v_{y}\\\\v_{z}\\\\w_{z}\\\\w_{y}\\\\w_{x}\\\\g \\theta\\\\- g \\phi\\\\a_{z} - g\\end{matrix}\\right]$"
      ],
      "text/plain": [
       "Matrix([\n",
       "[    v_x],\n",
       "[    v_y],\n",
       "[    v_z],\n",
       "[    w_z],\n",
       "[    w_y],\n",
       "[    w_x],\n",
       "[g*theta],\n",
       "[ -g*phi],\n",
       "[a_z - g]])"
      ]
     },
     "execution_count": 41,
     "metadata": {},
     "output_type": "execute_result"
    }
   ],
   "source": [
    "x_dot_sym"
   ]
  },
  {
   "cell_type": "code",
   "execution_count": 42,
   "metadata": {},
   "outputs": [
    {
     "data": {
      "text/latex": [
       "$\\displaystyle \\left[\\begin{matrix}0.318048994347065 a_{0} + 0.355344333771723 a_{1} - 0.315851577898685 a_{2} - 0.29821898145092 a_{3} + 0.350920382509895 a_{4} - 0.43880375885054 a_{5} - 0.30679594936682 a_{6} + 0.434690674721253 a_{7} + 9.65471187014446 \\cdot 10^{-6} k_{flow} w_{x} + 0.117903311905345 k_{flow} w_{y} + 0.117903311905345 n_{x} - 9.65471187014446 \\cdot 10^{-6} n_{y} - 2.0000819388963 o_{x} - 0.00280219058557163 o_{y} + 0.00453090403648485 o_{z} + 0.00359074445926104 r + 0.0349482624584559 v_{x} + 7.90248917963051 \\cdot 10^{-5} v_{y}\\\\- 0.414043350358901 a_{0} - 0.342339761279753 a_{1} - 0.415524834506026 a_{2} + 0.40579375856519 a_{3} + 0.356358215224088 a_{4} + 0.238410121719157 a_{5} - 0.382183505417755 a_{6} + 0.242621658633178 a_{7} - 0.118491823751227 k_{flow} w_{x} - 9.66535470910991 \\cdot 10^{-6} k_{flow} w_{y} - 9.66535470910991 \\cdot 10^{-6} n_{x} + 0.118491823751227 n_{y} - 0.00280453047535992 o_{x} - 1.83091493368707 o_{y} - 0.015869894477488 o_{z} - 0.0139558807830851 r + 7.91120046184133 \\cdot 10^{-5} v_{x} + 0.0301312274638159 v_{y}\\\\- 0.234652602736141 a_{0} - 0.398045926362987 a_{1} - 0.237164859619056 a_{2} - 0.457093407943564 a_{3} - 0.409535978332923 a_{4} - 0.345400308109495 a_{5} - 0.450664763085479 a_{6} - 0.330892534629111 a_{7} + 0.00012857175039797 k_{flow} w_{x} + 3.66709161239522 \\cdot 10^{-5} k_{flow} w_{y} + 3.66709161239522 \\cdot 10^{-5} n_{x} - 0.00012857175039797 n_{y} + 0.0113923002680763 o_{x} - 0.0409862015581708 o_{y} - 2.09828044965945 o_{z} + 1.19675004745001 r - 0.000300155532111529 v_{x} + 0.00105237409463045 v_{y} + v_{z}\\\\- 0.00133890459632233 a_{0} - 0.00149979247142953 a_{1} + 0.0013278869703701 a_{2} + 0.00124153358243766 a_{3} - 0.00148797637634214 a_{4} + 0.00183681216652999 a_{5} + 0.00128514849509605 a_{6} - 0.00183773659306993 a_{7} - 3.60432171502741 \\cdot 10^{-8} k_{flow} w_{x} - 0.999991018132803 k_{flow} w_{y} - 0.999991018132803 n_{x} + 3.60432171502741 \\cdot 10^{-8} n_{y} + 0.00841463000658507 o_{x} + 2.81550390332533 \\cdot 10^{-5} o_{y} - 6.14497139883155 \\cdot 10^{-5} o_{z} + 9.28577500690966 \\cdot 10^{-6} r + 8.18503784142854 v_{x} - 2.95017746112036 \\cdot 10^{-7} v_{y} + w_{y}\\\\- 0.00151564216608786 a_{0} - 0.00126678246118935 a_{1} - 0.00152714869103844 a_{2} + 0.00143679157013384 a_{3} + 0.00126693428301503 a_{4} + 0.000836205393630104 a_{5} - 0.00142127326166879 a_{6} + 0.000860717409853347 a_{7} - 0.999993317548861 k_{flow} w_{x} - 3.60180972034459 \\cdot 10^{-8} k_{flow} w_{y} - 3.60180972034459 \\cdot 10^{-8} n_{x} + 0.999993317548861 n_{y} - 2.81508144246566 \\cdot 10^{-5} o_{x} - 0.00664470358220907 o_{y} - 0.000206495167828933 o_{z} + 3.43717768187779 \\cdot 10^{-5} r + 2.94812136549915 \\cdot 10^{-7} v_{x} - 8.18505666240504 v_{y} + w_{x}\\\\0.00903214942673699 a_{0} + 0.0101067671104978 a_{1} - 0.00896243507121374 a_{2} - 0.00841350714358471 a_{3} + 0.0100081218759323 a_{4} - 0.0124196083176792 a_{5} - 0.0086868364096426 a_{6} + 0.0123755317257032 a_{7} + g \\theta + 5.73608850836629 \\cdot 10^{-7} k_{flow} w_{x} + 1.84287704471045 k_{flow} w_{y} + 1.84287704471045 n_{x} - 5.73608850836629 \\cdot 10^{-7} n_{y} - 0.0567779756129931 o_{x} - 0.00014438056621081 o_{y} + 0.000297981637058105 o_{z} + 4.4801975825995 \\cdot 10^{-6} r - 15.0841538319215 v_{x} + 4.69505232061257 \\cdot 10^{-6} v_{y}\\\\- 0.0108702696523285 a_{0} - 0.00904376958939055 a_{1} - 0.0109332902974815 a_{2} + 0.0104540228308904 a_{3} + 0.00920091199581393 a_{4} + 0.00610969937906286 a_{5} - 0.0101243625492099 a_{6} + 0.00625643523726173 a_{7} - g \\phi - 1.84291257782447 k_{flow} w_{x} - 5.73608850836629 \\cdot 10^{-7} k_{flow} w_{y} - 5.73608850836629 \\cdot 10^{-7} n_{x} + 1.84291257782447 n_{y} - 0.000144378859411855 o_{x} - 0.0478308326789354 o_{y} - 0.00102560568914398 o_{z} - 1.57080025864784 \\cdot 10^{-5} r + 4.69505232061257 \\cdot 10^{-6} v_{x} - 15.0844446744167 v_{y}\\\\- 0.150124298816394 a_{0} - 0.252995692820283 a_{1} - 0.151037844203434 a_{2} - 0.286516788108506 a_{3} - 0.257397246570352 a_{4} - 0.216554480907873 a_{5} - 0.285659364841829 a_{6} - 0.208315293457671 a_{7} + a_{z} - g + 0.000112487670042217 k_{flow} w_{x} + 3.21201873823393 \\cdot 10^{-5} k_{flow} w_{y} + 3.21201873823393 \\cdot 10^{-5} n_{x} - 0.000112487670042217 n_{y} + 0.00931810801457292 o_{x} - 0.0333214553221918 o_{y} - 1.32437122741312 o_{z} + 0.755252170093528 r - 0.000262907310596771 v_{x} + 0.000920724105811315 v_{y}\\end{matrix}\\right]$"
      ],
      "text/plain": [
       "Matrix([\n",
       "[                               0.318048994347065*a_0 + 0.355344333771723*a_1 - 0.315851577898685*a_2 - 0.29821898145092*a_3 + 0.350920382509895*a_4 - 0.43880375885054*a_5 - 0.30679594936682*a_6 + 0.434690674721253*a_7 + 9.65471187014446e-6*k_flow*w_x + 0.117903311905345*k_flow*w_y + 0.117903311905345*n_x - 9.65471187014446e-6*n_y - 2.0000819388963*o_x - 0.00280219058557163*o_y + 0.00453090403648485*o_z + 0.00359074445926104*r + 0.0349482624584559*v_x + 7.90248917963051e-5*v_y],\n",
       "[                              -0.414043350358901*a_0 - 0.342339761279753*a_1 - 0.415524834506026*a_2 + 0.40579375856519*a_3 + 0.356358215224088*a_4 + 0.238410121719157*a_5 - 0.382183505417755*a_6 + 0.242621658633178*a_7 - 0.118491823751227*k_flow*w_x - 9.66535470910991e-6*k_flow*w_y - 9.66535470910991e-6*n_x + 0.118491823751227*n_y - 0.00280453047535992*o_x - 1.83091493368707*o_y - 0.015869894477488*o_z - 0.0139558807830851*r + 7.91120046184133e-5*v_x + 0.0301312274638159*v_y],\n",
       "[                   -0.234652602736141*a_0 - 0.398045926362987*a_1 - 0.237164859619056*a_2 - 0.457093407943564*a_3 - 0.409535978332923*a_4 - 0.345400308109495*a_5 - 0.450664763085479*a_6 - 0.330892534629111*a_7 + 0.00012857175039797*k_flow*w_x + 3.66709161239522e-5*k_flow*w_y + 3.66709161239522e-5*n_x - 0.00012857175039797*n_y + 0.0113923002680763*o_x - 0.0409862015581708*o_y - 2.09828044965945*o_z + 1.19675004745001*r - 0.000300155532111529*v_x + 0.00105237409463045*v_y + v_z],\n",
       "[    -0.00133890459632233*a_0 - 0.00149979247142953*a_1 + 0.0013278869703701*a_2 + 0.00124153358243766*a_3 - 0.00148797637634214*a_4 + 0.00183681216652999*a_5 + 0.00128514849509605*a_6 - 0.00183773659306993*a_7 - 3.60432171502741e-8*k_flow*w_x - 0.999991018132803*k_flow*w_y - 0.999991018132803*n_x + 3.60432171502741e-8*n_y + 0.00841463000658507*o_x + 2.81550390332533e-5*o_y - 6.14497139883155e-5*o_z + 9.28577500690966e-6*r + 8.18503784142854*v_x - 2.95017746112036e-7*v_y + w_y],\n",
       "[-0.00151564216608786*a_0 - 0.00126678246118935*a_1 - 0.00152714869103844*a_2 + 0.00143679157013384*a_3 + 0.00126693428301503*a_4 + 0.000836205393630104*a_5 - 0.00142127326166879*a_6 + 0.000860717409853347*a_7 - 0.999993317548861*k_flow*w_x - 3.60180972034459e-8*k_flow*w_y - 3.60180972034459e-8*n_x + 0.999993317548861*n_y - 2.81508144246566e-5*o_x - 0.00664470358220907*o_y - 0.000206495167828933*o_z + 3.43717768187779e-5*r + 2.94812136549915e-7*v_x - 8.18505666240504*v_y + w_x],\n",
       "[        0.00903214942673699*a_0 + 0.0101067671104978*a_1 - 0.00896243507121374*a_2 - 0.00841350714358471*a_3 + 0.0100081218759323*a_4 - 0.0124196083176792*a_5 - 0.0086868364096426*a_6 + 0.0123755317257032*a_7 + g*theta + 5.73608850836629e-7*k_flow*w_x + 1.84287704471045*k_flow*w_y + 1.84287704471045*n_x - 5.73608850836629e-7*n_y - 0.0567779756129931*o_x - 0.00014438056621081*o_y + 0.000297981637058105*o_z + 4.4801975825995e-6*r - 15.0841538319215*v_x + 4.69505232061257e-6*v_y],\n",
       "[       -0.0108702696523285*a_0 - 0.00904376958939055*a_1 - 0.0109332902974815*a_2 + 0.0104540228308904*a_3 + 0.00920091199581393*a_4 + 0.00610969937906286*a_5 - 0.0101243625492099*a_6 + 0.00625643523726173*a_7 - g*phi - 1.84291257782447*k_flow*w_x - 5.73608850836629e-7*k_flow*w_y - 5.73608850836629e-7*n_x + 1.84291257782447*n_y - 0.000144378859411855*o_x - 0.0478308326789354*o_y - 0.00102560568914398*o_z - 1.57080025864784e-5*r + 4.69505232061257e-6*v_x - 15.0844446744167*v_y],\n",
       "[          -0.150124298816394*a_0 - 0.252995692820283*a_1 - 0.151037844203434*a_2 - 0.286516788108506*a_3 - 0.257397246570352*a_4 - 0.216554480907873*a_5 - 0.285659364841829*a_6 - 0.208315293457671*a_7 + a_z - g + 0.000112487670042217*k_flow*w_x + 3.21201873823393e-5*k_flow*w_y + 3.21201873823393e-5*n_x - 0.000112487670042217*n_y + 0.00931810801457292*o_x - 0.0333214553221918*o_y - 1.32437122741312*o_z + 0.755252170093528*r - 0.000262907310596771*v_x + 0.000920724105811315*v_y]])"
      ]
     },
     "execution_count": 42,
     "metadata": {},
     "output_type": "execute_result"
    }
   ],
   "source": [
    "x_hat_dot_sym\n"
   ]
  }
 ],
 "metadata": {
  "kernelspec": {
   "display_name": "Python 3.10.6 ('ae483')",
   "language": "python",
   "name": "python3"
  },
  "language_info": {
   "codemirror_mode": {
    "name": "ipython",
    "version": 3
   },
   "file_extension": ".py",
   "mimetype": "text/x-python",
   "name": "python",
   "nbconvert_exporter": "python",
   "pygments_lexer": "ipython3",
   "version": "3.10.6"
  },
  "vscode": {
   "interpreter": {
    "hash": "c959fa4f0541601308a953d801e2f7407c9165d9841ffaf3df2f071accd4d274"
   }
  }
 },
 "nbformat": 4,
 "nbformat_minor": 2
}
