{
 "cells": [
  {
   "cell_type": "code",
   "execution_count": 153,
   "metadata": {},
   "outputs": [],
   "source": [
    "import numpy as np\n",
    "import sympy as sym\n",
    "import json\n",
    "import matplotlib.pyplot as plt\n",
    "from scipy import linalg\n",
    "from scipy.interpolate import interp1d\n",
    "from IPython.display import display, IFrame, HTML"
   ]
  },
  {
   "cell_type": "markdown",
   "metadata": {},
   "source": [
    "# Controller Equations\n",
    "\n",
    "\\begin{gather}\n",
    "\\dot{x} = Ax + Bu \\\\\n",
    "A = \\frac{\\partial f}{\\partial x} = \\frac{\\partial f}{\\partial s} \\quad\\quad B = \\frac{\\partial f}{\\partial u} = \\frac{\\partial f}{\\partial i} \\\\\n",
    "u = -Kx \\\\\n",
    "x = s - s_{eq} \\quad\\quad u = i - i_{eq} \\\\\n",
    "s = [o_x, o_y, o_z, \\psi, \\theta, \\phi, v_x, v_y, v_z, w_x, w_y, w_z] \\\\\n",
    "u = [\\tau_x, \\tau_y, \\tau_z, f_z]\n",
    "\\end{gather}"
   ]
  },
  {
   "cell_type": "code",
   "execution_count": 154,
   "metadata": {},
   "outputs": [],
   "source": [
    "o_x, o_y, o_z, psi, theta, phi, v_x, v_y, v_z, w_x, w_y, w_z, a_z = sym.S(\"o_x, o_y, o_z, psi, theta, phi, v_x, v_y, v_z, w_x, w_y, w_z, a_z\")\n",
    "tau_x, tau_y, tau_z, f_z = sym.S(\"tau_x, tau_y, tau_z, f_z\")"
   ]
  },
  {
   "cell_type": "markdown",
   "metadata": {},
   "source": [
    "\\begin{gather}\n",
    "s_{eq} = [0, 0, 0, 0, 0, 0, 0, 0, 0, 0, 0, 0] \\\\\n",
    "i_{eq} = [0, 0, 0, g]\n",
    "\\end{gather}"
   ]
  },
  {
   "cell_type": "code",
   "execution_count": 155,
   "metadata": {},
   "outputs": [],
   "source": [
    "s = [o_x, o_y, o_z, psi, theta, phi, v_x, v_y, v_z]\n",
    "i = [w_x, w_y, w_z, a_z]"
   ]
  },
  {
   "cell_type": "code",
   "execution_count": 156,
   "metadata": {},
   "outputs": [],
   "source": [
    "x = []\n",
    "u = []"
   ]
  },
  {
   "cell_type": "markdown",
   "id": "9916514f",
   "metadata": {},
   "source": [
    "# 2. Derive models"
   ]
  },
  {
   "cell_type": "markdown",
   "id": "35c1d51d",
   "metadata": {},
   "source": [
    "## 2.1 Define symbolic variables"
   ]
  },
  {
   "cell_type": "markdown",
   "id": "e2ff5fef",
   "metadata": {},
   "source": [
    "Define states."
   ]
  },
  {
   "cell_type": "code",
   "execution_count": 157,
   "id": "0402b5da",
   "metadata": {},
   "outputs": [],
   "source": [
    "# components of position (meters)\n",
    "o_x, o_y, o_z = sym.symbols('o_x, o_y, o_z')\n",
    "\n",
    "# yaw, pitch, and roll angles (radians)\n",
    "psi, theta, phi = sym.symbols('psi, theta, phi')\n",
    "\n",
    "# components of linear velocity (meters / second)\n",
    "v_x, v_y, v_z = sym.symbols('v_x, v_y, v_z')"
   ]
  },
  {
   "cell_type": "markdown",
   "id": "570af22c",
   "metadata": {},
   "source": [
    "Define inputs."
   ]
  },
  {
   "cell_type": "code",
   "execution_count": 158,
   "id": "ad893cec",
   "metadata": {},
   "outputs": [],
   "source": [
    "# gyroscope measurements - components of angular velocity (radians / second)\n",
    "w_x, w_y, w_z = sym.symbols('w_x, w_y, w_z')\n",
    "\n",
    "# z-axis accelerometer measurement - specific force (meters / second^2)\n",
    "a_z = sym.symbols('a_z')"
   ]
  },
  {
   "cell_type": "markdown",
   "id": "5e97b298",
   "metadata": {},
   "source": [
    "Define outputs."
   ]
  },
  {
   "cell_type": "code",
   "execution_count": 159,
   "id": "752442f5",
   "metadata": {},
   "outputs": [],
   "source": [
    "n_x, n_y, r = sym.symbols('n_x, n_y, r')\n",
    "a_0, a_1, a_2, a_3, a_4, a_5, a_6, a_7 = sym.symbols('a_0, a_1, a_2, a_3, a_4, a_5, a_6, a_7 ')"
   ]
  },
  {
   "cell_type": "markdown",
   "id": "ed8ded70",
   "metadata": {},
   "source": [
    "Define parameters."
   ]
  },
  {
   "cell_type": "code",
   "execution_count": 160,
   "id": "e4962fab",
   "metadata": {},
   "outputs": [],
   "source": [
    "g, k_flow = sym.symbols('g, k_flow')"
   ]
  },
  {
   "cell_type": "markdown",
   "id": "7368343d",
   "metadata": {},
   "source": [
    "Create linear and angular velocity vectors (in coordinates of the body frame)."
   ]
  },
  {
   "cell_type": "code",
   "execution_count": 161,
   "id": "9d524269",
   "metadata": {},
   "outputs": [],
   "source": [
    "v_01in1 = sym.Matrix([[v_x], [v_y], [v_z]])\n",
    "w_01in1 = sym.Matrix([[w_x], [w_y], [w_z]])"
   ]
  },
  {
   "cell_type": "markdown",
   "id": "851ff168",
   "metadata": {},
   "source": [
    "## 2.2 Define kinematics of orientation"
   ]
  },
  {
   "cell_type": "markdown",
   "id": "f68e60c2",
   "metadata": {},
   "source": [
    "### 2.2.1 Rotation matrix in terms of yaw, pitch, roll angles"
   ]
  },
  {
   "cell_type": "markdown",
   "id": "3e03c29d",
   "metadata": {},
   "source": [
    "Define individual rotation matrices."
   ]
  },
  {
   "cell_type": "code",
   "execution_count": 162,
   "id": "1f70f130",
   "metadata": {},
   "outputs": [],
   "source": [
    "Rz = sym.Matrix([[sym.cos(psi), -sym.sin(psi), 0],\n",
    "                 [sym.sin(psi), sym.cos(psi), 0],\n",
    "                 [0, 0, 1]])\n",
    "\n",
    "Ry = sym.Matrix([[sym.cos(theta), 0, sym.sin(theta)],\n",
    "                 [0, 1, 0],\n",
    "                 [-sym.sin(theta), 0, sym.cos(theta)]])\n",
    "\n",
    "Rx = sym.Matrix([[1, 0, 0],\n",
    "                 [0, sym.cos(phi), -sym.sin(phi)],\n",
    "                 [0, sym.sin(phi), sym.cos(phi)]])"
   ]
  },
  {
   "cell_type": "markdown",
   "id": "e494d515",
   "metadata": {},
   "source": [
    "Apply sequential transformation to compute the rotation matrix that describes the orientation of the drone (i.e., of frame 1 in the coordinates of frame 0)."
   ]
  },
  {
   "cell_type": "code",
   "execution_count": 163,
   "id": "9a4041f3",
   "metadata": {},
   "outputs": [],
   "source": [
    "R_1in0 = Rz * Ry * Rx"
   ]
  },
  {
   "cell_type": "markdown",
   "id": "69ac916b",
   "metadata": {},
   "source": [
    "### 2.2.2 Map from angular velocity to angular rates"
   ]
  },
  {
   "cell_type": "markdown",
   "id": "bb2179ef",
   "metadata": {},
   "source": [
    "Recall that\n",
    "\n",
    "$$\\begin{bmatrix} \\dot{\\psi} \\\\ \\dot{\\theta} \\\\ \\dot{\\phi} \\end{bmatrix} = N w_{0, 1}^{1}$$\n",
    "\n",
    "for some matrix $N$. Here is how to compute that matrix for a ZYX (yaw, pitch, roll) Euler angle sequence.  First, we compute its inverse:"
   ]
  },
  {
   "cell_type": "code",
   "execution_count": 164,
   "id": "4ceedf24",
   "metadata": {},
   "outputs": [],
   "source": [
    "Ninv = sym.Matrix.hstack((Ry * Rx).T * sym.Matrix([[0], [0], [1]]),\n",
    "                              (Rx).T * sym.Matrix([[0], [1], [0]]),\n",
    "                                       sym.Matrix([[1], [0], [0]]))"
   ]
  },
  {
   "cell_type": "markdown",
   "id": "938044d2",
   "metadata": {},
   "source": [
    "Then, we compute $N$ by taking the inverse of $N^{-1}$:"
   ]
  },
  {
   "cell_type": "code",
   "execution_count": 165,
   "id": "41071e08",
   "metadata": {},
   "outputs": [],
   "source": [
    "N = sym.simplify(Ninv.inv())"
   ]
  },
  {
   "cell_type": "markdown",
   "id": "7cea7d8c",
   "metadata": {},
   "source": [
    "## 2.3 Derive equations of motion"
   ]
  },
  {
   "cell_type": "markdown",
   "id": "cdad5b0f",
   "metadata": {},
   "source": [
    "Ratio of net thrust to mass in terms of z-axis accelerometer measurement."
   ]
  },
  {
   "cell_type": "code",
   "execution_count": 166,
   "id": "6d53c0ee",
   "metadata": {},
   "outputs": [],
   "source": [
    "f_z_over_m = a_z + (w_01in1.cross(v_01in1))[2]"
   ]
  },
  {
   "cell_type": "markdown",
   "id": "c165643a",
   "metadata": {},
   "source": [
    "Ratio of forces to mass."
   ]
  },
  {
   "cell_type": "code",
   "execution_count": 167,
   "id": "5f7687be",
   "metadata": {},
   "outputs": [],
   "source": [
    "f_in1_over_m = R_1in0.T * sym.Matrix([[0], [0], [-g]]) + sym.Matrix([[0], [0], [f_z_over_m]])"
   ]
  },
  {
   "cell_type": "markdown",
   "id": "2416c08f",
   "metadata": {},
   "source": [
    "Equations of motion."
   ]
  },
  {
   "cell_type": "code",
   "execution_count": 168,
   "id": "9b552611",
   "metadata": {},
   "outputs": [],
   "source": [
    "f = sym.Matrix.vstack(\n",
    "    R_1in0 * v_01in1,\n",
    "    N * w_01in1,\n",
    "    (f_in1_over_m - w_01in1.cross(v_01in1)),\n",
    ")"
   ]
  },
  {
   "cell_type": "markdown",
   "id": "96dd4da6",
   "metadata": {},
   "source": [
    "Show equations of motion, which have the form\n",
    "\n",
    "$$\\dot{s} = f(s, i, p)$$\n",
    "\n",
    "where\n",
    "\n",
    "$$\n",
    "s = \\begin{bmatrix} o_x \\\\ o_y \\\\ o_z \\\\ \\psi \\\\ \\theta \\\\ \\phi \\\\ v_x \\\\ v_y \\\\ v_z \\end{bmatrix}\n",
    "\\qquad\\qquad\n",
    "i = \\begin{bmatrix} w_x \\\\ w_y \\\\ w_z \\\\ a_z \\end{bmatrix}\n",
    "\\qquad\\qquad\n",
    "p = \\begin{bmatrix} g \\\\ k_\\text{flow} \\end{bmatrix}.\n",
    "$$"
   ]
  },
  {
   "cell_type": "code",
   "execution_count": 169,
   "id": "e0225f66",
   "metadata": {},
   "outputs": [
    {
     "data": {
      "text/latex": [
       "$\\displaystyle \\left[\\begin{matrix}v_{x} \\cos{\\left(\\psi \\right)} \\cos{\\left(\\theta \\right)} + v_{y} \\left(\\sin{\\left(\\phi \\right)} \\sin{\\left(\\theta \\right)} \\cos{\\left(\\psi \\right)} - \\sin{\\left(\\psi \\right)} \\cos{\\left(\\phi \\right)}\\right) + v_{z} \\left(\\sin{\\left(\\phi \\right)} \\sin{\\left(\\psi \\right)} + \\sin{\\left(\\theta \\right)} \\cos{\\left(\\phi \\right)} \\cos{\\left(\\psi \\right)}\\right)\\\\v_{x} \\sin{\\left(\\psi \\right)} \\cos{\\left(\\theta \\right)} + v_{y} \\left(\\sin{\\left(\\phi \\right)} \\sin{\\left(\\psi \\right)} \\sin{\\left(\\theta \\right)} + \\cos{\\left(\\phi \\right)} \\cos{\\left(\\psi \\right)}\\right) + v_{z} \\left(- \\sin{\\left(\\phi \\right)} \\cos{\\left(\\psi \\right)} + \\sin{\\left(\\psi \\right)} \\sin{\\left(\\theta \\right)} \\cos{\\left(\\phi \\right)}\\right)\\\\- v_{x} \\sin{\\left(\\theta \\right)} + v_{y} \\sin{\\left(\\phi \\right)} \\cos{\\left(\\theta \\right)} + v_{z} \\cos{\\left(\\phi \\right)} \\cos{\\left(\\theta \\right)}\\\\\\frac{w_{y} \\sin{\\left(\\phi \\right)}}{\\cos{\\left(\\theta \\right)}} + \\frac{w_{z} \\cos{\\left(\\phi \\right)}}{\\cos{\\left(\\theta \\right)}}\\\\w_{y} \\cos{\\left(\\phi \\right)} - w_{z} \\sin{\\left(\\phi \\right)}\\\\w_{x} + w_{y} \\sin{\\left(\\phi \\right)} \\tan{\\left(\\theta \\right)} + w_{z} \\cos{\\left(\\phi \\right)} \\tan{\\left(\\theta \\right)}\\\\g \\sin{\\left(\\theta \\right)} + v_{y} w_{z} - v_{z} w_{y}\\\\- g \\sin{\\left(\\phi \\right)} \\cos{\\left(\\theta \\right)} - v_{x} w_{z} + v_{z} w_{x}\\\\a_{z} - g \\cos{\\left(\\phi \\right)} \\cos{\\left(\\theta \\right)}\\end{matrix}\\right]$"
      ],
      "text/plain": [
       "Matrix([\n",
       "[ v_x*cos(psi)*cos(theta) + v_y*(sin(phi)*sin(theta)*cos(psi) - sin(psi)*cos(phi)) + v_z*(sin(phi)*sin(psi) + sin(theta)*cos(phi)*cos(psi))],\n",
       "[v_x*sin(psi)*cos(theta) + v_y*(sin(phi)*sin(psi)*sin(theta) + cos(phi)*cos(psi)) + v_z*(-sin(phi)*cos(psi) + sin(psi)*sin(theta)*cos(phi))],\n",
       "[                                                                       -v_x*sin(theta) + v_y*sin(phi)*cos(theta) + v_z*cos(phi)*cos(theta)],\n",
       "[                                                                                         w_y*sin(phi)/cos(theta) + w_z*cos(phi)/cos(theta)],\n",
       "[                                                                                                               w_y*cos(phi) - w_z*sin(phi)],\n",
       "[                                                                                   w_x + w_y*sin(phi)*tan(theta) + w_z*cos(phi)*tan(theta)],\n",
       "[                                                                                                          g*sin(theta) + v_y*w_z - v_z*w_y],\n",
       "[                                                                                                -g*sin(phi)*cos(theta) - v_x*w_z + v_z*w_x],\n",
       "[                                                                                                               a_z - g*cos(phi)*cos(theta)]])"
      ]
     },
     "execution_count": 169,
     "metadata": {},
     "output_type": "execute_result"
    }
   ],
   "source": [
    "f"
   ]
  },
  {
   "cell_type": "markdown",
   "metadata": {},
   "source": [
    "# Observer Equations"
   ]
  },
  {
   "cell_type": "code",
   "execution_count": 170,
   "metadata": {},
   "outputs": [],
   "source": [
    "o_x, o_y, o_z = sym.S(\"o_x, o_y, o_z\") # drone position in abosulte frame -> loco pos frame\n",
    "x_0, y_0, z_0 = sym.S(\"x_0, y_0, z_0\")\n",
    "x_1, y_1, z_1 = sym.S(\"x_1, y_1, z_1\")\n",
    "x_2, y_2, z_2 = sym.S(\"x_2, y_2, z_2\")\n",
    "x_3, y_3, z_3 = sym.S(\"x_3, y_3, z_3\")\n",
    "x_4, y_4, z_4 = sym.S(\"x_4, y_4, z_4\")\n",
    "x_5, y_5, z_5 = sym.S(\"x_5, y_5, z_5\")\n",
    "x_6, y_6, z_6 = sym.S(\"x_6, y_6, z_6\")\n",
    "x_7, y_7, z_7 = sym.S(\"x_7, y_7, z_7\")"
   ]
  },
  {
   "cell_type": "code",
   "execution_count": 171,
   "metadata": {},
   "outputs": [],
   "source": [
    "psi, theta, phi = sym.S(\"psi, theta, phi\")\n",
    "v_x, v_y, v_z = sym.S(\"v_x, v_y, v_z\")"
   ]
  },
  {
   "cell_type": "code",
   "execution_count": 172,
   "metadata": {},
   "outputs": [],
   "source": [
    "w_x, w_y, w_z = sym.S(\"w_x, w_y, w_z\")\n",
    "a_z = sym.S(\"a_z\")"
   ]
  },
  {
   "cell_type": "code",
   "execution_count": 173,
   "metadata": {},
   "outputs": [],
   "source": [
    "n_x, n_y, r = sym.S(\"n_x, n_y, r\")"
   ]
  },
  {
   "cell_type": "code",
   "execution_count": 174,
   "metadata": {},
   "outputs": [],
   "source": [
    "g, k_flow = sym.S(\"g, k_flow\")"
   ]
  },
  {
   "cell_type": "code",
   "execution_count": 175,
   "metadata": {},
   "outputs": [],
   "source": [
    "anchor_pos_0 = sym.sqrt((o_x-x_0)**2 + (o_y-y_0)**2 + (o_z-z_0)**2)\n",
    "anchor_pos_1 = sym.sqrt((o_x-x_1)**2 + (o_y-y_1)**2 + (o_z-z_1)**2)\n",
    "anchor_pos_2 = sym.sqrt((o_x-x_2)**2 + (o_y-y_2)**2 + (o_z-z_2)**2)\n",
    "anchor_pos_3 = sym.sqrt((o_x-x_3)**2 + (o_y-y_3)**2 + (o_z-z_3)**2)\n",
    "anchor_pos_4 = sym.sqrt((o_x-x_4)**2 + (o_y-y_4)**2 + (o_z-z_4)**2)\n",
    "anchor_pos_5 = sym.sqrt((o_x-x_5)**2 + (o_y-y_5)**2 + (o_z-z_5)**2)\n",
    "anchor_pos_6 = sym.sqrt((o_x-x_6)**2 + (o_y-y_6)**2 + (o_z-z_6)**2)\n",
    "anchor_pos_7 = sym.sqrt((o_x-x_7)**2 + (o_y-y_7)**2 + (o_z-z_7)**2)"
   ]
  },
  {
   "cell_type": "code",
   "execution_count": 176,
   "metadata": {},
   "outputs": [
    {
     "data": {
      "text/latex": [
       "$\\displaystyle \\left[\\begin{matrix}\\sqrt{\\left(o_{x} - x_{0}\\right)^{2} + \\left(o_{y} - y_{0}\\right)^{2} + \\left(o_{z} - z_{0}\\right)^{2}}\\\\\\sqrt{\\left(o_{x} - x_{1}\\right)^{2} + \\left(o_{y} - y_{1}\\right)^{2} + \\left(o_{z} - z_{1}\\right)^{2}}\\\\\\sqrt{\\left(o_{x} - x_{2}\\right)^{2} + \\left(o_{y} - y_{2}\\right)^{2} + \\left(o_{z} - z_{2}\\right)^{2}}\\\\\\sqrt{\\left(o_{x} - x_{3}\\right)^{2} + \\left(o_{y} - y_{3}\\right)^{2} + \\left(o_{z} - z_{3}\\right)^{2}}\\\\\\sqrt{\\left(o_{x} - x_{4}\\right)^{2} + \\left(o_{y} - y_{4}\\right)^{2} + \\left(o_{z} - z_{4}\\right)^{2}}\\\\\\sqrt{\\left(o_{x} - x_{5}\\right)^{2} + \\left(o_{y} - y_{5}\\right)^{2} + \\left(o_{z} - z_{5}\\right)^{2}}\\\\\\sqrt{\\left(o_{x} - x_{6}\\right)^{2} + \\left(o_{y} - y_{6}\\right)^{2} + \\left(o_{z} - z_{6}\\right)^{2}}\\\\\\sqrt{\\left(o_{x} - x_{7}\\right)^{2} + \\left(o_{y} - y_{7}\\right)^{2} + \\left(o_{z} - z_{7}\\right)^{2}}\\\\\\frac{k_{flow} \\left(- o_{z} w_{y} + v_{x}\\right)}{o_{z}}\\\\\\frac{k_{flow} \\left(o_{z} w_{x} + v_{y}\\right)}{o_{z}}\\\\\\frac{o_{z}}{\\cos{\\left(\\phi \\right)} \\cos{\\left(\\theta \\right)}}\\end{matrix}\\right]$"
      ],
      "text/plain": [
       "Matrix([\n",
       "[sqrt((o_x - x_0)**2 + (o_y - y_0)**2 + (o_z - z_0)**2)],\n",
       "[sqrt((o_x - x_1)**2 + (o_y - y_1)**2 + (o_z - z_1)**2)],\n",
       "[sqrt((o_x - x_2)**2 + (o_y - y_2)**2 + (o_z - z_2)**2)],\n",
       "[sqrt((o_x - x_3)**2 + (o_y - y_3)**2 + (o_z - z_3)**2)],\n",
       "[sqrt((o_x - x_4)**2 + (o_y - y_4)**2 + (o_z - z_4)**2)],\n",
       "[sqrt((o_x - x_5)**2 + (o_y - y_5)**2 + (o_z - z_5)**2)],\n",
       "[sqrt((o_x - x_6)**2 + (o_y - y_6)**2 + (o_z - z_6)**2)],\n",
       "[sqrt((o_x - x_7)**2 + (o_y - y_7)**2 + (o_z - z_7)**2)],\n",
       "[                           k_flow*(-o_z*w_y + v_x)/o_z],\n",
       "[                            k_flow*(o_z*w_x + v_y)/o_z],\n",
       "[                             o_z/(cos(phi)*cos(theta))]])"
      ]
     },
     "execution_count": 176,
     "metadata": {},
     "output_type": "execute_result"
    }
   ],
   "source": [
    "h = sym.Matrix([\n",
    "    anchor_pos_0,\n",
    "    anchor_pos_1,\n",
    "    anchor_pos_2,\n",
    "    anchor_pos_3,\n",
    "    anchor_pos_4,\n",
    "    anchor_pos_5,\n",
    "    anchor_pos_6,\n",
    "    anchor_pos_7,\n",
    "    k_flow*(v_x-o_z*w_y)/o_z, # n_x\n",
    "    k_flow*(v_y+o_z*w_x)/o_z, # n_y\n",
    "    o_z / (sym.cos(phi)*sym.cos(theta)) # r\n",
    "])\n",
    "h"
   ]
  },
  {
   "cell_type": "code",
   "execution_count": 177,
   "metadata": {},
   "outputs": [],
   "source": [
    "s = [o_x, o_y, o_z, psi, theta, phi, v_x, v_y, v_z]\n",
    "i = [w_x, w_y, w_z, a_z]\n",
    "o = [anchor_pos_0,\n",
    "    anchor_pos_1,\n",
    "    anchor_pos_2,\n",
    "    anchor_pos_3,\n",
    "    anchor_pos_4,\n",
    "    anchor_pos_5,\n",
    "    anchor_pos_6,\n",
    "    anchor_pos_7,\n",
    "    n_x,\n",
    "    n_y,\n",
    "    r,\n",
    "    ]\n",
    "p = [g, k_flow]\n"
   ]
  },
  {
   "cell_type": "code",
   "execution_count": 178,
   "metadata": {},
   "outputs": [],
   "source": [
    "o_x_eq = sym.symbols('o_x_eq')\n",
    "o_y_eq = sym.symbols('o_y_eq')\n",
    "o_z_eq = sym.symbols('o_z_eq')\n",
    "s_eq = [o_x_eq, o_y_eq, o_z_eq, 0, 0, 0, 0, 0, 0]\n",
    "i_eq = [0, 0, 0, g]\n",
    "\n",
    "s_eq = [sym.nsimplify(a) for a in s_eq]\n",
    "i_eq = [sym.nsimplify(a) for a in i_eq]\n"
   ]
  },
  {
   "cell_type": "code",
   "execution_count": 179,
   "metadata": {},
   "outputs": [
    {
     "data": {
      "text/latex": [
       "$\\displaystyle \\left[\\begin{matrix}\\sqrt{\\left(o_{x} - x_{0}\\right)^{2} + \\left(o_{y} - y_{0}\\right)^{2} + \\left(o_{z} - z_{0}\\right)^{2}} - \\sqrt{\\left(o_{x eq} - x_{0}\\right)^{2} + \\left(o_{y eq} - y_{0}\\right)^{2} + \\left(o_{z eq} - z_{0}\\right)^{2}}\\\\\\sqrt{\\left(o_{x} - x_{1}\\right)^{2} + \\left(o_{y} - y_{1}\\right)^{2} + \\left(o_{z} - z_{1}\\right)^{2}} - \\sqrt{\\left(o_{x eq} - x_{1}\\right)^{2} + \\left(o_{y eq} - y_{1}\\right)^{2} + \\left(o_{z eq} - z_{1}\\right)^{2}}\\\\\\sqrt{\\left(o_{x} - x_{2}\\right)^{2} + \\left(o_{y} - y_{2}\\right)^{2} + \\left(o_{z} - z_{2}\\right)^{2}} - \\sqrt{\\left(o_{x eq} - x_{2}\\right)^{2} + \\left(o_{y eq} - y_{2}\\right)^{2} + \\left(o_{z eq} - z_{2}\\right)^{2}}\\\\\\sqrt{\\left(o_{x} - x_{3}\\right)^{2} + \\left(o_{y} - y_{3}\\right)^{2} + \\left(o_{z} - z_{3}\\right)^{2}} - \\sqrt{\\left(o_{x eq} - x_{3}\\right)^{2} + \\left(o_{y eq} - y_{3}\\right)^{2} + \\left(o_{z eq} - z_{3}\\right)^{2}}\\\\\\sqrt{\\left(o_{x} - x_{4}\\right)^{2} + \\left(o_{y} - y_{4}\\right)^{2} + \\left(o_{z} - z_{4}\\right)^{2}} - \\sqrt{\\left(o_{x eq} - x_{4}\\right)^{2} + \\left(o_{y eq} - y_{4}\\right)^{2} + \\left(o_{z eq} - z_{4}\\right)^{2}}\\\\\\sqrt{\\left(o_{x} - x_{5}\\right)^{2} + \\left(o_{y} - y_{5}\\right)^{2} + \\left(o_{z} - z_{5}\\right)^{2}} - \\sqrt{\\left(o_{x eq} - x_{5}\\right)^{2} + \\left(o_{y eq} - y_{5}\\right)^{2} + \\left(o_{z eq} - z_{5}\\right)^{2}}\\\\\\sqrt{\\left(o_{x} - x_{6}\\right)^{2} + \\left(o_{y} - y_{6}\\right)^{2} + \\left(o_{z} - z_{6}\\right)^{2}} - \\sqrt{\\left(o_{x eq} - x_{6}\\right)^{2} + \\left(o_{y eq} - y_{6}\\right)^{2} + \\left(o_{z eq} - z_{6}\\right)^{2}}\\\\\\sqrt{\\left(o_{x} - x_{7}\\right)^{2} + \\left(o_{y} - y_{7}\\right)^{2} + \\left(o_{z} - z_{7}\\right)^{2}} - \\sqrt{\\left(o_{x eq} - x_{7}\\right)^{2} + \\left(o_{y eq} - y_{7}\\right)^{2} + \\left(o_{z eq} - z_{7}\\right)^{2}}\\\\n_{x}\\\\n_{y}\\\\- o_{z eq} + r\\end{matrix}\\right]$"
      ],
      "text/plain": [
       "Matrix([\n",
       "[sqrt((o_x - x_0)**2 + (o_y - y_0)**2 + (o_z - z_0)**2) - sqrt((o_x_eq - x_0)**2 + (o_y_eq - y_0)**2 + (o_z_eq - z_0)**2)],\n",
       "[sqrt((o_x - x_1)**2 + (o_y - y_1)**2 + (o_z - z_1)**2) - sqrt((o_x_eq - x_1)**2 + (o_y_eq - y_1)**2 + (o_z_eq - z_1)**2)],\n",
       "[sqrt((o_x - x_2)**2 + (o_y - y_2)**2 + (o_z - z_2)**2) - sqrt((o_x_eq - x_2)**2 + (o_y_eq - y_2)**2 + (o_z_eq - z_2)**2)],\n",
       "[sqrt((o_x - x_3)**2 + (o_y - y_3)**2 + (o_z - z_3)**2) - sqrt((o_x_eq - x_3)**2 + (o_y_eq - y_3)**2 + (o_z_eq - z_3)**2)],\n",
       "[sqrt((o_x - x_4)**2 + (o_y - y_4)**2 + (o_z - z_4)**2) - sqrt((o_x_eq - x_4)**2 + (o_y_eq - y_4)**2 + (o_z_eq - z_4)**2)],\n",
       "[sqrt((o_x - x_5)**2 + (o_y - y_5)**2 + (o_z - z_5)**2) - sqrt((o_x_eq - x_5)**2 + (o_y_eq - y_5)**2 + (o_z_eq - z_5)**2)],\n",
       "[sqrt((o_x - x_6)**2 + (o_y - y_6)**2 + (o_z - z_6)**2) - sqrt((o_x_eq - x_6)**2 + (o_y_eq - y_6)**2 + (o_z_eq - z_6)**2)],\n",
       "[sqrt((o_x - x_7)**2 + (o_y - y_7)**2 + (o_z - z_7)**2) - sqrt((o_x_eq - x_7)**2 + (o_y_eq - y_7)**2 + (o_z_eq - z_7)**2)],\n",
       "[                                                                                                                     n_x],\n",
       "[                                                                                                                     n_y],\n",
       "[                                                                                                             -o_z_eq + r]])"
      ]
     },
     "execution_count": 179,
     "metadata": {},
     "output_type": "execute_result"
    }
   ],
   "source": [
    "x = sym.Matrix([o_x, o_y, o_z, psi, theta, phi, v_x, v_y, v_z]) - sym.Matrix(s_eq)\n",
    "u = sym.Matrix([w_x, w_y, w_z, a_z]) - sym.Matrix(i_eq)\n",
    "y = sym.Matrix(o) - h.subs(tuple(zip(s, s_eq))).subs(tuple(zip(i, i_eq)))\n",
    "y"
   ]
  },
  {
   "cell_type": "code",
   "execution_count": 180,
   "metadata": {},
   "outputs": [
    {
     "data": {
      "text/plain": [
       "(Matrix([\n",
       " [0, 0, 0, 0, 0,  0, 1, 0, 0],\n",
       " [0, 0, 0, 0, 0,  0, 0, 1, 0],\n",
       " [0, 0, 0, 0, 0,  0, 0, 0, 1],\n",
       " [0, 0, 0, 0, 0,  0, 0, 0, 0],\n",
       " [0, 0, 0, 0, 0,  0, 0, 0, 0],\n",
       " [0, 0, 0, 0, 0,  0, 0, 0, 0],\n",
       " [0, 0, 0, 0, g,  0, 0, 0, 0],\n",
       " [0, 0, 0, 0, 0, -g, 0, 0, 0],\n",
       " [0, 0, 0, 0, 0,  0, 0, 0, 0]]),\n",
       " Matrix([\n",
       " [0, 0, 0, 0],\n",
       " [0, 0, 0, 0],\n",
       " [0, 0, 0, 0],\n",
       " [0, 0, 1, 0],\n",
       " [0, 1, 0, 0],\n",
       " [1, 0, 0, 0],\n",
       " [0, 0, 0, 0],\n",
       " [0, 0, 0, 0],\n",
       " [0, 0, 0, 1]]))"
      ]
     },
     "execution_count": 180,
     "metadata": {},
     "output_type": "execute_result"
    }
   ],
   "source": [
    "A = f.jacobian(s).subs(tuple(zip(s, s_eq))).subs(tuple(zip(i, i_eq)))\n",
    "B = f.jacobian(i).subs(tuple(zip(s, s_eq))).subs(tuple(zip(i, i_eq)))\n",
    "A, B"
   ]
  },
  {
   "cell_type": "code",
   "execution_count": 181,
   "metadata": {},
   "outputs": [],
   "source": [
    "\n",
    "C = h.jacobian(s).subs(tuple(zip(s, s_eq))).subs(tuple(zip(i, i_eq)))\n",
    "D = h.jacobian(i).subs(tuple(zip(s, s_eq))).subs(tuple(zip(i, i_eq)))\n",
    "\n"
   ]
  },
  {
   "cell_type": "code",
   "execution_count": 182,
   "metadata": {},
   "outputs": [],
   "source": [
    "s_obs_index = [0, 1, 2, 4, 5, 6, 7, 8]\n",
    "A_obs = A[s_obs_index, :][:, s_obs_index]\n",
    "B_obs = B[s_obs_index, :]\n",
    "C_obs = C[:, s_obs_index]\n",
    "D_obs = D"
   ]
  },
  {
   "cell_type": "code",
   "execution_count": 183,
   "metadata": {},
   "outputs": [
    {
     "data": {
      "text/latex": [
       "$\\displaystyle \\left[\\begin{matrix}\\frac{o_{x} \\left(o_{x eq} - x_{0}\\right)}{\\sqrt{\\left(o_{x eq} - x_{0}\\right)^{2} + \\left(o_{y eq} - y_{0}\\right)^{2} + \\left(o_{z eq} - z_{0}\\right)^{2}}} + \\frac{o_{y} \\left(o_{y eq} - y_{0}\\right)}{\\sqrt{\\left(o_{x eq} - x_{0}\\right)^{2} + \\left(o_{y eq} - y_{0}\\right)^{2} + \\left(o_{z eq} - z_{0}\\right)^{2}}} + \\frac{\\left(o_{z} - o_{z eq}\\right) \\left(o_{z eq} - z_{0}\\right)}{\\sqrt{\\left(o_{x eq} - x_{0}\\right)^{2} + \\left(o_{y eq} - y_{0}\\right)^{2} + \\left(o_{z eq} - z_{0}\\right)^{2}}} - \\sqrt{\\left(o_{x} - x_{0}\\right)^{2} + \\left(o_{y} - y_{0}\\right)^{2} + \\left(o_{z} - z_{0}\\right)^{2}} + \\sqrt{\\left(o_{x eq} - x_{0}\\right)^{2} + \\left(o_{y eq} - y_{0}\\right)^{2} + \\left(o_{z eq} - z_{0}\\right)^{2}}\\\\\\frac{o_{x} \\left(o_{x eq} - x_{1}\\right)}{\\sqrt{\\left(o_{x eq} - x_{1}\\right)^{2} + \\left(o_{y eq} - y_{1}\\right)^{2} + \\left(o_{z eq} - z_{1}\\right)^{2}}} + \\frac{o_{y} \\left(o_{y eq} - y_{1}\\right)}{\\sqrt{\\left(o_{x eq} - x_{1}\\right)^{2} + \\left(o_{y eq} - y_{1}\\right)^{2} + \\left(o_{z eq} - z_{1}\\right)^{2}}} + \\frac{\\left(o_{z} - o_{z eq}\\right) \\left(o_{z eq} - z_{1}\\right)}{\\sqrt{\\left(o_{x eq} - x_{1}\\right)^{2} + \\left(o_{y eq} - y_{1}\\right)^{2} + \\left(o_{z eq} - z_{1}\\right)^{2}}} - \\sqrt{\\left(o_{x} - x_{1}\\right)^{2} + \\left(o_{y} - y_{1}\\right)^{2} + \\left(o_{z} - z_{1}\\right)^{2}} + \\sqrt{\\left(o_{x eq} - x_{1}\\right)^{2} + \\left(o_{y eq} - y_{1}\\right)^{2} + \\left(o_{z eq} - z_{1}\\right)^{2}}\\\\\\frac{o_{x} \\left(o_{x eq} - x_{2}\\right)}{\\sqrt{\\left(o_{x eq} - x_{2}\\right)^{2} + \\left(o_{y eq} - y_{2}\\right)^{2} + \\left(o_{z eq} - z_{2}\\right)^{2}}} + \\frac{o_{y} \\left(o_{y eq} - y_{2}\\right)}{\\sqrt{\\left(o_{x eq} - x_{2}\\right)^{2} + \\left(o_{y eq} - y_{2}\\right)^{2} + \\left(o_{z eq} - z_{2}\\right)^{2}}} + \\frac{\\left(o_{z} - o_{z eq}\\right) \\left(o_{z eq} - z_{2}\\right)}{\\sqrt{\\left(o_{x eq} - x_{2}\\right)^{2} + \\left(o_{y eq} - y_{2}\\right)^{2} + \\left(o_{z eq} - z_{2}\\right)^{2}}} - \\sqrt{\\left(o_{x} - x_{2}\\right)^{2} + \\left(o_{y} - y_{2}\\right)^{2} + \\left(o_{z} - z_{2}\\right)^{2}} + \\sqrt{\\left(o_{x eq} - x_{2}\\right)^{2} + \\left(o_{y eq} - y_{2}\\right)^{2} + \\left(o_{z eq} - z_{2}\\right)^{2}}\\\\\\frac{o_{x} \\left(o_{x eq} - x_{3}\\right)}{\\sqrt{\\left(o_{x eq} - x_{3}\\right)^{2} + \\left(o_{y eq} - y_{3}\\right)^{2} + \\left(o_{z eq} - z_{3}\\right)^{2}}} + \\frac{o_{y} \\left(o_{y eq} - y_{3}\\right)}{\\sqrt{\\left(o_{x eq} - x_{3}\\right)^{2} + \\left(o_{y eq} - y_{3}\\right)^{2} + \\left(o_{z eq} - z_{3}\\right)^{2}}} + \\frac{\\left(o_{z} - o_{z eq}\\right) \\left(o_{z eq} - z_{3}\\right)}{\\sqrt{\\left(o_{x eq} - x_{3}\\right)^{2} + \\left(o_{y eq} - y_{3}\\right)^{2} + \\left(o_{z eq} - z_{3}\\right)^{2}}} - \\sqrt{\\left(o_{x} - x_{3}\\right)^{2} + \\left(o_{y} - y_{3}\\right)^{2} + \\left(o_{z} - z_{3}\\right)^{2}} + \\sqrt{\\left(o_{x eq} - x_{3}\\right)^{2} + \\left(o_{y eq} - y_{3}\\right)^{2} + \\left(o_{z eq} - z_{3}\\right)^{2}}\\\\\\frac{o_{x} \\left(o_{x eq} - x_{4}\\right)}{\\sqrt{\\left(o_{x eq} - x_{4}\\right)^{2} + \\left(o_{y eq} - y_{4}\\right)^{2} + \\left(o_{z eq} - z_{4}\\right)^{2}}} + \\frac{o_{y} \\left(o_{y eq} - y_{4}\\right)}{\\sqrt{\\left(o_{x eq} - x_{4}\\right)^{2} + \\left(o_{y eq} - y_{4}\\right)^{2} + \\left(o_{z eq} - z_{4}\\right)^{2}}} + \\frac{\\left(o_{z} - o_{z eq}\\right) \\left(o_{z eq} - z_{4}\\right)}{\\sqrt{\\left(o_{x eq} - x_{4}\\right)^{2} + \\left(o_{y eq} - y_{4}\\right)^{2} + \\left(o_{z eq} - z_{4}\\right)^{2}}} - \\sqrt{\\left(o_{x} - x_{4}\\right)^{2} + \\left(o_{y} - y_{4}\\right)^{2} + \\left(o_{z} - z_{4}\\right)^{2}} + \\sqrt{\\left(o_{x eq} - x_{4}\\right)^{2} + \\left(o_{y eq} - y_{4}\\right)^{2} + \\left(o_{z eq} - z_{4}\\right)^{2}}\\\\\\frac{o_{x} \\left(o_{x eq} - x_{5}\\right)}{\\sqrt{\\left(o_{x eq} - x_{5}\\right)^{2} + \\left(o_{y eq} - y_{5}\\right)^{2} + \\left(o_{z eq} - z_{5}\\right)^{2}}} + \\frac{o_{y} \\left(o_{y eq} - y_{5}\\right)}{\\sqrt{\\left(o_{x eq} - x_{5}\\right)^{2} + \\left(o_{y eq} - y_{5}\\right)^{2} + \\left(o_{z eq} - z_{5}\\right)^{2}}} + \\frac{\\left(o_{z} - o_{z eq}\\right) \\left(o_{z eq} - z_{5}\\right)}{\\sqrt{\\left(o_{x eq} - x_{5}\\right)^{2} + \\left(o_{y eq} - y_{5}\\right)^{2} + \\left(o_{z eq} - z_{5}\\right)^{2}}} - \\sqrt{\\left(o_{x} - x_{5}\\right)^{2} + \\left(o_{y} - y_{5}\\right)^{2} + \\left(o_{z} - z_{5}\\right)^{2}} + \\sqrt{\\left(o_{x eq} - x_{5}\\right)^{2} + \\left(o_{y eq} - y_{5}\\right)^{2} + \\left(o_{z eq} - z_{5}\\right)^{2}}\\\\\\frac{o_{x} \\left(o_{x eq} - x_{6}\\right)}{\\sqrt{\\left(o_{x eq} - x_{6}\\right)^{2} + \\left(o_{y eq} - y_{6}\\right)^{2} + \\left(o_{z eq} - z_{6}\\right)^{2}}} + \\frac{o_{y} \\left(o_{y eq} - y_{6}\\right)}{\\sqrt{\\left(o_{x eq} - x_{6}\\right)^{2} + \\left(o_{y eq} - y_{6}\\right)^{2} + \\left(o_{z eq} - z_{6}\\right)^{2}}} + \\frac{\\left(o_{z} - o_{z eq}\\right) \\left(o_{z eq} - z_{6}\\right)}{\\sqrt{\\left(o_{x eq} - x_{6}\\right)^{2} + \\left(o_{y eq} - y_{6}\\right)^{2} + \\left(o_{z eq} - z_{6}\\right)^{2}}} - \\sqrt{\\left(o_{x} - x_{6}\\right)^{2} + \\left(o_{y} - y_{6}\\right)^{2} + \\left(o_{z} - z_{6}\\right)^{2}} + \\sqrt{\\left(o_{x eq} - x_{6}\\right)^{2} + \\left(o_{y eq} - y_{6}\\right)^{2} + \\left(o_{z eq} - z_{6}\\right)^{2}}\\\\\\frac{o_{x} \\left(o_{x eq} - x_{7}\\right)}{\\sqrt{\\left(o_{x eq} - x_{7}\\right)^{2} + \\left(o_{y eq} - y_{7}\\right)^{2} + \\left(o_{z eq} - z_{7}\\right)^{2}}} + \\frac{o_{y} \\left(o_{y eq} - y_{7}\\right)}{\\sqrt{\\left(o_{x eq} - x_{7}\\right)^{2} + \\left(o_{y eq} - y_{7}\\right)^{2} + \\left(o_{z eq} - z_{7}\\right)^{2}}} + \\frac{\\left(o_{z} - o_{z eq}\\right) \\left(o_{z eq} - z_{7}\\right)}{\\sqrt{\\left(o_{x eq} - x_{7}\\right)^{2} + \\left(o_{y eq} - y_{7}\\right)^{2} + \\left(o_{z eq} - z_{7}\\right)^{2}}} - \\sqrt{\\left(o_{x} - x_{7}\\right)^{2} + \\left(o_{y} - y_{7}\\right)^{2} + \\left(o_{z} - z_{7}\\right)^{2}} + \\sqrt{\\left(o_{x eq} - x_{7}\\right)^{2} + \\left(o_{y eq} - y_{7}\\right)^{2} + \\left(o_{z eq} - z_{7}\\right)^{2}}\\\\- k_{flow} w_{y} + \\frac{k_{flow} v_{x}}{o_{z eq}} - n_{x}\\\\k_{flow} w_{x} + \\frac{k_{flow} v_{y}}{o_{z eq}} - n_{y}\\\\o_{z} - r\\end{matrix}\\right]$"
      ],
      "text/plain": [
       "Matrix([\n",
       "[o_x*(o_x_eq - x_0)/sqrt((o_x_eq - x_0)**2 + (o_y_eq - y_0)**2 + (o_z_eq - z_0)**2) + o_y*(o_y_eq - y_0)/sqrt((o_x_eq - x_0)**2 + (o_y_eq - y_0)**2 + (o_z_eq - z_0)**2) + (o_z - o_z_eq)*(o_z_eq - z_0)/sqrt((o_x_eq - x_0)**2 + (o_y_eq - y_0)**2 + (o_z_eq - z_0)**2) - sqrt((o_x - x_0)**2 + (o_y - y_0)**2 + (o_z - z_0)**2) + sqrt((o_x_eq - x_0)**2 + (o_y_eq - y_0)**2 + (o_z_eq - z_0)**2)],\n",
       "[o_x*(o_x_eq - x_1)/sqrt((o_x_eq - x_1)**2 + (o_y_eq - y_1)**2 + (o_z_eq - z_1)**2) + o_y*(o_y_eq - y_1)/sqrt((o_x_eq - x_1)**2 + (o_y_eq - y_1)**2 + (o_z_eq - z_1)**2) + (o_z - o_z_eq)*(o_z_eq - z_1)/sqrt((o_x_eq - x_1)**2 + (o_y_eq - y_1)**2 + (o_z_eq - z_1)**2) - sqrt((o_x - x_1)**2 + (o_y - y_1)**2 + (o_z - z_1)**2) + sqrt((o_x_eq - x_1)**2 + (o_y_eq - y_1)**2 + (o_z_eq - z_1)**2)],\n",
       "[o_x*(o_x_eq - x_2)/sqrt((o_x_eq - x_2)**2 + (o_y_eq - y_2)**2 + (o_z_eq - z_2)**2) + o_y*(o_y_eq - y_2)/sqrt((o_x_eq - x_2)**2 + (o_y_eq - y_2)**2 + (o_z_eq - z_2)**2) + (o_z - o_z_eq)*(o_z_eq - z_2)/sqrt((o_x_eq - x_2)**2 + (o_y_eq - y_2)**2 + (o_z_eq - z_2)**2) - sqrt((o_x - x_2)**2 + (o_y - y_2)**2 + (o_z - z_2)**2) + sqrt((o_x_eq - x_2)**2 + (o_y_eq - y_2)**2 + (o_z_eq - z_2)**2)],\n",
       "[o_x*(o_x_eq - x_3)/sqrt((o_x_eq - x_3)**2 + (o_y_eq - y_3)**2 + (o_z_eq - z_3)**2) + o_y*(o_y_eq - y_3)/sqrt((o_x_eq - x_3)**2 + (o_y_eq - y_3)**2 + (o_z_eq - z_3)**2) + (o_z - o_z_eq)*(o_z_eq - z_3)/sqrt((o_x_eq - x_3)**2 + (o_y_eq - y_3)**2 + (o_z_eq - z_3)**2) - sqrt((o_x - x_3)**2 + (o_y - y_3)**2 + (o_z - z_3)**2) + sqrt((o_x_eq - x_3)**2 + (o_y_eq - y_3)**2 + (o_z_eq - z_3)**2)],\n",
       "[o_x*(o_x_eq - x_4)/sqrt((o_x_eq - x_4)**2 + (o_y_eq - y_4)**2 + (o_z_eq - z_4)**2) + o_y*(o_y_eq - y_4)/sqrt((o_x_eq - x_4)**2 + (o_y_eq - y_4)**2 + (o_z_eq - z_4)**2) + (o_z - o_z_eq)*(o_z_eq - z_4)/sqrt((o_x_eq - x_4)**2 + (o_y_eq - y_4)**2 + (o_z_eq - z_4)**2) - sqrt((o_x - x_4)**2 + (o_y - y_4)**2 + (o_z - z_4)**2) + sqrt((o_x_eq - x_4)**2 + (o_y_eq - y_4)**2 + (o_z_eq - z_4)**2)],\n",
       "[o_x*(o_x_eq - x_5)/sqrt((o_x_eq - x_5)**2 + (o_y_eq - y_5)**2 + (o_z_eq - z_5)**2) + o_y*(o_y_eq - y_5)/sqrt((o_x_eq - x_5)**2 + (o_y_eq - y_5)**2 + (o_z_eq - z_5)**2) + (o_z - o_z_eq)*(o_z_eq - z_5)/sqrt((o_x_eq - x_5)**2 + (o_y_eq - y_5)**2 + (o_z_eq - z_5)**2) - sqrt((o_x - x_5)**2 + (o_y - y_5)**2 + (o_z - z_5)**2) + sqrt((o_x_eq - x_5)**2 + (o_y_eq - y_5)**2 + (o_z_eq - z_5)**2)],\n",
       "[o_x*(o_x_eq - x_6)/sqrt((o_x_eq - x_6)**2 + (o_y_eq - y_6)**2 + (o_z_eq - z_6)**2) + o_y*(o_y_eq - y_6)/sqrt((o_x_eq - x_6)**2 + (o_y_eq - y_6)**2 + (o_z_eq - z_6)**2) + (o_z - o_z_eq)*(o_z_eq - z_6)/sqrt((o_x_eq - x_6)**2 + (o_y_eq - y_6)**2 + (o_z_eq - z_6)**2) - sqrt((o_x - x_6)**2 + (o_y - y_6)**2 + (o_z - z_6)**2) + sqrt((o_x_eq - x_6)**2 + (o_y_eq - y_6)**2 + (o_z_eq - z_6)**2)],\n",
       "[o_x*(o_x_eq - x_7)/sqrt((o_x_eq - x_7)**2 + (o_y_eq - y_7)**2 + (o_z_eq - z_7)**2) + o_y*(o_y_eq - y_7)/sqrt((o_x_eq - x_7)**2 + (o_y_eq - y_7)**2 + (o_z_eq - z_7)**2) + (o_z - o_z_eq)*(o_z_eq - z_7)/sqrt((o_x_eq - x_7)**2 + (o_y_eq - y_7)**2 + (o_z_eq - z_7)**2) - sqrt((o_x - x_7)**2 + (o_y - y_7)**2 + (o_z - z_7)**2) + sqrt((o_x_eq - x_7)**2 + (o_y_eq - y_7)**2 + (o_z_eq - z_7)**2)],\n",
       "[                                                                                                                                                                                                                                                                                                                                                             -k_flow*w_y + k_flow*v_x/o_z_eq - n_x],\n",
       "[                                                                                                                                                                                                                                                                                                                                                              k_flow*w_x + k_flow*v_y/o_z_eq - n_y],\n",
       "[                                                                                                                                                                                                                                                                                                                                                                                           o_z - r]])"
      ]
     },
     "execution_count": 183,
     "metadata": {},
     "output_type": "execute_result"
    }
   ],
   "source": [
    "x_obs = sym.Matrix([o_x, o_y, o_z - o_z_eq, theta, phi, v_x, v_y, v_z])\n",
    "C_obs*x_obs + D_obs*u - y"
   ]
  },
  {
   "cell_type": "code",
   "execution_count": 184,
   "metadata": {},
   "outputs": [],
   "source": [
    "anchors_x_sym = [x_0, x_1, x_2, x_3, x_4, x_5, x_6, x_7]\n",
    "anchors_y_sym = [y_0, y_1, y_2, y_3, y_4, y_5, y_6, y_7]\n",
    "anchors_z_sym = [z_0, z_1, z_2, z_3, z_4, z_5, z_6, z_7]\n",
    "anchors_x = [-1.82, -3.57, 1.82, 2.67, -3.61, 1.84, 2.74, -1.85]\n",
    "anchors_y = [2.18, 3.18, 2.21, -3.30, -3.30, -0.90, 3.18, -0.93]\n",
    "anchors_z = [1.10, 2.24, 1.10, 2.20, 2.25, 1.10, 2.24, 1.09]"
   ]
  },
  {
   "cell_type": "code",
   "execution_count": 185,
   "metadata": {},
   "outputs": [
    {
     "data": {
      "text/latex": [
       "$\\displaystyle \\left[\\begin{matrix}0.597611727293697 & -0.715820640384758 & -0.361193901111575 & 0 & 0 & 0 & 0 & 0\\\\0.676178810479098 & -0.602310537065415 & -0.424269057555513 & 0 & 0 & 0 & 0 & 0\\\\-0.593413412403628 & -0.720573429347262 & -0.358656458046149 & 0 & 0 & 0 & 0 & 0\\\\-0.558449102736631 & 0.690217992146398 & -0.460145328097599 & 0 & 0 & 0 & 0 & 0\\\\0.67053823392382 & 0.612957388351414 & -0.417925492057782 & 0 & 0 & 0 & 0 & 0\\\\-0.791399679501895 & 0.387097669321579 & -0.473119373615263 & 0 & 0 & 0 & 0 & 0\\\\-0.575884476562768 & -0.668362275718833 & -0.470796068430876 & 0 & 0 & 0 & 0 & 0\\\\0.790605509981734 & 0.397439526639467 & -0.465816219394644 & 0 & 0 & 0 & 0 & 0\\\\0 & 0 & 0 & 0 & 0 & \\tilde{\\infty} & 0 & 0\\\\0 & 0 & 0 & 0 & 0 & 0 & \\tilde{\\infty} & 0\\\\0 & 0 & 1 & 0 & 0 & 0 & 0 & 0\\end{matrix}\\right]$"
      ],
      "text/plain": [
       "Matrix([\n",
       "[ 0.597611727293697, -0.715820640384758, -0.361193901111575, 0, 0,   0,   0, 0],\n",
       "[ 0.676178810479098, -0.602310537065415, -0.424269057555513, 0, 0,   0,   0, 0],\n",
       "[-0.593413412403628, -0.720573429347262, -0.358656458046149, 0, 0,   0,   0, 0],\n",
       "[-0.558449102736631,  0.690217992146398, -0.460145328097599, 0, 0,   0,   0, 0],\n",
       "[  0.67053823392382,  0.612957388351414, -0.417925492057782, 0, 0,   0,   0, 0],\n",
       "[-0.791399679501895,  0.387097669321579, -0.473119373615263, 0, 0,   0,   0, 0],\n",
       "[-0.575884476562768, -0.668362275718833, -0.470796068430876, 0, 0,   0,   0, 0],\n",
       "[ 0.790605509981734,  0.397439526639467, -0.465816219394644, 0, 0,   0,   0, 0],\n",
       "[                 0,                  0,                  0, 0, 0, zoo,   0, 0],\n",
       "[                 0,                  0,                  0, 0, 0,   0, zoo, 0],\n",
       "[                 0,                  0,                  1, 0, 0,   0,   0, 0]])"
      ]
     },
     "execution_count": 185,
     "metadata": {},
     "output_type": "execute_result"
    }
   ],
   "source": [
    "C_obs = C_obs.subs(tuple(zip(anchors_x_sym, anchors_x))).subs(tuple(zip(anchors_y_sym, anchors_y))).subs(tuple(zip(anchors_z_sym, anchors_z)))\n",
    "C_obs = C_obs.subs(o_x_eq, 0).subs(o_y_eq, 0).subs(o_z_eq, 0).subs(k_flow, 0.01 * 30.0 / np.deg2rad(4.2))\n",
    "C_obs\n"
   ]
  },
  {
   "cell_type": "code",
   "execution_count": 186,
   "metadata": {},
   "outputs": [
    {
     "ename": "TypeError",
     "evalue": "Cannot convert complex to float",
     "output_type": "error",
     "traceback": [
      "\u001b[0;31m---------------------------------------------------------------------------\u001b[0m",
      "\u001b[0;31mTypeError\u001b[0m                                 Traceback (most recent call last)",
      "\u001b[1;32m/Users/prahershkumar/opt/miniconda3/envs/ae483/crazyflie-client/finalProject/ae483_loco_calcs.ipynb Cell 56\u001b[0m in \u001b[0;36m<cell line: 3>\u001b[0;34m()\u001b[0m\n\u001b[1;32m      <a href='vscode-notebook-cell:/Users/prahershkumar/opt/miniconda3/envs/ae483/crazyflie-client/finalProject/ae483_loco_calcs.ipynb#Y113sZmlsZQ%3D%3D?line=0'>1</a>\u001b[0m A_arr \u001b[39m=\u001b[39m np\u001b[39m.\u001b[39marray(A_obs\u001b[39m.\u001b[39msubs(g, \u001b[39m-\u001b[39m\u001b[39m9.81\u001b[39m)\u001b[39m.\u001b[39mtolist(), dtype\u001b[39m=\u001b[39mnp\u001b[39m.\u001b[39mfloat64)\n\u001b[1;32m      <a href='vscode-notebook-cell:/Users/prahershkumar/opt/miniconda3/envs/ae483/crazyflie-client/finalProject/ae483_loco_calcs.ipynb#Y113sZmlsZQ%3D%3D?line=1'>2</a>\u001b[0m B_arr \u001b[39m=\u001b[39m np\u001b[39m.\u001b[39marray(B_obs\u001b[39m.\u001b[39msubs(g, \u001b[39m-\u001b[39m\u001b[39m9.81\u001b[39m)\u001b[39m.\u001b[39mtolist(), dtype\u001b[39m=\u001b[39mnp\u001b[39m.\u001b[39mfloat64)\n\u001b[0;32m----> <a href='vscode-notebook-cell:/Users/prahershkumar/opt/miniconda3/envs/ae483/crazyflie-client/finalProject/ae483_loco_calcs.ipynb#Y113sZmlsZQ%3D%3D?line=2'>3</a>\u001b[0m C_arr \u001b[39m=\u001b[39m np\u001b[39m.\u001b[39;49marray(C_obs\u001b[39m.\u001b[39;49mtolist(), dtype\u001b[39m=\u001b[39;49mnp\u001b[39m.\u001b[39;49mfloat64)\n",
      "File \u001b[0;32m~/opt/miniconda3/envs/ae483/lib/python3.10/site-packages/sympy/core/expr.py:344\u001b[0m, in \u001b[0;36mExpr.__float__\u001b[0;34m(self)\u001b[0m\n\u001b[1;32m    342\u001b[0m     \u001b[39mreturn\u001b[39;00m \u001b[39mfloat\u001b[39m(result)\n\u001b[1;32m    343\u001b[0m \u001b[39mif\u001b[39;00m result\u001b[39m.\u001b[39mis_number \u001b[39mand\u001b[39;00m result\u001b[39m.\u001b[39mas_real_imag()[\u001b[39m1\u001b[39m]:\n\u001b[0;32m--> 344\u001b[0m     \u001b[39mraise\u001b[39;00m \u001b[39mTypeError\u001b[39;00m(\u001b[39m\"\u001b[39m\u001b[39mCannot convert complex to float\u001b[39m\u001b[39m\"\u001b[39m)\n\u001b[1;32m    345\u001b[0m \u001b[39mraise\u001b[39;00m \u001b[39mTypeError\u001b[39;00m(\u001b[39m\"\u001b[39m\u001b[39mCannot convert expression to float\u001b[39m\u001b[39m\"\u001b[39m)\n",
      "\u001b[0;31mTypeError\u001b[0m: Cannot convert complex to float"
     ]
    }
   ],
   "source": [
    "A_arr = np.array(A_obs.subs(g, -9.81).tolist(), dtype=np.float64)\n",
    "B_arr = np.array(B_obs.subs(g, -9.81).tolist(), dtype=np.float64)\n",
    "C_arr = np.array(C_obs.tolist(), dtype=np.float64)"
   ]
  },
  {
   "cell_type": "code",
   "execution_count": null,
   "metadata": {},
   "outputs": [
    {
     "name": "stdout",
     "output_type": "stream",
     "text": [
      "[[0.321942986156017, 0.36009119735716655, -0.31836519002661123, -0.29990385211427484, 0.3556658073434917, -0.44223800573849864, -0.30859752381690714, 0.4400538559945905, 0.07155837375376561, -5.1254498950770905e-05, 0.006938422403778892], [-0.4215914013979726, -0.35088594367138437, -0.42313034301322366, 0.40542294400302886, 0.3559518086598309, 0.2373185196561766, -0.3918082691710136, 0.24175981326638982, -5.1786168251252376e-05, 0.07827675534935818, -0.026904856383195223], [-0.009786506620198865, -0.016606286688426532, -0.009893974509778313, -0.019082584534932362, -0.01709450885756774, -0.014419699419705488, -0.01880453992514826, -0.013810647633778608, 1.1114655588243871e-05, -4.071756593512843e-05, 2.2801892426333303], [-0.0007436490508847144, -0.0008320822148891163, 0.0007372765087559106, 0.0006925656903684675, -0.0008235263373806335, 0.0010221829030206179, 0.0007145652891975336, -0.0010184135151459872, -0.016451006130589963, 1.218280739697019e-07, -4.215242451832951e-06], [-0.0011102988440636016, -0.000924017496367406, -0.0011163443428499858, 0.0010670279170327797, 0.0009387377030113027, 0.0006236861222357304, -0.001033993809692062, 0.0006381440338206923, -1.318333213258298e-07, 0.020655702508852427, -1.3271831349012703e-05], [0.015780953295190817, 0.01765548077883916, -0.015633323743784438, -0.01469820919130168, 0.01746291142407034, -0.021687439905285974, -0.01515239527431495, 0.021598891072894588, 0.269089559817413, -2.79600027359229e-06, 0.00017831984679386227], [-0.021704993420613928, -0.018063721641877615, -0.02181003403807113, 0.020864233505667032, 0.01834308545936412, 0.01220137717822014, -0.020199066921406585, 0.012465791371681682, -2.9361961032148722e-06, 0.2943550159215303, -0.0006860145537862334], [-0.011272723178186915, -0.018942516028322313, -0.011318154668681833, -0.021319350632507224, -0.019176123077990805, -0.016115078605291898, -0.02136190952769651, -0.015531178187662456, 1.4149632321667902e-05, -5.261207584104984e-05, 2.5734508910181932]]\n"
     ]
    }
   ],
   "source": [
    "def lqr(A, B, Q, R):\n",
    "    P = linalg.solve_continuous_are(A, B, Q, R)\n",
    "    K = linalg.inv(R) @  B.T @ P\n",
    "    return K\n",
    "Q = np.diag([\n",
    "    1/0.049**2,\n",
    "    1/0.072**2,\n",
    "    1/0.046**2,\n",
    "    1/0.114**2,\n",
    "    1/0.063**2,\n",
    "    1/0.048**2,\n",
    "    1,\n",
    "    1/0.038**2,\n",
    "    1/1.696**2,             # n_x\n",
    "    1/1.738**2,             # n_y\n",
    "    1/0.148**2,             # r\n",
    "])\n",
    "\n",
    "R = np.diag([\n",
    "    1/0.094**2,\n",
    "    1/0.111**2,\n",
    "    1/0.009**2, # o_z\n",
    "    1/0.036**2, # theta\n",
    "    1/0.030**2, # phi\n",
    "    1/0.176**2, # v_x\n",
    "    1/0.178**2, # v_y\n",
    "    1/0.354**2, # v_z\n",
    "])\n",
    "L_1 = lqr(np.array(A_arr.tolist()).T, np.array(C_arr.tolist()).T, linalg.inv(R), linalg.inv(Q)).T\n",
    "print(L_1.tolist())"
   ]
  },
  {
   "cell_type": "code",
   "execution_count": null,
   "metadata": {},
   "outputs": [
    {
     "name": "stdout",
     "output_type": "stream",
     "text": [
      "L = [[      0.3219       0.3601      -0.3184      -0.2999       0.3557      -0.4422      -0.3086       0.4401       0.0716      -0.0001       0.0069]\n",
      "     [     -0.4216      -0.3509      -0.4231       0.4054       0.3560       0.2373      -0.3918       0.2418      -0.0001       0.0783      -0.0269]\n",
      "     [     -0.0098      -0.0166      -0.0099      -0.0191      -0.0171      -0.0144      -0.0188      -0.0138       0.0000      -0.0000       2.2802]\n",
      "     [     -0.0007      -0.0008       0.0007       0.0007      -0.0008       0.0010       0.0007      -0.0010      -0.0165       0.0000      -0.0000]\n",
      "     [     -0.0011      -0.0009      -0.0011       0.0011       0.0009       0.0006      -0.0010       0.0006      -0.0000       0.0207      -0.0000]\n",
      "     [      0.0158       0.0177      -0.0156      -0.0147       0.0175      -0.0217      -0.0152       0.0216       0.2691      -0.0000       0.0002]\n",
      "     [     -0.0217      -0.0181      -0.0218       0.0209       0.0183       0.0122      -0.0202       0.0125      -0.0000       0.2944      -0.0007]\n",
      "     [     -0.0113      -0.0189      -0.0113      -0.0213      -0.0192      -0.0161      -0.0214      -0.0155       0.0000      -0.0001       2.5735]]\n"
     ]
    }
   ],
   "source": [
    "L_str = np.array2string(L_1,\n",
    "                        formatter={'float_kind': lambda x: f'{x:12.4f}'},\n",
    "                        prefix='    ',\n",
    "                        max_line_width=np.inf)\n",
    "\n",
    "print(f'L = {L_str}')"
   ]
  },
  {
   "cell_type": "code",
   "execution_count": null,
   "metadata": {},
   "outputs": [],
   "source": [
    "A_sym = sym.Matrix(A)\n",
    "B_sym = sym.Matrix(B)\n",
    "A_obs_sym = sym.Matrix(A_obs)\n",
    "B_obs_sym = sym.Matrix(B_obs)\n",
    "C_obs_sym = sym.Matrix(C_obs)\n",
    "D_obs_sym = sym.Matrix(D_obs)\n",
    "# L_0, L_1, L_2, L_3, L_4, L_5 = sym.symbols('L_0, L_1, L_2, L_3, L_4, L_5')\n",
    "# L_sym = sym.Matrix([[0, 0, L_0],\n",
    "#                     [L_1, 0, 0],\n",
    "#                     [0, L_2, 0],\n",
    "#                     [L_3, 0, 0],\n",
    "#                     [0, L_4, 0],\n",
    "#                     [0, 0, L_5]])\n",
    "L_sym = sym.Matrix(L_1)\n",
    "o_x, o_y, o_z = sym.symbols('o_x, o_y, o_z')\n",
    "psi, theta, phi = sym.symbols('psi, theta, phi')\n",
    "v_x, v_y, v_z = sym.symbols('v_x, v_y, v_z')\n",
    "w_x, w_y, w_z = sym.symbols('w_x, w_y, w_z')\n",
    "a_z, g, n_x, n_y, r = sym.symbols('a_z, g, n_x, n_y, r')\n",
    "x_sym = sym.Matrix([o_x, o_y, o_z, psi, theta, phi, v_x, v_y, v_z])\n",
    "x_obs_sym = sym.Matrix([o_x, o_y, o_z, theta, phi, v_x, v_y, v_z])\n",
    "u_sym = sym.Matrix([w_x, w_y, w_z, a_z - g])\n",
    "y_sym = sym.Matrix([a_0, a_1, a_2, a_3, a_4, a_5, a_6, a_7, n_x, n_y, r])\n",
    "x_dot_sym = A_sym * x_sym + B_sym * u_sym\n",
    "x_obs_dot_sym = A_obs_sym * x_obs_sym + B_obs_sym * u_sym\n",
    "y_err_sym = C_obs_sym * x_obs_sym + D_obs_sym * u_sym - y_sym\n",
    "x_hat_dot_sym = x_obs_dot_sym - L_sym * y_err_sym"
   ]
  },
  {
   "cell_type": "code",
   "execution_count": 187,
   "metadata": {},
   "outputs": [
    {
     "data": {
      "text/plain": [
       "[[-0.321942986156017*Y_0 - 0.360091197357167*Y_1 - 0.00693842240377889*Y_10 + 0.318365190026611*Y_2 + 0.299903852114275*Y_3 - 0.355665807343492*Y_4 + 0.442238005738499*Y_5 + 0.308597523816907*Y_6 - 0.440053855994591*Y_7 - 0.0715583737537656*Y_8 + 5.12544989507709e-5*Y_9 + v_x],\n",
       " [0.421591401397973*Y_0 + 0.350885943671384*Y_1 + 0.0269048563831952*Y_10 + 0.423130343013224*Y_2 - 0.405422944003029*Y_3 - 0.355951808659831*Y_4 - 0.237318519656177*Y_5 + 0.391808269171014*Y_6 - 0.24175981326639*Y_7 + 5.17861682512524e-5*Y_8 - 0.0782767553493582*Y_9 + v_y],\n",
       " [0.00978650662019886*Y_0 + 0.0166062866884265*Y_1 - 2.28018924263333*Y_10 + 0.00989397450977831*Y_2 + 0.0190825845349324*Y_3 + 0.0170945088575677*Y_4 + 0.0144196994197055*Y_5 + 0.0188045399251483*Y_6 + 0.0138106476337786*Y_7 - 1.11146555882439e-5*Y_8 + 4.07175659351284e-5*Y_9 + v_z],\n",
       " [0.000743649050884714*Y_0 + 0.000832082214889116*Y_1 + 4.21524245183295e-6*Y_10 - 0.000737276508755911*Y_2 - 0.000692565690368467*Y_3 + 0.000823526337380634*Y_4 - 0.00102218290302062*Y_5 - 0.000714565289197534*Y_6 + 0.00101841351514599*Y_7 + 0.01645100613059*Y_8 - 1.21828073969702e-7*Y_9 + w_y],\n",
       " [0.0011102988440636*Y_0 + 0.000924017496367406*Y_1 + 1.32718313490127e-5*Y_10 + 0.00111634434284999*Y_2 - 0.00106702791703278*Y_3 - 0.000938737703011303*Y_4 - 0.00062368612223573*Y_5 + 0.00103399380969206*Y_6 - 0.000638144033820692*Y_7 + 1.3183332132583e-7*Y_8 - 0.0206557025088524*Y_9 + w_x],\n",
       " [-0.0157809532951908*Y_0 - 0.0176554807788392*Y_1 - 0.000178319846793862*Y_10 + 0.0156333237437844*Y_2 + 0.0146982091913017*Y_3 - 0.0174629114240703*Y_4 + 0.021687439905286*Y_5 + 0.015152395274315*Y_6 - 0.0215988910728946*Y_7 - 0.269089559817413*Y_8 + 2.79600027359229e-6*Y_9 + g*theta],\n",
       " [0.0217049934206139*Y_0 + 0.0180637216418776*Y_1 + 0.000686014553786233*Y_10 + 0.0218100340380711*Y_2 - 0.020864233505667*Y_3 - 0.0183430854593641*Y_4 - 0.0122013771782201*Y_5 + 0.0201990669214066*Y_6 - 0.0124657913716817*Y_7 + 2.93619610321487e-6*Y_8 - 0.29435501592153*Y_9 - g*phi],\n",
       " [0.0112727231781869*Y_0 + 0.0189425160283223*Y_1 - 2.57345089101819*Y_10 + 0.0113181546686818*Y_2 + 0.0213193506325072*Y_3 + 0.0191761230779908*Y_4 + 0.0161150786052919*Y_5 + 0.0213619095276965*Y_6 + 0.0155311781876625*Y_7 - 1.41496323216679e-5*Y_8 + 5.26120758410498e-5*Y_9 + a_z - g]]"
      ]
     },
     "execution_count": 187,
     "metadata": {},
     "output_type": "execute_result"
    }
   ],
   "source": [
    "Y_0, Y_1, Y_2, Y_3, Y_4, Y_5, Y_6, Y_7, Y_8, Y_9, Y_10 = sym.symbols('Y_0, Y_1, Y_2, Y_3, Y_4, Y_5, Y_6, Y_7, Y_8, Y_9, Y_10')\n",
    "Y_err = sym.Matrix([Y_0, Y_1, Y_2, Y_3, Y_4, Y_5, Y_6, Y_7, Y_8, Y_9, Y_10])\n",
    "(x_obs_dot_sym - L_sym * Y_err).tolist()"
   ]
  },
  {
   "cell_type": "code",
   "execution_count": 188,
   "metadata": {},
   "outputs": [
    {
     "data": {
      "text/latex": [
       "$\\displaystyle \\left[\\begin{matrix}v_{x}\\\\v_{y}\\\\v_{z}\\\\w_{z}\\\\w_{y}\\\\w_{x}\\\\g \\theta\\\\- g \\phi\\\\a_{z} - g\\end{matrix}\\right]$"
      ],
      "text/plain": [
       "Matrix([\n",
       "[    v_x],\n",
       "[    v_y],\n",
       "[    v_z],\n",
       "[    w_z],\n",
       "[    w_y],\n",
       "[    w_x],\n",
       "[g*theta],\n",
       "[ -g*phi],\n",
       "[a_z - g]])"
      ]
     },
     "execution_count": 188,
     "metadata": {},
     "output_type": "execute_result"
    }
   ],
   "source": [
    "x_dot_sym"
   ]
  },
  {
   "cell_type": "code",
   "execution_count": 189,
   "metadata": {},
   "outputs": [
    {
     "data": {
      "text/latex": [
       "$\\displaystyle \\left[\\begin{matrix}0.321942986156017 a_{0} + 0.360091197357167 a_{1} - 0.318365190026611 a_{2} - 0.299903852114275 a_{3} + 0.355665807343492 a_{4} - 0.442238005738499 a_{5} - 0.308597523816907 a_{6} + 0.440053855994591 a_{7} + 5.12544989507709 \\cdot 10^{-5} k_{flow} w_{x} + 0.0715583737537656 k_{flow} w_{y} + 0.0715583737537656 n_{x} - 5.12544989507709 \\cdot 10^{-5} n_{y} - 2.02035526745161 o_{x} - 0.00273765932475445 o_{y} + 0.00388268786847761 o_{z} + 0.00693842240377889 r + 0.414286742155644 v_{x} + 0.000419523781562411 v_{y}\\\\- 0.421591401397973 a_{0} - 0.350885943671384 a_{1} - 0.423130343013224 a_{2} + 0.405422944003029 a_{3} + 0.355951808659831 a_{4} + 0.237318519656177 a_{5} - 0.391808269171014 a_{6} + 0.24175981326639 a_{7} - 0.0782767553493582 k_{flow} w_{x} - 5.17861682512524 \\cdot 10^{-5} k_{flow} w_{y} - 5.17861682512524 \\cdot 10^{-5} n_{x} + 0.0782767553493582 n_{y} - 0.00274524881569135 o_{x} - 1.85304908654786 o_{y} - 0.0134674081148235 o_{z} - 0.0269048563831952 r + 0.00042387555399302 v_{x} + 0.359296040643384 v_{y}\\\\- 0.00978650662019886 a_{0} - 0.0166062866884265 a_{1} - 0.00989397450977831 a_{2} - 0.0190825845349324 a_{3} - 0.0170945088575677 a_{4} - 0.0144196994197055 a_{5} - 0.0188045399251483 a_{6} - 0.0138106476337786 a_{7} + 4.07175659351284 \\cdot 10^{-5} k_{flow} w_{x} + 1.11146555882439 \\cdot 10^{-5} k_{flow} w_{y} + 1.11146555882439 \\cdot 10^{-5} n_{x} - 4.07175659351284 \\cdot 10^{-5} n_{y} + 0.000467150673789518 o_{x} - 0.00168778428984422 o_{y} - 2.3178132406309 o_{z} + 2.28018924263333 r - 9.09746937068384 \\cdot 10^{-5} v_{x} + 0.00033327781144693 v_{y} + v_{z}\\\\- 0.000743649050884714 a_{0} - 0.000832082214889116 a_{1} + 0.000737276508755911 a_{2} + 0.000692565690368467 a_{3} - 0.000823526337380634 a_{4} + 0.00102218290302062 a_{5} + 0.000714565289197534 a_{6} - 0.00101841351514599 a_{7} - 1.21828073969702 \\cdot 10^{-7} k_{flow} w_{x} - 0.01645100613059 k_{flow} w_{y} - 0.01645100613059 n_{x} + 1.21828073969702 \\cdot 10^{-7} n_{y} + 0.00467274247775494 o_{x} + 1.07188438733425 \\cdot 10^{-5} o_{y} - 2.09105308941017 \\cdot 10^{-5} o_{z} - 4.21524245183295 \\cdot 10^{-6} r + 0.134653317146664 v_{x} - 9.97176352095932 \\cdot 10^{-7} v_{y} + w_{y}\\\\- 0.0011102988440636 a_{0} - 0.000924017496367406 a_{1} - 0.00111634434284999 a_{2} + 0.00106702791703278 a_{3} + 0.000938737703011303 a_{4} + 0.00062368612223573 a_{5} - 0.00103399380969206 a_{6} + 0.000638144033820692 a_{7} - 0.0206557025088524 k_{flow} w_{x} - 1.3183332132583 \\cdot 10^{-7} k_{flow} w_{y} - 1.3183332132583 \\cdot 10^{-7} n_{x} + 0.0206557025088524 n_{y} - 1.34928142887164 \\cdot 10^{-5} o_{x} - 0.00488352703763877 o_{y} - 9.40411740101865 \\cdot 10^{-5} o_{z} - 1.32718313490127 \\cdot 10^{-5} r + 1.0790704158803 \\cdot 10^{-6} v_{x} - 0.169069225233576 v_{y} + w_{x}\\\\0.0157809532951908 a_{0} + 0.0176554807788392 a_{1} - 0.0156333237437844 a_{2} - 0.0146982091913017 a_{3} + 0.0174629114240703 a_{4} - 0.021687439905286 a_{5} - 0.015152395274315 a_{6} + 0.0215988910728946 a_{7} + g \\theta + 2.79600027359229 \\cdot 10^{-6} k_{flow} w_{x} + 0.269089559817413 k_{flow} w_{y} + 0.269089559817413 n_{x} - 2.79600027359229 \\cdot 10^{-6} n_{y} - 0.0991210046560955 o_{x} - 0.000198450678160956 o_{y} + 0.000353834988722084 o_{z} + 0.000178319846793862 r - 2.20252801265298 v_{x} + 2.28855735991802 \\cdot 10^{-5} v_{y}\\\\- 0.0217049934206139 a_{0} - 0.0180637216418776 a_{1} - 0.0218100340380711 a_{2} + 0.020864233505667 a_{3} + 0.0183430854593641 a_{4} + 0.0122013771782201 a_{5} - 0.0201990669214066 a_{6} + 0.0124657913716817 a_{7} - g \\phi - 0.29435501592153 k_{flow} w_{x} - 2.93619610321487 \\cdot 10^{-6} k_{flow} w_{y} - 2.93619610321487 \\cdot 10^{-6} n_{x} + 0.29435501592153 n_{y} - 0.000222477515985057 o_{x} - 0.0954457389897905 o_{y} - 0.0014045490491299 o_{z} - 0.000686014553786233 r + 2.40330920767101 \\cdot 10^{-5} v_{x} - 2.4093285844014 v_{y}\\\\- 0.0112727231781869 a_{0} - 0.0189425160283223 a_{1} - 0.0113181546686818 a_{2} - 0.0213193506325072 a_{3} - 0.0191761230779908 a_{4} - 0.0161150786052919 a_{5} - 0.0213619095276965 a_{6} - 0.0155311781876625 a_{7} + a_{z} - g + 5.26120758410498 \\cdot 10^{-5} k_{flow} w_{x} + 1.41496323216679 \\cdot 10^{-5} k_{flow} w_{y} + 1.41496323216679 \\cdot 10^{-5} n_{x} - 5.26120758410498 \\cdot 10^{-5} n_{y} + 0.000767537133232403 o_{x} - 0.00273527259830563 o_{y} - 2.61593342436135 o_{z} + 2.57345089101819 r - 0.000115816316241924 v_{x} + 0.000430635699587765 v_{y}\\end{matrix}\\right]$"
      ],
      "text/plain": [
       "Matrix([\n",
       "[                           0.321942986156017*a_0 + 0.360091197357167*a_1 - 0.318365190026611*a_2 - 0.299903852114275*a_3 + 0.355665807343492*a_4 - 0.442238005738499*a_5 - 0.308597523816907*a_6 + 0.440053855994591*a_7 + 5.12544989507709e-5*k_flow*w_x + 0.0715583737537656*k_flow*w_y + 0.0715583737537656*n_x - 5.12544989507709e-5*n_y - 2.02035526745161*o_x - 0.00273765932475445*o_y + 0.00388268786847761*o_z + 0.00693842240377889*r + 0.414286742155644*v_x + 0.000419523781562411*v_y],\n",
       "[                              -0.421591401397973*a_0 - 0.350885943671384*a_1 - 0.423130343013224*a_2 + 0.405422944003029*a_3 + 0.355951808659831*a_4 + 0.237318519656177*a_5 - 0.391808269171014*a_6 + 0.24175981326639*a_7 - 0.0782767553493582*k_flow*w_x - 5.17861682512524e-5*k_flow*w_y - 5.17861682512524e-5*n_x + 0.0782767553493582*n_y - 0.00274524881569135*o_x - 1.85304908654786*o_y - 0.0134674081148235*o_z - 0.0269048563831952*r + 0.00042387555399302*v_x + 0.359296040643384*v_y],\n",
       "[          -0.00978650662019886*a_0 - 0.0166062866884265*a_1 - 0.00989397450977831*a_2 - 0.0190825845349324*a_3 - 0.0170945088575677*a_4 - 0.0144196994197055*a_5 - 0.0188045399251483*a_6 - 0.0138106476337786*a_7 + 4.07175659351284e-5*k_flow*w_x + 1.11146555882439e-5*k_flow*w_y + 1.11146555882439e-5*n_x - 4.07175659351284e-5*n_y + 0.000467150673789518*o_x - 0.00168778428984422*o_y - 2.3178132406309*o_z + 2.28018924263333*r - 9.09746937068384e-5*v_x + 0.00033327781144693*v_y + v_z],\n",
       "[-0.000743649050884714*a_0 - 0.000832082214889116*a_1 + 0.000737276508755911*a_2 + 0.000692565690368467*a_3 - 0.000823526337380634*a_4 + 0.00102218290302062*a_5 + 0.000714565289197534*a_6 - 0.00101841351514599*a_7 - 1.21828073969702e-7*k_flow*w_x - 0.01645100613059*k_flow*w_y - 0.01645100613059*n_x + 1.21828073969702e-7*n_y + 0.00467274247775494*o_x + 1.07188438733425e-5*o_y - 2.09105308941017e-5*o_z - 4.21524245183295e-6*r + 0.134653317146664*v_x - 9.97176352095932e-7*v_y + w_y],\n",
       "[   -0.0011102988440636*a_0 - 0.000924017496367406*a_1 - 0.00111634434284999*a_2 + 0.00106702791703278*a_3 + 0.000938737703011303*a_4 + 0.00062368612223573*a_5 - 0.00103399380969206*a_6 + 0.000638144033820692*a_7 - 0.0206557025088524*k_flow*w_x - 1.3183332132583e-7*k_flow*w_y - 1.3183332132583e-7*n_x + 0.0206557025088524*n_y - 1.34928142887164e-5*o_x - 0.00488352703763877*o_y - 9.40411740101865e-5*o_z - 1.32718313490127e-5*r + 1.0790704158803e-6*v_x - 0.169069225233576*v_y + w_x],\n",
       "[          0.0157809532951908*a_0 + 0.0176554807788392*a_1 - 0.0156333237437844*a_2 - 0.0146982091913017*a_3 + 0.0174629114240703*a_4 - 0.021687439905286*a_5 - 0.015152395274315*a_6 + 0.0215988910728946*a_7 + g*theta + 2.79600027359229e-6*k_flow*w_x + 0.269089559817413*k_flow*w_y + 0.269089559817413*n_x - 2.79600027359229e-6*n_y - 0.0991210046560955*o_x - 0.000198450678160956*o_y + 0.000353834988722084*o_z + 0.000178319846793862*r - 2.20252801265298*v_x + 2.28855735991802e-5*v_y],\n",
       "[               -0.0217049934206139*a_0 - 0.0180637216418776*a_1 - 0.0218100340380711*a_2 + 0.020864233505667*a_3 + 0.0183430854593641*a_4 + 0.0122013771782201*a_5 - 0.0201990669214066*a_6 + 0.0124657913716817*a_7 - g*phi - 0.29435501592153*k_flow*w_x - 2.93619610321487e-6*k_flow*w_y - 2.93619610321487e-6*n_x + 0.29435501592153*n_y - 0.000222477515985057*o_x - 0.0954457389897905*o_y - 0.0014045490491299*o_z - 0.000686014553786233*r + 2.40330920767101e-5*v_x - 2.4093285844014*v_y],\n",
       "[     -0.0112727231781869*a_0 - 0.0189425160283223*a_1 - 0.0113181546686818*a_2 - 0.0213193506325072*a_3 - 0.0191761230779908*a_4 - 0.0161150786052919*a_5 - 0.0213619095276965*a_6 - 0.0155311781876625*a_7 + a_z - g + 5.26120758410498e-5*k_flow*w_x + 1.41496323216679e-5*k_flow*w_y + 1.41496323216679e-5*n_x - 5.26120758410498e-5*n_y + 0.000767537133232403*o_x - 0.00273527259830563*o_y - 2.61593342436135*o_z + 2.57345089101819*r - 0.000115816316241924*v_x + 0.000430635699587765*v_y]])"
      ]
     },
     "execution_count": 189,
     "metadata": {},
     "output_type": "execute_result"
    }
   ],
   "source": [
    "x_hat_dot_sym"
   ]
  }
 ],
 "metadata": {
  "kernelspec": {
   "display_name": "Python 3.10.6 ('ae483')",
   "language": "python",
   "name": "python3"
  },
  "language_info": {
   "codemirror_mode": {
    "name": "ipython",
    "version": 3
   },
   "file_extension": ".py",
   "mimetype": "text/x-python",
   "name": "python",
   "nbconvert_exporter": "python",
   "pygments_lexer": "ipython3",
   "version": "3.10.6"
  },
  "vscode": {
   "interpreter": {
    "hash": "c959fa4f0541601308a953d801e2f7407c9165d9841ffaf3df2f071accd4d274"
   }
  }
 },
 "nbformat": 4,
 "nbformat_minor": 2
}
