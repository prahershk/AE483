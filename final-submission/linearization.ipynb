{
 "cells": [
  {
   "cell_type": "markdown",
   "metadata": {},
   "source": [
    "# Linearization"
   ]
  },
  {
   "cell_type": "markdown",
   "metadata": {},
   "source": [
    "### 0. Imports"
   ]
  },
  {
   "cell_type": "code",
   "execution_count": 1,
   "metadata": {},
   "outputs": [],
   "source": [
    "import numpy as np\n",
    "import sympy as sym\n",
    "from scipy import linalg\n",
    "from scipy.interpolate import interp1d\n",
    "from IPython.display import display, IFrame, HTML"
   ]
  },
  {
   "cell_type": "markdown",
   "id": "9916514f",
   "metadata": {},
   "source": [
    "# 1. Derive models"
   ]
  },
  {
   "cell_type": "markdown",
   "id": "35c1d51d",
   "metadata": {},
   "source": [
    "## 1.1 Define symbolic variables"
   ]
  },
  {
   "cell_type": "markdown",
   "id": "e2ff5fef",
   "metadata": {},
   "source": [
    "Define states."
   ]
  },
  {
   "cell_type": "code",
   "execution_count": 2,
   "id": "0402b5da",
   "metadata": {},
   "outputs": [],
   "source": [
    "# position (m)\n",
    "o_x, o_y, o_z = sym.symbols('o_x, o_y, o_z')\n",
    "\n",
    "# orientation angles (rad)\n",
    "psi, theta, phi = sym.symbols('psi, theta, phi')\n",
    "\n",
    "# linear velocity (m/s)\n",
    "v_x, v_y, v_z = sym.symbols('v_x, v_y, v_z')"
   ]
  },
  {
   "cell_type": "markdown",
   "id": "570af22c",
   "metadata": {},
   "source": [
    "Define inputs."
   ]
  },
  {
   "cell_type": "code",
   "execution_count": 3,
   "id": "ad893cec",
   "metadata": {},
   "outputs": [],
   "source": [
    "# gyroscope measurements - components of angular velocity (radians / second)\n",
    "w_x, w_y, w_z = sym.symbols('w_x, w_y, w_z')\n",
    "\n",
    "# z-axis accelerometer measurement - specific force (meters / second^2)\n",
    "a_z = sym.symbols('a_z')\n",
    "\n",
    "# \n",
    "tau_x, tau_y, tau_z, f_z = sym.symbols(\"tau_x, tau_y, tau_z, f_z\")"
   ]
  },
  {
   "cell_type": "markdown",
   "id": "5e97b298",
   "metadata": {},
   "source": [
    "Define outputs."
   ]
  },
  {
   "cell_type": "code",
   "execution_count": 4,
   "id": "752442f5",
   "metadata": {},
   "outputs": [],
   "source": [
    "d0, d1, d2, d3, d4, d5, d6, d7, n_x, n_y, r = sym.symbols('d0, d1, d2, d3, d4, d5, d6, d7,n_x, n_y, r')\n",
    "a_0, a_1, a_2, a_3, a_4, a_5, a_6, a_7 = sym.symbols('a_0, a_1, a_2, a_3, a_4, a_5, a_6, a_7 ')"
   ]
  },
  {
   "cell_type": "markdown",
   "id": "ed8ded70",
   "metadata": {},
   "source": [
    "Define parameters."
   ]
  },
  {
   "cell_type": "code",
   "execution_count": 5,
   "id": "e4962fab",
   "metadata": {},
   "outputs": [],
   "source": [
    "g, k_flow = sym.symbols('g, k_flow')"
   ]
  },
  {
   "cell_type": "markdown",
   "id": "7368343d",
   "metadata": {},
   "source": [
    "Create linear and angular velocity vectors (in coordinates of the body frame)."
   ]
  },
  {
   "cell_type": "code",
   "execution_count": 6,
   "id": "9d524269",
   "metadata": {},
   "outputs": [],
   "source": [
    "v_01in1 = sym.Matrix([[v_x], [v_y], [v_z]])\n",
    "w_01in1 = sym.Matrix([[w_x], [w_y], [w_z]])"
   ]
  },
  {
   "cell_type": "code",
   "execution_count": 7,
   "metadata": {},
   "outputs": [],
   "source": [
    "s = [o_x, o_y, o_z, psi, theta, phi, v_x, v_y, v_z]\n",
    "i = [w_x, w_y, w_z, a_z]"
   ]
  },
  {
   "cell_type": "markdown",
   "id": "851ff168",
   "metadata": {},
   "source": [
    "## 1.2 Define kinematics of orientation"
   ]
  },
  {
   "cell_type": "markdown",
   "id": "f68e60c2",
   "metadata": {},
   "source": [
    "### 1.2.1 Rotation matrix in terms of yaw, pitch, roll angles"
   ]
  },
  {
   "cell_type": "markdown",
   "id": "3e03c29d",
   "metadata": {},
   "source": [
    "Define individual rotation matrices."
   ]
  },
  {
   "cell_type": "code",
   "execution_count": 8,
   "id": "1f70f130",
   "metadata": {},
   "outputs": [],
   "source": [
    "Rz = sym.Matrix([[sym.cos(psi), -sym.sin(psi), 0],\n",
    "                 [sym.sin(psi), sym.cos(psi), 0],\n",
    "                 [0, 0, 1]])\n",
    "\n",
    "Ry = sym.Matrix([[sym.cos(theta), 0, sym.sin(theta)],\n",
    "                 [0, 1, 0],\n",
    "                 [-sym.sin(theta), 0, sym.cos(theta)]])\n",
    "\n",
    "Rx = sym.Matrix([[1, 0, 0],\n",
    "                 [0, sym.cos(phi), -sym.sin(phi)],\n",
    "                 [0, sym.sin(phi), sym.cos(phi)]])"
   ]
  },
  {
   "cell_type": "markdown",
   "id": "e494d515",
   "metadata": {},
   "source": [
    "Apply sequential transformation."
   ]
  },
  {
   "cell_type": "code",
   "execution_count": 9,
   "id": "9a4041f3",
   "metadata": {},
   "outputs": [],
   "source": [
    "R_1in0 = Rz * Ry * Rx"
   ]
  },
  {
   "cell_type": "markdown",
   "id": "69ac916b",
   "metadata": {},
   "source": [
    "### 1.2.2 Map from angular velocity to angular rates"
   ]
  },
  {
   "cell_type": "code",
   "execution_count": 10,
   "id": "4ceedf24",
   "metadata": {},
   "outputs": [],
   "source": [
    "Ninv = sym.Matrix.hstack((Ry * Rx).T * sym.Matrix([[0], [0], [1]]),\n",
    "                              (Rx).T * sym.Matrix([[0], [1], [0]]),\n",
    "                                       sym.Matrix([[1], [0], [0]]))"
   ]
  },
  {
   "cell_type": "markdown",
   "id": "938044d2",
   "metadata": {},
   "source": [
    "Compute $N$."
   ]
  },
  {
   "cell_type": "code",
   "execution_count": 11,
   "id": "41071e08",
   "metadata": {},
   "outputs": [],
   "source": [
    "N = sym.simplify(Ninv.inv())"
   ]
  },
  {
   "cell_type": "markdown",
   "id": "7cea7d8c",
   "metadata": {},
   "source": [
    "## 1.3 Derive equations of motion"
   ]
  },
  {
   "cell_type": "markdown",
   "id": "cdad5b0f",
   "metadata": {},
   "source": [
    "Ratio of net thrust to mass in terms of z-axis accelerometer measurement."
   ]
  },
  {
   "cell_type": "code",
   "execution_count": 12,
   "id": "6d53c0ee",
   "metadata": {},
   "outputs": [],
   "source": [
    "f_z_over_m = a_z + (w_01in1.cross(v_01in1))[2]"
   ]
  },
  {
   "cell_type": "markdown",
   "id": "c165643a",
   "metadata": {},
   "source": [
    "Ratio of forces to mass."
   ]
  },
  {
   "cell_type": "code",
   "execution_count": 13,
   "id": "5f7687be",
   "metadata": {},
   "outputs": [],
   "source": [
    "f_in1_over_m = R_1in0.T * sym.Matrix([[0], [0], [-g]]) + sym.Matrix([[0], [0], [f_z_over_m]])"
   ]
  },
  {
   "cell_type": "markdown",
   "id": "2416c08f",
   "metadata": {},
   "source": [
    "Equations of motion."
   ]
  },
  {
   "cell_type": "code",
   "execution_count": 14,
   "id": "9b552611",
   "metadata": {},
   "outputs": [],
   "source": [
    "f = sym.Matrix.vstack(\n",
    "    R_1in0 * v_01in1,\n",
    "    N * w_01in1,\n",
    "    (f_in1_over_m - w_01in1.cross(v_01in1)),\n",
    ")"
   ]
  },
  {
   "cell_type": "markdown",
   "id": "96dd4da6",
   "metadata": {},
   "source": [
    "Show equations of motion, which have the form\n",
    "\n",
    "$$\\dot{s} = f(s, i, p)$$\n",
    "\n",
    "where\n",
    "\n",
    "$$\n",
    "s = \\begin{bmatrix} o_x \\\\ o_y \\\\ o_z \\\\ \\psi \\\\ \\theta \\\\ \\phi \\\\ v_x \\\\ v_y \\\\ v_z \\end{bmatrix}\n",
    "\\qquad\\qquad\n",
    "i = \\begin{bmatrix} w_x \\\\ w_y \\\\ w_z \\\\ a_z \\end{bmatrix}\n",
    "\\qquad\\qquad\n",
    "p = \\begin{bmatrix} g \\\\ k_\\text{flow} \\end{bmatrix}.\n",
    "$$"
   ]
  },
  {
   "cell_type": "code",
   "execution_count": 15,
   "id": "e0225f66",
   "metadata": {},
   "outputs": [
    {
     "data": {
      "text/latex": [
       "$\\displaystyle \\left[\\begin{matrix}v_{x} \\cos{\\left(\\psi \\right)} \\cos{\\left(\\theta \\right)} + v_{y} \\left(\\sin{\\left(\\phi \\right)} \\sin{\\left(\\theta \\right)} \\cos{\\left(\\psi \\right)} - \\sin{\\left(\\psi \\right)} \\cos{\\left(\\phi \\right)}\\right) + v_{z} \\left(\\sin{\\left(\\phi \\right)} \\sin{\\left(\\psi \\right)} + \\sin{\\left(\\theta \\right)} \\cos{\\left(\\phi \\right)} \\cos{\\left(\\psi \\right)}\\right)\\\\v_{x} \\sin{\\left(\\psi \\right)} \\cos{\\left(\\theta \\right)} + v_{y} \\left(\\sin{\\left(\\phi \\right)} \\sin{\\left(\\psi \\right)} \\sin{\\left(\\theta \\right)} + \\cos{\\left(\\phi \\right)} \\cos{\\left(\\psi \\right)}\\right) + v_{z} \\left(- \\sin{\\left(\\phi \\right)} \\cos{\\left(\\psi \\right)} + \\sin{\\left(\\psi \\right)} \\sin{\\left(\\theta \\right)} \\cos{\\left(\\phi \\right)}\\right)\\\\- v_{x} \\sin{\\left(\\theta \\right)} + v_{y} \\sin{\\left(\\phi \\right)} \\cos{\\left(\\theta \\right)} + v_{z} \\cos{\\left(\\phi \\right)} \\cos{\\left(\\theta \\right)}\\\\\\frac{w_{y} \\sin{\\left(\\phi \\right)}}{\\cos{\\left(\\theta \\right)}} + \\frac{w_{z} \\cos{\\left(\\phi \\right)}}{\\cos{\\left(\\theta \\right)}}\\\\w_{y} \\cos{\\left(\\phi \\right)} - w_{z} \\sin{\\left(\\phi \\right)}\\\\w_{x} + w_{y} \\sin{\\left(\\phi \\right)} \\tan{\\left(\\theta \\right)} + w_{z} \\cos{\\left(\\phi \\right)} \\tan{\\left(\\theta \\right)}\\\\g \\sin{\\left(\\theta \\right)} + v_{y} w_{z} - v_{z} w_{y}\\\\- g \\sin{\\left(\\phi \\right)} \\cos{\\left(\\theta \\right)} - v_{x} w_{z} + v_{z} w_{x}\\\\a_{z} - g \\cos{\\left(\\phi \\right)} \\cos{\\left(\\theta \\right)}\\end{matrix}\\right]$"
      ],
      "text/plain": [
       "Matrix([\n",
       "[ v_x*cos(psi)*cos(theta) + v_y*(sin(phi)*sin(theta)*cos(psi) - sin(psi)*cos(phi)) + v_z*(sin(phi)*sin(psi) + sin(theta)*cos(phi)*cos(psi))],\n",
       "[v_x*sin(psi)*cos(theta) + v_y*(sin(phi)*sin(psi)*sin(theta) + cos(phi)*cos(psi)) + v_z*(-sin(phi)*cos(psi) + sin(psi)*sin(theta)*cos(phi))],\n",
       "[                                                                       -v_x*sin(theta) + v_y*sin(phi)*cos(theta) + v_z*cos(phi)*cos(theta)],\n",
       "[                                                                                         w_y*sin(phi)/cos(theta) + w_z*cos(phi)/cos(theta)],\n",
       "[                                                                                                               w_y*cos(phi) - w_z*sin(phi)],\n",
       "[                                                                                   w_x + w_y*sin(phi)*tan(theta) + w_z*cos(phi)*tan(theta)],\n",
       "[                                                                                                          g*sin(theta) + v_y*w_z - v_z*w_y],\n",
       "[                                                                                                -g*sin(phi)*cos(theta) - v_x*w_z + v_z*w_x],\n",
       "[                                                                                                               a_z - g*cos(phi)*cos(theta)]])"
      ]
     },
     "execution_count": 15,
     "metadata": {},
     "output_type": "execute_result"
    }
   ],
   "source": [
    "f"
   ]
  },
  {
   "cell_type": "markdown",
   "metadata": {},
   "source": [
    "# 2. Observer Equations with Loco Positioning"
   ]
  },
  {
   "cell_type": "markdown",
   "metadata": {},
   "source": [
    "## 2.1 Loco Positioning Variables and Equations"
   ]
  },
  {
   "cell_type": "markdown",
   "metadata": {},
   "source": [
    "Define position coordinates of the 8 loco positioning nodes."
   ]
  },
  {
   "cell_type": "code",
   "execution_count": 16,
   "metadata": {},
   "outputs": [],
   "source": [
    "x_0, y_0, z_0 = sym.symbols(\"x_0, y_0, z_0\")\n",
    "x_1, y_1, z_1 = sym.symbols(\"x_1, y_1, z_1\")\n",
    "x_2, y_2, z_2 = sym.symbols(\"x_2, y_2, z_2\")\n",
    "x_3, y_3, z_3 = sym.symbols(\"x_3, y_3, z_3\")\n",
    "x_4, y_4, z_4 = sym.symbols(\"x_4, y_4, z_4\")\n",
    "x_5, y_5, z_5 = sym.symbols(\"x_5, y_5, z_5\")\n",
    "x_6, y_6, z_6 = sym.symbols(\"x_6, y_6, z_6\")\n",
    "x_7, y_7, z_7 = sym.symbols(\"x_7, y_7, z_7\")"
   ]
  },
  {
   "cell_type": "markdown",
   "metadata": {},
   "source": [
    "Define distance output variables for each node."
   ]
  },
  {
   "cell_type": "code",
   "execution_count": 17,
   "metadata": {},
   "outputs": [],
   "source": [
    "d_0, d_1, d_2, d_3, d_4, d_5, d_6, d_7 = sym.symbols('d_0, d_1, d_2, d_3, d_4, d_5, d_6, d_7')"
   ]
  },
  {
   "cell_type": "markdown",
   "metadata": {},
   "source": [
    "Define equations representing the distance to each node from the drone's position.\n",
    "\n",
    "$d_i = \\sqrt{(o_x - x_i)^2 + (o_y - y_i)^2 + (z_x - z_i)^2}$"
   ]
  },
  {
   "cell_type": "code",
   "execution_count": 18,
   "metadata": {},
   "outputs": [],
   "source": [
    "anchor_dist_0 = sym.sqrt((o_x - x_0)**2 + (o_y - y_0)**2 + (o_z - z_0)**2)\n",
    "anchor_dist_1 = sym.sqrt((o_x - x_1)**2 + (o_y - y_1)**2 + (o_z - z_1)**2)\n",
    "anchor_dist_2 = sym.sqrt((o_x - x_2)**2 + (o_y - y_2)**2 + (o_z - z_2)**2)\n",
    "anchor_dist_3 = sym.sqrt((o_x - x_3)**2 + (o_y - y_3)**2 + (o_z - z_3)**2)\n",
    "anchor_dist_4 = sym.sqrt((o_x - x_4)**2 + (o_y - y_4)**2 + (o_z - z_4)**2)\n",
    "anchor_dist_5 = sym.sqrt((o_x - x_5)**2 + (o_y - y_5)**2 + (o_z - z_5)**2)\n",
    "anchor_dist_6 = sym.sqrt((o_x - x_6)**2 + (o_y - y_6)**2 + (o_z - z_6)**2)\n",
    "anchor_dist_7 = sym.sqrt((o_x - x_7)**2 + (o_y - y_7)**2 + (o_z - z_7)**2)"
   ]
  },
  {
   "cell_type": "markdown",
   "metadata": {},
   "source": [
    "Show measurement equations, which have the form\n",
    "\n",
    "$$o = h(s, i, p)$$\n",
    "\n",
    "where\n",
    "\n",
    "$$\n",
    "o = \\begin{bmatrix} n_x \\\\ n_y \\\\ r \\end{bmatrix}\n",
    "\\qquad\\qquad\n",
    "s = \\begin{bmatrix} o_x \\\\ o_y \\\\ o_z \\\\ \\psi \\\\ \\theta \\\\ \\phi \\\\ v_x \\\\ v_y \\\\ v_z \\end{bmatrix}\n",
    "\\qquad\\qquad\n",
    "i = \\begin{bmatrix} w_x \\\\ w_y \\\\ w_z \\\\ a_z \\end{bmatrix}\n",
    "\\qquad\\qquad\n",
    "p = \\begin{bmatrix} g \\\\ k_\\text{flow} \\end{bmatrix}.\n",
    "$$"
   ]
  },
  {
   "cell_type": "markdown",
   "metadata": {},
   "source": [
    "Observer equation, $h$."
   ]
  },
  {
   "cell_type": "code",
   "execution_count": 51,
   "metadata": {},
   "outputs": [],
   "source": [
    "h = sym.Matrix([\n",
    "    anchor_dist_0, # d_0\n",
    "    anchor_dist_1, # d_1\n",
    "    anchor_dist_2, # d_2\n",
    "    anchor_dist_3, # d_3\n",
    "    anchor_dist_4, # d_4\n",
    "    anchor_dist_5, # d_5\n",
    "    anchor_dist_6, # d_6\n",
    "    anchor_dist_7, # d_7\n",
    "    k_flow * (v_x - o_z * w_y) / o_z, # n_x\n",
    "    k_flow * (v_y + o_z * w_x) / o_z, # n_y\n",
    "    o_z / (sym.cos(phi) * sym.cos(theta)) # r\n",
    "])"
   ]
  },
  {
   "cell_type": "markdown",
   "metadata": {},
   "source": [
    "Show $h$."
   ]
  },
  {
   "cell_type": "code",
   "execution_count": 20,
   "metadata": {},
   "outputs": [
    {
     "data": {
      "text/latex": [
       "$\\displaystyle \\left[\\begin{matrix}\\sqrt{\\left(o_{x} - x_{0}\\right)^{2} + \\left(o_{y} - y_{0}\\right)^{2} + \\left(o_{z} - z_{0}\\right)^{2}}\\\\\\sqrt{\\left(o_{x} - x_{1}\\right)^{2} + \\left(o_{y} - y_{1}\\right)^{2} + \\left(o_{z} - z_{1}\\right)^{2}}\\\\\\sqrt{\\left(o_{x} - x_{2}\\right)^{2} + \\left(o_{y} - y_{2}\\right)^{2} + \\left(o_{z} - z_{2}\\right)^{2}}\\\\\\sqrt{\\left(o_{x} - x_{3}\\right)^{2} + \\left(o_{y} - y_{3}\\right)^{2} + \\left(o_{z} - z_{3}\\right)^{2}}\\\\\\sqrt{\\left(o_{x} - x_{4}\\right)^{2} + \\left(o_{y} - y_{4}\\right)^{2} + \\left(o_{z} - z_{4}\\right)^{2}}\\\\\\sqrt{\\left(o_{x} - x_{5}\\right)^{2} + \\left(o_{y} - y_{5}\\right)^{2} + \\left(o_{z} - z_{5}\\right)^{2}}\\\\\\sqrt{\\left(o_{x} - x_{6}\\right)^{2} + \\left(o_{y} - y_{6}\\right)^{2} + \\left(o_{z} - z_{6}\\right)^{2}}\\\\\\sqrt{\\left(o_{x} - x_{7}\\right)^{2} + \\left(o_{y} - y_{7}\\right)^{2} + \\left(o_{z} - z_{7}\\right)^{2}}\\\\\\frac{k_{flow} \\left(- o_{z} w_{y} + v_{x}\\right)}{o_{z}}\\\\\\frac{k_{flow} \\left(o_{z} w_{x} + v_{y}\\right)}{o_{z}}\\\\\\frac{o_{z}}{\\cos{\\left(\\phi \\right)} \\cos{\\left(\\theta \\right)}}\\end{matrix}\\right]$"
      ],
      "text/plain": [
       "Matrix([\n",
       "[sqrt((o_x - x_0)**2 + (o_y - y_0)**2 + (o_z - z_0)**2)],\n",
       "[sqrt((o_x - x_1)**2 + (o_y - y_1)**2 + (o_z - z_1)**2)],\n",
       "[sqrt((o_x - x_2)**2 + (o_y - y_2)**2 + (o_z - z_2)**2)],\n",
       "[sqrt((o_x - x_3)**2 + (o_y - y_3)**2 + (o_z - z_3)**2)],\n",
       "[sqrt((o_x - x_4)**2 + (o_y - y_4)**2 + (o_z - z_4)**2)],\n",
       "[sqrt((o_x - x_5)**2 + (o_y - y_5)**2 + (o_z - z_5)**2)],\n",
       "[sqrt((o_x - x_6)**2 + (o_y - y_6)**2 + (o_z - z_6)**2)],\n",
       "[sqrt((o_x - x_7)**2 + (o_y - y_7)**2 + (o_z - z_7)**2)],\n",
       "[                           k_flow*(-o_z*w_y + v_x)/o_z],\n",
       "[                            k_flow*(o_z*w_x + v_y)/o_z],\n",
       "[                             o_z/(cos(phi)*cos(theta))]])"
      ]
     },
     "execution_count": 20,
     "metadata": {},
     "output_type": "execute_result"
    }
   ],
   "source": [
    "h"
   ]
  },
  {
   "cell_type": "markdown",
   "metadata": {},
   "source": [
    "## 2.2 Output"
   ]
  },
  {
   "cell_type": "markdown",
   "metadata": {},
   "source": [
    "Define original measurement variables."
   ]
  },
  {
   "cell_type": "code",
   "execution_count": 21,
   "metadata": {},
   "outputs": [],
   "source": [
    "n_x, n_y, r = sym.symbols(\"n_x, n_y, r\")"
   ]
  },
  {
   "cell_type": "markdown",
   "metadata": {},
   "source": [
    "Define original system with new outputs."
   ]
  },
  {
   "cell_type": "code",
   "execution_count": 22,
   "metadata": {},
   "outputs": [],
   "source": [
    "s = [o_x, o_y, o_z, psi, theta, phi, v_x, v_y, v_z]\n",
    "i = [w_x, w_y, w_z, a_z]\n",
    "o = [d_0, d_1, d_2, d_3,\n",
    "     d_4, d_5, d_6, d_7,\n",
    "     n_x, n_y, r]\n",
    "p = [g, k_flow]"
   ]
  },
  {
   "cell_type": "markdown",
   "metadata": {},
   "source": [
    "Define equilibrium point variables."
   ]
  },
  {
   "cell_type": "code",
   "execution_count": 23,
   "metadata": {},
   "outputs": [],
   "source": [
    "o_x_eq = sym.symbols('o_x_eq')\n",
    "o_y_eq = sym.symbols('o_y_eq')\n",
    "o_z_eq = sym.symbols('o_z_eq')\n",
    "s_eq = [o_x_eq, o_y_eq, o_z_eq, 0, 0, 0, 0, 0, 0]\n",
    "i_eq = [0, 0, 0, g]\n",
    "s_eq = [sym.nsimplify(a) for a in s_eq]\n",
    "i_eq = [sym.nsimplify(a) for a in i_eq]"
   ]
  },
  {
   "cell_type": "markdown",
   "metadata": {},
   "source": [
    "Define state, input, and output vectors."
   ]
  },
  {
   "cell_type": "code",
   "execution_count": 24,
   "metadata": {},
   "outputs": [],
   "source": [
    "x = sym.Matrix([o_x, o_y, o_z, psi, theta, phi, v_x, v_y, v_z]) - sym.Matrix(s_eq)\n",
    "u = sym.Matrix([w_x, w_y, w_z, a_z]) - sym.Matrix(i_eq)\n",
    "y = sym.Matrix(o) - h.subs(tuple(zip(s, s_eq))).subs(tuple(zip(i, i_eq)))"
   ]
  },
  {
   "cell_type": "markdown",
   "metadata": {},
   "source": [
    "Show $y$."
   ]
  },
  {
   "cell_type": "code",
   "execution_count": 25,
   "metadata": {},
   "outputs": [
    {
     "data": {
      "text/latex": [
       "$\\displaystyle \\left[\\begin{matrix}d_{0} - \\sqrt{\\left(o_{x eq} - x_{0}\\right)^{2} + \\left(o_{y eq} - y_{0}\\right)^{2} + \\left(o_{z eq} - z_{0}\\right)^{2}}\\\\d_{1} - \\sqrt{\\left(o_{x eq} - x_{1}\\right)^{2} + \\left(o_{y eq} - y_{1}\\right)^{2} + \\left(o_{z eq} - z_{1}\\right)^{2}}\\\\d_{2} - \\sqrt{\\left(o_{x eq} - x_{2}\\right)^{2} + \\left(o_{y eq} - y_{2}\\right)^{2} + \\left(o_{z eq} - z_{2}\\right)^{2}}\\\\d_{3} - \\sqrt{\\left(o_{x eq} - x_{3}\\right)^{2} + \\left(o_{y eq} - y_{3}\\right)^{2} + \\left(o_{z eq} - z_{3}\\right)^{2}}\\\\d_{4} - \\sqrt{\\left(o_{x eq} - x_{4}\\right)^{2} + \\left(o_{y eq} - y_{4}\\right)^{2} + \\left(o_{z eq} - z_{4}\\right)^{2}}\\\\d_{5} - \\sqrt{\\left(o_{x eq} - x_{5}\\right)^{2} + \\left(o_{y eq} - y_{5}\\right)^{2} + \\left(o_{z eq} - z_{5}\\right)^{2}}\\\\d_{6} - \\sqrt{\\left(o_{x eq} - x_{6}\\right)^{2} + \\left(o_{y eq} - y_{6}\\right)^{2} + \\left(o_{z eq} - z_{6}\\right)^{2}}\\\\d_{7} - \\sqrt{\\left(o_{x eq} - x_{7}\\right)^{2} + \\left(o_{y eq} - y_{7}\\right)^{2} + \\left(o_{z eq} - z_{7}\\right)^{2}}\\\\n_{x}\\\\n_{y}\\\\- o_{z eq} + r\\end{matrix}\\right]$"
      ],
      "text/plain": [
       "Matrix([\n",
       "[d_0 - sqrt((o_x_eq - x_0)**2 + (o_y_eq - y_0)**2 + (o_z_eq - z_0)**2)],\n",
       "[d_1 - sqrt((o_x_eq - x_1)**2 + (o_y_eq - y_1)**2 + (o_z_eq - z_1)**2)],\n",
       "[d_2 - sqrt((o_x_eq - x_2)**2 + (o_y_eq - y_2)**2 + (o_z_eq - z_2)**2)],\n",
       "[d_3 - sqrt((o_x_eq - x_3)**2 + (o_y_eq - y_3)**2 + (o_z_eq - z_3)**2)],\n",
       "[d_4 - sqrt((o_x_eq - x_4)**2 + (o_y_eq - y_4)**2 + (o_z_eq - z_4)**2)],\n",
       "[d_5 - sqrt((o_x_eq - x_5)**2 + (o_y_eq - y_5)**2 + (o_z_eq - z_5)**2)],\n",
       "[d_6 - sqrt((o_x_eq - x_6)**2 + (o_y_eq - y_6)**2 + (o_z_eq - z_6)**2)],\n",
       "[d_7 - sqrt((o_x_eq - x_7)**2 + (o_y_eq - y_7)**2 + (o_z_eq - z_7)**2)],\n",
       "[                                                                  n_x],\n",
       "[                                                                  n_y],\n",
       "[                                                          -o_z_eq + r]])"
      ]
     },
     "execution_count": 25,
     "metadata": {},
     "output_type": "execute_result"
    }
   ],
   "source": [
    "y"
   ]
  },
  {
   "cell_type": "markdown",
   "metadata": {},
   "source": [
    "# 3. Linearization of the System"
   ]
  },
  {
   "cell_type": "markdown",
   "metadata": {},
   "source": [
    "## 3.1 Original System"
   ]
  },
  {
   "cell_type": "markdown",
   "metadata": {},
   "source": [
    "Find $A$, $B$, $C$, and $D$ ignoring observability."
   ]
  },
  {
   "cell_type": "code",
   "execution_count": 26,
   "metadata": {},
   "outputs": [],
   "source": [
    "A = f.jacobian(s).subs(tuple(zip(s, s_eq))).subs(tuple(zip(i, i_eq)))\n",
    "B = f.jacobian(i).subs(tuple(zip(s, s_eq))).subs(tuple(zip(i, i_eq)))\n",
    "C = h.jacobian(s).subs(tuple(zip(s, s_eq))).subs(tuple(zip(i, i_eq)))\n",
    "D = h.jacobian(i).subs(tuple(zip(s, s_eq))).subs(tuple(zip(i, i_eq)))"
   ]
  },
  {
   "cell_type": "markdown",
   "metadata": {},
   "source": [
    "## 3.2 Observable System"
   ]
  },
  {
   "cell_type": "markdown",
   "metadata": {},
   "source": [
    "Focus on the observable elements of the system."
   ]
  },
  {
   "cell_type": "code",
   "execution_count": 27,
   "metadata": {},
   "outputs": [],
   "source": [
    "s_obs_index = [0, 1, 2, 4, 5, 6, 7, 8]\n",
    "A_obs = A[s_obs_index, :][:, s_obs_index]\n",
    "B_obs = B[s_obs_index, :]\n",
    "C_obs = C[:, s_obs_index]\n",
    "D_obs = D\n",
    "x_obs = sym.Matrix([o_x - o_x_eq, o_y - o_y_eq, o_z - o_z_eq, theta, phi, v_x, v_y, v_z])"
   ]
  },
  {
   "cell_type": "markdown",
   "metadata": {},
   "source": [
    "Show observable versions of the matrices."
   ]
  },
  {
   "cell_type": "code",
   "execution_count": 28,
   "metadata": {},
   "outputs": [
    {
     "data": {
      "text/latex": [
       "$\\displaystyle \\left[\\begin{matrix}0 & 0 & 0 & 0 & 0 & 1 & 0 & 0\\\\0 & 0 & 0 & 0 & 0 & 0 & 1 & 0\\\\0 & 0 & 0 & 0 & 0 & 0 & 0 & 1\\\\0 & 0 & 0 & 0 & 0 & 0 & 0 & 0\\\\0 & 0 & 0 & 0 & 0 & 0 & 0 & 0\\\\0 & 0 & 0 & g & 0 & 0 & 0 & 0\\\\0 & 0 & 0 & 0 & - g & 0 & 0 & 0\\\\0 & 0 & 0 & 0 & 0 & 0 & 0 & 0\\end{matrix}\\right]$"
      ],
      "text/plain": [
       "Matrix([\n",
       "[0, 0, 0, 0,  0, 1, 0, 0],\n",
       "[0, 0, 0, 0,  0, 0, 1, 0],\n",
       "[0, 0, 0, 0,  0, 0, 0, 1],\n",
       "[0, 0, 0, 0,  0, 0, 0, 0],\n",
       "[0, 0, 0, 0,  0, 0, 0, 0],\n",
       "[0, 0, 0, g,  0, 0, 0, 0],\n",
       "[0, 0, 0, 0, -g, 0, 0, 0],\n",
       "[0, 0, 0, 0,  0, 0, 0, 0]])"
      ]
     },
     "execution_count": 28,
     "metadata": {},
     "output_type": "execute_result"
    }
   ],
   "source": [
    "A_obs"
   ]
  },
  {
   "cell_type": "code",
   "execution_count": 29,
   "metadata": {},
   "outputs": [
    {
     "data": {
      "text/latex": [
       "$\\displaystyle \\left[\\begin{matrix}0 & 0 & 0 & 0\\\\0 & 0 & 0 & 0\\\\0 & 0 & 0 & 0\\\\0 & 1 & 0 & 0\\\\1 & 0 & 0 & 0\\\\0 & 0 & 0 & 0\\\\0 & 0 & 0 & 0\\\\0 & 0 & 0 & 1\\end{matrix}\\right]$"
      ],
      "text/plain": [
       "Matrix([\n",
       "[0, 0, 0, 0],\n",
       "[0, 0, 0, 0],\n",
       "[0, 0, 0, 0],\n",
       "[0, 1, 0, 0],\n",
       "[1, 0, 0, 0],\n",
       "[0, 0, 0, 0],\n",
       "[0, 0, 0, 0],\n",
       "[0, 0, 0, 1]])"
      ]
     },
     "execution_count": 29,
     "metadata": {},
     "output_type": "execute_result"
    }
   ],
   "source": [
    "B_obs"
   ]
  },
  {
   "cell_type": "code",
   "execution_count": 30,
   "metadata": {},
   "outputs": [
    {
     "data": {
      "text/latex": [
       "$\\displaystyle \\left[\\begin{matrix}\\frac{o_{x eq} - x_{0}}{\\sqrt{\\left(o_{x eq} - x_{0}\\right)^{2} + \\left(o_{y eq} - y_{0}\\right)^{2} + \\left(o_{z eq} - z_{0}\\right)^{2}}} & \\frac{o_{y eq} - y_{0}}{\\sqrt{\\left(o_{x eq} - x_{0}\\right)^{2} + \\left(o_{y eq} - y_{0}\\right)^{2} + \\left(o_{z eq} - z_{0}\\right)^{2}}} & \\frac{o_{z eq} - z_{0}}{\\sqrt{\\left(o_{x eq} - x_{0}\\right)^{2} + \\left(o_{y eq} - y_{0}\\right)^{2} + \\left(o_{z eq} - z_{0}\\right)^{2}}} & 0 & 0 & 0 & 0 & 0\\\\\\frac{o_{x eq} - x_{1}}{\\sqrt{\\left(o_{x eq} - x_{1}\\right)^{2} + \\left(o_{y eq} - y_{1}\\right)^{2} + \\left(o_{z eq} - z_{1}\\right)^{2}}} & \\frac{o_{y eq} - y_{1}}{\\sqrt{\\left(o_{x eq} - x_{1}\\right)^{2} + \\left(o_{y eq} - y_{1}\\right)^{2} + \\left(o_{z eq} - z_{1}\\right)^{2}}} & \\frac{o_{z eq} - z_{1}}{\\sqrt{\\left(o_{x eq} - x_{1}\\right)^{2} + \\left(o_{y eq} - y_{1}\\right)^{2} + \\left(o_{z eq} - z_{1}\\right)^{2}}} & 0 & 0 & 0 & 0 & 0\\\\\\frac{o_{x eq} - x_{2}}{\\sqrt{\\left(o_{x eq} - x_{2}\\right)^{2} + \\left(o_{y eq} - y_{2}\\right)^{2} + \\left(o_{z eq} - z_{2}\\right)^{2}}} & \\frac{o_{y eq} - y_{2}}{\\sqrt{\\left(o_{x eq} - x_{2}\\right)^{2} + \\left(o_{y eq} - y_{2}\\right)^{2} + \\left(o_{z eq} - z_{2}\\right)^{2}}} & \\frac{o_{z eq} - z_{2}}{\\sqrt{\\left(o_{x eq} - x_{2}\\right)^{2} + \\left(o_{y eq} - y_{2}\\right)^{2} + \\left(o_{z eq} - z_{2}\\right)^{2}}} & 0 & 0 & 0 & 0 & 0\\\\\\frac{o_{x eq} - x_{3}}{\\sqrt{\\left(o_{x eq} - x_{3}\\right)^{2} + \\left(o_{y eq} - y_{3}\\right)^{2} + \\left(o_{z eq} - z_{3}\\right)^{2}}} & \\frac{o_{y eq} - y_{3}}{\\sqrt{\\left(o_{x eq} - x_{3}\\right)^{2} + \\left(o_{y eq} - y_{3}\\right)^{2} + \\left(o_{z eq} - z_{3}\\right)^{2}}} & \\frac{o_{z eq} - z_{3}}{\\sqrt{\\left(o_{x eq} - x_{3}\\right)^{2} + \\left(o_{y eq} - y_{3}\\right)^{2} + \\left(o_{z eq} - z_{3}\\right)^{2}}} & 0 & 0 & 0 & 0 & 0\\\\\\frac{o_{x eq} - x_{4}}{\\sqrt{\\left(o_{x eq} - x_{4}\\right)^{2} + \\left(o_{y eq} - y_{4}\\right)^{2} + \\left(o_{z eq} - z_{4}\\right)^{2}}} & \\frac{o_{y eq} - y_{4}}{\\sqrt{\\left(o_{x eq} - x_{4}\\right)^{2} + \\left(o_{y eq} - y_{4}\\right)^{2} + \\left(o_{z eq} - z_{4}\\right)^{2}}} & \\frac{o_{z eq} - z_{4}}{\\sqrt{\\left(o_{x eq} - x_{4}\\right)^{2} + \\left(o_{y eq} - y_{4}\\right)^{2} + \\left(o_{z eq} - z_{4}\\right)^{2}}} & 0 & 0 & 0 & 0 & 0\\\\\\frac{o_{x eq} - x_{5}}{\\sqrt{\\left(o_{x eq} - x_{5}\\right)^{2} + \\left(o_{y eq} - y_{5}\\right)^{2} + \\left(o_{z eq} - z_{5}\\right)^{2}}} & \\frac{o_{y eq} - y_{5}}{\\sqrt{\\left(o_{x eq} - x_{5}\\right)^{2} + \\left(o_{y eq} - y_{5}\\right)^{2} + \\left(o_{z eq} - z_{5}\\right)^{2}}} & \\frac{o_{z eq} - z_{5}}{\\sqrt{\\left(o_{x eq} - x_{5}\\right)^{2} + \\left(o_{y eq} - y_{5}\\right)^{2} + \\left(o_{z eq} - z_{5}\\right)^{2}}} & 0 & 0 & 0 & 0 & 0\\\\\\frac{o_{x eq} - x_{6}}{\\sqrt{\\left(o_{x eq} - x_{6}\\right)^{2} + \\left(o_{y eq} - y_{6}\\right)^{2} + \\left(o_{z eq} - z_{6}\\right)^{2}}} & \\frac{o_{y eq} - y_{6}}{\\sqrt{\\left(o_{x eq} - x_{6}\\right)^{2} + \\left(o_{y eq} - y_{6}\\right)^{2} + \\left(o_{z eq} - z_{6}\\right)^{2}}} & \\frac{o_{z eq} - z_{6}}{\\sqrt{\\left(o_{x eq} - x_{6}\\right)^{2} + \\left(o_{y eq} - y_{6}\\right)^{2} + \\left(o_{z eq} - z_{6}\\right)^{2}}} & 0 & 0 & 0 & 0 & 0\\\\\\frac{o_{x eq} - x_{7}}{\\sqrt{\\left(o_{x eq} - x_{7}\\right)^{2} + \\left(o_{y eq} - y_{7}\\right)^{2} + \\left(o_{z eq} - z_{7}\\right)^{2}}} & \\frac{o_{y eq} - y_{7}}{\\sqrt{\\left(o_{x eq} - x_{7}\\right)^{2} + \\left(o_{y eq} - y_{7}\\right)^{2} + \\left(o_{z eq} - z_{7}\\right)^{2}}} & \\frac{o_{z eq} - z_{7}}{\\sqrt{\\left(o_{x eq} - x_{7}\\right)^{2} + \\left(o_{y eq} - y_{7}\\right)^{2} + \\left(o_{z eq} - z_{7}\\right)^{2}}} & 0 & 0 & 0 & 0 & 0\\\\0 & 0 & 0 & 0 & 0 & \\frac{k_{flow}}{o_{z eq}} & 0 & 0\\\\0 & 0 & 0 & 0 & 0 & 0 & \\frac{k_{flow}}{o_{z eq}} & 0\\\\0 & 0 & 1 & 0 & 0 & 0 & 0 & 0\\end{matrix}\\right]$"
      ],
      "text/plain": [
       "Matrix([\n",
       "[(o_x_eq - x_0)/sqrt((o_x_eq - x_0)**2 + (o_y_eq - y_0)**2 + (o_z_eq - z_0)**2), (o_y_eq - y_0)/sqrt((o_x_eq - x_0)**2 + (o_y_eq - y_0)**2 + (o_z_eq - z_0)**2), (o_z_eq - z_0)/sqrt((o_x_eq - x_0)**2 + (o_y_eq - y_0)**2 + (o_z_eq - z_0)**2), 0, 0,             0,             0, 0],\n",
       "[(o_x_eq - x_1)/sqrt((o_x_eq - x_1)**2 + (o_y_eq - y_1)**2 + (o_z_eq - z_1)**2), (o_y_eq - y_1)/sqrt((o_x_eq - x_1)**2 + (o_y_eq - y_1)**2 + (o_z_eq - z_1)**2), (o_z_eq - z_1)/sqrt((o_x_eq - x_1)**2 + (o_y_eq - y_1)**2 + (o_z_eq - z_1)**2), 0, 0,             0,             0, 0],\n",
       "[(o_x_eq - x_2)/sqrt((o_x_eq - x_2)**2 + (o_y_eq - y_2)**2 + (o_z_eq - z_2)**2), (o_y_eq - y_2)/sqrt((o_x_eq - x_2)**2 + (o_y_eq - y_2)**2 + (o_z_eq - z_2)**2), (o_z_eq - z_2)/sqrt((o_x_eq - x_2)**2 + (o_y_eq - y_2)**2 + (o_z_eq - z_2)**2), 0, 0,             0,             0, 0],\n",
       "[(o_x_eq - x_3)/sqrt((o_x_eq - x_3)**2 + (o_y_eq - y_3)**2 + (o_z_eq - z_3)**2), (o_y_eq - y_3)/sqrt((o_x_eq - x_3)**2 + (o_y_eq - y_3)**2 + (o_z_eq - z_3)**2), (o_z_eq - z_3)/sqrt((o_x_eq - x_3)**2 + (o_y_eq - y_3)**2 + (o_z_eq - z_3)**2), 0, 0,             0,             0, 0],\n",
       "[(o_x_eq - x_4)/sqrt((o_x_eq - x_4)**2 + (o_y_eq - y_4)**2 + (o_z_eq - z_4)**2), (o_y_eq - y_4)/sqrt((o_x_eq - x_4)**2 + (o_y_eq - y_4)**2 + (o_z_eq - z_4)**2), (o_z_eq - z_4)/sqrt((o_x_eq - x_4)**2 + (o_y_eq - y_4)**2 + (o_z_eq - z_4)**2), 0, 0,             0,             0, 0],\n",
       "[(o_x_eq - x_5)/sqrt((o_x_eq - x_5)**2 + (o_y_eq - y_5)**2 + (o_z_eq - z_5)**2), (o_y_eq - y_5)/sqrt((o_x_eq - x_5)**2 + (o_y_eq - y_5)**2 + (o_z_eq - z_5)**2), (o_z_eq - z_5)/sqrt((o_x_eq - x_5)**2 + (o_y_eq - y_5)**2 + (o_z_eq - z_5)**2), 0, 0,             0,             0, 0],\n",
       "[(o_x_eq - x_6)/sqrt((o_x_eq - x_6)**2 + (o_y_eq - y_6)**2 + (o_z_eq - z_6)**2), (o_y_eq - y_6)/sqrt((o_x_eq - x_6)**2 + (o_y_eq - y_6)**2 + (o_z_eq - z_6)**2), (o_z_eq - z_6)/sqrt((o_x_eq - x_6)**2 + (o_y_eq - y_6)**2 + (o_z_eq - z_6)**2), 0, 0,             0,             0, 0],\n",
       "[(o_x_eq - x_7)/sqrt((o_x_eq - x_7)**2 + (o_y_eq - y_7)**2 + (o_z_eq - z_7)**2), (o_y_eq - y_7)/sqrt((o_x_eq - x_7)**2 + (o_y_eq - y_7)**2 + (o_z_eq - z_7)**2), (o_z_eq - z_7)/sqrt((o_x_eq - x_7)**2 + (o_y_eq - y_7)**2 + (o_z_eq - z_7)**2), 0, 0,             0,             0, 0],\n",
       "[                                                                             0,                                                                              0,                                                                              0, 0, 0, k_flow/o_z_eq,             0, 0],\n",
       "[                                                                             0,                                                                              0,                                                                              0, 0, 0,             0, k_flow/o_z_eq, 0],\n",
       "[                                                                             0,                                                                              0,                                                                              1, 0, 0,             0,             0, 0]])"
      ]
     },
     "execution_count": 30,
     "metadata": {},
     "output_type": "execute_result"
    }
   ],
   "source": [
    "C_obs"
   ]
  },
  {
   "cell_type": "code",
   "execution_count": 31,
   "metadata": {},
   "outputs": [
    {
     "data": {
      "text/latex": [
       "$\\displaystyle \\left[\\begin{matrix}0 & 0 & 0 & 0\\\\0 & 0 & 0 & 0\\\\0 & 0 & 0 & 0\\\\0 & 0 & 0 & 0\\\\0 & 0 & 0 & 0\\\\0 & 0 & 0 & 0\\\\0 & 0 & 0 & 0\\\\0 & 0 & 0 & 0\\\\0 & - k_{flow} & 0 & 0\\\\k_{flow} & 0 & 0 & 0\\\\0 & 0 & 0 & 0\\end{matrix}\\right]$"
      ],
      "text/plain": [
       "Matrix([\n",
       "[     0,       0, 0, 0],\n",
       "[     0,       0, 0, 0],\n",
       "[     0,       0, 0, 0],\n",
       "[     0,       0, 0, 0],\n",
       "[     0,       0, 0, 0],\n",
       "[     0,       0, 0, 0],\n",
       "[     0,       0, 0, 0],\n",
       "[     0,       0, 0, 0],\n",
       "[     0, -k_flow, 0, 0],\n",
       "[k_flow,       0, 0, 0],\n",
       "[     0,       0, 0, 0]])"
      ]
     },
     "execution_count": 31,
     "metadata": {},
     "output_type": "execute_result"
    }
   ],
   "source": [
    "D_obs"
   ]
  },
  {
   "cell_type": "markdown",
   "metadata": {},
   "source": [
    "## 3.3 Symbolic Representation"
   ]
  },
  {
   "cell_type": "markdown",
   "metadata": {},
   "source": [
    "### 3.3.1 Measurement Error"
   ]
  },
  {
   "cell_type": "markdown",
   "metadata": {},
   "source": [
    "Symbolically calculate the error in the measurements."
   ]
  },
  {
   "cell_type": "code",
   "execution_count": 32,
   "metadata": {},
   "outputs": [
    {
     "data": {
      "text/latex": [
       "$\\displaystyle \\left[\\begin{matrix}- d_{0} + \\frac{\\left(o_{x} - o_{x eq}\\right) \\left(o_{x eq} - x_{0}\\right)}{\\sqrt{\\left(o_{x eq} - x_{0}\\right)^{2} + \\left(o_{y eq} - y_{0}\\right)^{2} + \\left(o_{z eq} - z_{0}\\right)^{2}}} + \\frac{\\left(o_{y} - o_{y eq}\\right) \\left(o_{y eq} - y_{0}\\right)}{\\sqrt{\\left(o_{x eq} - x_{0}\\right)^{2} + \\left(o_{y eq} - y_{0}\\right)^{2} + \\left(o_{z eq} - z_{0}\\right)^{2}}} + \\frac{\\left(o_{z} - o_{z eq}\\right) \\left(o_{z eq} - z_{0}\\right)}{\\sqrt{\\left(o_{x eq} - x_{0}\\right)^{2} + \\left(o_{y eq} - y_{0}\\right)^{2} + \\left(o_{z eq} - z_{0}\\right)^{2}}} + \\sqrt{\\left(o_{x eq} - x_{0}\\right)^{2} + \\left(o_{y eq} - y_{0}\\right)^{2} + \\left(o_{z eq} - z_{0}\\right)^{2}}\\\\- d_{1} + \\frac{\\left(o_{x} - o_{x eq}\\right) \\left(o_{x eq} - x_{1}\\right)}{\\sqrt{\\left(o_{x eq} - x_{1}\\right)^{2} + \\left(o_{y eq} - y_{1}\\right)^{2} + \\left(o_{z eq} - z_{1}\\right)^{2}}} + \\frac{\\left(o_{y} - o_{y eq}\\right) \\left(o_{y eq} - y_{1}\\right)}{\\sqrt{\\left(o_{x eq} - x_{1}\\right)^{2} + \\left(o_{y eq} - y_{1}\\right)^{2} + \\left(o_{z eq} - z_{1}\\right)^{2}}} + \\frac{\\left(o_{z} - o_{z eq}\\right) \\left(o_{z eq} - z_{1}\\right)}{\\sqrt{\\left(o_{x eq} - x_{1}\\right)^{2} + \\left(o_{y eq} - y_{1}\\right)^{2} + \\left(o_{z eq} - z_{1}\\right)^{2}}} + \\sqrt{\\left(o_{x eq} - x_{1}\\right)^{2} + \\left(o_{y eq} - y_{1}\\right)^{2} + \\left(o_{z eq} - z_{1}\\right)^{2}}\\\\- d_{2} + \\frac{\\left(o_{x} - o_{x eq}\\right) \\left(o_{x eq} - x_{2}\\right)}{\\sqrt{\\left(o_{x eq} - x_{2}\\right)^{2} + \\left(o_{y eq} - y_{2}\\right)^{2} + \\left(o_{z eq} - z_{2}\\right)^{2}}} + \\frac{\\left(o_{y} - o_{y eq}\\right) \\left(o_{y eq} - y_{2}\\right)}{\\sqrt{\\left(o_{x eq} - x_{2}\\right)^{2} + \\left(o_{y eq} - y_{2}\\right)^{2} + \\left(o_{z eq} - z_{2}\\right)^{2}}} + \\frac{\\left(o_{z} - o_{z eq}\\right) \\left(o_{z eq} - z_{2}\\right)}{\\sqrt{\\left(o_{x eq} - x_{2}\\right)^{2} + \\left(o_{y eq} - y_{2}\\right)^{2} + \\left(o_{z eq} - z_{2}\\right)^{2}}} + \\sqrt{\\left(o_{x eq} - x_{2}\\right)^{2} + \\left(o_{y eq} - y_{2}\\right)^{2} + \\left(o_{z eq} - z_{2}\\right)^{2}}\\\\- d_{3} + \\frac{\\left(o_{x} - o_{x eq}\\right) \\left(o_{x eq} - x_{3}\\right)}{\\sqrt{\\left(o_{x eq} - x_{3}\\right)^{2} + \\left(o_{y eq} - y_{3}\\right)^{2} + \\left(o_{z eq} - z_{3}\\right)^{2}}} + \\frac{\\left(o_{y} - o_{y eq}\\right) \\left(o_{y eq} - y_{3}\\right)}{\\sqrt{\\left(o_{x eq} - x_{3}\\right)^{2} + \\left(o_{y eq} - y_{3}\\right)^{2} + \\left(o_{z eq} - z_{3}\\right)^{2}}} + \\frac{\\left(o_{z} - o_{z eq}\\right) \\left(o_{z eq} - z_{3}\\right)}{\\sqrt{\\left(o_{x eq} - x_{3}\\right)^{2} + \\left(o_{y eq} - y_{3}\\right)^{2} + \\left(o_{z eq} - z_{3}\\right)^{2}}} + \\sqrt{\\left(o_{x eq} - x_{3}\\right)^{2} + \\left(o_{y eq} - y_{3}\\right)^{2} + \\left(o_{z eq} - z_{3}\\right)^{2}}\\\\- d_{4} + \\frac{\\left(o_{x} - o_{x eq}\\right) \\left(o_{x eq} - x_{4}\\right)}{\\sqrt{\\left(o_{x eq} - x_{4}\\right)^{2} + \\left(o_{y eq} - y_{4}\\right)^{2} + \\left(o_{z eq} - z_{4}\\right)^{2}}} + \\frac{\\left(o_{y} - o_{y eq}\\right) \\left(o_{y eq} - y_{4}\\right)}{\\sqrt{\\left(o_{x eq} - x_{4}\\right)^{2} + \\left(o_{y eq} - y_{4}\\right)^{2} + \\left(o_{z eq} - z_{4}\\right)^{2}}} + \\frac{\\left(o_{z} - o_{z eq}\\right) \\left(o_{z eq} - z_{4}\\right)}{\\sqrt{\\left(o_{x eq} - x_{4}\\right)^{2} + \\left(o_{y eq} - y_{4}\\right)^{2} + \\left(o_{z eq} - z_{4}\\right)^{2}}} + \\sqrt{\\left(o_{x eq} - x_{4}\\right)^{2} + \\left(o_{y eq} - y_{4}\\right)^{2} + \\left(o_{z eq} - z_{4}\\right)^{2}}\\\\- d_{5} + \\frac{\\left(o_{x} - o_{x eq}\\right) \\left(o_{x eq} - x_{5}\\right)}{\\sqrt{\\left(o_{x eq} - x_{5}\\right)^{2} + \\left(o_{y eq} - y_{5}\\right)^{2} + \\left(o_{z eq} - z_{5}\\right)^{2}}} + \\frac{\\left(o_{y} - o_{y eq}\\right) \\left(o_{y eq} - y_{5}\\right)}{\\sqrt{\\left(o_{x eq} - x_{5}\\right)^{2} + \\left(o_{y eq} - y_{5}\\right)^{2} + \\left(o_{z eq} - z_{5}\\right)^{2}}} + \\frac{\\left(o_{z} - o_{z eq}\\right) \\left(o_{z eq} - z_{5}\\right)}{\\sqrt{\\left(o_{x eq} - x_{5}\\right)^{2} + \\left(o_{y eq} - y_{5}\\right)^{2} + \\left(o_{z eq} - z_{5}\\right)^{2}}} + \\sqrt{\\left(o_{x eq} - x_{5}\\right)^{2} + \\left(o_{y eq} - y_{5}\\right)^{2} + \\left(o_{z eq} - z_{5}\\right)^{2}}\\\\- d_{6} + \\frac{\\left(o_{x} - o_{x eq}\\right) \\left(o_{x eq} - x_{6}\\right)}{\\sqrt{\\left(o_{x eq} - x_{6}\\right)^{2} + \\left(o_{y eq} - y_{6}\\right)^{2} + \\left(o_{z eq} - z_{6}\\right)^{2}}} + \\frac{\\left(o_{y} - o_{y eq}\\right) \\left(o_{y eq} - y_{6}\\right)}{\\sqrt{\\left(o_{x eq} - x_{6}\\right)^{2} + \\left(o_{y eq} - y_{6}\\right)^{2} + \\left(o_{z eq} - z_{6}\\right)^{2}}} + \\frac{\\left(o_{z} - o_{z eq}\\right) \\left(o_{z eq} - z_{6}\\right)}{\\sqrt{\\left(o_{x eq} - x_{6}\\right)^{2} + \\left(o_{y eq} - y_{6}\\right)^{2} + \\left(o_{z eq} - z_{6}\\right)^{2}}} + \\sqrt{\\left(o_{x eq} - x_{6}\\right)^{2} + \\left(o_{y eq} - y_{6}\\right)^{2} + \\left(o_{z eq} - z_{6}\\right)^{2}}\\\\- d_{7} + \\frac{\\left(o_{x} - o_{x eq}\\right) \\left(o_{x eq} - x_{7}\\right)}{\\sqrt{\\left(o_{x eq} - x_{7}\\right)^{2} + \\left(o_{y eq} - y_{7}\\right)^{2} + \\left(o_{z eq} - z_{7}\\right)^{2}}} + \\frac{\\left(o_{y} - o_{y eq}\\right) \\left(o_{y eq} - y_{7}\\right)}{\\sqrt{\\left(o_{x eq} - x_{7}\\right)^{2} + \\left(o_{y eq} - y_{7}\\right)^{2} + \\left(o_{z eq} - z_{7}\\right)^{2}}} + \\frac{\\left(o_{z} - o_{z eq}\\right) \\left(o_{z eq} - z_{7}\\right)}{\\sqrt{\\left(o_{x eq} - x_{7}\\right)^{2} + \\left(o_{y eq} - y_{7}\\right)^{2} + \\left(o_{z eq} - z_{7}\\right)^{2}}} + \\sqrt{\\left(o_{x eq} - x_{7}\\right)^{2} + \\left(o_{y eq} - y_{7}\\right)^{2} + \\left(o_{z eq} - z_{7}\\right)^{2}}\\\\- k_{flow} w_{y} + \\frac{k_{flow} v_{x}}{o_{z eq}} - n_{x}\\\\k_{flow} w_{x} + \\frac{k_{flow} v_{y}}{o_{z eq}} - n_{y}\\\\o_{z} - r\\end{matrix}\\right]$"
      ],
      "text/plain": [
       "Matrix([\n",
       "[-d_0 + (o_x - o_x_eq)*(o_x_eq - x_0)/sqrt((o_x_eq - x_0)**2 + (o_y_eq - y_0)**2 + (o_z_eq - z_0)**2) + (o_y - o_y_eq)*(o_y_eq - y_0)/sqrt((o_x_eq - x_0)**2 + (o_y_eq - y_0)**2 + (o_z_eq - z_0)**2) + (o_z - o_z_eq)*(o_z_eq - z_0)/sqrt((o_x_eq - x_0)**2 + (o_y_eq - y_0)**2 + (o_z_eq - z_0)**2) + sqrt((o_x_eq - x_0)**2 + (o_y_eq - y_0)**2 + (o_z_eq - z_0)**2)],\n",
       "[-d_1 + (o_x - o_x_eq)*(o_x_eq - x_1)/sqrt((o_x_eq - x_1)**2 + (o_y_eq - y_1)**2 + (o_z_eq - z_1)**2) + (o_y - o_y_eq)*(o_y_eq - y_1)/sqrt((o_x_eq - x_1)**2 + (o_y_eq - y_1)**2 + (o_z_eq - z_1)**2) + (o_z - o_z_eq)*(o_z_eq - z_1)/sqrt((o_x_eq - x_1)**2 + (o_y_eq - y_1)**2 + (o_z_eq - z_1)**2) + sqrt((o_x_eq - x_1)**2 + (o_y_eq - y_1)**2 + (o_z_eq - z_1)**2)],\n",
       "[-d_2 + (o_x - o_x_eq)*(o_x_eq - x_2)/sqrt((o_x_eq - x_2)**2 + (o_y_eq - y_2)**2 + (o_z_eq - z_2)**2) + (o_y - o_y_eq)*(o_y_eq - y_2)/sqrt((o_x_eq - x_2)**2 + (o_y_eq - y_2)**2 + (o_z_eq - z_2)**2) + (o_z - o_z_eq)*(o_z_eq - z_2)/sqrt((o_x_eq - x_2)**2 + (o_y_eq - y_2)**2 + (o_z_eq - z_2)**2) + sqrt((o_x_eq - x_2)**2 + (o_y_eq - y_2)**2 + (o_z_eq - z_2)**2)],\n",
       "[-d_3 + (o_x - o_x_eq)*(o_x_eq - x_3)/sqrt((o_x_eq - x_3)**2 + (o_y_eq - y_3)**2 + (o_z_eq - z_3)**2) + (o_y - o_y_eq)*(o_y_eq - y_3)/sqrt((o_x_eq - x_3)**2 + (o_y_eq - y_3)**2 + (o_z_eq - z_3)**2) + (o_z - o_z_eq)*(o_z_eq - z_3)/sqrt((o_x_eq - x_3)**2 + (o_y_eq - y_3)**2 + (o_z_eq - z_3)**2) + sqrt((o_x_eq - x_3)**2 + (o_y_eq - y_3)**2 + (o_z_eq - z_3)**2)],\n",
       "[-d_4 + (o_x - o_x_eq)*(o_x_eq - x_4)/sqrt((o_x_eq - x_4)**2 + (o_y_eq - y_4)**2 + (o_z_eq - z_4)**2) + (o_y - o_y_eq)*(o_y_eq - y_4)/sqrt((o_x_eq - x_4)**2 + (o_y_eq - y_4)**2 + (o_z_eq - z_4)**2) + (o_z - o_z_eq)*(o_z_eq - z_4)/sqrt((o_x_eq - x_4)**2 + (o_y_eq - y_4)**2 + (o_z_eq - z_4)**2) + sqrt((o_x_eq - x_4)**2 + (o_y_eq - y_4)**2 + (o_z_eq - z_4)**2)],\n",
       "[-d_5 + (o_x - o_x_eq)*(o_x_eq - x_5)/sqrt((o_x_eq - x_5)**2 + (o_y_eq - y_5)**2 + (o_z_eq - z_5)**2) + (o_y - o_y_eq)*(o_y_eq - y_5)/sqrt((o_x_eq - x_5)**2 + (o_y_eq - y_5)**2 + (o_z_eq - z_5)**2) + (o_z - o_z_eq)*(o_z_eq - z_5)/sqrt((o_x_eq - x_5)**2 + (o_y_eq - y_5)**2 + (o_z_eq - z_5)**2) + sqrt((o_x_eq - x_5)**2 + (o_y_eq - y_5)**2 + (o_z_eq - z_5)**2)],\n",
       "[-d_6 + (o_x - o_x_eq)*(o_x_eq - x_6)/sqrt((o_x_eq - x_6)**2 + (o_y_eq - y_6)**2 + (o_z_eq - z_6)**2) + (o_y - o_y_eq)*(o_y_eq - y_6)/sqrt((o_x_eq - x_6)**2 + (o_y_eq - y_6)**2 + (o_z_eq - z_6)**2) + (o_z - o_z_eq)*(o_z_eq - z_6)/sqrt((o_x_eq - x_6)**2 + (o_y_eq - y_6)**2 + (o_z_eq - z_6)**2) + sqrt((o_x_eq - x_6)**2 + (o_y_eq - y_6)**2 + (o_z_eq - z_6)**2)],\n",
       "[-d_7 + (o_x - o_x_eq)*(o_x_eq - x_7)/sqrt((o_x_eq - x_7)**2 + (o_y_eq - y_7)**2 + (o_z_eq - z_7)**2) + (o_y - o_y_eq)*(o_y_eq - y_7)/sqrt((o_x_eq - x_7)**2 + (o_y_eq - y_7)**2 + (o_z_eq - z_7)**2) + (o_z - o_z_eq)*(o_z_eq - z_7)/sqrt((o_x_eq - x_7)**2 + (o_y_eq - y_7)**2 + (o_z_eq - z_7)**2) + sqrt((o_x_eq - x_7)**2 + (o_y_eq - y_7)**2 + (o_z_eq - z_7)**2)],\n",
       "[                                                                                                                                                                                                                                                                                                                                 -k_flow*w_y + k_flow*v_x/o_z_eq - n_x],\n",
       "[                                                                                                                                                                                                                                                                                                                                  k_flow*w_x + k_flow*v_y/o_z_eq - n_y],\n",
       "[                                                                                                                                                                                                                                                                                                                                                               o_z - r]])"
      ]
     },
     "execution_count": 32,
     "metadata": {},
     "output_type": "execute_result"
    }
   ],
   "source": [
    "C_obs * x_obs + D_obs * u - y"
   ]
  },
  {
   "cell_type": "markdown",
   "metadata": {},
   "source": [
    "### 3.3.2 State Estimate Updating"
   ]
  },
  {
   "cell_type": "markdown",
   "metadata": {},
   "source": [
    "Define variables for each element of $L$."
   ]
  },
  {
   "cell_type": "code",
   "execution_count": 33,
   "metadata": {},
   "outputs": [],
   "source": [
    "L_0, L_1, L_2, L_3, L_4, L_5, L_6, L_7, L_8, L_9, L_10 = sym.symbols('L_0, L_1, L_2, L_3, L_4, L_5, L_6, L_7, L_8, L_9, L_10')\n",
    "L_11, L_12, L_13, L_14, L_15, L_16, L_17, L_18, L_19, L_20, L_21 = sym.symbols('L_11, L_12, L_13, L_14, L_15, L_16, L_17, L_18, L_19, L_20, L_21')\n",
    "L_22, L_23, L_24, L_25, L_26, L_27, L_28, L_29, L_30, L_31, L_32 = sym.symbols('L_22, L_23, L_24, L_25, L_26, L_27, L_28, L_29, L_30, L_31, L_32')\n",
    "L_33, L_34, L_35, L_36, L_37, L_38, L_39, L_40, L_41, L_42, L_43 = sym.symbols('L_33, L_34, L_35, L_36, L_37, L_38, L_39, L_40, L_41, L_42, L_43')\n",
    "L_44, L_45, L_46, L_47, L_48, L_49, L_50, L_51, L_52, L_53, L_54 = sym.symbols('L_44, L_45, L_46, L_47, L_48, L_49, L_50, L_51, L_52, L_53, L_54')\n",
    "L_55, L_56, L_57, L_58, L_59, L_60, L_61, L_62, L_63, L_64, L_65 = sym.symbols('L_55, L_56, L_57, L_58, L_59, L_60, L_61, L_62, L_63, L_64, L_65')\n",
    "L_66, L_67, L_68, L_69, L_70, L_71, L_72, L_73, L_74, L_75, L_76 = sym.symbols('L_66, L_67, L_68, L_69, L_70, L_71, L_72, L_73, L_74, L_75, L_76')\n",
    "L_77, L_78, L_79, L_80, L_81, L_82, L_83, L_84, L_85, L_86, L_87 = sym.symbols('L_77, L_78, L_79, L_80, L_81, L_82, L_83, L_84, L_85, L_86, L_87')"
   ]
  },
  {
   "cell_type": "markdown",
   "metadata": {},
   "source": [
    "Define $L$."
   ]
  },
  {
   "cell_type": "code",
   "execution_count": 34,
   "metadata": {},
   "outputs": [],
   "source": [
    "L_var_sym = sym.Matrix([[L_0, L_1, L_2, L_3, L_4, L_5, L_6, L_7, L_8, L_9, L_10],\n",
    "                        [L_11, L_12, L_13, L_14, L_15, L_16, L_17, L_18, L_19, L_20, L_21],\n",
    "                        [L_22, L_23, L_24, L_25, L_26, L_27, L_28, L_29, L_30, L_31, L_32],\n",
    "                        [L_33, L_34, L_35, L_36, L_37, L_38, L_39, L_40, L_41, L_42, L_43],\n",
    "                        [L_44, L_45, L_46, L_47, L_48, L_49, L_50, L_51, L_52, L_53, L_54],\n",
    "                        [L_55, L_56, L_57, L_58, L_59, L_60, L_61, L_62, L_63, L_64, L_65],\n",
    "                        [L_66, L_67, L_68, L_69, L_70, L_71, L_72, L_73, L_74, L_75, L_76],\n",
    "                        [L_77, L_78, L_79, L_80, L_81, L_82, L_83, L_84, L_85, L_86, L_87]])"
   ]
  },
  {
   "cell_type": "markdown",
   "metadata": {},
   "source": [
    "Find symbolic representation of state estimate equation."
   ]
  },
  {
   "cell_type": "code",
   "execution_count": 35,
   "metadata": {},
   "outputs": [],
   "source": [
    "x_obs_dot = A_obs * x_obs + B_obs * u\n",
    "y_err_sym = C_obs * x_obs + D_obs * u - y\n",
    "x_hat_dot_sym = x_obs_dot - L_var_sym * y_err_sym"
   ]
  },
  {
   "cell_type": "markdown",
   "metadata": {},
   "source": [
    "Show $\\dot{\\hat{x}}$."
   ]
  },
  {
   "cell_type": "code",
   "execution_count": 36,
   "metadata": {},
   "outputs": [
    {
     "data": {
      "text/latex": [
       "$\\displaystyle \\left[\\begin{matrix}- L_{0} \\left(- d_{0} + \\frac{\\left(o_{x} - o_{x eq}\\right) \\left(o_{x eq} - x_{0}\\right)}{\\sqrt{\\left(o_{x eq} - x_{0}\\right)^{2} + \\left(o_{y eq} - y_{0}\\right)^{2} + \\left(o_{z eq} - z_{0}\\right)^{2}}} + \\frac{\\left(o_{y} - o_{y eq}\\right) \\left(o_{y eq} - y_{0}\\right)}{\\sqrt{\\left(o_{x eq} - x_{0}\\right)^{2} + \\left(o_{y eq} - y_{0}\\right)^{2} + \\left(o_{z eq} - z_{0}\\right)^{2}}} + \\frac{\\left(o_{z} - o_{z eq}\\right) \\left(o_{z eq} - z_{0}\\right)}{\\sqrt{\\left(o_{x eq} - x_{0}\\right)^{2} + \\left(o_{y eq} - y_{0}\\right)^{2} + \\left(o_{z eq} - z_{0}\\right)^{2}}} + \\sqrt{\\left(o_{x eq} - x_{0}\\right)^{2} + \\left(o_{y eq} - y_{0}\\right)^{2} + \\left(o_{z eq} - z_{0}\\right)^{2}}\\right) - L_{1} \\left(- d_{1} + \\frac{\\left(o_{x} - o_{x eq}\\right) \\left(o_{x eq} - x_{1}\\right)}{\\sqrt{\\left(o_{x eq} - x_{1}\\right)^{2} + \\left(o_{y eq} - y_{1}\\right)^{2} + \\left(o_{z eq} - z_{1}\\right)^{2}}} + \\frac{\\left(o_{y} - o_{y eq}\\right) \\left(o_{y eq} - y_{1}\\right)}{\\sqrt{\\left(o_{x eq} - x_{1}\\right)^{2} + \\left(o_{y eq} - y_{1}\\right)^{2} + \\left(o_{z eq} - z_{1}\\right)^{2}}} + \\frac{\\left(o_{z} - o_{z eq}\\right) \\left(o_{z eq} - z_{1}\\right)}{\\sqrt{\\left(o_{x eq} - x_{1}\\right)^{2} + \\left(o_{y eq} - y_{1}\\right)^{2} + \\left(o_{z eq} - z_{1}\\right)^{2}}} + \\sqrt{\\left(o_{x eq} - x_{1}\\right)^{2} + \\left(o_{y eq} - y_{1}\\right)^{2} + \\left(o_{z eq} - z_{1}\\right)^{2}}\\right) - L_{10} \\left(o_{z} - r\\right) - L_{2} \\left(- d_{2} + \\frac{\\left(o_{x} - o_{x eq}\\right) \\left(o_{x eq} - x_{2}\\right)}{\\sqrt{\\left(o_{x eq} - x_{2}\\right)^{2} + \\left(o_{y eq} - y_{2}\\right)^{2} + \\left(o_{z eq} - z_{2}\\right)^{2}}} + \\frac{\\left(o_{y} - o_{y eq}\\right) \\left(o_{y eq} - y_{2}\\right)}{\\sqrt{\\left(o_{x eq} - x_{2}\\right)^{2} + \\left(o_{y eq} - y_{2}\\right)^{2} + \\left(o_{z eq} - z_{2}\\right)^{2}}} + \\frac{\\left(o_{z} - o_{z eq}\\right) \\left(o_{z eq} - z_{2}\\right)}{\\sqrt{\\left(o_{x eq} - x_{2}\\right)^{2} + \\left(o_{y eq} - y_{2}\\right)^{2} + \\left(o_{z eq} - z_{2}\\right)^{2}}} + \\sqrt{\\left(o_{x eq} - x_{2}\\right)^{2} + \\left(o_{y eq} - y_{2}\\right)^{2} + \\left(o_{z eq} - z_{2}\\right)^{2}}\\right) - L_{3} \\left(- d_{3} + \\frac{\\left(o_{x} - o_{x eq}\\right) \\left(o_{x eq} - x_{3}\\right)}{\\sqrt{\\left(o_{x eq} - x_{3}\\right)^{2} + \\left(o_{y eq} - y_{3}\\right)^{2} + \\left(o_{z eq} - z_{3}\\right)^{2}}} + \\frac{\\left(o_{y} - o_{y eq}\\right) \\left(o_{y eq} - y_{3}\\right)}{\\sqrt{\\left(o_{x eq} - x_{3}\\right)^{2} + \\left(o_{y eq} - y_{3}\\right)^{2} + \\left(o_{z eq} - z_{3}\\right)^{2}}} + \\frac{\\left(o_{z} - o_{z eq}\\right) \\left(o_{z eq} - z_{3}\\right)}{\\sqrt{\\left(o_{x eq} - x_{3}\\right)^{2} + \\left(o_{y eq} - y_{3}\\right)^{2} + \\left(o_{z eq} - z_{3}\\right)^{2}}} + \\sqrt{\\left(o_{x eq} - x_{3}\\right)^{2} + \\left(o_{y eq} - y_{3}\\right)^{2} + \\left(o_{z eq} - z_{3}\\right)^{2}}\\right) - L_{4} \\left(- d_{4} + \\frac{\\left(o_{x} - o_{x eq}\\right) \\left(o_{x eq} - x_{4}\\right)}{\\sqrt{\\left(o_{x eq} - x_{4}\\right)^{2} + \\left(o_{y eq} - y_{4}\\right)^{2} + \\left(o_{z eq} - z_{4}\\right)^{2}}} + \\frac{\\left(o_{y} - o_{y eq}\\right) \\left(o_{y eq} - y_{4}\\right)}{\\sqrt{\\left(o_{x eq} - x_{4}\\right)^{2} + \\left(o_{y eq} - y_{4}\\right)^{2} + \\left(o_{z eq} - z_{4}\\right)^{2}}} + \\frac{\\left(o_{z} - o_{z eq}\\right) \\left(o_{z eq} - z_{4}\\right)}{\\sqrt{\\left(o_{x eq} - x_{4}\\right)^{2} + \\left(o_{y eq} - y_{4}\\right)^{2} + \\left(o_{z eq} - z_{4}\\right)^{2}}} + \\sqrt{\\left(o_{x eq} - x_{4}\\right)^{2} + \\left(o_{y eq} - y_{4}\\right)^{2} + \\left(o_{z eq} - z_{4}\\right)^{2}}\\right) - L_{5} \\left(- d_{5} + \\frac{\\left(o_{x} - o_{x eq}\\right) \\left(o_{x eq} - x_{5}\\right)}{\\sqrt{\\left(o_{x eq} - x_{5}\\right)^{2} + \\left(o_{y eq} - y_{5}\\right)^{2} + \\left(o_{z eq} - z_{5}\\right)^{2}}} + \\frac{\\left(o_{y} - o_{y eq}\\right) \\left(o_{y eq} - y_{5}\\right)}{\\sqrt{\\left(o_{x eq} - x_{5}\\right)^{2} + \\left(o_{y eq} - y_{5}\\right)^{2} + \\left(o_{z eq} - z_{5}\\right)^{2}}} + \\frac{\\left(o_{z} - o_{z eq}\\right) \\left(o_{z eq} - z_{5}\\right)}{\\sqrt{\\left(o_{x eq} - x_{5}\\right)^{2} + \\left(o_{y eq} - y_{5}\\right)^{2} + \\left(o_{z eq} - z_{5}\\right)^{2}}} + \\sqrt{\\left(o_{x eq} - x_{5}\\right)^{2} + \\left(o_{y eq} - y_{5}\\right)^{2} + \\left(o_{z eq} - z_{5}\\right)^{2}}\\right) - L_{6} \\left(- d_{6} + \\frac{\\left(o_{x} - o_{x eq}\\right) \\left(o_{x eq} - x_{6}\\right)}{\\sqrt{\\left(o_{x eq} - x_{6}\\right)^{2} + \\left(o_{y eq} - y_{6}\\right)^{2} + \\left(o_{z eq} - z_{6}\\right)^{2}}} + \\frac{\\left(o_{y} - o_{y eq}\\right) \\left(o_{y eq} - y_{6}\\right)}{\\sqrt{\\left(o_{x eq} - x_{6}\\right)^{2} + \\left(o_{y eq} - y_{6}\\right)^{2} + \\left(o_{z eq} - z_{6}\\right)^{2}}} + \\frac{\\left(o_{z} - o_{z eq}\\right) \\left(o_{z eq} - z_{6}\\right)}{\\sqrt{\\left(o_{x eq} - x_{6}\\right)^{2} + \\left(o_{y eq} - y_{6}\\right)^{2} + \\left(o_{z eq} - z_{6}\\right)^{2}}} + \\sqrt{\\left(o_{x eq} - x_{6}\\right)^{2} + \\left(o_{y eq} - y_{6}\\right)^{2} + \\left(o_{z eq} - z_{6}\\right)^{2}}\\right) - L_{7} \\left(- d_{7} + \\frac{\\left(o_{x} - o_{x eq}\\right) \\left(o_{x eq} - x_{7}\\right)}{\\sqrt{\\left(o_{x eq} - x_{7}\\right)^{2} + \\left(o_{y eq} - y_{7}\\right)^{2} + \\left(o_{z eq} - z_{7}\\right)^{2}}} + \\frac{\\left(o_{y} - o_{y eq}\\right) \\left(o_{y eq} - y_{7}\\right)}{\\sqrt{\\left(o_{x eq} - x_{7}\\right)^{2} + \\left(o_{y eq} - y_{7}\\right)^{2} + \\left(o_{z eq} - z_{7}\\right)^{2}}} + \\frac{\\left(o_{z} - o_{z eq}\\right) \\left(o_{z eq} - z_{7}\\right)}{\\sqrt{\\left(o_{x eq} - x_{7}\\right)^{2} + \\left(o_{y eq} - y_{7}\\right)^{2} + \\left(o_{z eq} - z_{7}\\right)^{2}}} + \\sqrt{\\left(o_{x eq} - x_{7}\\right)^{2} + \\left(o_{y eq} - y_{7}\\right)^{2} + \\left(o_{z eq} - z_{7}\\right)^{2}}\\right) - L_{8} \\left(- k_{flow} w_{y} + \\frac{k_{flow} v_{x}}{o_{z eq}} - n_{x}\\right) - L_{9} \\left(k_{flow} w_{x} + \\frac{k_{flow} v_{y}}{o_{z eq}} - n_{y}\\right) + v_{x}\\\\- L_{11} \\left(- d_{0} + \\frac{\\left(o_{x} - o_{x eq}\\right) \\left(o_{x eq} - x_{0}\\right)}{\\sqrt{\\left(o_{x eq} - x_{0}\\right)^{2} + \\left(o_{y eq} - y_{0}\\right)^{2} + \\left(o_{z eq} - z_{0}\\right)^{2}}} + \\frac{\\left(o_{y} - o_{y eq}\\right) \\left(o_{y eq} - y_{0}\\right)}{\\sqrt{\\left(o_{x eq} - x_{0}\\right)^{2} + \\left(o_{y eq} - y_{0}\\right)^{2} + \\left(o_{z eq} - z_{0}\\right)^{2}}} + \\frac{\\left(o_{z} - o_{z eq}\\right) \\left(o_{z eq} - z_{0}\\right)}{\\sqrt{\\left(o_{x eq} - x_{0}\\right)^{2} + \\left(o_{y eq} - y_{0}\\right)^{2} + \\left(o_{z eq} - z_{0}\\right)^{2}}} + \\sqrt{\\left(o_{x eq} - x_{0}\\right)^{2} + \\left(o_{y eq} - y_{0}\\right)^{2} + \\left(o_{z eq} - z_{0}\\right)^{2}}\\right) - L_{12} \\left(- d_{1} + \\frac{\\left(o_{x} - o_{x eq}\\right) \\left(o_{x eq} - x_{1}\\right)}{\\sqrt{\\left(o_{x eq} - x_{1}\\right)^{2} + \\left(o_{y eq} - y_{1}\\right)^{2} + \\left(o_{z eq} - z_{1}\\right)^{2}}} + \\frac{\\left(o_{y} - o_{y eq}\\right) \\left(o_{y eq} - y_{1}\\right)}{\\sqrt{\\left(o_{x eq} - x_{1}\\right)^{2} + \\left(o_{y eq} - y_{1}\\right)^{2} + \\left(o_{z eq} - z_{1}\\right)^{2}}} + \\frac{\\left(o_{z} - o_{z eq}\\right) \\left(o_{z eq} - z_{1}\\right)}{\\sqrt{\\left(o_{x eq} - x_{1}\\right)^{2} + \\left(o_{y eq} - y_{1}\\right)^{2} + \\left(o_{z eq} - z_{1}\\right)^{2}}} + \\sqrt{\\left(o_{x eq} - x_{1}\\right)^{2} + \\left(o_{y eq} - y_{1}\\right)^{2} + \\left(o_{z eq} - z_{1}\\right)^{2}}\\right) - L_{13} \\left(- d_{2} + \\frac{\\left(o_{x} - o_{x eq}\\right) \\left(o_{x eq} - x_{2}\\right)}{\\sqrt{\\left(o_{x eq} - x_{2}\\right)^{2} + \\left(o_{y eq} - y_{2}\\right)^{2} + \\left(o_{z eq} - z_{2}\\right)^{2}}} + \\frac{\\left(o_{y} - o_{y eq}\\right) \\left(o_{y eq} - y_{2}\\right)}{\\sqrt{\\left(o_{x eq} - x_{2}\\right)^{2} + \\left(o_{y eq} - y_{2}\\right)^{2} + \\left(o_{z eq} - z_{2}\\right)^{2}}} + \\frac{\\left(o_{z} - o_{z eq}\\right) \\left(o_{z eq} - z_{2}\\right)}{\\sqrt{\\left(o_{x eq} - x_{2}\\right)^{2} + \\left(o_{y eq} - y_{2}\\right)^{2} + \\left(o_{z eq} - z_{2}\\right)^{2}}} + \\sqrt{\\left(o_{x eq} - x_{2}\\right)^{2} + \\left(o_{y eq} - y_{2}\\right)^{2} + \\left(o_{z eq} - z_{2}\\right)^{2}}\\right) - L_{14} \\left(- d_{3} + \\frac{\\left(o_{x} - o_{x eq}\\right) \\left(o_{x eq} - x_{3}\\right)}{\\sqrt{\\left(o_{x eq} - x_{3}\\right)^{2} + \\left(o_{y eq} - y_{3}\\right)^{2} + \\left(o_{z eq} - z_{3}\\right)^{2}}} + \\frac{\\left(o_{y} - o_{y eq}\\right) \\left(o_{y eq} - y_{3}\\right)}{\\sqrt{\\left(o_{x eq} - x_{3}\\right)^{2} + \\left(o_{y eq} - y_{3}\\right)^{2} + \\left(o_{z eq} - z_{3}\\right)^{2}}} + \\frac{\\left(o_{z} - o_{z eq}\\right) \\left(o_{z eq} - z_{3}\\right)}{\\sqrt{\\left(o_{x eq} - x_{3}\\right)^{2} + \\left(o_{y eq} - y_{3}\\right)^{2} + \\left(o_{z eq} - z_{3}\\right)^{2}}} + \\sqrt{\\left(o_{x eq} - x_{3}\\right)^{2} + \\left(o_{y eq} - y_{3}\\right)^{2} + \\left(o_{z eq} - z_{3}\\right)^{2}}\\right) - L_{15} \\left(- d_{4} + \\frac{\\left(o_{x} - o_{x eq}\\right) \\left(o_{x eq} - x_{4}\\right)}{\\sqrt{\\left(o_{x eq} - x_{4}\\right)^{2} + \\left(o_{y eq} - y_{4}\\right)^{2} + \\left(o_{z eq} - z_{4}\\right)^{2}}} + \\frac{\\left(o_{y} - o_{y eq}\\right) \\left(o_{y eq} - y_{4}\\right)}{\\sqrt{\\left(o_{x eq} - x_{4}\\right)^{2} + \\left(o_{y eq} - y_{4}\\right)^{2} + \\left(o_{z eq} - z_{4}\\right)^{2}}} + \\frac{\\left(o_{z} - o_{z eq}\\right) \\left(o_{z eq} - z_{4}\\right)}{\\sqrt{\\left(o_{x eq} - x_{4}\\right)^{2} + \\left(o_{y eq} - y_{4}\\right)^{2} + \\left(o_{z eq} - z_{4}\\right)^{2}}} + \\sqrt{\\left(o_{x eq} - x_{4}\\right)^{2} + \\left(o_{y eq} - y_{4}\\right)^{2} + \\left(o_{z eq} - z_{4}\\right)^{2}}\\right) - L_{16} \\left(- d_{5} + \\frac{\\left(o_{x} - o_{x eq}\\right) \\left(o_{x eq} - x_{5}\\right)}{\\sqrt{\\left(o_{x eq} - x_{5}\\right)^{2} + \\left(o_{y eq} - y_{5}\\right)^{2} + \\left(o_{z eq} - z_{5}\\right)^{2}}} + \\frac{\\left(o_{y} - o_{y eq}\\right) \\left(o_{y eq} - y_{5}\\right)}{\\sqrt{\\left(o_{x eq} - x_{5}\\right)^{2} + \\left(o_{y eq} - y_{5}\\right)^{2} + \\left(o_{z eq} - z_{5}\\right)^{2}}} + \\frac{\\left(o_{z} - o_{z eq}\\right) \\left(o_{z eq} - z_{5}\\right)}{\\sqrt{\\left(o_{x eq} - x_{5}\\right)^{2} + \\left(o_{y eq} - y_{5}\\right)^{2} + \\left(o_{z eq} - z_{5}\\right)^{2}}} + \\sqrt{\\left(o_{x eq} - x_{5}\\right)^{2} + \\left(o_{y eq} - y_{5}\\right)^{2} + \\left(o_{z eq} - z_{5}\\right)^{2}}\\right) - L_{17} \\left(- d_{6} + \\frac{\\left(o_{x} - o_{x eq}\\right) \\left(o_{x eq} - x_{6}\\right)}{\\sqrt{\\left(o_{x eq} - x_{6}\\right)^{2} + \\left(o_{y eq} - y_{6}\\right)^{2} + \\left(o_{z eq} - z_{6}\\right)^{2}}} + \\frac{\\left(o_{y} - o_{y eq}\\right) \\left(o_{y eq} - y_{6}\\right)}{\\sqrt{\\left(o_{x eq} - x_{6}\\right)^{2} + \\left(o_{y eq} - y_{6}\\right)^{2} + \\left(o_{z eq} - z_{6}\\right)^{2}}} + \\frac{\\left(o_{z} - o_{z eq}\\right) \\left(o_{z eq} - z_{6}\\right)}{\\sqrt{\\left(o_{x eq} - x_{6}\\right)^{2} + \\left(o_{y eq} - y_{6}\\right)^{2} + \\left(o_{z eq} - z_{6}\\right)^{2}}} + \\sqrt{\\left(o_{x eq} - x_{6}\\right)^{2} + \\left(o_{y eq} - y_{6}\\right)^{2} + \\left(o_{z eq} - z_{6}\\right)^{2}}\\right) - L_{18} \\left(- d_{7} + \\frac{\\left(o_{x} - o_{x eq}\\right) \\left(o_{x eq} - x_{7}\\right)}{\\sqrt{\\left(o_{x eq} - x_{7}\\right)^{2} + \\left(o_{y eq} - y_{7}\\right)^{2} + \\left(o_{z eq} - z_{7}\\right)^{2}}} + \\frac{\\left(o_{y} - o_{y eq}\\right) \\left(o_{y eq} - y_{7}\\right)}{\\sqrt{\\left(o_{x eq} - x_{7}\\right)^{2} + \\left(o_{y eq} - y_{7}\\right)^{2} + \\left(o_{z eq} - z_{7}\\right)^{2}}} + \\frac{\\left(o_{z} - o_{z eq}\\right) \\left(o_{z eq} - z_{7}\\right)}{\\sqrt{\\left(o_{x eq} - x_{7}\\right)^{2} + \\left(o_{y eq} - y_{7}\\right)^{2} + \\left(o_{z eq} - z_{7}\\right)^{2}}} + \\sqrt{\\left(o_{x eq} - x_{7}\\right)^{2} + \\left(o_{y eq} - y_{7}\\right)^{2} + \\left(o_{z eq} - z_{7}\\right)^{2}}\\right) - L_{19} \\left(- k_{flow} w_{y} + \\frac{k_{flow} v_{x}}{o_{z eq}} - n_{x}\\right) - L_{20} \\left(k_{flow} w_{x} + \\frac{k_{flow} v_{y}}{o_{z eq}} - n_{y}\\right) - L_{21} \\left(o_{z} - r\\right) + v_{y}\\\\- L_{22} \\left(- d_{0} + \\frac{\\left(o_{x} - o_{x eq}\\right) \\left(o_{x eq} - x_{0}\\right)}{\\sqrt{\\left(o_{x eq} - x_{0}\\right)^{2} + \\left(o_{y eq} - y_{0}\\right)^{2} + \\left(o_{z eq} - z_{0}\\right)^{2}}} + \\frac{\\left(o_{y} - o_{y eq}\\right) \\left(o_{y eq} - y_{0}\\right)}{\\sqrt{\\left(o_{x eq} - x_{0}\\right)^{2} + \\left(o_{y eq} - y_{0}\\right)^{2} + \\left(o_{z eq} - z_{0}\\right)^{2}}} + \\frac{\\left(o_{z} - o_{z eq}\\right) \\left(o_{z eq} - z_{0}\\right)}{\\sqrt{\\left(o_{x eq} - x_{0}\\right)^{2} + \\left(o_{y eq} - y_{0}\\right)^{2} + \\left(o_{z eq} - z_{0}\\right)^{2}}} + \\sqrt{\\left(o_{x eq} - x_{0}\\right)^{2} + \\left(o_{y eq} - y_{0}\\right)^{2} + \\left(o_{z eq} - z_{0}\\right)^{2}}\\right) - L_{23} \\left(- d_{1} + \\frac{\\left(o_{x} - o_{x eq}\\right) \\left(o_{x eq} - x_{1}\\right)}{\\sqrt{\\left(o_{x eq} - x_{1}\\right)^{2} + \\left(o_{y eq} - y_{1}\\right)^{2} + \\left(o_{z eq} - z_{1}\\right)^{2}}} + \\frac{\\left(o_{y} - o_{y eq}\\right) \\left(o_{y eq} - y_{1}\\right)}{\\sqrt{\\left(o_{x eq} - x_{1}\\right)^{2} + \\left(o_{y eq} - y_{1}\\right)^{2} + \\left(o_{z eq} - z_{1}\\right)^{2}}} + \\frac{\\left(o_{z} - o_{z eq}\\right) \\left(o_{z eq} - z_{1}\\right)}{\\sqrt{\\left(o_{x eq} - x_{1}\\right)^{2} + \\left(o_{y eq} - y_{1}\\right)^{2} + \\left(o_{z eq} - z_{1}\\right)^{2}}} + \\sqrt{\\left(o_{x eq} - x_{1}\\right)^{2} + \\left(o_{y eq} - y_{1}\\right)^{2} + \\left(o_{z eq} - z_{1}\\right)^{2}}\\right) - L_{24} \\left(- d_{2} + \\frac{\\left(o_{x} - o_{x eq}\\right) \\left(o_{x eq} - x_{2}\\right)}{\\sqrt{\\left(o_{x eq} - x_{2}\\right)^{2} + \\left(o_{y eq} - y_{2}\\right)^{2} + \\left(o_{z eq} - z_{2}\\right)^{2}}} + \\frac{\\left(o_{y} - o_{y eq}\\right) \\left(o_{y eq} - y_{2}\\right)}{\\sqrt{\\left(o_{x eq} - x_{2}\\right)^{2} + \\left(o_{y eq} - y_{2}\\right)^{2} + \\left(o_{z eq} - z_{2}\\right)^{2}}} + \\frac{\\left(o_{z} - o_{z eq}\\right) \\left(o_{z eq} - z_{2}\\right)}{\\sqrt{\\left(o_{x eq} - x_{2}\\right)^{2} + \\left(o_{y eq} - y_{2}\\right)^{2} + \\left(o_{z eq} - z_{2}\\right)^{2}}} + \\sqrt{\\left(o_{x eq} - x_{2}\\right)^{2} + \\left(o_{y eq} - y_{2}\\right)^{2} + \\left(o_{z eq} - z_{2}\\right)^{2}}\\right) - L_{25} \\left(- d_{3} + \\frac{\\left(o_{x} - o_{x eq}\\right) \\left(o_{x eq} - x_{3}\\right)}{\\sqrt{\\left(o_{x eq} - x_{3}\\right)^{2} + \\left(o_{y eq} - y_{3}\\right)^{2} + \\left(o_{z eq} - z_{3}\\right)^{2}}} + \\frac{\\left(o_{y} - o_{y eq}\\right) \\left(o_{y eq} - y_{3}\\right)}{\\sqrt{\\left(o_{x eq} - x_{3}\\right)^{2} + \\left(o_{y eq} - y_{3}\\right)^{2} + \\left(o_{z eq} - z_{3}\\right)^{2}}} + \\frac{\\left(o_{z} - o_{z eq}\\right) \\left(o_{z eq} - z_{3}\\right)}{\\sqrt{\\left(o_{x eq} - x_{3}\\right)^{2} + \\left(o_{y eq} - y_{3}\\right)^{2} + \\left(o_{z eq} - z_{3}\\right)^{2}}} + \\sqrt{\\left(o_{x eq} - x_{3}\\right)^{2} + \\left(o_{y eq} - y_{3}\\right)^{2} + \\left(o_{z eq} - z_{3}\\right)^{2}}\\right) - L_{26} \\left(- d_{4} + \\frac{\\left(o_{x} - o_{x eq}\\right) \\left(o_{x eq} - x_{4}\\right)}{\\sqrt{\\left(o_{x eq} - x_{4}\\right)^{2} + \\left(o_{y eq} - y_{4}\\right)^{2} + \\left(o_{z eq} - z_{4}\\right)^{2}}} + \\frac{\\left(o_{y} - o_{y eq}\\right) \\left(o_{y eq} - y_{4}\\right)}{\\sqrt{\\left(o_{x eq} - x_{4}\\right)^{2} + \\left(o_{y eq} - y_{4}\\right)^{2} + \\left(o_{z eq} - z_{4}\\right)^{2}}} + \\frac{\\left(o_{z} - o_{z eq}\\right) \\left(o_{z eq} - z_{4}\\right)}{\\sqrt{\\left(o_{x eq} - x_{4}\\right)^{2} + \\left(o_{y eq} - y_{4}\\right)^{2} + \\left(o_{z eq} - z_{4}\\right)^{2}}} + \\sqrt{\\left(o_{x eq} - x_{4}\\right)^{2} + \\left(o_{y eq} - y_{4}\\right)^{2} + \\left(o_{z eq} - z_{4}\\right)^{2}}\\right) - L_{27} \\left(- d_{5} + \\frac{\\left(o_{x} - o_{x eq}\\right) \\left(o_{x eq} - x_{5}\\right)}{\\sqrt{\\left(o_{x eq} - x_{5}\\right)^{2} + \\left(o_{y eq} - y_{5}\\right)^{2} + \\left(o_{z eq} - z_{5}\\right)^{2}}} + \\frac{\\left(o_{y} - o_{y eq}\\right) \\left(o_{y eq} - y_{5}\\right)}{\\sqrt{\\left(o_{x eq} - x_{5}\\right)^{2} + \\left(o_{y eq} - y_{5}\\right)^{2} + \\left(o_{z eq} - z_{5}\\right)^{2}}} + \\frac{\\left(o_{z} - o_{z eq}\\right) \\left(o_{z eq} - z_{5}\\right)}{\\sqrt{\\left(o_{x eq} - x_{5}\\right)^{2} + \\left(o_{y eq} - y_{5}\\right)^{2} + \\left(o_{z eq} - z_{5}\\right)^{2}}} + \\sqrt{\\left(o_{x eq} - x_{5}\\right)^{2} + \\left(o_{y eq} - y_{5}\\right)^{2} + \\left(o_{z eq} - z_{5}\\right)^{2}}\\right) - L_{28} \\left(- d_{6} + \\frac{\\left(o_{x} - o_{x eq}\\right) \\left(o_{x eq} - x_{6}\\right)}{\\sqrt{\\left(o_{x eq} - x_{6}\\right)^{2} + \\left(o_{y eq} - y_{6}\\right)^{2} + \\left(o_{z eq} - z_{6}\\right)^{2}}} + \\frac{\\left(o_{y} - o_{y eq}\\right) \\left(o_{y eq} - y_{6}\\right)}{\\sqrt{\\left(o_{x eq} - x_{6}\\right)^{2} + \\left(o_{y eq} - y_{6}\\right)^{2} + \\left(o_{z eq} - z_{6}\\right)^{2}}} + \\frac{\\left(o_{z} - o_{z eq}\\right) \\left(o_{z eq} - z_{6}\\right)}{\\sqrt{\\left(o_{x eq} - x_{6}\\right)^{2} + \\left(o_{y eq} - y_{6}\\right)^{2} + \\left(o_{z eq} - z_{6}\\right)^{2}}} + \\sqrt{\\left(o_{x eq} - x_{6}\\right)^{2} + \\left(o_{y eq} - y_{6}\\right)^{2} + \\left(o_{z eq} - z_{6}\\right)^{2}}\\right) - L_{29} \\left(- d_{7} + \\frac{\\left(o_{x} - o_{x eq}\\right) \\left(o_{x eq} - x_{7}\\right)}{\\sqrt{\\left(o_{x eq} - x_{7}\\right)^{2} + \\left(o_{y eq} - y_{7}\\right)^{2} + \\left(o_{z eq} - z_{7}\\right)^{2}}} + \\frac{\\left(o_{y} - o_{y eq}\\right) \\left(o_{y eq} - y_{7}\\right)}{\\sqrt{\\left(o_{x eq} - x_{7}\\right)^{2} + \\left(o_{y eq} - y_{7}\\right)^{2} + \\left(o_{z eq} - z_{7}\\right)^{2}}} + \\frac{\\left(o_{z} - o_{z eq}\\right) \\left(o_{z eq} - z_{7}\\right)}{\\sqrt{\\left(o_{x eq} - x_{7}\\right)^{2} + \\left(o_{y eq} - y_{7}\\right)^{2} + \\left(o_{z eq} - z_{7}\\right)^{2}}} + \\sqrt{\\left(o_{x eq} - x_{7}\\right)^{2} + \\left(o_{y eq} - y_{7}\\right)^{2} + \\left(o_{z eq} - z_{7}\\right)^{2}}\\right) - L_{30} \\left(- k_{flow} w_{y} + \\frac{k_{flow} v_{x}}{o_{z eq}} - n_{x}\\right) - L_{31} \\left(k_{flow} w_{x} + \\frac{k_{flow} v_{y}}{o_{z eq}} - n_{y}\\right) - L_{32} \\left(o_{z} - r\\right) + v_{z}\\\\- L_{33} \\left(- d_{0} + \\frac{\\left(o_{x} - o_{x eq}\\right) \\left(o_{x eq} - x_{0}\\right)}{\\sqrt{\\left(o_{x eq} - x_{0}\\right)^{2} + \\left(o_{y eq} - y_{0}\\right)^{2} + \\left(o_{z eq} - z_{0}\\right)^{2}}} + \\frac{\\left(o_{y} - o_{y eq}\\right) \\left(o_{y eq} - y_{0}\\right)}{\\sqrt{\\left(o_{x eq} - x_{0}\\right)^{2} + \\left(o_{y eq} - y_{0}\\right)^{2} + \\left(o_{z eq} - z_{0}\\right)^{2}}} + \\frac{\\left(o_{z} - o_{z eq}\\right) \\left(o_{z eq} - z_{0}\\right)}{\\sqrt{\\left(o_{x eq} - x_{0}\\right)^{2} + \\left(o_{y eq} - y_{0}\\right)^{2} + \\left(o_{z eq} - z_{0}\\right)^{2}}} + \\sqrt{\\left(o_{x eq} - x_{0}\\right)^{2} + \\left(o_{y eq} - y_{0}\\right)^{2} + \\left(o_{z eq} - z_{0}\\right)^{2}}\\right) - L_{34} \\left(- d_{1} + \\frac{\\left(o_{x} - o_{x eq}\\right) \\left(o_{x eq} - x_{1}\\right)}{\\sqrt{\\left(o_{x eq} - x_{1}\\right)^{2} + \\left(o_{y eq} - y_{1}\\right)^{2} + \\left(o_{z eq} - z_{1}\\right)^{2}}} + \\frac{\\left(o_{y} - o_{y eq}\\right) \\left(o_{y eq} - y_{1}\\right)}{\\sqrt{\\left(o_{x eq} - x_{1}\\right)^{2} + \\left(o_{y eq} - y_{1}\\right)^{2} + \\left(o_{z eq} - z_{1}\\right)^{2}}} + \\frac{\\left(o_{z} - o_{z eq}\\right) \\left(o_{z eq} - z_{1}\\right)}{\\sqrt{\\left(o_{x eq} - x_{1}\\right)^{2} + \\left(o_{y eq} - y_{1}\\right)^{2} + \\left(o_{z eq} - z_{1}\\right)^{2}}} + \\sqrt{\\left(o_{x eq} - x_{1}\\right)^{2} + \\left(o_{y eq} - y_{1}\\right)^{2} + \\left(o_{z eq} - z_{1}\\right)^{2}}\\right) - L_{35} \\left(- d_{2} + \\frac{\\left(o_{x} - o_{x eq}\\right) \\left(o_{x eq} - x_{2}\\right)}{\\sqrt{\\left(o_{x eq} - x_{2}\\right)^{2} + \\left(o_{y eq} - y_{2}\\right)^{2} + \\left(o_{z eq} - z_{2}\\right)^{2}}} + \\frac{\\left(o_{y} - o_{y eq}\\right) \\left(o_{y eq} - y_{2}\\right)}{\\sqrt{\\left(o_{x eq} - x_{2}\\right)^{2} + \\left(o_{y eq} - y_{2}\\right)^{2} + \\left(o_{z eq} - z_{2}\\right)^{2}}} + \\frac{\\left(o_{z} - o_{z eq}\\right) \\left(o_{z eq} - z_{2}\\right)}{\\sqrt{\\left(o_{x eq} - x_{2}\\right)^{2} + \\left(o_{y eq} - y_{2}\\right)^{2} + \\left(o_{z eq} - z_{2}\\right)^{2}}} + \\sqrt{\\left(o_{x eq} - x_{2}\\right)^{2} + \\left(o_{y eq} - y_{2}\\right)^{2} + \\left(o_{z eq} - z_{2}\\right)^{2}}\\right) - L_{36} \\left(- d_{3} + \\frac{\\left(o_{x} - o_{x eq}\\right) \\left(o_{x eq} - x_{3}\\right)}{\\sqrt{\\left(o_{x eq} - x_{3}\\right)^{2} + \\left(o_{y eq} - y_{3}\\right)^{2} + \\left(o_{z eq} - z_{3}\\right)^{2}}} + \\frac{\\left(o_{y} - o_{y eq}\\right) \\left(o_{y eq} - y_{3}\\right)}{\\sqrt{\\left(o_{x eq} - x_{3}\\right)^{2} + \\left(o_{y eq} - y_{3}\\right)^{2} + \\left(o_{z eq} - z_{3}\\right)^{2}}} + \\frac{\\left(o_{z} - o_{z eq}\\right) \\left(o_{z eq} - z_{3}\\right)}{\\sqrt{\\left(o_{x eq} - x_{3}\\right)^{2} + \\left(o_{y eq} - y_{3}\\right)^{2} + \\left(o_{z eq} - z_{3}\\right)^{2}}} + \\sqrt{\\left(o_{x eq} - x_{3}\\right)^{2} + \\left(o_{y eq} - y_{3}\\right)^{2} + \\left(o_{z eq} - z_{3}\\right)^{2}}\\right) - L_{37} \\left(- d_{4} + \\frac{\\left(o_{x} - o_{x eq}\\right) \\left(o_{x eq} - x_{4}\\right)}{\\sqrt{\\left(o_{x eq} - x_{4}\\right)^{2} + \\left(o_{y eq} - y_{4}\\right)^{2} + \\left(o_{z eq} - z_{4}\\right)^{2}}} + \\frac{\\left(o_{y} - o_{y eq}\\right) \\left(o_{y eq} - y_{4}\\right)}{\\sqrt{\\left(o_{x eq} - x_{4}\\right)^{2} + \\left(o_{y eq} - y_{4}\\right)^{2} + \\left(o_{z eq} - z_{4}\\right)^{2}}} + \\frac{\\left(o_{z} - o_{z eq}\\right) \\left(o_{z eq} - z_{4}\\right)}{\\sqrt{\\left(o_{x eq} - x_{4}\\right)^{2} + \\left(o_{y eq} - y_{4}\\right)^{2} + \\left(o_{z eq} - z_{4}\\right)^{2}}} + \\sqrt{\\left(o_{x eq} - x_{4}\\right)^{2} + \\left(o_{y eq} - y_{4}\\right)^{2} + \\left(o_{z eq} - z_{4}\\right)^{2}}\\right) - L_{38} \\left(- d_{5} + \\frac{\\left(o_{x} - o_{x eq}\\right) \\left(o_{x eq} - x_{5}\\right)}{\\sqrt{\\left(o_{x eq} - x_{5}\\right)^{2} + \\left(o_{y eq} - y_{5}\\right)^{2} + \\left(o_{z eq} - z_{5}\\right)^{2}}} + \\frac{\\left(o_{y} - o_{y eq}\\right) \\left(o_{y eq} - y_{5}\\right)}{\\sqrt{\\left(o_{x eq} - x_{5}\\right)^{2} + \\left(o_{y eq} - y_{5}\\right)^{2} + \\left(o_{z eq} - z_{5}\\right)^{2}}} + \\frac{\\left(o_{z} - o_{z eq}\\right) \\left(o_{z eq} - z_{5}\\right)}{\\sqrt{\\left(o_{x eq} - x_{5}\\right)^{2} + \\left(o_{y eq} - y_{5}\\right)^{2} + \\left(o_{z eq} - z_{5}\\right)^{2}}} + \\sqrt{\\left(o_{x eq} - x_{5}\\right)^{2} + \\left(o_{y eq} - y_{5}\\right)^{2} + \\left(o_{z eq} - z_{5}\\right)^{2}}\\right) - L_{39} \\left(- d_{6} + \\frac{\\left(o_{x} - o_{x eq}\\right) \\left(o_{x eq} - x_{6}\\right)}{\\sqrt{\\left(o_{x eq} - x_{6}\\right)^{2} + \\left(o_{y eq} - y_{6}\\right)^{2} + \\left(o_{z eq} - z_{6}\\right)^{2}}} + \\frac{\\left(o_{y} - o_{y eq}\\right) \\left(o_{y eq} - y_{6}\\right)}{\\sqrt{\\left(o_{x eq} - x_{6}\\right)^{2} + \\left(o_{y eq} - y_{6}\\right)^{2} + \\left(o_{z eq} - z_{6}\\right)^{2}}} + \\frac{\\left(o_{z} - o_{z eq}\\right) \\left(o_{z eq} - z_{6}\\right)}{\\sqrt{\\left(o_{x eq} - x_{6}\\right)^{2} + \\left(o_{y eq} - y_{6}\\right)^{2} + \\left(o_{z eq} - z_{6}\\right)^{2}}} + \\sqrt{\\left(o_{x eq} - x_{6}\\right)^{2} + \\left(o_{y eq} - y_{6}\\right)^{2} + \\left(o_{z eq} - z_{6}\\right)^{2}}\\right) - L_{40} \\left(- d_{7} + \\frac{\\left(o_{x} - o_{x eq}\\right) \\left(o_{x eq} - x_{7}\\right)}{\\sqrt{\\left(o_{x eq} - x_{7}\\right)^{2} + \\left(o_{y eq} - y_{7}\\right)^{2} + \\left(o_{z eq} - z_{7}\\right)^{2}}} + \\frac{\\left(o_{y} - o_{y eq}\\right) \\left(o_{y eq} - y_{7}\\right)}{\\sqrt{\\left(o_{x eq} - x_{7}\\right)^{2} + \\left(o_{y eq} - y_{7}\\right)^{2} + \\left(o_{z eq} - z_{7}\\right)^{2}}} + \\frac{\\left(o_{z} - o_{z eq}\\right) \\left(o_{z eq} - z_{7}\\right)}{\\sqrt{\\left(o_{x eq} - x_{7}\\right)^{2} + \\left(o_{y eq} - y_{7}\\right)^{2} + \\left(o_{z eq} - z_{7}\\right)^{2}}} + \\sqrt{\\left(o_{x eq} - x_{7}\\right)^{2} + \\left(o_{y eq} - y_{7}\\right)^{2} + \\left(o_{z eq} - z_{7}\\right)^{2}}\\right) - L_{41} \\left(- k_{flow} w_{y} + \\frac{k_{flow} v_{x}}{o_{z eq}} - n_{x}\\right) - L_{42} \\left(k_{flow} w_{x} + \\frac{k_{flow} v_{y}}{o_{z eq}} - n_{y}\\right) - L_{43} \\left(o_{z} - r\\right) + w_{y}\\\\- L_{44} \\left(- d_{0} + \\frac{\\left(o_{x} - o_{x eq}\\right) \\left(o_{x eq} - x_{0}\\right)}{\\sqrt{\\left(o_{x eq} - x_{0}\\right)^{2} + \\left(o_{y eq} - y_{0}\\right)^{2} + \\left(o_{z eq} - z_{0}\\right)^{2}}} + \\frac{\\left(o_{y} - o_{y eq}\\right) \\left(o_{y eq} - y_{0}\\right)}{\\sqrt{\\left(o_{x eq} - x_{0}\\right)^{2} + \\left(o_{y eq} - y_{0}\\right)^{2} + \\left(o_{z eq} - z_{0}\\right)^{2}}} + \\frac{\\left(o_{z} - o_{z eq}\\right) \\left(o_{z eq} - z_{0}\\right)}{\\sqrt{\\left(o_{x eq} - x_{0}\\right)^{2} + \\left(o_{y eq} - y_{0}\\right)^{2} + \\left(o_{z eq} - z_{0}\\right)^{2}}} + \\sqrt{\\left(o_{x eq} - x_{0}\\right)^{2} + \\left(o_{y eq} - y_{0}\\right)^{2} + \\left(o_{z eq} - z_{0}\\right)^{2}}\\right) - L_{45} \\left(- d_{1} + \\frac{\\left(o_{x} - o_{x eq}\\right) \\left(o_{x eq} - x_{1}\\right)}{\\sqrt{\\left(o_{x eq} - x_{1}\\right)^{2} + \\left(o_{y eq} - y_{1}\\right)^{2} + \\left(o_{z eq} - z_{1}\\right)^{2}}} + \\frac{\\left(o_{y} - o_{y eq}\\right) \\left(o_{y eq} - y_{1}\\right)}{\\sqrt{\\left(o_{x eq} - x_{1}\\right)^{2} + \\left(o_{y eq} - y_{1}\\right)^{2} + \\left(o_{z eq} - z_{1}\\right)^{2}}} + \\frac{\\left(o_{z} - o_{z eq}\\right) \\left(o_{z eq} - z_{1}\\right)}{\\sqrt{\\left(o_{x eq} - x_{1}\\right)^{2} + \\left(o_{y eq} - y_{1}\\right)^{2} + \\left(o_{z eq} - z_{1}\\right)^{2}}} + \\sqrt{\\left(o_{x eq} - x_{1}\\right)^{2} + \\left(o_{y eq} - y_{1}\\right)^{2} + \\left(o_{z eq} - z_{1}\\right)^{2}}\\right) - L_{46} \\left(- d_{2} + \\frac{\\left(o_{x} - o_{x eq}\\right) \\left(o_{x eq} - x_{2}\\right)}{\\sqrt{\\left(o_{x eq} - x_{2}\\right)^{2} + \\left(o_{y eq} - y_{2}\\right)^{2} + \\left(o_{z eq} - z_{2}\\right)^{2}}} + \\frac{\\left(o_{y} - o_{y eq}\\right) \\left(o_{y eq} - y_{2}\\right)}{\\sqrt{\\left(o_{x eq} - x_{2}\\right)^{2} + \\left(o_{y eq} - y_{2}\\right)^{2} + \\left(o_{z eq} - z_{2}\\right)^{2}}} + \\frac{\\left(o_{z} - o_{z eq}\\right) \\left(o_{z eq} - z_{2}\\right)}{\\sqrt{\\left(o_{x eq} - x_{2}\\right)^{2} + \\left(o_{y eq} - y_{2}\\right)^{2} + \\left(o_{z eq} - z_{2}\\right)^{2}}} + \\sqrt{\\left(o_{x eq} - x_{2}\\right)^{2} + \\left(o_{y eq} - y_{2}\\right)^{2} + \\left(o_{z eq} - z_{2}\\right)^{2}}\\right) - L_{47} \\left(- d_{3} + \\frac{\\left(o_{x} - o_{x eq}\\right) \\left(o_{x eq} - x_{3}\\right)}{\\sqrt{\\left(o_{x eq} - x_{3}\\right)^{2} + \\left(o_{y eq} - y_{3}\\right)^{2} + \\left(o_{z eq} - z_{3}\\right)^{2}}} + \\frac{\\left(o_{y} - o_{y eq}\\right) \\left(o_{y eq} - y_{3}\\right)}{\\sqrt{\\left(o_{x eq} - x_{3}\\right)^{2} + \\left(o_{y eq} - y_{3}\\right)^{2} + \\left(o_{z eq} - z_{3}\\right)^{2}}} + \\frac{\\left(o_{z} - o_{z eq}\\right) \\left(o_{z eq} - z_{3}\\right)}{\\sqrt{\\left(o_{x eq} - x_{3}\\right)^{2} + \\left(o_{y eq} - y_{3}\\right)^{2} + \\left(o_{z eq} - z_{3}\\right)^{2}}} + \\sqrt{\\left(o_{x eq} - x_{3}\\right)^{2} + \\left(o_{y eq} - y_{3}\\right)^{2} + \\left(o_{z eq} - z_{3}\\right)^{2}}\\right) - L_{48} \\left(- d_{4} + \\frac{\\left(o_{x} - o_{x eq}\\right) \\left(o_{x eq} - x_{4}\\right)}{\\sqrt{\\left(o_{x eq} - x_{4}\\right)^{2} + \\left(o_{y eq} - y_{4}\\right)^{2} + \\left(o_{z eq} - z_{4}\\right)^{2}}} + \\frac{\\left(o_{y} - o_{y eq}\\right) \\left(o_{y eq} - y_{4}\\right)}{\\sqrt{\\left(o_{x eq} - x_{4}\\right)^{2} + \\left(o_{y eq} - y_{4}\\right)^{2} + \\left(o_{z eq} - z_{4}\\right)^{2}}} + \\frac{\\left(o_{z} - o_{z eq}\\right) \\left(o_{z eq} - z_{4}\\right)}{\\sqrt{\\left(o_{x eq} - x_{4}\\right)^{2} + \\left(o_{y eq} - y_{4}\\right)^{2} + \\left(o_{z eq} - z_{4}\\right)^{2}}} + \\sqrt{\\left(o_{x eq} - x_{4}\\right)^{2} + \\left(o_{y eq} - y_{4}\\right)^{2} + \\left(o_{z eq} - z_{4}\\right)^{2}}\\right) - L_{49} \\left(- d_{5} + \\frac{\\left(o_{x} - o_{x eq}\\right) \\left(o_{x eq} - x_{5}\\right)}{\\sqrt{\\left(o_{x eq} - x_{5}\\right)^{2} + \\left(o_{y eq} - y_{5}\\right)^{2} + \\left(o_{z eq} - z_{5}\\right)^{2}}} + \\frac{\\left(o_{y} - o_{y eq}\\right) \\left(o_{y eq} - y_{5}\\right)}{\\sqrt{\\left(o_{x eq} - x_{5}\\right)^{2} + \\left(o_{y eq} - y_{5}\\right)^{2} + \\left(o_{z eq} - z_{5}\\right)^{2}}} + \\frac{\\left(o_{z} - o_{z eq}\\right) \\left(o_{z eq} - z_{5}\\right)}{\\sqrt{\\left(o_{x eq} - x_{5}\\right)^{2} + \\left(o_{y eq} - y_{5}\\right)^{2} + \\left(o_{z eq} - z_{5}\\right)^{2}}} + \\sqrt{\\left(o_{x eq} - x_{5}\\right)^{2} + \\left(o_{y eq} - y_{5}\\right)^{2} + \\left(o_{z eq} - z_{5}\\right)^{2}}\\right) - L_{50} \\left(- d_{6} + \\frac{\\left(o_{x} - o_{x eq}\\right) \\left(o_{x eq} - x_{6}\\right)}{\\sqrt{\\left(o_{x eq} - x_{6}\\right)^{2} + \\left(o_{y eq} - y_{6}\\right)^{2} + \\left(o_{z eq} - z_{6}\\right)^{2}}} + \\frac{\\left(o_{y} - o_{y eq}\\right) \\left(o_{y eq} - y_{6}\\right)}{\\sqrt{\\left(o_{x eq} - x_{6}\\right)^{2} + \\left(o_{y eq} - y_{6}\\right)^{2} + \\left(o_{z eq} - z_{6}\\right)^{2}}} + \\frac{\\left(o_{z} - o_{z eq}\\right) \\left(o_{z eq} - z_{6}\\right)}{\\sqrt{\\left(o_{x eq} - x_{6}\\right)^{2} + \\left(o_{y eq} - y_{6}\\right)^{2} + \\left(o_{z eq} - z_{6}\\right)^{2}}} + \\sqrt{\\left(o_{x eq} - x_{6}\\right)^{2} + \\left(o_{y eq} - y_{6}\\right)^{2} + \\left(o_{z eq} - z_{6}\\right)^{2}}\\right) - L_{51} \\left(- d_{7} + \\frac{\\left(o_{x} - o_{x eq}\\right) \\left(o_{x eq} - x_{7}\\right)}{\\sqrt{\\left(o_{x eq} - x_{7}\\right)^{2} + \\left(o_{y eq} - y_{7}\\right)^{2} + \\left(o_{z eq} - z_{7}\\right)^{2}}} + \\frac{\\left(o_{y} - o_{y eq}\\right) \\left(o_{y eq} - y_{7}\\right)}{\\sqrt{\\left(o_{x eq} - x_{7}\\right)^{2} + \\left(o_{y eq} - y_{7}\\right)^{2} + \\left(o_{z eq} - z_{7}\\right)^{2}}} + \\frac{\\left(o_{z} - o_{z eq}\\right) \\left(o_{z eq} - z_{7}\\right)}{\\sqrt{\\left(o_{x eq} - x_{7}\\right)^{2} + \\left(o_{y eq} - y_{7}\\right)^{2} + \\left(o_{z eq} - z_{7}\\right)^{2}}} + \\sqrt{\\left(o_{x eq} - x_{7}\\right)^{2} + \\left(o_{y eq} - y_{7}\\right)^{2} + \\left(o_{z eq} - z_{7}\\right)^{2}}\\right) - L_{52} \\left(- k_{flow} w_{y} + \\frac{k_{flow} v_{x}}{o_{z eq}} - n_{x}\\right) - L_{53} \\left(k_{flow} w_{x} + \\frac{k_{flow} v_{y}}{o_{z eq}} - n_{y}\\right) - L_{54} \\left(o_{z} - r\\right) + w_{x}\\\\- L_{55} \\left(- d_{0} + \\frac{\\left(o_{x} - o_{x eq}\\right) \\left(o_{x eq} - x_{0}\\right)}{\\sqrt{\\left(o_{x eq} - x_{0}\\right)^{2} + \\left(o_{y eq} - y_{0}\\right)^{2} + \\left(o_{z eq} - z_{0}\\right)^{2}}} + \\frac{\\left(o_{y} - o_{y eq}\\right) \\left(o_{y eq} - y_{0}\\right)}{\\sqrt{\\left(o_{x eq} - x_{0}\\right)^{2} + \\left(o_{y eq} - y_{0}\\right)^{2} + \\left(o_{z eq} - z_{0}\\right)^{2}}} + \\frac{\\left(o_{z} - o_{z eq}\\right) \\left(o_{z eq} - z_{0}\\right)}{\\sqrt{\\left(o_{x eq} - x_{0}\\right)^{2} + \\left(o_{y eq} - y_{0}\\right)^{2} + \\left(o_{z eq} - z_{0}\\right)^{2}}} + \\sqrt{\\left(o_{x eq} - x_{0}\\right)^{2} + \\left(o_{y eq} - y_{0}\\right)^{2} + \\left(o_{z eq} - z_{0}\\right)^{2}}\\right) - L_{56} \\left(- d_{1} + \\frac{\\left(o_{x} - o_{x eq}\\right) \\left(o_{x eq} - x_{1}\\right)}{\\sqrt{\\left(o_{x eq} - x_{1}\\right)^{2} + \\left(o_{y eq} - y_{1}\\right)^{2} + \\left(o_{z eq} - z_{1}\\right)^{2}}} + \\frac{\\left(o_{y} - o_{y eq}\\right) \\left(o_{y eq} - y_{1}\\right)}{\\sqrt{\\left(o_{x eq} - x_{1}\\right)^{2} + \\left(o_{y eq} - y_{1}\\right)^{2} + \\left(o_{z eq} - z_{1}\\right)^{2}}} + \\frac{\\left(o_{z} - o_{z eq}\\right) \\left(o_{z eq} - z_{1}\\right)}{\\sqrt{\\left(o_{x eq} - x_{1}\\right)^{2} + \\left(o_{y eq} - y_{1}\\right)^{2} + \\left(o_{z eq} - z_{1}\\right)^{2}}} + \\sqrt{\\left(o_{x eq} - x_{1}\\right)^{2} + \\left(o_{y eq} - y_{1}\\right)^{2} + \\left(o_{z eq} - z_{1}\\right)^{2}}\\right) - L_{57} \\left(- d_{2} + \\frac{\\left(o_{x} - o_{x eq}\\right) \\left(o_{x eq} - x_{2}\\right)}{\\sqrt{\\left(o_{x eq} - x_{2}\\right)^{2} + \\left(o_{y eq} - y_{2}\\right)^{2} + \\left(o_{z eq} - z_{2}\\right)^{2}}} + \\frac{\\left(o_{y} - o_{y eq}\\right) \\left(o_{y eq} - y_{2}\\right)}{\\sqrt{\\left(o_{x eq} - x_{2}\\right)^{2} + \\left(o_{y eq} - y_{2}\\right)^{2} + \\left(o_{z eq} - z_{2}\\right)^{2}}} + \\frac{\\left(o_{z} - o_{z eq}\\right) \\left(o_{z eq} - z_{2}\\right)}{\\sqrt{\\left(o_{x eq} - x_{2}\\right)^{2} + \\left(o_{y eq} - y_{2}\\right)^{2} + \\left(o_{z eq} - z_{2}\\right)^{2}}} + \\sqrt{\\left(o_{x eq} - x_{2}\\right)^{2} + \\left(o_{y eq} - y_{2}\\right)^{2} + \\left(o_{z eq} - z_{2}\\right)^{2}}\\right) - L_{58} \\left(- d_{3} + \\frac{\\left(o_{x} - o_{x eq}\\right) \\left(o_{x eq} - x_{3}\\right)}{\\sqrt{\\left(o_{x eq} - x_{3}\\right)^{2} + \\left(o_{y eq} - y_{3}\\right)^{2} + \\left(o_{z eq} - z_{3}\\right)^{2}}} + \\frac{\\left(o_{y} - o_{y eq}\\right) \\left(o_{y eq} - y_{3}\\right)}{\\sqrt{\\left(o_{x eq} - x_{3}\\right)^{2} + \\left(o_{y eq} - y_{3}\\right)^{2} + \\left(o_{z eq} - z_{3}\\right)^{2}}} + \\frac{\\left(o_{z} - o_{z eq}\\right) \\left(o_{z eq} - z_{3}\\right)}{\\sqrt{\\left(o_{x eq} - x_{3}\\right)^{2} + \\left(o_{y eq} - y_{3}\\right)^{2} + \\left(o_{z eq} - z_{3}\\right)^{2}}} + \\sqrt{\\left(o_{x eq} - x_{3}\\right)^{2} + \\left(o_{y eq} - y_{3}\\right)^{2} + \\left(o_{z eq} - z_{3}\\right)^{2}}\\right) - L_{59} \\left(- d_{4} + \\frac{\\left(o_{x} - o_{x eq}\\right) \\left(o_{x eq} - x_{4}\\right)}{\\sqrt{\\left(o_{x eq} - x_{4}\\right)^{2} + \\left(o_{y eq} - y_{4}\\right)^{2} + \\left(o_{z eq} - z_{4}\\right)^{2}}} + \\frac{\\left(o_{y} - o_{y eq}\\right) \\left(o_{y eq} - y_{4}\\right)}{\\sqrt{\\left(o_{x eq} - x_{4}\\right)^{2} + \\left(o_{y eq} - y_{4}\\right)^{2} + \\left(o_{z eq} - z_{4}\\right)^{2}}} + \\frac{\\left(o_{z} - o_{z eq}\\right) \\left(o_{z eq} - z_{4}\\right)}{\\sqrt{\\left(o_{x eq} - x_{4}\\right)^{2} + \\left(o_{y eq} - y_{4}\\right)^{2} + \\left(o_{z eq} - z_{4}\\right)^{2}}} + \\sqrt{\\left(o_{x eq} - x_{4}\\right)^{2} + \\left(o_{y eq} - y_{4}\\right)^{2} + \\left(o_{z eq} - z_{4}\\right)^{2}}\\right) - L_{60} \\left(- d_{5} + \\frac{\\left(o_{x} - o_{x eq}\\right) \\left(o_{x eq} - x_{5}\\right)}{\\sqrt{\\left(o_{x eq} - x_{5}\\right)^{2} + \\left(o_{y eq} - y_{5}\\right)^{2} + \\left(o_{z eq} - z_{5}\\right)^{2}}} + \\frac{\\left(o_{y} - o_{y eq}\\right) \\left(o_{y eq} - y_{5}\\right)}{\\sqrt{\\left(o_{x eq} - x_{5}\\right)^{2} + \\left(o_{y eq} - y_{5}\\right)^{2} + \\left(o_{z eq} - z_{5}\\right)^{2}}} + \\frac{\\left(o_{z} - o_{z eq}\\right) \\left(o_{z eq} - z_{5}\\right)}{\\sqrt{\\left(o_{x eq} - x_{5}\\right)^{2} + \\left(o_{y eq} - y_{5}\\right)^{2} + \\left(o_{z eq} - z_{5}\\right)^{2}}} + \\sqrt{\\left(o_{x eq} - x_{5}\\right)^{2} + \\left(o_{y eq} - y_{5}\\right)^{2} + \\left(o_{z eq} - z_{5}\\right)^{2}}\\right) - L_{61} \\left(- d_{6} + \\frac{\\left(o_{x} - o_{x eq}\\right) \\left(o_{x eq} - x_{6}\\right)}{\\sqrt{\\left(o_{x eq} - x_{6}\\right)^{2} + \\left(o_{y eq} - y_{6}\\right)^{2} + \\left(o_{z eq} - z_{6}\\right)^{2}}} + \\frac{\\left(o_{y} - o_{y eq}\\right) \\left(o_{y eq} - y_{6}\\right)}{\\sqrt{\\left(o_{x eq} - x_{6}\\right)^{2} + \\left(o_{y eq} - y_{6}\\right)^{2} + \\left(o_{z eq} - z_{6}\\right)^{2}}} + \\frac{\\left(o_{z} - o_{z eq}\\right) \\left(o_{z eq} - z_{6}\\right)}{\\sqrt{\\left(o_{x eq} - x_{6}\\right)^{2} + \\left(o_{y eq} - y_{6}\\right)^{2} + \\left(o_{z eq} - z_{6}\\right)^{2}}} + \\sqrt{\\left(o_{x eq} - x_{6}\\right)^{2} + \\left(o_{y eq} - y_{6}\\right)^{2} + \\left(o_{z eq} - z_{6}\\right)^{2}}\\right) - L_{62} \\left(- d_{7} + \\frac{\\left(o_{x} - o_{x eq}\\right) \\left(o_{x eq} - x_{7}\\right)}{\\sqrt{\\left(o_{x eq} - x_{7}\\right)^{2} + \\left(o_{y eq} - y_{7}\\right)^{2} + \\left(o_{z eq} - z_{7}\\right)^{2}}} + \\frac{\\left(o_{y} - o_{y eq}\\right) \\left(o_{y eq} - y_{7}\\right)}{\\sqrt{\\left(o_{x eq} - x_{7}\\right)^{2} + \\left(o_{y eq} - y_{7}\\right)^{2} + \\left(o_{z eq} - z_{7}\\right)^{2}}} + \\frac{\\left(o_{z} - o_{z eq}\\right) \\left(o_{z eq} - z_{7}\\right)}{\\sqrt{\\left(o_{x eq} - x_{7}\\right)^{2} + \\left(o_{y eq} - y_{7}\\right)^{2} + \\left(o_{z eq} - z_{7}\\right)^{2}}} + \\sqrt{\\left(o_{x eq} - x_{7}\\right)^{2} + \\left(o_{y eq} - y_{7}\\right)^{2} + \\left(o_{z eq} - z_{7}\\right)^{2}}\\right) - L_{63} \\left(- k_{flow} w_{y} + \\frac{k_{flow} v_{x}}{o_{z eq}} - n_{x}\\right) - L_{64} \\left(k_{flow} w_{x} + \\frac{k_{flow} v_{y}}{o_{z eq}} - n_{y}\\right) - L_{65} \\left(o_{z} - r\\right) + g \\theta\\\\- L_{66} \\left(- d_{0} + \\frac{\\left(o_{x} - o_{x eq}\\right) \\left(o_{x eq} - x_{0}\\right)}{\\sqrt{\\left(o_{x eq} - x_{0}\\right)^{2} + \\left(o_{y eq} - y_{0}\\right)^{2} + \\left(o_{z eq} - z_{0}\\right)^{2}}} + \\frac{\\left(o_{y} - o_{y eq}\\right) \\left(o_{y eq} - y_{0}\\right)}{\\sqrt{\\left(o_{x eq} - x_{0}\\right)^{2} + \\left(o_{y eq} - y_{0}\\right)^{2} + \\left(o_{z eq} - z_{0}\\right)^{2}}} + \\frac{\\left(o_{z} - o_{z eq}\\right) \\left(o_{z eq} - z_{0}\\right)}{\\sqrt{\\left(o_{x eq} - x_{0}\\right)^{2} + \\left(o_{y eq} - y_{0}\\right)^{2} + \\left(o_{z eq} - z_{0}\\right)^{2}}} + \\sqrt{\\left(o_{x eq} - x_{0}\\right)^{2} + \\left(o_{y eq} - y_{0}\\right)^{2} + \\left(o_{z eq} - z_{0}\\right)^{2}}\\right) - L_{67} \\left(- d_{1} + \\frac{\\left(o_{x} - o_{x eq}\\right) \\left(o_{x eq} - x_{1}\\right)}{\\sqrt{\\left(o_{x eq} - x_{1}\\right)^{2} + \\left(o_{y eq} - y_{1}\\right)^{2} + \\left(o_{z eq} - z_{1}\\right)^{2}}} + \\frac{\\left(o_{y} - o_{y eq}\\right) \\left(o_{y eq} - y_{1}\\right)}{\\sqrt{\\left(o_{x eq} - x_{1}\\right)^{2} + \\left(o_{y eq} - y_{1}\\right)^{2} + \\left(o_{z eq} - z_{1}\\right)^{2}}} + \\frac{\\left(o_{z} - o_{z eq}\\right) \\left(o_{z eq} - z_{1}\\right)}{\\sqrt{\\left(o_{x eq} - x_{1}\\right)^{2} + \\left(o_{y eq} - y_{1}\\right)^{2} + \\left(o_{z eq} - z_{1}\\right)^{2}}} + \\sqrt{\\left(o_{x eq} - x_{1}\\right)^{2} + \\left(o_{y eq} - y_{1}\\right)^{2} + \\left(o_{z eq} - z_{1}\\right)^{2}}\\right) - L_{68} \\left(- d_{2} + \\frac{\\left(o_{x} - o_{x eq}\\right) \\left(o_{x eq} - x_{2}\\right)}{\\sqrt{\\left(o_{x eq} - x_{2}\\right)^{2} + \\left(o_{y eq} - y_{2}\\right)^{2} + \\left(o_{z eq} - z_{2}\\right)^{2}}} + \\frac{\\left(o_{y} - o_{y eq}\\right) \\left(o_{y eq} - y_{2}\\right)}{\\sqrt{\\left(o_{x eq} - x_{2}\\right)^{2} + \\left(o_{y eq} - y_{2}\\right)^{2} + \\left(o_{z eq} - z_{2}\\right)^{2}}} + \\frac{\\left(o_{z} - o_{z eq}\\right) \\left(o_{z eq} - z_{2}\\right)}{\\sqrt{\\left(o_{x eq} - x_{2}\\right)^{2} + \\left(o_{y eq} - y_{2}\\right)^{2} + \\left(o_{z eq} - z_{2}\\right)^{2}}} + \\sqrt{\\left(o_{x eq} - x_{2}\\right)^{2} + \\left(o_{y eq} - y_{2}\\right)^{2} + \\left(o_{z eq} - z_{2}\\right)^{2}}\\right) - L_{69} \\left(- d_{3} + \\frac{\\left(o_{x} - o_{x eq}\\right) \\left(o_{x eq} - x_{3}\\right)}{\\sqrt{\\left(o_{x eq} - x_{3}\\right)^{2} + \\left(o_{y eq} - y_{3}\\right)^{2} + \\left(o_{z eq} - z_{3}\\right)^{2}}} + \\frac{\\left(o_{y} - o_{y eq}\\right) \\left(o_{y eq} - y_{3}\\right)}{\\sqrt{\\left(o_{x eq} - x_{3}\\right)^{2} + \\left(o_{y eq} - y_{3}\\right)^{2} + \\left(o_{z eq} - z_{3}\\right)^{2}}} + \\frac{\\left(o_{z} - o_{z eq}\\right) \\left(o_{z eq} - z_{3}\\right)}{\\sqrt{\\left(o_{x eq} - x_{3}\\right)^{2} + \\left(o_{y eq} - y_{3}\\right)^{2} + \\left(o_{z eq} - z_{3}\\right)^{2}}} + \\sqrt{\\left(o_{x eq} - x_{3}\\right)^{2} + \\left(o_{y eq} - y_{3}\\right)^{2} + \\left(o_{z eq} - z_{3}\\right)^{2}}\\right) - L_{70} \\left(- d_{4} + \\frac{\\left(o_{x} - o_{x eq}\\right) \\left(o_{x eq} - x_{4}\\right)}{\\sqrt{\\left(o_{x eq} - x_{4}\\right)^{2} + \\left(o_{y eq} - y_{4}\\right)^{2} + \\left(o_{z eq} - z_{4}\\right)^{2}}} + \\frac{\\left(o_{y} - o_{y eq}\\right) \\left(o_{y eq} - y_{4}\\right)}{\\sqrt{\\left(o_{x eq} - x_{4}\\right)^{2} + \\left(o_{y eq} - y_{4}\\right)^{2} + \\left(o_{z eq} - z_{4}\\right)^{2}}} + \\frac{\\left(o_{z} - o_{z eq}\\right) \\left(o_{z eq} - z_{4}\\right)}{\\sqrt{\\left(o_{x eq} - x_{4}\\right)^{2} + \\left(o_{y eq} - y_{4}\\right)^{2} + \\left(o_{z eq} - z_{4}\\right)^{2}}} + \\sqrt{\\left(o_{x eq} - x_{4}\\right)^{2} + \\left(o_{y eq} - y_{4}\\right)^{2} + \\left(o_{z eq} - z_{4}\\right)^{2}}\\right) - L_{71} \\left(- d_{5} + \\frac{\\left(o_{x} - o_{x eq}\\right) \\left(o_{x eq} - x_{5}\\right)}{\\sqrt{\\left(o_{x eq} - x_{5}\\right)^{2} + \\left(o_{y eq} - y_{5}\\right)^{2} + \\left(o_{z eq} - z_{5}\\right)^{2}}} + \\frac{\\left(o_{y} - o_{y eq}\\right) \\left(o_{y eq} - y_{5}\\right)}{\\sqrt{\\left(o_{x eq} - x_{5}\\right)^{2} + \\left(o_{y eq} - y_{5}\\right)^{2} + \\left(o_{z eq} - z_{5}\\right)^{2}}} + \\frac{\\left(o_{z} - o_{z eq}\\right) \\left(o_{z eq} - z_{5}\\right)}{\\sqrt{\\left(o_{x eq} - x_{5}\\right)^{2} + \\left(o_{y eq} - y_{5}\\right)^{2} + \\left(o_{z eq} - z_{5}\\right)^{2}}} + \\sqrt{\\left(o_{x eq} - x_{5}\\right)^{2} + \\left(o_{y eq} - y_{5}\\right)^{2} + \\left(o_{z eq} - z_{5}\\right)^{2}}\\right) - L_{72} \\left(- d_{6} + \\frac{\\left(o_{x} - o_{x eq}\\right) \\left(o_{x eq} - x_{6}\\right)}{\\sqrt{\\left(o_{x eq} - x_{6}\\right)^{2} + \\left(o_{y eq} - y_{6}\\right)^{2} + \\left(o_{z eq} - z_{6}\\right)^{2}}} + \\frac{\\left(o_{y} - o_{y eq}\\right) \\left(o_{y eq} - y_{6}\\right)}{\\sqrt{\\left(o_{x eq} - x_{6}\\right)^{2} + \\left(o_{y eq} - y_{6}\\right)^{2} + \\left(o_{z eq} - z_{6}\\right)^{2}}} + \\frac{\\left(o_{z} - o_{z eq}\\right) \\left(o_{z eq} - z_{6}\\right)}{\\sqrt{\\left(o_{x eq} - x_{6}\\right)^{2} + \\left(o_{y eq} - y_{6}\\right)^{2} + \\left(o_{z eq} - z_{6}\\right)^{2}}} + \\sqrt{\\left(o_{x eq} - x_{6}\\right)^{2} + \\left(o_{y eq} - y_{6}\\right)^{2} + \\left(o_{z eq} - z_{6}\\right)^{2}}\\right) - L_{73} \\left(- d_{7} + \\frac{\\left(o_{x} - o_{x eq}\\right) \\left(o_{x eq} - x_{7}\\right)}{\\sqrt{\\left(o_{x eq} - x_{7}\\right)^{2} + \\left(o_{y eq} - y_{7}\\right)^{2} + \\left(o_{z eq} - z_{7}\\right)^{2}}} + \\frac{\\left(o_{y} - o_{y eq}\\right) \\left(o_{y eq} - y_{7}\\right)}{\\sqrt{\\left(o_{x eq} - x_{7}\\right)^{2} + \\left(o_{y eq} - y_{7}\\right)^{2} + \\left(o_{z eq} - z_{7}\\right)^{2}}} + \\frac{\\left(o_{z} - o_{z eq}\\right) \\left(o_{z eq} - z_{7}\\right)}{\\sqrt{\\left(o_{x eq} - x_{7}\\right)^{2} + \\left(o_{y eq} - y_{7}\\right)^{2} + \\left(o_{z eq} - z_{7}\\right)^{2}}} + \\sqrt{\\left(o_{x eq} - x_{7}\\right)^{2} + \\left(o_{y eq} - y_{7}\\right)^{2} + \\left(o_{z eq} - z_{7}\\right)^{2}}\\right) - L_{74} \\left(- k_{flow} w_{y} + \\frac{k_{flow} v_{x}}{o_{z eq}} - n_{x}\\right) - L_{75} \\left(k_{flow} w_{x} + \\frac{k_{flow} v_{y}}{o_{z eq}} - n_{y}\\right) - L_{76} \\left(o_{z} - r\\right) - g \\phi\\\\- L_{77} \\left(- d_{0} + \\frac{\\left(o_{x} - o_{x eq}\\right) \\left(o_{x eq} - x_{0}\\right)}{\\sqrt{\\left(o_{x eq} - x_{0}\\right)^{2} + \\left(o_{y eq} - y_{0}\\right)^{2} + \\left(o_{z eq} - z_{0}\\right)^{2}}} + \\frac{\\left(o_{y} - o_{y eq}\\right) \\left(o_{y eq} - y_{0}\\right)}{\\sqrt{\\left(o_{x eq} - x_{0}\\right)^{2} + \\left(o_{y eq} - y_{0}\\right)^{2} + \\left(o_{z eq} - z_{0}\\right)^{2}}} + \\frac{\\left(o_{z} - o_{z eq}\\right) \\left(o_{z eq} - z_{0}\\right)}{\\sqrt{\\left(o_{x eq} - x_{0}\\right)^{2} + \\left(o_{y eq} - y_{0}\\right)^{2} + \\left(o_{z eq} - z_{0}\\right)^{2}}} + \\sqrt{\\left(o_{x eq} - x_{0}\\right)^{2} + \\left(o_{y eq} - y_{0}\\right)^{2} + \\left(o_{z eq} - z_{0}\\right)^{2}}\\right) - L_{78} \\left(- d_{1} + \\frac{\\left(o_{x} - o_{x eq}\\right) \\left(o_{x eq} - x_{1}\\right)}{\\sqrt{\\left(o_{x eq} - x_{1}\\right)^{2} + \\left(o_{y eq} - y_{1}\\right)^{2} + \\left(o_{z eq} - z_{1}\\right)^{2}}} + \\frac{\\left(o_{y} - o_{y eq}\\right) \\left(o_{y eq} - y_{1}\\right)}{\\sqrt{\\left(o_{x eq} - x_{1}\\right)^{2} + \\left(o_{y eq} - y_{1}\\right)^{2} + \\left(o_{z eq} - z_{1}\\right)^{2}}} + \\frac{\\left(o_{z} - o_{z eq}\\right) \\left(o_{z eq} - z_{1}\\right)}{\\sqrt{\\left(o_{x eq} - x_{1}\\right)^{2} + \\left(o_{y eq} - y_{1}\\right)^{2} + \\left(o_{z eq} - z_{1}\\right)^{2}}} + \\sqrt{\\left(o_{x eq} - x_{1}\\right)^{2} + \\left(o_{y eq} - y_{1}\\right)^{2} + \\left(o_{z eq} - z_{1}\\right)^{2}}\\right) - L_{79} \\left(- d_{2} + \\frac{\\left(o_{x} - o_{x eq}\\right) \\left(o_{x eq} - x_{2}\\right)}{\\sqrt{\\left(o_{x eq} - x_{2}\\right)^{2} + \\left(o_{y eq} - y_{2}\\right)^{2} + \\left(o_{z eq} - z_{2}\\right)^{2}}} + \\frac{\\left(o_{y} - o_{y eq}\\right) \\left(o_{y eq} - y_{2}\\right)}{\\sqrt{\\left(o_{x eq} - x_{2}\\right)^{2} + \\left(o_{y eq} - y_{2}\\right)^{2} + \\left(o_{z eq} - z_{2}\\right)^{2}}} + \\frac{\\left(o_{z} - o_{z eq}\\right) \\left(o_{z eq} - z_{2}\\right)}{\\sqrt{\\left(o_{x eq} - x_{2}\\right)^{2} + \\left(o_{y eq} - y_{2}\\right)^{2} + \\left(o_{z eq} - z_{2}\\right)^{2}}} + \\sqrt{\\left(o_{x eq} - x_{2}\\right)^{2} + \\left(o_{y eq} - y_{2}\\right)^{2} + \\left(o_{z eq} - z_{2}\\right)^{2}}\\right) - L_{80} \\left(- d_{3} + \\frac{\\left(o_{x} - o_{x eq}\\right) \\left(o_{x eq} - x_{3}\\right)}{\\sqrt{\\left(o_{x eq} - x_{3}\\right)^{2} + \\left(o_{y eq} - y_{3}\\right)^{2} + \\left(o_{z eq} - z_{3}\\right)^{2}}} + \\frac{\\left(o_{y} - o_{y eq}\\right) \\left(o_{y eq} - y_{3}\\right)}{\\sqrt{\\left(o_{x eq} - x_{3}\\right)^{2} + \\left(o_{y eq} - y_{3}\\right)^{2} + \\left(o_{z eq} - z_{3}\\right)^{2}}} + \\frac{\\left(o_{z} - o_{z eq}\\right) \\left(o_{z eq} - z_{3}\\right)}{\\sqrt{\\left(o_{x eq} - x_{3}\\right)^{2} + \\left(o_{y eq} - y_{3}\\right)^{2} + \\left(o_{z eq} - z_{3}\\right)^{2}}} + \\sqrt{\\left(o_{x eq} - x_{3}\\right)^{2} + \\left(o_{y eq} - y_{3}\\right)^{2} + \\left(o_{z eq} - z_{3}\\right)^{2}}\\right) - L_{81} \\left(- d_{4} + \\frac{\\left(o_{x} - o_{x eq}\\right) \\left(o_{x eq} - x_{4}\\right)}{\\sqrt{\\left(o_{x eq} - x_{4}\\right)^{2} + \\left(o_{y eq} - y_{4}\\right)^{2} + \\left(o_{z eq} - z_{4}\\right)^{2}}} + \\frac{\\left(o_{y} - o_{y eq}\\right) \\left(o_{y eq} - y_{4}\\right)}{\\sqrt{\\left(o_{x eq} - x_{4}\\right)^{2} + \\left(o_{y eq} - y_{4}\\right)^{2} + \\left(o_{z eq} - z_{4}\\right)^{2}}} + \\frac{\\left(o_{z} - o_{z eq}\\right) \\left(o_{z eq} - z_{4}\\right)}{\\sqrt{\\left(o_{x eq} - x_{4}\\right)^{2} + \\left(o_{y eq} - y_{4}\\right)^{2} + \\left(o_{z eq} - z_{4}\\right)^{2}}} + \\sqrt{\\left(o_{x eq} - x_{4}\\right)^{2} + \\left(o_{y eq} - y_{4}\\right)^{2} + \\left(o_{z eq} - z_{4}\\right)^{2}}\\right) - L_{82} \\left(- d_{5} + \\frac{\\left(o_{x} - o_{x eq}\\right) \\left(o_{x eq} - x_{5}\\right)}{\\sqrt{\\left(o_{x eq} - x_{5}\\right)^{2} + \\left(o_{y eq} - y_{5}\\right)^{2} + \\left(o_{z eq} - z_{5}\\right)^{2}}} + \\frac{\\left(o_{y} - o_{y eq}\\right) \\left(o_{y eq} - y_{5}\\right)}{\\sqrt{\\left(o_{x eq} - x_{5}\\right)^{2} + \\left(o_{y eq} - y_{5}\\right)^{2} + \\left(o_{z eq} - z_{5}\\right)^{2}}} + \\frac{\\left(o_{z} - o_{z eq}\\right) \\left(o_{z eq} - z_{5}\\right)}{\\sqrt{\\left(o_{x eq} - x_{5}\\right)^{2} + \\left(o_{y eq} - y_{5}\\right)^{2} + \\left(o_{z eq} - z_{5}\\right)^{2}}} + \\sqrt{\\left(o_{x eq} - x_{5}\\right)^{2} + \\left(o_{y eq} - y_{5}\\right)^{2} + \\left(o_{z eq} - z_{5}\\right)^{2}}\\right) - L_{83} \\left(- d_{6} + \\frac{\\left(o_{x} - o_{x eq}\\right) \\left(o_{x eq} - x_{6}\\right)}{\\sqrt{\\left(o_{x eq} - x_{6}\\right)^{2} + \\left(o_{y eq} - y_{6}\\right)^{2} + \\left(o_{z eq} - z_{6}\\right)^{2}}} + \\frac{\\left(o_{y} - o_{y eq}\\right) \\left(o_{y eq} - y_{6}\\right)}{\\sqrt{\\left(o_{x eq} - x_{6}\\right)^{2} + \\left(o_{y eq} - y_{6}\\right)^{2} + \\left(o_{z eq} - z_{6}\\right)^{2}}} + \\frac{\\left(o_{z} - o_{z eq}\\right) \\left(o_{z eq} - z_{6}\\right)}{\\sqrt{\\left(o_{x eq} - x_{6}\\right)^{2} + \\left(o_{y eq} - y_{6}\\right)^{2} + \\left(o_{z eq} - z_{6}\\right)^{2}}} + \\sqrt{\\left(o_{x eq} - x_{6}\\right)^{2} + \\left(o_{y eq} - y_{6}\\right)^{2} + \\left(o_{z eq} - z_{6}\\right)^{2}}\\right) - L_{84} \\left(- d_{7} + \\frac{\\left(o_{x} - o_{x eq}\\right) \\left(o_{x eq} - x_{7}\\right)}{\\sqrt{\\left(o_{x eq} - x_{7}\\right)^{2} + \\left(o_{y eq} - y_{7}\\right)^{2} + \\left(o_{z eq} - z_{7}\\right)^{2}}} + \\frac{\\left(o_{y} - o_{y eq}\\right) \\left(o_{y eq} - y_{7}\\right)}{\\sqrt{\\left(o_{x eq} - x_{7}\\right)^{2} + \\left(o_{y eq} - y_{7}\\right)^{2} + \\left(o_{z eq} - z_{7}\\right)^{2}}} + \\frac{\\left(o_{z} - o_{z eq}\\right) \\left(o_{z eq} - z_{7}\\right)}{\\sqrt{\\left(o_{x eq} - x_{7}\\right)^{2} + \\left(o_{y eq} - y_{7}\\right)^{2} + \\left(o_{z eq} - z_{7}\\right)^{2}}} + \\sqrt{\\left(o_{x eq} - x_{7}\\right)^{2} + \\left(o_{y eq} - y_{7}\\right)^{2} + \\left(o_{z eq} - z_{7}\\right)^{2}}\\right) - L_{85} \\left(- k_{flow} w_{y} + \\frac{k_{flow} v_{x}}{o_{z eq}} - n_{x}\\right) - L_{86} \\left(k_{flow} w_{x} + \\frac{k_{flow} v_{y}}{o_{z eq}} - n_{y}\\right) - L_{87} \\left(o_{z} - r\\right) + a_{z} - g\\end{matrix}\\right]$"
      ],
      "text/plain": [
       "Matrix([\n",
       "[              -L_0*(-d_0 + (o_x - o_x_eq)*(o_x_eq - x_0)/sqrt((o_x_eq - x_0)**2 + (o_y_eq - y_0)**2 + (o_z_eq - z_0)**2) + (o_y - o_y_eq)*(o_y_eq - y_0)/sqrt((o_x_eq - x_0)**2 + (o_y_eq - y_0)**2 + (o_z_eq - z_0)**2) + (o_z - o_z_eq)*(o_z_eq - z_0)/sqrt((o_x_eq - x_0)**2 + (o_y_eq - y_0)**2 + (o_z_eq - z_0)**2) + sqrt((o_x_eq - x_0)**2 + (o_y_eq - y_0)**2 + (o_z_eq - z_0)**2)) - L_1*(-d_1 + (o_x - o_x_eq)*(o_x_eq - x_1)/sqrt((o_x_eq - x_1)**2 + (o_y_eq - y_1)**2 + (o_z_eq - z_1)**2) + (o_y - o_y_eq)*(o_y_eq - y_1)/sqrt((o_x_eq - x_1)**2 + (o_y_eq - y_1)**2 + (o_z_eq - z_1)**2) + (o_z - o_z_eq)*(o_z_eq - z_1)/sqrt((o_x_eq - x_1)**2 + (o_y_eq - y_1)**2 + (o_z_eq - z_1)**2) + sqrt((o_x_eq - x_1)**2 + (o_y_eq - y_1)**2 + (o_z_eq - z_1)**2)) - L_10*(o_z - r) - L_2*(-d_2 + (o_x - o_x_eq)*(o_x_eq - x_2)/sqrt((o_x_eq - x_2)**2 + (o_y_eq - y_2)**2 + (o_z_eq - z_2)**2) + (o_y - o_y_eq)*(o_y_eq - y_2)/sqrt((o_x_eq - x_2)**2 + (o_y_eq - y_2)**2 + (o_z_eq - z_2)**2) + (o_z - o_z_eq)*(o_z_eq - z_2)/sqrt((o_x_eq - x_2)**2 + (o_y_eq - y_2)**2 + (o_z_eq - z_2)**2) + sqrt((o_x_eq - x_2)**2 + (o_y_eq - y_2)**2 + (o_z_eq - z_2)**2)) - L_3*(-d_3 + (o_x - o_x_eq)*(o_x_eq - x_3)/sqrt((o_x_eq - x_3)**2 + (o_y_eq - y_3)**2 + (o_z_eq - z_3)**2) + (o_y - o_y_eq)*(o_y_eq - y_3)/sqrt((o_x_eq - x_3)**2 + (o_y_eq - y_3)**2 + (o_z_eq - z_3)**2) + (o_z - o_z_eq)*(o_z_eq - z_3)/sqrt((o_x_eq - x_3)**2 + (o_y_eq - y_3)**2 + (o_z_eq - z_3)**2) + sqrt((o_x_eq - x_3)**2 + (o_y_eq - y_3)**2 + (o_z_eq - z_3)**2)) - L_4*(-d_4 + (o_x - o_x_eq)*(o_x_eq - x_4)/sqrt((o_x_eq - x_4)**2 + (o_y_eq - y_4)**2 + (o_z_eq - z_4)**2) + (o_y - o_y_eq)*(o_y_eq - y_4)/sqrt((o_x_eq - x_4)**2 + (o_y_eq - y_4)**2 + (o_z_eq - z_4)**2) + (o_z - o_z_eq)*(o_z_eq - z_4)/sqrt((o_x_eq - x_4)**2 + (o_y_eq - y_4)**2 + (o_z_eq - z_4)**2) + sqrt((o_x_eq - x_4)**2 + (o_y_eq - y_4)**2 + (o_z_eq - z_4)**2)) - L_5*(-d_5 + (o_x - o_x_eq)*(o_x_eq - x_5)/sqrt((o_x_eq - x_5)**2 + (o_y_eq - y_5)**2 + (o_z_eq - z_5)**2) + (o_y - o_y_eq)*(o_y_eq - y_5)/sqrt((o_x_eq - x_5)**2 + (o_y_eq - y_5)**2 + (o_z_eq - z_5)**2) + (o_z - o_z_eq)*(o_z_eq - z_5)/sqrt((o_x_eq - x_5)**2 + (o_y_eq - y_5)**2 + (o_z_eq - z_5)**2) + sqrt((o_x_eq - x_5)**2 + (o_y_eq - y_5)**2 + (o_z_eq - z_5)**2)) - L_6*(-d_6 + (o_x - o_x_eq)*(o_x_eq - x_6)/sqrt((o_x_eq - x_6)**2 + (o_y_eq - y_6)**2 + (o_z_eq - z_6)**2) + (o_y - o_y_eq)*(o_y_eq - y_6)/sqrt((o_x_eq - x_6)**2 + (o_y_eq - y_6)**2 + (o_z_eq - z_6)**2) + (o_z - o_z_eq)*(o_z_eq - z_6)/sqrt((o_x_eq - x_6)**2 + (o_y_eq - y_6)**2 + (o_z_eq - z_6)**2) + sqrt((o_x_eq - x_6)**2 + (o_y_eq - y_6)**2 + (o_z_eq - z_6)**2)) - L_7*(-d_7 + (o_x - o_x_eq)*(o_x_eq - x_7)/sqrt((o_x_eq - x_7)**2 + (o_y_eq - y_7)**2 + (o_z_eq - z_7)**2) + (o_y - o_y_eq)*(o_y_eq - y_7)/sqrt((o_x_eq - x_7)**2 + (o_y_eq - y_7)**2 + (o_z_eq - z_7)**2) + (o_z - o_z_eq)*(o_z_eq - z_7)/sqrt((o_x_eq - x_7)**2 + (o_y_eq - y_7)**2 + (o_z_eq - z_7)**2) + sqrt((o_x_eq - x_7)**2 + (o_y_eq - y_7)**2 + (o_z_eq - z_7)**2)) - L_8*(-k_flow*w_y + k_flow*v_x/o_z_eq - n_x) - L_9*(k_flow*w_x + k_flow*v_y/o_z_eq - n_y) + v_x],\n",
       "[    -L_11*(-d_0 + (o_x - o_x_eq)*(o_x_eq - x_0)/sqrt((o_x_eq - x_0)**2 + (o_y_eq - y_0)**2 + (o_z_eq - z_0)**2) + (o_y - o_y_eq)*(o_y_eq - y_0)/sqrt((o_x_eq - x_0)**2 + (o_y_eq - y_0)**2 + (o_z_eq - z_0)**2) + (o_z - o_z_eq)*(o_z_eq - z_0)/sqrt((o_x_eq - x_0)**2 + (o_y_eq - y_0)**2 + (o_z_eq - z_0)**2) + sqrt((o_x_eq - x_0)**2 + (o_y_eq - y_0)**2 + (o_z_eq - z_0)**2)) - L_12*(-d_1 + (o_x - o_x_eq)*(o_x_eq - x_1)/sqrt((o_x_eq - x_1)**2 + (o_y_eq - y_1)**2 + (o_z_eq - z_1)**2) + (o_y - o_y_eq)*(o_y_eq - y_1)/sqrt((o_x_eq - x_1)**2 + (o_y_eq - y_1)**2 + (o_z_eq - z_1)**2) + (o_z - o_z_eq)*(o_z_eq - z_1)/sqrt((o_x_eq - x_1)**2 + (o_y_eq - y_1)**2 + (o_z_eq - z_1)**2) + sqrt((o_x_eq - x_1)**2 + (o_y_eq - y_1)**2 + (o_z_eq - z_1)**2)) - L_13*(-d_2 + (o_x - o_x_eq)*(o_x_eq - x_2)/sqrt((o_x_eq - x_2)**2 + (o_y_eq - y_2)**2 + (o_z_eq - z_2)**2) + (o_y - o_y_eq)*(o_y_eq - y_2)/sqrt((o_x_eq - x_2)**2 + (o_y_eq - y_2)**2 + (o_z_eq - z_2)**2) + (o_z - o_z_eq)*(o_z_eq - z_2)/sqrt((o_x_eq - x_2)**2 + (o_y_eq - y_2)**2 + (o_z_eq - z_2)**2) + sqrt((o_x_eq - x_2)**2 + (o_y_eq - y_2)**2 + (o_z_eq - z_2)**2)) - L_14*(-d_3 + (o_x - o_x_eq)*(o_x_eq - x_3)/sqrt((o_x_eq - x_3)**2 + (o_y_eq - y_3)**2 + (o_z_eq - z_3)**2) + (o_y - o_y_eq)*(o_y_eq - y_3)/sqrt((o_x_eq - x_3)**2 + (o_y_eq - y_3)**2 + (o_z_eq - z_3)**2) + (o_z - o_z_eq)*(o_z_eq - z_3)/sqrt((o_x_eq - x_3)**2 + (o_y_eq - y_3)**2 + (o_z_eq - z_3)**2) + sqrt((o_x_eq - x_3)**2 + (o_y_eq - y_3)**2 + (o_z_eq - z_3)**2)) - L_15*(-d_4 + (o_x - o_x_eq)*(o_x_eq - x_4)/sqrt((o_x_eq - x_4)**2 + (o_y_eq - y_4)**2 + (o_z_eq - z_4)**2) + (o_y - o_y_eq)*(o_y_eq - y_4)/sqrt((o_x_eq - x_4)**2 + (o_y_eq - y_4)**2 + (o_z_eq - z_4)**2) + (o_z - o_z_eq)*(o_z_eq - z_4)/sqrt((o_x_eq - x_4)**2 + (o_y_eq - y_4)**2 + (o_z_eq - z_4)**2) + sqrt((o_x_eq - x_4)**2 + (o_y_eq - y_4)**2 + (o_z_eq - z_4)**2)) - L_16*(-d_5 + (o_x - o_x_eq)*(o_x_eq - x_5)/sqrt((o_x_eq - x_5)**2 + (o_y_eq - y_5)**2 + (o_z_eq - z_5)**2) + (o_y - o_y_eq)*(o_y_eq - y_5)/sqrt((o_x_eq - x_5)**2 + (o_y_eq - y_5)**2 + (o_z_eq - z_5)**2) + (o_z - o_z_eq)*(o_z_eq - z_5)/sqrt((o_x_eq - x_5)**2 + (o_y_eq - y_5)**2 + (o_z_eq - z_5)**2) + sqrt((o_x_eq - x_5)**2 + (o_y_eq - y_5)**2 + (o_z_eq - z_5)**2)) - L_17*(-d_6 + (o_x - o_x_eq)*(o_x_eq - x_6)/sqrt((o_x_eq - x_6)**2 + (o_y_eq - y_6)**2 + (o_z_eq - z_6)**2) + (o_y - o_y_eq)*(o_y_eq - y_6)/sqrt((o_x_eq - x_6)**2 + (o_y_eq - y_6)**2 + (o_z_eq - z_6)**2) + (o_z - o_z_eq)*(o_z_eq - z_6)/sqrt((o_x_eq - x_6)**2 + (o_y_eq - y_6)**2 + (o_z_eq - z_6)**2) + sqrt((o_x_eq - x_6)**2 + (o_y_eq - y_6)**2 + (o_z_eq - z_6)**2)) - L_18*(-d_7 + (o_x - o_x_eq)*(o_x_eq - x_7)/sqrt((o_x_eq - x_7)**2 + (o_y_eq - y_7)**2 + (o_z_eq - z_7)**2) + (o_y - o_y_eq)*(o_y_eq - y_7)/sqrt((o_x_eq - x_7)**2 + (o_y_eq - y_7)**2 + (o_z_eq - z_7)**2) + (o_z - o_z_eq)*(o_z_eq - z_7)/sqrt((o_x_eq - x_7)**2 + (o_y_eq - y_7)**2 + (o_z_eq - z_7)**2) + sqrt((o_x_eq - x_7)**2 + (o_y_eq - y_7)**2 + (o_z_eq - z_7)**2)) - L_19*(-k_flow*w_y + k_flow*v_x/o_z_eq - n_x) - L_20*(k_flow*w_x + k_flow*v_y/o_z_eq - n_y) - L_21*(o_z - r) + v_y],\n",
       "[    -L_22*(-d_0 + (o_x - o_x_eq)*(o_x_eq - x_0)/sqrt((o_x_eq - x_0)**2 + (o_y_eq - y_0)**2 + (o_z_eq - z_0)**2) + (o_y - o_y_eq)*(o_y_eq - y_0)/sqrt((o_x_eq - x_0)**2 + (o_y_eq - y_0)**2 + (o_z_eq - z_0)**2) + (o_z - o_z_eq)*(o_z_eq - z_0)/sqrt((o_x_eq - x_0)**2 + (o_y_eq - y_0)**2 + (o_z_eq - z_0)**2) + sqrt((o_x_eq - x_0)**2 + (o_y_eq - y_0)**2 + (o_z_eq - z_0)**2)) - L_23*(-d_1 + (o_x - o_x_eq)*(o_x_eq - x_1)/sqrt((o_x_eq - x_1)**2 + (o_y_eq - y_1)**2 + (o_z_eq - z_1)**2) + (o_y - o_y_eq)*(o_y_eq - y_1)/sqrt((o_x_eq - x_1)**2 + (o_y_eq - y_1)**2 + (o_z_eq - z_1)**2) + (o_z - o_z_eq)*(o_z_eq - z_1)/sqrt((o_x_eq - x_1)**2 + (o_y_eq - y_1)**2 + (o_z_eq - z_1)**2) + sqrt((o_x_eq - x_1)**2 + (o_y_eq - y_1)**2 + (o_z_eq - z_1)**2)) - L_24*(-d_2 + (o_x - o_x_eq)*(o_x_eq - x_2)/sqrt((o_x_eq - x_2)**2 + (o_y_eq - y_2)**2 + (o_z_eq - z_2)**2) + (o_y - o_y_eq)*(o_y_eq - y_2)/sqrt((o_x_eq - x_2)**2 + (o_y_eq - y_2)**2 + (o_z_eq - z_2)**2) + (o_z - o_z_eq)*(o_z_eq - z_2)/sqrt((o_x_eq - x_2)**2 + (o_y_eq - y_2)**2 + (o_z_eq - z_2)**2) + sqrt((o_x_eq - x_2)**2 + (o_y_eq - y_2)**2 + (o_z_eq - z_2)**2)) - L_25*(-d_3 + (o_x - o_x_eq)*(o_x_eq - x_3)/sqrt((o_x_eq - x_3)**2 + (o_y_eq - y_3)**2 + (o_z_eq - z_3)**2) + (o_y - o_y_eq)*(o_y_eq - y_3)/sqrt((o_x_eq - x_3)**2 + (o_y_eq - y_3)**2 + (o_z_eq - z_3)**2) + (o_z - o_z_eq)*(o_z_eq - z_3)/sqrt((o_x_eq - x_3)**2 + (o_y_eq - y_3)**2 + (o_z_eq - z_3)**2) + sqrt((o_x_eq - x_3)**2 + (o_y_eq - y_3)**2 + (o_z_eq - z_3)**2)) - L_26*(-d_4 + (o_x - o_x_eq)*(o_x_eq - x_4)/sqrt((o_x_eq - x_4)**2 + (o_y_eq - y_4)**2 + (o_z_eq - z_4)**2) + (o_y - o_y_eq)*(o_y_eq - y_4)/sqrt((o_x_eq - x_4)**2 + (o_y_eq - y_4)**2 + (o_z_eq - z_4)**2) + (o_z - o_z_eq)*(o_z_eq - z_4)/sqrt((o_x_eq - x_4)**2 + (o_y_eq - y_4)**2 + (o_z_eq - z_4)**2) + sqrt((o_x_eq - x_4)**2 + (o_y_eq - y_4)**2 + (o_z_eq - z_4)**2)) - L_27*(-d_5 + (o_x - o_x_eq)*(o_x_eq - x_5)/sqrt((o_x_eq - x_5)**2 + (o_y_eq - y_5)**2 + (o_z_eq - z_5)**2) + (o_y - o_y_eq)*(o_y_eq - y_5)/sqrt((o_x_eq - x_5)**2 + (o_y_eq - y_5)**2 + (o_z_eq - z_5)**2) + (o_z - o_z_eq)*(o_z_eq - z_5)/sqrt((o_x_eq - x_5)**2 + (o_y_eq - y_5)**2 + (o_z_eq - z_5)**2) + sqrt((o_x_eq - x_5)**2 + (o_y_eq - y_5)**2 + (o_z_eq - z_5)**2)) - L_28*(-d_6 + (o_x - o_x_eq)*(o_x_eq - x_6)/sqrt((o_x_eq - x_6)**2 + (o_y_eq - y_6)**2 + (o_z_eq - z_6)**2) + (o_y - o_y_eq)*(o_y_eq - y_6)/sqrt((o_x_eq - x_6)**2 + (o_y_eq - y_6)**2 + (o_z_eq - z_6)**2) + (o_z - o_z_eq)*(o_z_eq - z_6)/sqrt((o_x_eq - x_6)**2 + (o_y_eq - y_6)**2 + (o_z_eq - z_6)**2) + sqrt((o_x_eq - x_6)**2 + (o_y_eq - y_6)**2 + (o_z_eq - z_6)**2)) - L_29*(-d_7 + (o_x - o_x_eq)*(o_x_eq - x_7)/sqrt((o_x_eq - x_7)**2 + (o_y_eq - y_7)**2 + (o_z_eq - z_7)**2) + (o_y - o_y_eq)*(o_y_eq - y_7)/sqrt((o_x_eq - x_7)**2 + (o_y_eq - y_7)**2 + (o_z_eq - z_7)**2) + (o_z - o_z_eq)*(o_z_eq - z_7)/sqrt((o_x_eq - x_7)**2 + (o_y_eq - y_7)**2 + (o_z_eq - z_7)**2) + sqrt((o_x_eq - x_7)**2 + (o_y_eq - y_7)**2 + (o_z_eq - z_7)**2)) - L_30*(-k_flow*w_y + k_flow*v_x/o_z_eq - n_x) - L_31*(k_flow*w_x + k_flow*v_y/o_z_eq - n_y) - L_32*(o_z - r) + v_z],\n",
       "[    -L_33*(-d_0 + (o_x - o_x_eq)*(o_x_eq - x_0)/sqrt((o_x_eq - x_0)**2 + (o_y_eq - y_0)**2 + (o_z_eq - z_0)**2) + (o_y - o_y_eq)*(o_y_eq - y_0)/sqrt((o_x_eq - x_0)**2 + (o_y_eq - y_0)**2 + (o_z_eq - z_0)**2) + (o_z - o_z_eq)*(o_z_eq - z_0)/sqrt((o_x_eq - x_0)**2 + (o_y_eq - y_0)**2 + (o_z_eq - z_0)**2) + sqrt((o_x_eq - x_0)**2 + (o_y_eq - y_0)**2 + (o_z_eq - z_0)**2)) - L_34*(-d_1 + (o_x - o_x_eq)*(o_x_eq - x_1)/sqrt((o_x_eq - x_1)**2 + (o_y_eq - y_1)**2 + (o_z_eq - z_1)**2) + (o_y - o_y_eq)*(o_y_eq - y_1)/sqrt((o_x_eq - x_1)**2 + (o_y_eq - y_1)**2 + (o_z_eq - z_1)**2) + (o_z - o_z_eq)*(o_z_eq - z_1)/sqrt((o_x_eq - x_1)**2 + (o_y_eq - y_1)**2 + (o_z_eq - z_1)**2) + sqrt((o_x_eq - x_1)**2 + (o_y_eq - y_1)**2 + (o_z_eq - z_1)**2)) - L_35*(-d_2 + (o_x - o_x_eq)*(o_x_eq - x_2)/sqrt((o_x_eq - x_2)**2 + (o_y_eq - y_2)**2 + (o_z_eq - z_2)**2) + (o_y - o_y_eq)*(o_y_eq - y_2)/sqrt((o_x_eq - x_2)**2 + (o_y_eq - y_2)**2 + (o_z_eq - z_2)**2) + (o_z - o_z_eq)*(o_z_eq - z_2)/sqrt((o_x_eq - x_2)**2 + (o_y_eq - y_2)**2 + (o_z_eq - z_2)**2) + sqrt((o_x_eq - x_2)**2 + (o_y_eq - y_2)**2 + (o_z_eq - z_2)**2)) - L_36*(-d_3 + (o_x - o_x_eq)*(o_x_eq - x_3)/sqrt((o_x_eq - x_3)**2 + (o_y_eq - y_3)**2 + (o_z_eq - z_3)**2) + (o_y - o_y_eq)*(o_y_eq - y_3)/sqrt((o_x_eq - x_3)**2 + (o_y_eq - y_3)**2 + (o_z_eq - z_3)**2) + (o_z - o_z_eq)*(o_z_eq - z_3)/sqrt((o_x_eq - x_3)**2 + (o_y_eq - y_3)**2 + (o_z_eq - z_3)**2) + sqrt((o_x_eq - x_3)**2 + (o_y_eq - y_3)**2 + (o_z_eq - z_3)**2)) - L_37*(-d_4 + (o_x - o_x_eq)*(o_x_eq - x_4)/sqrt((o_x_eq - x_4)**2 + (o_y_eq - y_4)**2 + (o_z_eq - z_4)**2) + (o_y - o_y_eq)*(o_y_eq - y_4)/sqrt((o_x_eq - x_4)**2 + (o_y_eq - y_4)**2 + (o_z_eq - z_4)**2) + (o_z - o_z_eq)*(o_z_eq - z_4)/sqrt((o_x_eq - x_4)**2 + (o_y_eq - y_4)**2 + (o_z_eq - z_4)**2) + sqrt((o_x_eq - x_4)**2 + (o_y_eq - y_4)**2 + (o_z_eq - z_4)**2)) - L_38*(-d_5 + (o_x - o_x_eq)*(o_x_eq - x_5)/sqrt((o_x_eq - x_5)**2 + (o_y_eq - y_5)**2 + (o_z_eq - z_5)**2) + (o_y - o_y_eq)*(o_y_eq - y_5)/sqrt((o_x_eq - x_5)**2 + (o_y_eq - y_5)**2 + (o_z_eq - z_5)**2) + (o_z - o_z_eq)*(o_z_eq - z_5)/sqrt((o_x_eq - x_5)**2 + (o_y_eq - y_5)**2 + (o_z_eq - z_5)**2) + sqrt((o_x_eq - x_5)**2 + (o_y_eq - y_5)**2 + (o_z_eq - z_5)**2)) - L_39*(-d_6 + (o_x - o_x_eq)*(o_x_eq - x_6)/sqrt((o_x_eq - x_6)**2 + (o_y_eq - y_6)**2 + (o_z_eq - z_6)**2) + (o_y - o_y_eq)*(o_y_eq - y_6)/sqrt((o_x_eq - x_6)**2 + (o_y_eq - y_6)**2 + (o_z_eq - z_6)**2) + (o_z - o_z_eq)*(o_z_eq - z_6)/sqrt((o_x_eq - x_6)**2 + (o_y_eq - y_6)**2 + (o_z_eq - z_6)**2) + sqrt((o_x_eq - x_6)**2 + (o_y_eq - y_6)**2 + (o_z_eq - z_6)**2)) - L_40*(-d_7 + (o_x - o_x_eq)*(o_x_eq - x_7)/sqrt((o_x_eq - x_7)**2 + (o_y_eq - y_7)**2 + (o_z_eq - z_7)**2) + (o_y - o_y_eq)*(o_y_eq - y_7)/sqrt((o_x_eq - x_7)**2 + (o_y_eq - y_7)**2 + (o_z_eq - z_7)**2) + (o_z - o_z_eq)*(o_z_eq - z_7)/sqrt((o_x_eq - x_7)**2 + (o_y_eq - y_7)**2 + (o_z_eq - z_7)**2) + sqrt((o_x_eq - x_7)**2 + (o_y_eq - y_7)**2 + (o_z_eq - z_7)**2)) - L_41*(-k_flow*w_y + k_flow*v_x/o_z_eq - n_x) - L_42*(k_flow*w_x + k_flow*v_y/o_z_eq - n_y) - L_43*(o_z - r) + w_y],\n",
       "[    -L_44*(-d_0 + (o_x - o_x_eq)*(o_x_eq - x_0)/sqrt((o_x_eq - x_0)**2 + (o_y_eq - y_0)**2 + (o_z_eq - z_0)**2) + (o_y - o_y_eq)*(o_y_eq - y_0)/sqrt((o_x_eq - x_0)**2 + (o_y_eq - y_0)**2 + (o_z_eq - z_0)**2) + (o_z - o_z_eq)*(o_z_eq - z_0)/sqrt((o_x_eq - x_0)**2 + (o_y_eq - y_0)**2 + (o_z_eq - z_0)**2) + sqrt((o_x_eq - x_0)**2 + (o_y_eq - y_0)**2 + (o_z_eq - z_0)**2)) - L_45*(-d_1 + (o_x - o_x_eq)*(o_x_eq - x_1)/sqrt((o_x_eq - x_1)**2 + (o_y_eq - y_1)**2 + (o_z_eq - z_1)**2) + (o_y - o_y_eq)*(o_y_eq - y_1)/sqrt((o_x_eq - x_1)**2 + (o_y_eq - y_1)**2 + (o_z_eq - z_1)**2) + (o_z - o_z_eq)*(o_z_eq - z_1)/sqrt((o_x_eq - x_1)**2 + (o_y_eq - y_1)**2 + (o_z_eq - z_1)**2) + sqrt((o_x_eq - x_1)**2 + (o_y_eq - y_1)**2 + (o_z_eq - z_1)**2)) - L_46*(-d_2 + (o_x - o_x_eq)*(o_x_eq - x_2)/sqrt((o_x_eq - x_2)**2 + (o_y_eq - y_2)**2 + (o_z_eq - z_2)**2) + (o_y - o_y_eq)*(o_y_eq - y_2)/sqrt((o_x_eq - x_2)**2 + (o_y_eq - y_2)**2 + (o_z_eq - z_2)**2) + (o_z - o_z_eq)*(o_z_eq - z_2)/sqrt((o_x_eq - x_2)**2 + (o_y_eq - y_2)**2 + (o_z_eq - z_2)**2) + sqrt((o_x_eq - x_2)**2 + (o_y_eq - y_2)**2 + (o_z_eq - z_2)**2)) - L_47*(-d_3 + (o_x - o_x_eq)*(o_x_eq - x_3)/sqrt((o_x_eq - x_3)**2 + (o_y_eq - y_3)**2 + (o_z_eq - z_3)**2) + (o_y - o_y_eq)*(o_y_eq - y_3)/sqrt((o_x_eq - x_3)**2 + (o_y_eq - y_3)**2 + (o_z_eq - z_3)**2) + (o_z - o_z_eq)*(o_z_eq - z_3)/sqrt((o_x_eq - x_3)**2 + (o_y_eq - y_3)**2 + (o_z_eq - z_3)**2) + sqrt((o_x_eq - x_3)**2 + (o_y_eq - y_3)**2 + (o_z_eq - z_3)**2)) - L_48*(-d_4 + (o_x - o_x_eq)*(o_x_eq - x_4)/sqrt((o_x_eq - x_4)**2 + (o_y_eq - y_4)**2 + (o_z_eq - z_4)**2) + (o_y - o_y_eq)*(o_y_eq - y_4)/sqrt((o_x_eq - x_4)**2 + (o_y_eq - y_4)**2 + (o_z_eq - z_4)**2) + (o_z - o_z_eq)*(o_z_eq - z_4)/sqrt((o_x_eq - x_4)**2 + (o_y_eq - y_4)**2 + (o_z_eq - z_4)**2) + sqrt((o_x_eq - x_4)**2 + (o_y_eq - y_4)**2 + (o_z_eq - z_4)**2)) - L_49*(-d_5 + (o_x - o_x_eq)*(o_x_eq - x_5)/sqrt((o_x_eq - x_5)**2 + (o_y_eq - y_5)**2 + (o_z_eq - z_5)**2) + (o_y - o_y_eq)*(o_y_eq - y_5)/sqrt((o_x_eq - x_5)**2 + (o_y_eq - y_5)**2 + (o_z_eq - z_5)**2) + (o_z - o_z_eq)*(o_z_eq - z_5)/sqrt((o_x_eq - x_5)**2 + (o_y_eq - y_5)**2 + (o_z_eq - z_5)**2) + sqrt((o_x_eq - x_5)**2 + (o_y_eq - y_5)**2 + (o_z_eq - z_5)**2)) - L_50*(-d_6 + (o_x - o_x_eq)*(o_x_eq - x_6)/sqrt((o_x_eq - x_6)**2 + (o_y_eq - y_6)**2 + (o_z_eq - z_6)**2) + (o_y - o_y_eq)*(o_y_eq - y_6)/sqrt((o_x_eq - x_6)**2 + (o_y_eq - y_6)**2 + (o_z_eq - z_6)**2) + (o_z - o_z_eq)*(o_z_eq - z_6)/sqrt((o_x_eq - x_6)**2 + (o_y_eq - y_6)**2 + (o_z_eq - z_6)**2) + sqrt((o_x_eq - x_6)**2 + (o_y_eq - y_6)**2 + (o_z_eq - z_6)**2)) - L_51*(-d_7 + (o_x - o_x_eq)*(o_x_eq - x_7)/sqrt((o_x_eq - x_7)**2 + (o_y_eq - y_7)**2 + (o_z_eq - z_7)**2) + (o_y - o_y_eq)*(o_y_eq - y_7)/sqrt((o_x_eq - x_7)**2 + (o_y_eq - y_7)**2 + (o_z_eq - z_7)**2) + (o_z - o_z_eq)*(o_z_eq - z_7)/sqrt((o_x_eq - x_7)**2 + (o_y_eq - y_7)**2 + (o_z_eq - z_7)**2) + sqrt((o_x_eq - x_7)**2 + (o_y_eq - y_7)**2 + (o_z_eq - z_7)**2)) - L_52*(-k_flow*w_y + k_flow*v_x/o_z_eq - n_x) - L_53*(k_flow*w_x + k_flow*v_y/o_z_eq - n_y) - L_54*(o_z - r) + w_x],\n",
       "[-L_55*(-d_0 + (o_x - o_x_eq)*(o_x_eq - x_0)/sqrt((o_x_eq - x_0)**2 + (o_y_eq - y_0)**2 + (o_z_eq - z_0)**2) + (o_y - o_y_eq)*(o_y_eq - y_0)/sqrt((o_x_eq - x_0)**2 + (o_y_eq - y_0)**2 + (o_z_eq - z_0)**2) + (o_z - o_z_eq)*(o_z_eq - z_0)/sqrt((o_x_eq - x_0)**2 + (o_y_eq - y_0)**2 + (o_z_eq - z_0)**2) + sqrt((o_x_eq - x_0)**2 + (o_y_eq - y_0)**2 + (o_z_eq - z_0)**2)) - L_56*(-d_1 + (o_x - o_x_eq)*(o_x_eq - x_1)/sqrt((o_x_eq - x_1)**2 + (o_y_eq - y_1)**2 + (o_z_eq - z_1)**2) + (o_y - o_y_eq)*(o_y_eq - y_1)/sqrt((o_x_eq - x_1)**2 + (o_y_eq - y_1)**2 + (o_z_eq - z_1)**2) + (o_z - o_z_eq)*(o_z_eq - z_1)/sqrt((o_x_eq - x_1)**2 + (o_y_eq - y_1)**2 + (o_z_eq - z_1)**2) + sqrt((o_x_eq - x_1)**2 + (o_y_eq - y_1)**2 + (o_z_eq - z_1)**2)) - L_57*(-d_2 + (o_x - o_x_eq)*(o_x_eq - x_2)/sqrt((o_x_eq - x_2)**2 + (o_y_eq - y_2)**2 + (o_z_eq - z_2)**2) + (o_y - o_y_eq)*(o_y_eq - y_2)/sqrt((o_x_eq - x_2)**2 + (o_y_eq - y_2)**2 + (o_z_eq - z_2)**2) + (o_z - o_z_eq)*(o_z_eq - z_2)/sqrt((o_x_eq - x_2)**2 + (o_y_eq - y_2)**2 + (o_z_eq - z_2)**2) + sqrt((o_x_eq - x_2)**2 + (o_y_eq - y_2)**2 + (o_z_eq - z_2)**2)) - L_58*(-d_3 + (o_x - o_x_eq)*(o_x_eq - x_3)/sqrt((o_x_eq - x_3)**2 + (o_y_eq - y_3)**2 + (o_z_eq - z_3)**2) + (o_y - o_y_eq)*(o_y_eq - y_3)/sqrt((o_x_eq - x_3)**2 + (o_y_eq - y_3)**2 + (o_z_eq - z_3)**2) + (o_z - o_z_eq)*(o_z_eq - z_3)/sqrt((o_x_eq - x_3)**2 + (o_y_eq - y_3)**2 + (o_z_eq - z_3)**2) + sqrt((o_x_eq - x_3)**2 + (o_y_eq - y_3)**2 + (o_z_eq - z_3)**2)) - L_59*(-d_4 + (o_x - o_x_eq)*(o_x_eq - x_4)/sqrt((o_x_eq - x_4)**2 + (o_y_eq - y_4)**2 + (o_z_eq - z_4)**2) + (o_y - o_y_eq)*(o_y_eq - y_4)/sqrt((o_x_eq - x_4)**2 + (o_y_eq - y_4)**2 + (o_z_eq - z_4)**2) + (o_z - o_z_eq)*(o_z_eq - z_4)/sqrt((o_x_eq - x_4)**2 + (o_y_eq - y_4)**2 + (o_z_eq - z_4)**2) + sqrt((o_x_eq - x_4)**2 + (o_y_eq - y_4)**2 + (o_z_eq - z_4)**2)) - L_60*(-d_5 + (o_x - o_x_eq)*(o_x_eq - x_5)/sqrt((o_x_eq - x_5)**2 + (o_y_eq - y_5)**2 + (o_z_eq - z_5)**2) + (o_y - o_y_eq)*(o_y_eq - y_5)/sqrt((o_x_eq - x_5)**2 + (o_y_eq - y_5)**2 + (o_z_eq - z_5)**2) + (o_z - o_z_eq)*(o_z_eq - z_5)/sqrt((o_x_eq - x_5)**2 + (o_y_eq - y_5)**2 + (o_z_eq - z_5)**2) + sqrt((o_x_eq - x_5)**2 + (o_y_eq - y_5)**2 + (o_z_eq - z_5)**2)) - L_61*(-d_6 + (o_x - o_x_eq)*(o_x_eq - x_6)/sqrt((o_x_eq - x_6)**2 + (o_y_eq - y_6)**2 + (o_z_eq - z_6)**2) + (o_y - o_y_eq)*(o_y_eq - y_6)/sqrt((o_x_eq - x_6)**2 + (o_y_eq - y_6)**2 + (o_z_eq - z_6)**2) + (o_z - o_z_eq)*(o_z_eq - z_6)/sqrt((o_x_eq - x_6)**2 + (o_y_eq - y_6)**2 + (o_z_eq - z_6)**2) + sqrt((o_x_eq - x_6)**2 + (o_y_eq - y_6)**2 + (o_z_eq - z_6)**2)) - L_62*(-d_7 + (o_x - o_x_eq)*(o_x_eq - x_7)/sqrt((o_x_eq - x_7)**2 + (o_y_eq - y_7)**2 + (o_z_eq - z_7)**2) + (o_y - o_y_eq)*(o_y_eq - y_7)/sqrt((o_x_eq - x_7)**2 + (o_y_eq - y_7)**2 + (o_z_eq - z_7)**2) + (o_z - o_z_eq)*(o_z_eq - z_7)/sqrt((o_x_eq - x_7)**2 + (o_y_eq - y_7)**2 + (o_z_eq - z_7)**2) + sqrt((o_x_eq - x_7)**2 + (o_y_eq - y_7)**2 + (o_z_eq - z_7)**2)) - L_63*(-k_flow*w_y + k_flow*v_x/o_z_eq - n_x) - L_64*(k_flow*w_x + k_flow*v_y/o_z_eq - n_y) - L_65*(o_z - r) + g*theta],\n",
       "[  -L_66*(-d_0 + (o_x - o_x_eq)*(o_x_eq - x_0)/sqrt((o_x_eq - x_0)**2 + (o_y_eq - y_0)**2 + (o_z_eq - z_0)**2) + (o_y - o_y_eq)*(o_y_eq - y_0)/sqrt((o_x_eq - x_0)**2 + (o_y_eq - y_0)**2 + (o_z_eq - z_0)**2) + (o_z - o_z_eq)*(o_z_eq - z_0)/sqrt((o_x_eq - x_0)**2 + (o_y_eq - y_0)**2 + (o_z_eq - z_0)**2) + sqrt((o_x_eq - x_0)**2 + (o_y_eq - y_0)**2 + (o_z_eq - z_0)**2)) - L_67*(-d_1 + (o_x - o_x_eq)*(o_x_eq - x_1)/sqrt((o_x_eq - x_1)**2 + (o_y_eq - y_1)**2 + (o_z_eq - z_1)**2) + (o_y - o_y_eq)*(o_y_eq - y_1)/sqrt((o_x_eq - x_1)**2 + (o_y_eq - y_1)**2 + (o_z_eq - z_1)**2) + (o_z - o_z_eq)*(o_z_eq - z_1)/sqrt((o_x_eq - x_1)**2 + (o_y_eq - y_1)**2 + (o_z_eq - z_1)**2) + sqrt((o_x_eq - x_1)**2 + (o_y_eq - y_1)**2 + (o_z_eq - z_1)**2)) - L_68*(-d_2 + (o_x - o_x_eq)*(o_x_eq - x_2)/sqrt((o_x_eq - x_2)**2 + (o_y_eq - y_2)**2 + (o_z_eq - z_2)**2) + (o_y - o_y_eq)*(o_y_eq - y_2)/sqrt((o_x_eq - x_2)**2 + (o_y_eq - y_2)**2 + (o_z_eq - z_2)**2) + (o_z - o_z_eq)*(o_z_eq - z_2)/sqrt((o_x_eq - x_2)**2 + (o_y_eq - y_2)**2 + (o_z_eq - z_2)**2) + sqrt((o_x_eq - x_2)**2 + (o_y_eq - y_2)**2 + (o_z_eq - z_2)**2)) - L_69*(-d_3 + (o_x - o_x_eq)*(o_x_eq - x_3)/sqrt((o_x_eq - x_3)**2 + (o_y_eq - y_3)**2 + (o_z_eq - z_3)**2) + (o_y - o_y_eq)*(o_y_eq - y_3)/sqrt((o_x_eq - x_3)**2 + (o_y_eq - y_3)**2 + (o_z_eq - z_3)**2) + (o_z - o_z_eq)*(o_z_eq - z_3)/sqrt((o_x_eq - x_3)**2 + (o_y_eq - y_3)**2 + (o_z_eq - z_3)**2) + sqrt((o_x_eq - x_3)**2 + (o_y_eq - y_3)**2 + (o_z_eq - z_3)**2)) - L_70*(-d_4 + (o_x - o_x_eq)*(o_x_eq - x_4)/sqrt((o_x_eq - x_4)**2 + (o_y_eq - y_4)**2 + (o_z_eq - z_4)**2) + (o_y - o_y_eq)*(o_y_eq - y_4)/sqrt((o_x_eq - x_4)**2 + (o_y_eq - y_4)**2 + (o_z_eq - z_4)**2) + (o_z - o_z_eq)*(o_z_eq - z_4)/sqrt((o_x_eq - x_4)**2 + (o_y_eq - y_4)**2 + (o_z_eq - z_4)**2) + sqrt((o_x_eq - x_4)**2 + (o_y_eq - y_4)**2 + (o_z_eq - z_4)**2)) - L_71*(-d_5 + (o_x - o_x_eq)*(o_x_eq - x_5)/sqrt((o_x_eq - x_5)**2 + (o_y_eq - y_5)**2 + (o_z_eq - z_5)**2) + (o_y - o_y_eq)*(o_y_eq - y_5)/sqrt((o_x_eq - x_5)**2 + (o_y_eq - y_5)**2 + (o_z_eq - z_5)**2) + (o_z - o_z_eq)*(o_z_eq - z_5)/sqrt((o_x_eq - x_5)**2 + (o_y_eq - y_5)**2 + (o_z_eq - z_5)**2) + sqrt((o_x_eq - x_5)**2 + (o_y_eq - y_5)**2 + (o_z_eq - z_5)**2)) - L_72*(-d_6 + (o_x - o_x_eq)*(o_x_eq - x_6)/sqrt((o_x_eq - x_6)**2 + (o_y_eq - y_6)**2 + (o_z_eq - z_6)**2) + (o_y - o_y_eq)*(o_y_eq - y_6)/sqrt((o_x_eq - x_6)**2 + (o_y_eq - y_6)**2 + (o_z_eq - z_6)**2) + (o_z - o_z_eq)*(o_z_eq - z_6)/sqrt((o_x_eq - x_6)**2 + (o_y_eq - y_6)**2 + (o_z_eq - z_6)**2) + sqrt((o_x_eq - x_6)**2 + (o_y_eq - y_6)**2 + (o_z_eq - z_6)**2)) - L_73*(-d_7 + (o_x - o_x_eq)*(o_x_eq - x_7)/sqrt((o_x_eq - x_7)**2 + (o_y_eq - y_7)**2 + (o_z_eq - z_7)**2) + (o_y - o_y_eq)*(o_y_eq - y_7)/sqrt((o_x_eq - x_7)**2 + (o_y_eq - y_7)**2 + (o_z_eq - z_7)**2) + (o_z - o_z_eq)*(o_z_eq - z_7)/sqrt((o_x_eq - x_7)**2 + (o_y_eq - y_7)**2 + (o_z_eq - z_7)**2) + sqrt((o_x_eq - x_7)**2 + (o_y_eq - y_7)**2 + (o_z_eq - z_7)**2)) - L_74*(-k_flow*w_y + k_flow*v_x/o_z_eq - n_x) - L_75*(k_flow*w_x + k_flow*v_y/o_z_eq - n_y) - L_76*(o_z - r) - g*phi],\n",
       "[-L_77*(-d_0 + (o_x - o_x_eq)*(o_x_eq - x_0)/sqrt((o_x_eq - x_0)**2 + (o_y_eq - y_0)**2 + (o_z_eq - z_0)**2) + (o_y - o_y_eq)*(o_y_eq - y_0)/sqrt((o_x_eq - x_0)**2 + (o_y_eq - y_0)**2 + (o_z_eq - z_0)**2) + (o_z - o_z_eq)*(o_z_eq - z_0)/sqrt((o_x_eq - x_0)**2 + (o_y_eq - y_0)**2 + (o_z_eq - z_0)**2) + sqrt((o_x_eq - x_0)**2 + (o_y_eq - y_0)**2 + (o_z_eq - z_0)**2)) - L_78*(-d_1 + (o_x - o_x_eq)*(o_x_eq - x_1)/sqrt((o_x_eq - x_1)**2 + (o_y_eq - y_1)**2 + (o_z_eq - z_1)**2) + (o_y - o_y_eq)*(o_y_eq - y_1)/sqrt((o_x_eq - x_1)**2 + (o_y_eq - y_1)**2 + (o_z_eq - z_1)**2) + (o_z - o_z_eq)*(o_z_eq - z_1)/sqrt((o_x_eq - x_1)**2 + (o_y_eq - y_1)**2 + (o_z_eq - z_1)**2) + sqrt((o_x_eq - x_1)**2 + (o_y_eq - y_1)**2 + (o_z_eq - z_1)**2)) - L_79*(-d_2 + (o_x - o_x_eq)*(o_x_eq - x_2)/sqrt((o_x_eq - x_2)**2 + (o_y_eq - y_2)**2 + (o_z_eq - z_2)**2) + (o_y - o_y_eq)*(o_y_eq - y_2)/sqrt((o_x_eq - x_2)**2 + (o_y_eq - y_2)**2 + (o_z_eq - z_2)**2) + (o_z - o_z_eq)*(o_z_eq - z_2)/sqrt((o_x_eq - x_2)**2 + (o_y_eq - y_2)**2 + (o_z_eq - z_2)**2) + sqrt((o_x_eq - x_2)**2 + (o_y_eq - y_2)**2 + (o_z_eq - z_2)**2)) - L_80*(-d_3 + (o_x - o_x_eq)*(o_x_eq - x_3)/sqrt((o_x_eq - x_3)**2 + (o_y_eq - y_3)**2 + (o_z_eq - z_3)**2) + (o_y - o_y_eq)*(o_y_eq - y_3)/sqrt((o_x_eq - x_3)**2 + (o_y_eq - y_3)**2 + (o_z_eq - z_3)**2) + (o_z - o_z_eq)*(o_z_eq - z_3)/sqrt((o_x_eq - x_3)**2 + (o_y_eq - y_3)**2 + (o_z_eq - z_3)**2) + sqrt((o_x_eq - x_3)**2 + (o_y_eq - y_3)**2 + (o_z_eq - z_3)**2)) - L_81*(-d_4 + (o_x - o_x_eq)*(o_x_eq - x_4)/sqrt((o_x_eq - x_4)**2 + (o_y_eq - y_4)**2 + (o_z_eq - z_4)**2) + (o_y - o_y_eq)*(o_y_eq - y_4)/sqrt((o_x_eq - x_4)**2 + (o_y_eq - y_4)**2 + (o_z_eq - z_4)**2) + (o_z - o_z_eq)*(o_z_eq - z_4)/sqrt((o_x_eq - x_4)**2 + (o_y_eq - y_4)**2 + (o_z_eq - z_4)**2) + sqrt((o_x_eq - x_4)**2 + (o_y_eq - y_4)**2 + (o_z_eq - z_4)**2)) - L_82*(-d_5 + (o_x - o_x_eq)*(o_x_eq - x_5)/sqrt((o_x_eq - x_5)**2 + (o_y_eq - y_5)**2 + (o_z_eq - z_5)**2) + (o_y - o_y_eq)*(o_y_eq - y_5)/sqrt((o_x_eq - x_5)**2 + (o_y_eq - y_5)**2 + (o_z_eq - z_5)**2) + (o_z - o_z_eq)*(o_z_eq - z_5)/sqrt((o_x_eq - x_5)**2 + (o_y_eq - y_5)**2 + (o_z_eq - z_5)**2) + sqrt((o_x_eq - x_5)**2 + (o_y_eq - y_5)**2 + (o_z_eq - z_5)**2)) - L_83*(-d_6 + (o_x - o_x_eq)*(o_x_eq - x_6)/sqrt((o_x_eq - x_6)**2 + (o_y_eq - y_6)**2 + (o_z_eq - z_6)**2) + (o_y - o_y_eq)*(o_y_eq - y_6)/sqrt((o_x_eq - x_6)**2 + (o_y_eq - y_6)**2 + (o_z_eq - z_6)**2) + (o_z - o_z_eq)*(o_z_eq - z_6)/sqrt((o_x_eq - x_6)**2 + (o_y_eq - y_6)**2 + (o_z_eq - z_6)**2) + sqrt((o_x_eq - x_6)**2 + (o_y_eq - y_6)**2 + (o_z_eq - z_6)**2)) - L_84*(-d_7 + (o_x - o_x_eq)*(o_x_eq - x_7)/sqrt((o_x_eq - x_7)**2 + (o_y_eq - y_7)**2 + (o_z_eq - z_7)**2) + (o_y - o_y_eq)*(o_y_eq - y_7)/sqrt((o_x_eq - x_7)**2 + (o_y_eq - y_7)**2 + (o_z_eq - z_7)**2) + (o_z - o_z_eq)*(o_z_eq - z_7)/sqrt((o_x_eq - x_7)**2 + (o_y_eq - y_7)**2 + (o_z_eq - z_7)**2) + sqrt((o_x_eq - x_7)**2 + (o_y_eq - y_7)**2 + (o_z_eq - z_7)**2)) - L_85*(-k_flow*w_y + k_flow*v_x/o_z_eq - n_x) - L_86*(k_flow*w_x + k_flow*v_y/o_z_eq - n_y) - L_87*(o_z - r) + a_z - g]])"
      ]
     },
     "execution_count": 36,
     "metadata": {},
     "output_type": "execute_result"
    }
   ],
   "source": [
    "x_hat_dot_sym"
   ]
  },
  {
   "cell_type": "markdown",
   "metadata": {},
   "source": [
    "## 3.4 Numeric Implementation"
   ]
  },
  {
   "cell_type": "markdown",
   "metadata": {},
   "source": [
    "### 3.4.1 Numeric Matrices"
   ]
  },
  {
   "cell_type": "markdown",
   "metadata": {},
   "source": [
    "Define anchor positions literally."
   ]
  },
  {
   "cell_type": "code",
   "execution_count": 37,
   "metadata": {},
   "outputs": [],
   "source": [
    "anchors_x_sym = [x_0, x_1, x_2, x_3, x_4, x_5, x_6, x_7]\n",
    "anchors_y_sym = [y_0, y_1, y_2, y_3, y_4, y_5, y_6, y_7]\n",
    "anchors_z_sym = [z_0, z_1, z_2, z_3, z_4, z_5, z_6, z_7]\n",
    "anchors_x = [-1.82, -3.57, 1.82, 2.67, -3.61, 1.84, 2.74, -1.85]\n",
    "anchors_y = [2.18, 3.18, 2.21, -3.30, -3.30, -0.90, 3.18, -0.93]\n",
    "anchors_z = [1.10, 2.24, 1.10, 2.20, 2.25, 1.10, 2.24, 1.09]"
   ]
  },
  {
   "cell_type": "markdown",
   "metadata": {},
   "source": [
    "Find numeric $A$, $B$, and $C$."
   ]
  },
  {
   "cell_type": "code",
   "execution_count": 38,
   "metadata": {},
   "outputs": [],
   "source": [
    "A_arr = np.array(A_obs.subs(g, -9.81).tolist(), dtype=np.float64)\n",
    "B_arr = np.array(B_obs.subs(g, -9.81).tolist(), dtype=np.float64)\n",
    "C_arr = np.array(C_obs.subs(tuple(zip(anchors_x_sym, anchors_x))).subs(tuple(zip(anchors_y_sym, anchors_y))).subs(tuple(zip(anchors_z_sym, anchors_z))).subs(o_x_eq, 0).subs(o_y_eq, 0).subs(o_z_eq, 0.5).subs(k_flow, 0.01 * 30.0 / np.deg2rad(4.2)).tolist(), dtype=np.float64)"
   ]
  },
  {
   "cell_type": "markdown",
   "metadata": {},
   "source": [
    "### 3.3.2 State Estimate Updating"
   ]
  },
  {
   "cell_type": "markdown",
   "metadata": {},
   "source": [
    "Define a function to use LQR."
   ]
  },
  {
   "cell_type": "code",
   "execution_count": 39,
   "metadata": {},
   "outputs": [],
   "source": [
    "def lqr(A, B, Q, R):\n",
    "    P = linalg.solve_continuous_are(A, B, Q, R)\n",
    "    K = linalg.inv(R) @  B.T @ P\n",
    "    return K"
   ]
  },
  {
   "cell_type": "markdown",
   "metadata": {},
   "source": [
    "Find $L$ using LQR with identity weights."
   ]
  },
  {
   "cell_type": "code",
   "execution_count": 40,
   "metadata": {},
   "outputs": [],
   "source": [
    "Q = np.diag([\n",
    "    1,             # d_0\n",
    "    1,             # d_1\n",
    "    1,             # d_2\n",
    "    1,             # d_3\n",
    "    1,             # d_4\n",
    "    1,             # d_5\n",
    "    1,             # d_6\n",
    "    1,             # d_7\n",
    "    1,             # n_x\n",
    "    1,             # n_y\n",
    "    1,             # r\n",
    "])\n",
    "\n",
    "R = np.diag([\n",
    "    1,             # o_x\n",
    "    1,             # o_y\n",
    "    1,             # o_z\n",
    "    1,             # theta\n",
    "    1,             # phi\n",
    "    1,             # v_x\n",
    "    1,             # v_y\n",
    "    1,             # v_z\n",
    "])\n",
    "\n",
    "L_identity = lqr(np.array(A_arr.tolist()).T, np.array(C_arr.tolist()).T, linalg.inv(R), linalg.inv(Q)).T"
   ]
  },
  {
   "cell_type": "markdown",
   "metadata": {},
   "source": [
    "Find L using LQR with custom weights."
   ]
  },
  {
   "cell_type": "code",
   "execution_count": 41,
   "metadata": {},
   "outputs": [],
   "source": [
    "Q = np.diag([\n",
    "    1/0.049**2,             # d_0\n",
    "    1/0.072**2,             # d_1\n",
    "    1/0.046**2,             # d_2\n",
    "    1/0.114**2,             # d_3\n",
    "    1/0.063**2,             # d_4\n",
    "    1/0.048**2,             # d_5\n",
    "    1/0.070**2,             # d_6\n",
    "    1/0.038**2,             # d_7\n",
    "    1/1.696**2,             # n_x\n",
    "    1/1.738**2,             # n_y\n",
    "    1/0.148**2,             # r\n",
    "])\n",
    "\n",
    "R = np.diag([\n",
    "    1/0.094**2,             # o_x\n",
    "    1/0.111**2,             # o_y\n",
    "    1/0.009**2,             # o_z\n",
    "    1/0.036**2,             # theta\n",
    "    1/0.030**2,             # phi\n",
    "    1/0.176**2,             # v_x\n",
    "    1/0.178**2,             # v_y\n",
    "    1/0.354**2,             # v_z\n",
    "])\n",
    "\n",
    "L_custom = lqr(np.array(A_arr.tolist()).T, np.array(C_arr.tolist()).T, linalg.inv(R), linalg.inv(Q)).T"
   ]
  },
  {
   "cell_type": "markdown",
   "metadata": {},
   "source": [
    "Choose which $L$ to use in the following cell."
   ]
  },
  {
   "cell_type": "code",
   "execution_count": 42,
   "metadata": {},
   "outputs": [],
   "source": [
    "custom = True               # Set to True to use custom L\n",
    "\n",
    "if custom:\n",
    "    L = L_custom\n",
    "else:\n",
    "    L = L_identity"
   ]
  },
  {
   "cell_type": "markdown",
   "metadata": {},
   "source": [
    "Find numeric representation of the state estimate equation."
   ]
  },
  {
   "cell_type": "code",
   "execution_count": 43,
   "metadata": {},
   "outputs": [],
   "source": [
    "A_sym = sym.Matrix(A)\n",
    "B_sym = sym.Matrix(B)\n",
    "L_sym = sym.Matrix(L)\n",
    "x_dot_sym = A_sym * x + B_sym * u\n",
    "x_obs_dot_sym = A_obs * x_obs + B_obs * u\n",
    "y_err_sym = C_obs * x_obs + D_obs * u - y\n",
    "x_hat_dot_sym = x_obs_dot_sym - L_sym * y_err_sym"
   ]
  },
  {
   "cell_type": "markdown",
   "metadata": {},
   "source": [
    "Show $\\dot{\\hat{x}}$."
   ]
  },
  {
   "cell_type": "code",
   "execution_count": 44,
   "metadata": {},
   "outputs": [
    {
     "data": {
      "text/latex": [
       "$\\displaystyle \\left[\\begin{matrix}1.12707648705855 d_{0} + 0.5476728004585 d_{1} - 1.06158812414135 d_{2} - 0.227059392530423 d_{3} + 0.552105984522811 d_{4} - 1.66587269822643 d_{5} - 0.475526854975272 d_{6} + 2.07114365067007 d_{7} + 0.00168407966994269 k_{flow} w_{x} + 0.0214688706014934 k_{flow} w_{y} - \\frac{0.0214688706014934 k_{flow} v_{x}}{o_{z eq}} + \\frac{0.00168407966994269 k_{flow} v_{y}}{o_{z eq}} + 0.0214688706014934 n_{x} - 0.00168407966994269 n_{y} - 0.0339666169208879 o_{z} + 0.0339666169208879 r + v_{x} - \\frac{1.12707648705855 \\left(o_{x} - o_{x eq}\\right) \\left(o_{x eq} - x_{0}\\right)}{\\sqrt{\\left(o_{x eq} - x_{0}\\right)^{2} + \\left(o_{y eq} - y_{0}\\right)^{2} + \\left(o_{z eq} - z_{0}\\right)^{2}}} - \\frac{0.5476728004585 \\left(o_{x} - o_{x eq}\\right) \\left(o_{x eq} - x_{1}\\right)}{\\sqrt{\\left(o_{x eq} - x_{1}\\right)^{2} + \\left(o_{y eq} - y_{1}\\right)^{2} + \\left(o_{z eq} - z_{1}\\right)^{2}}} + \\frac{1.06158812414135 \\left(o_{x} - o_{x eq}\\right) \\left(o_{x eq} - x_{2}\\right)}{\\sqrt{\\left(o_{x eq} - x_{2}\\right)^{2} + \\left(o_{y eq} - y_{2}\\right)^{2} + \\left(o_{z eq} - z_{2}\\right)^{2}}} + \\frac{0.227059392530423 \\left(o_{x} - o_{x eq}\\right) \\left(o_{x eq} - x_{3}\\right)}{\\sqrt{\\left(o_{x eq} - x_{3}\\right)^{2} + \\left(o_{y eq} - y_{3}\\right)^{2} + \\left(o_{z eq} - z_{3}\\right)^{2}}} - \\frac{0.552105984522811 \\left(o_{x} - o_{x eq}\\right) \\left(o_{x eq} - x_{4}\\right)}{\\sqrt{\\left(o_{x eq} - x_{4}\\right)^{2} + \\left(o_{y eq} - y_{4}\\right)^{2} + \\left(o_{z eq} - z_{4}\\right)^{2}}} + \\frac{1.66587269822643 \\left(o_{x} - o_{x eq}\\right) \\left(o_{x eq} - x_{5}\\right)}{\\sqrt{\\left(o_{x eq} - x_{5}\\right)^{2} + \\left(o_{y eq} - y_{5}\\right)^{2} + \\left(o_{z eq} - z_{5}\\right)^{2}}} + \\frac{0.475526854975272 \\left(o_{x} - o_{x eq}\\right) \\left(o_{x eq} - x_{6}\\right)}{\\sqrt{\\left(o_{x eq} - x_{6}\\right)^{2} + \\left(o_{y eq} - y_{6}\\right)^{2} + \\left(o_{z eq} - z_{6}\\right)^{2}}} - \\frac{2.07114365067007 \\left(o_{x} - o_{x eq}\\right) \\left(o_{x eq} - x_{7}\\right)}{\\sqrt{\\left(o_{x eq} - x_{7}\\right)^{2} + \\left(o_{y eq} - y_{7}\\right)^{2} + \\left(o_{z eq} - z_{7}\\right)^{2}}} - \\frac{1.12707648705855 \\left(o_{y} - o_{y eq}\\right) \\left(o_{y eq} - y_{0}\\right)}{\\sqrt{\\left(o_{x eq} - x_{0}\\right)^{2} + \\left(o_{y eq} - y_{0}\\right)^{2} + \\left(o_{z eq} - z_{0}\\right)^{2}}} - \\frac{0.5476728004585 \\left(o_{y} - o_{y eq}\\right) \\left(o_{y eq} - y_{1}\\right)}{\\sqrt{\\left(o_{x eq} - x_{1}\\right)^{2} + \\left(o_{y eq} - y_{1}\\right)^{2} + \\left(o_{z eq} - z_{1}\\right)^{2}}} + \\frac{1.06158812414135 \\left(o_{y} - o_{y eq}\\right) \\left(o_{y eq} - y_{2}\\right)}{\\sqrt{\\left(o_{x eq} - x_{2}\\right)^{2} + \\left(o_{y eq} - y_{2}\\right)^{2} + \\left(o_{z eq} - z_{2}\\right)^{2}}} + \\frac{0.227059392530423 \\left(o_{y} - o_{y eq}\\right) \\left(o_{y eq} - y_{3}\\right)}{\\sqrt{\\left(o_{x eq} - x_{3}\\right)^{2} + \\left(o_{y eq} - y_{3}\\right)^{2} + \\left(o_{z eq} - z_{3}\\right)^{2}}} - \\frac{0.552105984522811 \\left(o_{y} - o_{y eq}\\right) \\left(o_{y eq} - y_{4}\\right)}{\\sqrt{\\left(o_{x eq} - x_{4}\\right)^{2} + \\left(o_{y eq} - y_{4}\\right)^{2} + \\left(o_{z eq} - z_{4}\\right)^{2}}} + \\frac{1.66587269822643 \\left(o_{y} - o_{y eq}\\right) \\left(o_{y eq} - y_{5}\\right)}{\\sqrt{\\left(o_{x eq} - x_{5}\\right)^{2} + \\left(o_{y eq} - y_{5}\\right)^{2} + \\left(o_{z eq} - z_{5}\\right)^{2}}} + \\frac{0.475526854975272 \\left(o_{y} - o_{y eq}\\right) \\left(o_{y eq} - y_{6}\\right)}{\\sqrt{\\left(o_{x eq} - x_{6}\\right)^{2} + \\left(o_{y eq} - y_{6}\\right)^{2} + \\left(o_{z eq} - z_{6}\\right)^{2}}} - \\frac{2.07114365067007 \\left(o_{y} - o_{y eq}\\right) \\left(o_{y eq} - y_{7}\\right)}{\\sqrt{\\left(o_{x eq} - x_{7}\\right)^{2} + \\left(o_{y eq} - y_{7}\\right)^{2} + \\left(o_{z eq} - z_{7}\\right)^{2}}} - \\frac{1.12707648705855 \\left(o_{z} - o_{z eq}\\right) \\left(o_{z eq} - z_{0}\\right)}{\\sqrt{\\left(o_{x eq} - x_{0}\\right)^{2} + \\left(o_{y eq} - y_{0}\\right)^{2} + \\left(o_{z eq} - z_{0}\\right)^{2}}} - \\frac{0.5476728004585 \\left(o_{z} - o_{z eq}\\right) \\left(o_{z eq} - z_{1}\\right)}{\\sqrt{\\left(o_{x eq} - x_{1}\\right)^{2} + \\left(o_{y eq} - y_{1}\\right)^{2} + \\left(o_{z eq} - z_{1}\\right)^{2}}} + \\frac{1.06158812414135 \\left(o_{z} - o_{z eq}\\right) \\left(o_{z eq} - z_{2}\\right)}{\\sqrt{\\left(o_{x eq} - x_{2}\\right)^{2} + \\left(o_{y eq} - y_{2}\\right)^{2} + \\left(o_{z eq} - z_{2}\\right)^{2}}} + \\frac{0.227059392530423 \\left(o_{z} - o_{z eq}\\right) \\left(o_{z eq} - z_{3}\\right)}{\\sqrt{\\left(o_{x eq} - x_{3}\\right)^{2} + \\left(o_{y eq} - y_{3}\\right)^{2} + \\left(o_{z eq} - z_{3}\\right)^{2}}} - \\frac{0.552105984522811 \\left(o_{z} - o_{z eq}\\right) \\left(o_{z eq} - z_{4}\\right)}{\\sqrt{\\left(o_{x eq} - x_{4}\\right)^{2} + \\left(o_{y eq} - y_{4}\\right)^{2} + \\left(o_{z eq} - z_{4}\\right)^{2}}} + \\frac{1.66587269822643 \\left(o_{z} - o_{z eq}\\right) \\left(o_{z eq} - z_{5}\\right)}{\\sqrt{\\left(o_{x eq} - x_{5}\\right)^{2} + \\left(o_{y eq} - y_{5}\\right)^{2} + \\left(o_{z eq} - z_{5}\\right)^{2}}} + \\frac{0.475526854975272 \\left(o_{z} - o_{z eq}\\right) \\left(o_{z eq} - z_{6}\\right)}{\\sqrt{\\left(o_{x eq} - x_{6}\\right)^{2} + \\left(o_{y eq} - y_{6}\\right)^{2} + \\left(o_{z eq} - z_{6}\\right)^{2}}} - \\frac{2.07114365067007 \\left(o_{z} - o_{z eq}\\right) \\left(o_{z eq} - z_{7}\\right)}{\\sqrt{\\left(o_{x eq} - x_{7}\\right)^{2} + \\left(o_{y eq} - y_{7}\\right)^{2} + \\left(o_{z eq} - z_{7}\\right)^{2}}} - 1.12707648705855 \\sqrt{\\left(o_{x eq} - x_{0}\\right)^{2} + \\left(o_{y eq} - y_{0}\\right)^{2} + \\left(o_{z eq} - z_{0}\\right)^{2}} - 0.5476728004585 \\sqrt{\\left(o_{x eq} - x_{1}\\right)^{2} + \\left(o_{y eq} - y_{1}\\right)^{2} + \\left(o_{z eq} - z_{1}\\right)^{2}} + 1.06158812414135 \\sqrt{\\left(o_{x eq} - x_{2}\\right)^{2} + \\left(o_{y eq} - y_{2}\\right)^{2} + \\left(o_{z eq} - z_{2}\\right)^{2}} + 0.227059392530423 \\sqrt{\\left(o_{x eq} - x_{3}\\right)^{2} + \\left(o_{y eq} - y_{3}\\right)^{2} + \\left(o_{z eq} - z_{3}\\right)^{2}} - 0.552105984522811 \\sqrt{\\left(o_{x eq} - x_{4}\\right)^{2} + \\left(o_{y eq} - y_{4}\\right)^{2} + \\left(o_{z eq} - z_{4}\\right)^{2}} + 1.66587269822643 \\sqrt{\\left(o_{x eq} - x_{5}\\right)^{2} + \\left(o_{y eq} - y_{5}\\right)^{2} + \\left(o_{z eq} - z_{5}\\right)^{2}} + 0.475526854975272 \\sqrt{\\left(o_{x eq} - x_{6}\\right)^{2} + \\left(o_{y eq} - y_{6}\\right)^{2} + \\left(o_{z eq} - z_{6}\\right)^{2}} - 2.07114365067007 \\sqrt{\\left(o_{x eq} - x_{7}\\right)^{2} + \\left(o_{y eq} - y_{7}\\right)^{2} + \\left(o_{z eq} - z_{7}\\right)^{2}}\\\\- 1.73816242606271 d_{0} - 0.674035871250208 d_{1} - 1.69091746248964 d_{2} + 0.325418193645903 d_{3} + 0.787896464809938 d_{4} + 1.1956767991533 d_{5} - 0.657924407506712 d_{6} + 1.35219734302355 d_{7} - 0.0227901005026907 k_{flow} w_{x} - 0.00197779925500575 k_{flow} w_{y} + \\frac{0.00197779925500575 k_{flow} v_{x}}{o_{z eq}} - \\frac{0.0227901005026907 k_{flow} v_{y}}{o_{z eq}} - 0.00197779925500575 n_{x} + 0.0227901005026907 n_{y} + 0.0182697597468506 o_{z} - 0.0182697597468506 r + v_{y} + \\frac{1.73816242606271 \\left(o_{x} - o_{x eq}\\right) \\left(o_{x eq} - x_{0}\\right)}{\\sqrt{\\left(o_{x eq} - x_{0}\\right)^{2} + \\left(o_{y eq} - y_{0}\\right)^{2} + \\left(o_{z eq} - z_{0}\\right)^{2}}} + \\frac{0.674035871250208 \\left(o_{x} - o_{x eq}\\right) \\left(o_{x eq} - x_{1}\\right)}{\\sqrt{\\left(o_{x eq} - x_{1}\\right)^{2} + \\left(o_{y eq} - y_{1}\\right)^{2} + \\left(o_{z eq} - z_{1}\\right)^{2}}} + \\frac{1.69091746248964 \\left(o_{x} - o_{x eq}\\right) \\left(o_{x eq} - x_{2}\\right)}{\\sqrt{\\left(o_{x eq} - x_{2}\\right)^{2} + \\left(o_{y eq} - y_{2}\\right)^{2} + \\left(o_{z eq} - z_{2}\\right)^{2}}} - \\frac{0.325418193645903 \\left(o_{x} - o_{x eq}\\right) \\left(o_{x eq} - x_{3}\\right)}{\\sqrt{\\left(o_{x eq} - x_{3}\\right)^{2} + \\left(o_{y eq} - y_{3}\\right)^{2} + \\left(o_{z eq} - z_{3}\\right)^{2}}} - \\frac{0.787896464809938 \\left(o_{x} - o_{x eq}\\right) \\left(o_{x eq} - x_{4}\\right)}{\\sqrt{\\left(o_{x eq} - x_{4}\\right)^{2} + \\left(o_{y eq} - y_{4}\\right)^{2} + \\left(o_{z eq} - z_{4}\\right)^{2}}} - \\frac{1.1956767991533 \\left(o_{x} - o_{x eq}\\right) \\left(o_{x eq} - x_{5}\\right)}{\\sqrt{\\left(o_{x eq} - x_{5}\\right)^{2} + \\left(o_{y eq} - y_{5}\\right)^{2} + \\left(o_{z eq} - z_{5}\\right)^{2}}} + \\frac{0.657924407506712 \\left(o_{x} - o_{x eq}\\right) \\left(o_{x eq} - x_{6}\\right)}{\\sqrt{\\left(o_{x eq} - x_{6}\\right)^{2} + \\left(o_{y eq} - y_{6}\\right)^{2} + \\left(o_{z eq} - z_{6}\\right)^{2}}} - \\frac{1.35219734302355 \\left(o_{x} - o_{x eq}\\right) \\left(o_{x eq} - x_{7}\\right)}{\\sqrt{\\left(o_{x eq} - x_{7}\\right)^{2} + \\left(o_{y eq} - y_{7}\\right)^{2} + \\left(o_{z eq} - z_{7}\\right)^{2}}} + \\frac{1.73816242606271 \\left(o_{y} - o_{y eq}\\right) \\left(o_{y eq} - y_{0}\\right)}{\\sqrt{\\left(o_{x eq} - x_{0}\\right)^{2} + \\left(o_{y eq} - y_{0}\\right)^{2} + \\left(o_{z eq} - z_{0}\\right)^{2}}} + \\frac{0.674035871250208 \\left(o_{y} - o_{y eq}\\right) \\left(o_{y eq} - y_{1}\\right)}{\\sqrt{\\left(o_{x eq} - x_{1}\\right)^{2} + \\left(o_{y eq} - y_{1}\\right)^{2} + \\left(o_{z eq} - z_{1}\\right)^{2}}} + \\frac{1.69091746248964 \\left(o_{y} - o_{y eq}\\right) \\left(o_{y eq} - y_{2}\\right)}{\\sqrt{\\left(o_{x eq} - x_{2}\\right)^{2} + \\left(o_{y eq} - y_{2}\\right)^{2} + \\left(o_{z eq} - z_{2}\\right)^{2}}} - \\frac{0.325418193645903 \\left(o_{y} - o_{y eq}\\right) \\left(o_{y eq} - y_{3}\\right)}{\\sqrt{\\left(o_{x eq} - x_{3}\\right)^{2} + \\left(o_{y eq} - y_{3}\\right)^{2} + \\left(o_{z eq} - z_{3}\\right)^{2}}} - \\frac{0.787896464809938 \\left(o_{y} - o_{y eq}\\right) \\left(o_{y eq} - y_{4}\\right)}{\\sqrt{\\left(o_{x eq} - x_{4}\\right)^{2} + \\left(o_{y eq} - y_{4}\\right)^{2} + \\left(o_{z eq} - z_{4}\\right)^{2}}} - \\frac{1.1956767991533 \\left(o_{y} - o_{y eq}\\right) \\left(o_{y eq} - y_{5}\\right)}{\\sqrt{\\left(o_{x eq} - x_{5}\\right)^{2} + \\left(o_{y eq} - y_{5}\\right)^{2} + \\left(o_{z eq} - z_{5}\\right)^{2}}} + \\frac{0.657924407506712 \\left(o_{y} - o_{y eq}\\right) \\left(o_{y eq} - y_{6}\\right)}{\\sqrt{\\left(o_{x eq} - x_{6}\\right)^{2} + \\left(o_{y eq} - y_{6}\\right)^{2} + \\left(o_{z eq} - z_{6}\\right)^{2}}} - \\frac{1.35219734302355 \\left(o_{y} - o_{y eq}\\right) \\left(o_{y eq} - y_{7}\\right)}{\\sqrt{\\left(o_{x eq} - x_{7}\\right)^{2} + \\left(o_{y eq} - y_{7}\\right)^{2} + \\left(o_{z eq} - z_{7}\\right)^{2}}} + \\frac{1.73816242606271 \\left(o_{z} - o_{z eq}\\right) \\left(o_{z eq} - z_{0}\\right)}{\\sqrt{\\left(o_{x eq} - x_{0}\\right)^{2} + \\left(o_{y eq} - y_{0}\\right)^{2} + \\left(o_{z eq} - z_{0}\\right)^{2}}} + \\frac{0.674035871250208 \\left(o_{z} - o_{z eq}\\right) \\left(o_{z eq} - z_{1}\\right)}{\\sqrt{\\left(o_{x eq} - x_{1}\\right)^{2} + \\left(o_{y eq} - y_{1}\\right)^{2} + \\left(o_{z eq} - z_{1}\\right)^{2}}} + \\frac{1.69091746248964 \\left(o_{z} - o_{z eq}\\right) \\left(o_{z eq} - z_{2}\\right)}{\\sqrt{\\left(o_{x eq} - x_{2}\\right)^{2} + \\left(o_{y eq} - y_{2}\\right)^{2} + \\left(o_{z eq} - z_{2}\\right)^{2}}} - \\frac{0.325418193645903 \\left(o_{z} - o_{z eq}\\right) \\left(o_{z eq} - z_{3}\\right)}{\\sqrt{\\left(o_{x eq} - x_{3}\\right)^{2} + \\left(o_{y eq} - y_{3}\\right)^{2} + \\left(o_{z eq} - z_{3}\\right)^{2}}} - \\frac{0.787896464809938 \\left(o_{z} - o_{z eq}\\right) \\left(o_{z eq} - z_{4}\\right)}{\\sqrt{\\left(o_{x eq} - x_{4}\\right)^{2} + \\left(o_{y eq} - y_{4}\\right)^{2} + \\left(o_{z eq} - z_{4}\\right)^{2}}} - \\frac{1.1956767991533 \\left(o_{z} - o_{z eq}\\right) \\left(o_{z eq} - z_{5}\\right)}{\\sqrt{\\left(o_{x eq} - x_{5}\\right)^{2} + \\left(o_{y eq} - y_{5}\\right)^{2} + \\left(o_{z eq} - z_{5}\\right)^{2}}} + \\frac{0.657924407506712 \\left(o_{z} - o_{z eq}\\right) \\left(o_{z eq} - z_{6}\\right)}{\\sqrt{\\left(o_{x eq} - x_{6}\\right)^{2} + \\left(o_{y eq} - y_{6}\\right)^{2} + \\left(o_{z eq} - z_{6}\\right)^{2}}} - \\frac{1.35219734302355 \\left(o_{z} - o_{z eq}\\right) \\left(o_{z eq} - z_{7}\\right)}{\\sqrt{\\left(o_{x eq} - x_{7}\\right)^{2} + \\left(o_{y eq} - y_{7}\\right)^{2} + \\left(o_{z eq} - z_{7}\\right)^{2}}} + 1.73816242606271 \\sqrt{\\left(o_{x eq} - x_{0}\\right)^{2} + \\left(o_{y eq} - y_{0}\\right)^{2} + \\left(o_{z eq} - z_{0}\\right)^{2}} + 0.674035871250208 \\sqrt{\\left(o_{x eq} - x_{1}\\right)^{2} + \\left(o_{y eq} - y_{1}\\right)^{2} + \\left(o_{z eq} - z_{1}\\right)^{2}} + 1.69091746248964 \\sqrt{\\left(o_{x eq} - x_{2}\\right)^{2} + \\left(o_{y eq} - y_{2}\\right)^{2} + \\left(o_{z eq} - z_{2}\\right)^{2}} - 0.325418193645903 \\sqrt{\\left(o_{x eq} - x_{3}\\right)^{2} + \\left(o_{y eq} - y_{3}\\right)^{2} + \\left(o_{z eq} - z_{3}\\right)^{2}} - 0.787896464809938 \\sqrt{\\left(o_{x eq} - x_{4}\\right)^{2} + \\left(o_{y eq} - y_{4}\\right)^{2} + \\left(o_{z eq} - z_{4}\\right)^{2}} - 1.1956767991533 \\sqrt{\\left(o_{x eq} - x_{5}\\right)^{2} + \\left(o_{y eq} - y_{5}\\right)^{2} + \\left(o_{z eq} - z_{5}\\right)^{2}} + 0.657924407506712 \\sqrt{\\left(o_{x eq} - x_{6}\\right)^{2} + \\left(o_{y eq} - y_{6}\\right)^{2} + \\left(o_{z eq} - z_{6}\\right)^{2}} - 1.35219734302355 \\sqrt{\\left(o_{x eq} - x_{7}\\right)^{2} + \\left(o_{y eq} - y_{7}\\right)^{2} + \\left(o_{z eq} - z_{7}\\right)^{2}}\\\\- 0.817938135344624 d_{0} - 0.722615443998249 d_{1} - 1.35653032358065 d_{2} - 0.433584324169403 d_{3} - 1.05513109876531 d_{4} - 1.96351857478474 d_{5} - 1.06683224932403 d_{6} - 2.18412437166829 d_{7} + 0.00108821463471846 k_{flow} w_{x} + 0.00242935847370092 k_{flow} w_{y} - \\frac{0.00242935847370092 k_{flow} v_{x}}{o_{z eq}} + \\frac{0.00108821463471846 k_{flow} v_{y}}{o_{z eq}} + 0.00242935847370092 n_{x} - 0.00108821463471846 n_{y} - 0.603140474287141 o_{z} + 0.603140474287141 r + v_{z} + \\frac{0.817938135344624 \\left(o_{x} - o_{x eq}\\right) \\left(o_{x eq} - x_{0}\\right)}{\\sqrt{\\left(o_{x eq} - x_{0}\\right)^{2} + \\left(o_{y eq} - y_{0}\\right)^{2} + \\left(o_{z eq} - z_{0}\\right)^{2}}} + \\frac{0.722615443998249 \\left(o_{x} - o_{x eq}\\right) \\left(o_{x eq} - x_{1}\\right)}{\\sqrt{\\left(o_{x eq} - x_{1}\\right)^{2} + \\left(o_{y eq} - y_{1}\\right)^{2} + \\left(o_{z eq} - z_{1}\\right)^{2}}} + \\frac{1.35653032358065 \\left(o_{x} - o_{x eq}\\right) \\left(o_{x eq} - x_{2}\\right)}{\\sqrt{\\left(o_{x eq} - x_{2}\\right)^{2} + \\left(o_{y eq} - y_{2}\\right)^{2} + \\left(o_{z eq} - z_{2}\\right)^{2}}} + \\frac{0.433584324169403 \\left(o_{x} - o_{x eq}\\right) \\left(o_{x eq} - x_{3}\\right)}{\\sqrt{\\left(o_{x eq} - x_{3}\\right)^{2} + \\left(o_{y eq} - y_{3}\\right)^{2} + \\left(o_{z eq} - z_{3}\\right)^{2}}} + \\frac{1.05513109876531 \\left(o_{x} - o_{x eq}\\right) \\left(o_{x eq} - x_{4}\\right)}{\\sqrt{\\left(o_{x eq} - x_{4}\\right)^{2} + \\left(o_{y eq} - y_{4}\\right)^{2} + \\left(o_{z eq} - z_{4}\\right)^{2}}} + \\frac{1.96351857478474 \\left(o_{x} - o_{x eq}\\right) \\left(o_{x eq} - x_{5}\\right)}{\\sqrt{\\left(o_{x eq} - x_{5}\\right)^{2} + \\left(o_{y eq} - y_{5}\\right)^{2} + \\left(o_{z eq} - z_{5}\\right)^{2}}} + \\frac{1.06683224932403 \\left(o_{x} - o_{x eq}\\right) \\left(o_{x eq} - x_{6}\\right)}{\\sqrt{\\left(o_{x eq} - x_{6}\\right)^{2} + \\left(o_{y eq} - y_{6}\\right)^{2} + \\left(o_{z eq} - z_{6}\\right)^{2}}} + \\frac{2.18412437166829 \\left(o_{x} - o_{x eq}\\right) \\left(o_{x eq} - x_{7}\\right)}{\\sqrt{\\left(o_{x eq} - x_{7}\\right)^{2} + \\left(o_{y eq} - y_{7}\\right)^{2} + \\left(o_{z eq} - z_{7}\\right)^{2}}} + \\frac{0.817938135344624 \\left(o_{y} - o_{y eq}\\right) \\left(o_{y eq} - y_{0}\\right)}{\\sqrt{\\left(o_{x eq} - x_{0}\\right)^{2} + \\left(o_{y eq} - y_{0}\\right)^{2} + \\left(o_{z eq} - z_{0}\\right)^{2}}} + \\frac{0.722615443998249 \\left(o_{y} - o_{y eq}\\right) \\left(o_{y eq} - y_{1}\\right)}{\\sqrt{\\left(o_{x eq} - x_{1}\\right)^{2} + \\left(o_{y eq} - y_{1}\\right)^{2} + \\left(o_{z eq} - z_{1}\\right)^{2}}} + \\frac{1.35653032358065 \\left(o_{y} - o_{y eq}\\right) \\left(o_{y eq} - y_{2}\\right)}{\\sqrt{\\left(o_{x eq} - x_{2}\\right)^{2} + \\left(o_{y eq} - y_{2}\\right)^{2} + \\left(o_{z eq} - z_{2}\\right)^{2}}} + \\frac{0.433584324169403 \\left(o_{y} - o_{y eq}\\right) \\left(o_{y eq} - y_{3}\\right)}{\\sqrt{\\left(o_{x eq} - x_{3}\\right)^{2} + \\left(o_{y eq} - y_{3}\\right)^{2} + \\left(o_{z eq} - z_{3}\\right)^{2}}} + \\frac{1.05513109876531 \\left(o_{y} - o_{y eq}\\right) \\left(o_{y eq} - y_{4}\\right)}{\\sqrt{\\left(o_{x eq} - x_{4}\\right)^{2} + \\left(o_{y eq} - y_{4}\\right)^{2} + \\left(o_{z eq} - z_{4}\\right)^{2}}} + \\frac{1.96351857478474 \\left(o_{y} - o_{y eq}\\right) \\left(o_{y eq} - y_{5}\\right)}{\\sqrt{\\left(o_{x eq} - x_{5}\\right)^{2} + \\left(o_{y eq} - y_{5}\\right)^{2} + \\left(o_{z eq} - z_{5}\\right)^{2}}} + \\frac{1.06683224932403 \\left(o_{y} - o_{y eq}\\right) \\left(o_{y eq} - y_{6}\\right)}{\\sqrt{\\left(o_{x eq} - x_{6}\\right)^{2} + \\left(o_{y eq} - y_{6}\\right)^{2} + \\left(o_{z eq} - z_{6}\\right)^{2}}} + \\frac{2.18412437166829 \\left(o_{y} - o_{y eq}\\right) \\left(o_{y eq} - y_{7}\\right)}{\\sqrt{\\left(o_{x eq} - x_{7}\\right)^{2} + \\left(o_{y eq} - y_{7}\\right)^{2} + \\left(o_{z eq} - z_{7}\\right)^{2}}} + \\frac{0.817938135344624 \\left(o_{z} - o_{z eq}\\right) \\left(o_{z eq} - z_{0}\\right)}{\\sqrt{\\left(o_{x eq} - x_{0}\\right)^{2} + \\left(o_{y eq} - y_{0}\\right)^{2} + \\left(o_{z eq} - z_{0}\\right)^{2}}} + \\frac{0.722615443998249 \\left(o_{z} - o_{z eq}\\right) \\left(o_{z eq} - z_{1}\\right)}{\\sqrt{\\left(o_{x eq} - x_{1}\\right)^{2} + \\left(o_{y eq} - y_{1}\\right)^{2} + \\left(o_{z eq} - z_{1}\\right)^{2}}} + \\frac{1.35653032358065 \\left(o_{z} - o_{z eq}\\right) \\left(o_{z eq} - z_{2}\\right)}{\\sqrt{\\left(o_{x eq} - x_{2}\\right)^{2} + \\left(o_{y eq} - y_{2}\\right)^{2} + \\left(o_{z eq} - z_{2}\\right)^{2}}} + \\frac{0.433584324169403 \\left(o_{z} - o_{z eq}\\right) \\left(o_{z eq} - z_{3}\\right)}{\\sqrt{\\left(o_{x eq} - x_{3}\\right)^{2} + \\left(o_{y eq} - y_{3}\\right)^{2} + \\left(o_{z eq} - z_{3}\\right)^{2}}} + \\frac{1.05513109876531 \\left(o_{z} - o_{z eq}\\right) \\left(o_{z eq} - z_{4}\\right)}{\\sqrt{\\left(o_{x eq} - x_{4}\\right)^{2} + \\left(o_{y eq} - y_{4}\\right)^{2} + \\left(o_{z eq} - z_{4}\\right)^{2}}} + \\frac{1.96351857478474 \\left(o_{z} - o_{z eq}\\right) \\left(o_{z eq} - z_{5}\\right)}{\\sqrt{\\left(o_{x eq} - x_{5}\\right)^{2} + \\left(o_{y eq} - y_{5}\\right)^{2} + \\left(o_{z eq} - z_{5}\\right)^{2}}} + \\frac{1.06683224932403 \\left(o_{z} - o_{z eq}\\right) \\left(o_{z eq} - z_{6}\\right)}{\\sqrt{\\left(o_{x eq} - x_{6}\\right)^{2} + \\left(o_{y eq} - y_{6}\\right)^{2} + \\left(o_{z eq} - z_{6}\\right)^{2}}} + \\frac{2.18412437166829 \\left(o_{z} - o_{z eq}\\right) \\left(o_{z eq} - z_{7}\\right)}{\\sqrt{\\left(o_{x eq} - x_{7}\\right)^{2} + \\left(o_{y eq} - y_{7}\\right)^{2} + \\left(o_{z eq} - z_{7}\\right)^{2}}} + 0.817938135344624 \\sqrt{\\left(o_{x eq} - x_{0}\\right)^{2} + \\left(o_{y eq} - y_{0}\\right)^{2} + \\left(o_{z eq} - z_{0}\\right)^{2}} + 0.722615443998249 \\sqrt{\\left(o_{x eq} - x_{1}\\right)^{2} + \\left(o_{y eq} - y_{1}\\right)^{2} + \\left(o_{z eq} - z_{1}\\right)^{2}} + 1.35653032358065 \\sqrt{\\left(o_{x eq} - x_{2}\\right)^{2} + \\left(o_{y eq} - y_{2}\\right)^{2} + \\left(o_{z eq} - z_{2}\\right)^{2}} + 0.433584324169403 \\sqrt{\\left(o_{x eq} - x_{3}\\right)^{2} + \\left(o_{y eq} - y_{3}\\right)^{2} + \\left(o_{z eq} - z_{3}\\right)^{2}} + 1.05513109876531 \\sqrt{\\left(o_{x eq} - x_{4}\\right)^{2} + \\left(o_{y eq} - y_{4}\\right)^{2} + \\left(o_{z eq} - z_{4}\\right)^{2}} + 1.96351857478474 \\sqrt{\\left(o_{x eq} - x_{5}\\right)^{2} + \\left(o_{y eq} - y_{5}\\right)^{2} + \\left(o_{z eq} - z_{5}\\right)^{2}} + 1.06683224932403 \\sqrt{\\left(o_{x eq} - x_{6}\\right)^{2} + \\left(o_{y eq} - y_{6}\\right)^{2} + \\left(o_{z eq} - z_{6}\\right)^{2}} + 2.18412437166829 \\sqrt{\\left(o_{x eq} - x_{7}\\right)^{2} + \\left(o_{y eq} - y_{7}\\right)^{2} + \\left(o_{z eq} - z_{7}\\right)^{2}}\\\\- 0.196479899076098 d_{0} - 0.0985626400158723 d_{1} + 0.194663521002678 d_{2} + 0.0361702630754423 d_{3} - 0.111154854141702 d_{4} + 0.280645442718842 d_{5} + 0.0837840794422355 d_{6} - 0.39561834630097 d_{7} - 0.000281307826385638 k_{flow} w_{x} - 0.0140088547394226 k_{flow} w_{y} + \\frac{0.0140088547394226 k_{flow} v_{x}}{o_{z eq}} - \\frac{0.000281307826385638 k_{flow} v_{y}}{o_{z eq}} - 0.0140088547394226 n_{x} + 0.000281307826385638 n_{y} + 0.0023957978163299 o_{z} - 0.0023957978163299 r + w_{y} + \\frac{0.196479899076098 \\left(o_{x} - o_{x eq}\\right) \\left(o_{x eq} - x_{0}\\right)}{\\sqrt{\\left(o_{x eq} - x_{0}\\right)^{2} + \\left(o_{y eq} - y_{0}\\right)^{2} + \\left(o_{z eq} - z_{0}\\right)^{2}}} + \\frac{0.0985626400158723 \\left(o_{x} - o_{x eq}\\right) \\left(o_{x eq} - x_{1}\\right)}{\\sqrt{\\left(o_{x eq} - x_{1}\\right)^{2} + \\left(o_{y eq} - y_{1}\\right)^{2} + \\left(o_{z eq} - z_{1}\\right)^{2}}} - \\frac{0.194663521002678 \\left(o_{x} - o_{x eq}\\right) \\left(o_{x eq} - x_{2}\\right)}{\\sqrt{\\left(o_{x eq} - x_{2}\\right)^{2} + \\left(o_{y eq} - y_{2}\\right)^{2} + \\left(o_{z eq} - z_{2}\\right)^{2}}} - \\frac{0.0361702630754423 \\left(o_{x} - o_{x eq}\\right) \\left(o_{x eq} - x_{3}\\right)}{\\sqrt{\\left(o_{x eq} - x_{3}\\right)^{2} + \\left(o_{y eq} - y_{3}\\right)^{2} + \\left(o_{z eq} - z_{3}\\right)^{2}}} + \\frac{0.111154854141702 \\left(o_{x} - o_{x eq}\\right) \\left(o_{x eq} - x_{4}\\right)}{\\sqrt{\\left(o_{x eq} - x_{4}\\right)^{2} + \\left(o_{y eq} - y_{4}\\right)^{2} + \\left(o_{z eq} - z_{4}\\right)^{2}}} - \\frac{0.280645442718842 \\left(o_{x} - o_{x eq}\\right) \\left(o_{x eq} - x_{5}\\right)}{\\sqrt{\\left(o_{x eq} - x_{5}\\right)^{2} + \\left(o_{y eq} - y_{5}\\right)^{2} + \\left(o_{z eq} - z_{5}\\right)^{2}}} - \\frac{0.0837840794422355 \\left(o_{x} - o_{x eq}\\right) \\left(o_{x eq} - x_{6}\\right)}{\\sqrt{\\left(o_{x eq} - x_{6}\\right)^{2} + \\left(o_{y eq} - y_{6}\\right)^{2} + \\left(o_{z eq} - z_{6}\\right)^{2}}} + \\frac{0.39561834630097 \\left(o_{x} - o_{x eq}\\right) \\left(o_{x eq} - x_{7}\\right)}{\\sqrt{\\left(o_{x eq} - x_{7}\\right)^{2} + \\left(o_{y eq} - y_{7}\\right)^{2} + \\left(o_{z eq} - z_{7}\\right)^{2}}} + \\frac{0.196479899076098 \\left(o_{y} - o_{y eq}\\right) \\left(o_{y eq} - y_{0}\\right)}{\\sqrt{\\left(o_{x eq} - x_{0}\\right)^{2} + \\left(o_{y eq} - y_{0}\\right)^{2} + \\left(o_{z eq} - z_{0}\\right)^{2}}} + \\frac{0.0985626400158723 \\left(o_{y} - o_{y eq}\\right) \\left(o_{y eq} - y_{1}\\right)}{\\sqrt{\\left(o_{x eq} - x_{1}\\right)^{2} + \\left(o_{y eq} - y_{1}\\right)^{2} + \\left(o_{z eq} - z_{1}\\right)^{2}}} - \\frac{0.194663521002678 \\left(o_{y} - o_{y eq}\\right) \\left(o_{y eq} - y_{2}\\right)}{\\sqrt{\\left(o_{x eq} - x_{2}\\right)^{2} + \\left(o_{y eq} - y_{2}\\right)^{2} + \\left(o_{z eq} - z_{2}\\right)^{2}}} - \\frac{0.0361702630754423 \\left(o_{y} - o_{y eq}\\right) \\left(o_{y eq} - y_{3}\\right)}{\\sqrt{\\left(o_{x eq} - x_{3}\\right)^{2} + \\left(o_{y eq} - y_{3}\\right)^{2} + \\left(o_{z eq} - z_{3}\\right)^{2}}} + \\frac{0.111154854141702 \\left(o_{y} - o_{y eq}\\right) \\left(o_{y eq} - y_{4}\\right)}{\\sqrt{\\left(o_{x eq} - x_{4}\\right)^{2} + \\left(o_{y eq} - y_{4}\\right)^{2} + \\left(o_{z eq} - z_{4}\\right)^{2}}} - \\frac{0.280645442718842 \\left(o_{y} - o_{y eq}\\right) \\left(o_{y eq} - y_{5}\\right)}{\\sqrt{\\left(o_{x eq} - x_{5}\\right)^{2} + \\left(o_{y eq} - y_{5}\\right)^{2} + \\left(o_{z eq} - z_{5}\\right)^{2}}} - \\frac{0.0837840794422355 \\left(o_{y} - o_{y eq}\\right) \\left(o_{y eq} - y_{6}\\right)}{\\sqrt{\\left(o_{x eq} - x_{6}\\right)^{2} + \\left(o_{y eq} - y_{6}\\right)^{2} + \\left(o_{z eq} - z_{6}\\right)^{2}}} + \\frac{0.39561834630097 \\left(o_{y} - o_{y eq}\\right) \\left(o_{y eq} - y_{7}\\right)}{\\sqrt{\\left(o_{x eq} - x_{7}\\right)^{2} + \\left(o_{y eq} - y_{7}\\right)^{2} + \\left(o_{z eq} - z_{7}\\right)^{2}}} + \\frac{0.196479899076098 \\left(o_{z} - o_{z eq}\\right) \\left(o_{z eq} - z_{0}\\right)}{\\sqrt{\\left(o_{x eq} - x_{0}\\right)^{2} + \\left(o_{y eq} - y_{0}\\right)^{2} + \\left(o_{z eq} - z_{0}\\right)^{2}}} + \\frac{0.0985626400158723 \\left(o_{z} - o_{z eq}\\right) \\left(o_{z eq} - z_{1}\\right)}{\\sqrt{\\left(o_{x eq} - x_{1}\\right)^{2} + \\left(o_{y eq} - y_{1}\\right)^{2} + \\left(o_{z eq} - z_{1}\\right)^{2}}} - \\frac{0.194663521002678 \\left(o_{z} - o_{z eq}\\right) \\left(o_{z eq} - z_{2}\\right)}{\\sqrt{\\left(o_{x eq} - x_{2}\\right)^{2} + \\left(o_{y eq} - y_{2}\\right)^{2} + \\left(o_{z eq} - z_{2}\\right)^{2}}} - \\frac{0.0361702630754423 \\left(o_{z} - o_{z eq}\\right) \\left(o_{z eq} - z_{3}\\right)}{\\sqrt{\\left(o_{x eq} - x_{3}\\right)^{2} + \\left(o_{y eq} - y_{3}\\right)^{2} + \\left(o_{z eq} - z_{3}\\right)^{2}}} + \\frac{0.111154854141702 \\left(o_{z} - o_{z eq}\\right) \\left(o_{z eq} - z_{4}\\right)}{\\sqrt{\\left(o_{x eq} - x_{4}\\right)^{2} + \\left(o_{y eq} - y_{4}\\right)^{2} + \\left(o_{z eq} - z_{4}\\right)^{2}}} - \\frac{0.280645442718842 \\left(o_{z} - o_{z eq}\\right) \\left(o_{z eq} - z_{5}\\right)}{\\sqrt{\\left(o_{x eq} - x_{5}\\right)^{2} + \\left(o_{y eq} - y_{5}\\right)^{2} + \\left(o_{z eq} - z_{5}\\right)^{2}}} - \\frac{0.0837840794422355 \\left(o_{z} - o_{z eq}\\right) \\left(o_{z eq} - z_{6}\\right)}{\\sqrt{\\left(o_{x eq} - x_{6}\\right)^{2} + \\left(o_{y eq} - y_{6}\\right)^{2} + \\left(o_{z eq} - z_{6}\\right)^{2}}} + \\frac{0.39561834630097 \\left(o_{z} - o_{z eq}\\right) \\left(o_{z eq} - z_{7}\\right)}{\\sqrt{\\left(o_{x eq} - x_{7}\\right)^{2} + \\left(o_{y eq} - y_{7}\\right)^{2} + \\left(o_{z eq} - z_{7}\\right)^{2}}} + 0.196479899076098 \\sqrt{\\left(o_{x eq} - x_{0}\\right)^{2} + \\left(o_{y eq} - y_{0}\\right)^{2} + \\left(o_{z eq} - z_{0}\\right)^{2}} + 0.0985626400158723 \\sqrt{\\left(o_{x eq} - x_{1}\\right)^{2} + \\left(o_{y eq} - y_{1}\\right)^{2} + \\left(o_{z eq} - z_{1}\\right)^{2}} - 0.194663521002678 \\sqrt{\\left(o_{x eq} - x_{2}\\right)^{2} + \\left(o_{y eq} - y_{2}\\right)^{2} + \\left(o_{z eq} - z_{2}\\right)^{2}} - 0.0361702630754423 \\sqrt{\\left(o_{x eq} - x_{3}\\right)^{2} + \\left(o_{y eq} - y_{3}\\right)^{2} + \\left(o_{z eq} - z_{3}\\right)^{2}} + 0.111154854141702 \\sqrt{\\left(o_{x eq} - x_{4}\\right)^{2} + \\left(o_{y eq} - y_{4}\\right)^{2} + \\left(o_{z eq} - z_{4}\\right)^{2}} - 0.280645442718842 \\sqrt{\\left(o_{x eq} - x_{5}\\right)^{2} + \\left(o_{y eq} - y_{5}\\right)^{2} + \\left(o_{z eq} - z_{5}\\right)^{2}} - 0.0837840794422355 \\sqrt{\\left(o_{x eq} - x_{6}\\right)^{2} + \\left(o_{y eq} - y_{6}\\right)^{2} + \\left(o_{z eq} - z_{6}\\right)^{2}} + 0.39561834630097 \\sqrt{\\left(o_{x eq} - x_{7}\\right)^{2} + \\left(o_{y eq} - y_{7}\\right)^{2} + \\left(o_{z eq} - z_{7}\\right)^{2}}\\\\- 0.222343647429708 d_{0} - 0.0864276427219888 d_{1} - 0.228875313860488 d_{2} + 0.0403926898816258 d_{3} + 0.103647461045156 d_{4} + 0.143265945724011 d_{5} - 0.0904416873504525 d_{6} + 0.183125525304195 d_{7} - 0.0119570739051243 k_{flow} w_{x} - 0.000269473931307429 k_{flow} w_{y} + \\frac{0.000269473931307429 k_{flow} v_{x}}{o_{z eq}} - \\frac{0.0119570739051243 k_{flow} v_{y}}{o_{z eq}} - 0.000269473931307429 n_{x} + 0.0119570739051243 n_{y} + 0.00102134292721344 o_{z} - 0.00102134292721344 r + w_{x} + \\frac{0.222343647429708 \\left(o_{x} - o_{x eq}\\right) \\left(o_{x eq} - x_{0}\\right)}{\\sqrt{\\left(o_{x eq} - x_{0}\\right)^{2} + \\left(o_{y eq} - y_{0}\\right)^{2} + \\left(o_{z eq} - z_{0}\\right)^{2}}} + \\frac{0.0864276427219888 \\left(o_{x} - o_{x eq}\\right) \\left(o_{x eq} - x_{1}\\right)}{\\sqrt{\\left(o_{x eq} - x_{1}\\right)^{2} + \\left(o_{y eq} - y_{1}\\right)^{2} + \\left(o_{z eq} - z_{1}\\right)^{2}}} + \\frac{0.228875313860488 \\left(o_{x} - o_{x eq}\\right) \\left(o_{x eq} - x_{2}\\right)}{\\sqrt{\\left(o_{x eq} - x_{2}\\right)^{2} + \\left(o_{y eq} - y_{2}\\right)^{2} + \\left(o_{z eq} - z_{2}\\right)^{2}}} - \\frac{0.0403926898816258 \\left(o_{x} - o_{x eq}\\right) \\left(o_{x eq} - x_{3}\\right)}{\\sqrt{\\left(o_{x eq} - x_{3}\\right)^{2} + \\left(o_{y eq} - y_{3}\\right)^{2} + \\left(o_{z eq} - z_{3}\\right)^{2}}} - \\frac{0.103647461045156 \\left(o_{x} - o_{x eq}\\right) \\left(o_{x eq} - x_{4}\\right)}{\\sqrt{\\left(o_{x eq} - x_{4}\\right)^{2} + \\left(o_{y eq} - y_{4}\\right)^{2} + \\left(o_{z eq} - z_{4}\\right)^{2}}} - \\frac{0.143265945724011 \\left(o_{x} - o_{x eq}\\right) \\left(o_{x eq} - x_{5}\\right)}{\\sqrt{\\left(o_{x eq} - x_{5}\\right)^{2} + \\left(o_{y eq} - y_{5}\\right)^{2} + \\left(o_{z eq} - z_{5}\\right)^{2}}} + \\frac{0.0904416873504525 \\left(o_{x} - o_{x eq}\\right) \\left(o_{x eq} - x_{6}\\right)}{\\sqrt{\\left(o_{x eq} - x_{6}\\right)^{2} + \\left(o_{y eq} - y_{6}\\right)^{2} + \\left(o_{z eq} - z_{6}\\right)^{2}}} - \\frac{0.183125525304195 \\left(o_{x} - o_{x eq}\\right) \\left(o_{x eq} - x_{7}\\right)}{\\sqrt{\\left(o_{x eq} - x_{7}\\right)^{2} + \\left(o_{y eq} - y_{7}\\right)^{2} + \\left(o_{z eq} - z_{7}\\right)^{2}}} + \\frac{0.222343647429708 \\left(o_{y} - o_{y eq}\\right) \\left(o_{y eq} - y_{0}\\right)}{\\sqrt{\\left(o_{x eq} - x_{0}\\right)^{2} + \\left(o_{y eq} - y_{0}\\right)^{2} + \\left(o_{z eq} - z_{0}\\right)^{2}}} + \\frac{0.0864276427219888 \\left(o_{y} - o_{y eq}\\right) \\left(o_{y eq} - y_{1}\\right)}{\\sqrt{\\left(o_{x eq} - x_{1}\\right)^{2} + \\left(o_{y eq} - y_{1}\\right)^{2} + \\left(o_{z eq} - z_{1}\\right)^{2}}} + \\frac{0.228875313860488 \\left(o_{y} - o_{y eq}\\right) \\left(o_{y eq} - y_{2}\\right)}{\\sqrt{\\left(o_{x eq} - x_{2}\\right)^{2} + \\left(o_{y eq} - y_{2}\\right)^{2} + \\left(o_{z eq} - z_{2}\\right)^{2}}} - \\frac{0.0403926898816258 \\left(o_{y} - o_{y eq}\\right) \\left(o_{y eq} - y_{3}\\right)}{\\sqrt{\\left(o_{x eq} - x_{3}\\right)^{2} + \\left(o_{y eq} - y_{3}\\right)^{2} + \\left(o_{z eq} - z_{3}\\right)^{2}}} - \\frac{0.103647461045156 \\left(o_{y} - o_{y eq}\\right) \\left(o_{y eq} - y_{4}\\right)}{\\sqrt{\\left(o_{x eq} - x_{4}\\right)^{2} + \\left(o_{y eq} - y_{4}\\right)^{2} + \\left(o_{z eq} - z_{4}\\right)^{2}}} - \\frac{0.143265945724011 \\left(o_{y} - o_{y eq}\\right) \\left(o_{y eq} - y_{5}\\right)}{\\sqrt{\\left(o_{x eq} - x_{5}\\right)^{2} + \\left(o_{y eq} - y_{5}\\right)^{2} + \\left(o_{z eq} - z_{5}\\right)^{2}}} + \\frac{0.0904416873504525 \\left(o_{y} - o_{y eq}\\right) \\left(o_{y eq} - y_{6}\\right)}{\\sqrt{\\left(o_{x eq} - x_{6}\\right)^{2} + \\left(o_{y eq} - y_{6}\\right)^{2} + \\left(o_{z eq} - z_{6}\\right)^{2}}} - \\frac{0.183125525304195 \\left(o_{y} - o_{y eq}\\right) \\left(o_{y eq} - y_{7}\\right)}{\\sqrt{\\left(o_{x eq} - x_{7}\\right)^{2} + \\left(o_{y eq} - y_{7}\\right)^{2} + \\left(o_{z eq} - z_{7}\\right)^{2}}} + \\frac{0.222343647429708 \\left(o_{z} - o_{z eq}\\right) \\left(o_{z eq} - z_{0}\\right)}{\\sqrt{\\left(o_{x eq} - x_{0}\\right)^{2} + \\left(o_{y eq} - y_{0}\\right)^{2} + \\left(o_{z eq} - z_{0}\\right)^{2}}} + \\frac{0.0864276427219888 \\left(o_{z} - o_{z eq}\\right) \\left(o_{z eq} - z_{1}\\right)}{\\sqrt{\\left(o_{x eq} - x_{1}\\right)^{2} + \\left(o_{y eq} - y_{1}\\right)^{2} + \\left(o_{z eq} - z_{1}\\right)^{2}}} + \\frac{0.228875313860488 \\left(o_{z} - o_{z eq}\\right) \\left(o_{z eq} - z_{2}\\right)}{\\sqrt{\\left(o_{x eq} - x_{2}\\right)^{2} + \\left(o_{y eq} - y_{2}\\right)^{2} + \\left(o_{z eq} - z_{2}\\right)^{2}}} - \\frac{0.0403926898816258 \\left(o_{z} - o_{z eq}\\right) \\left(o_{z eq} - z_{3}\\right)}{\\sqrt{\\left(o_{x eq} - x_{3}\\right)^{2} + \\left(o_{y eq} - y_{3}\\right)^{2} + \\left(o_{z eq} - z_{3}\\right)^{2}}} - \\frac{0.103647461045156 \\left(o_{z} - o_{z eq}\\right) \\left(o_{z eq} - z_{4}\\right)}{\\sqrt{\\left(o_{x eq} - x_{4}\\right)^{2} + \\left(o_{y eq} - y_{4}\\right)^{2} + \\left(o_{z eq} - z_{4}\\right)^{2}}} - \\frac{0.143265945724011 \\left(o_{z} - o_{z eq}\\right) \\left(o_{z eq} - z_{5}\\right)}{\\sqrt{\\left(o_{x eq} - x_{5}\\right)^{2} + \\left(o_{y eq} - y_{5}\\right)^{2} + \\left(o_{z eq} - z_{5}\\right)^{2}}} + \\frac{0.0904416873504525 \\left(o_{z} - o_{z eq}\\right) \\left(o_{z eq} - z_{6}\\right)}{\\sqrt{\\left(o_{x eq} - x_{6}\\right)^{2} + \\left(o_{y eq} - y_{6}\\right)^{2} + \\left(o_{z eq} - z_{6}\\right)^{2}}} - \\frac{0.183125525304195 \\left(o_{z} - o_{z eq}\\right) \\left(o_{z eq} - z_{7}\\right)}{\\sqrt{\\left(o_{x eq} - x_{7}\\right)^{2} + \\left(o_{y eq} - y_{7}\\right)^{2} + \\left(o_{z eq} - z_{7}\\right)^{2}}} + 0.222343647429708 \\sqrt{\\left(o_{x eq} - x_{0}\\right)^{2} + \\left(o_{y eq} - y_{0}\\right)^{2} + \\left(o_{z eq} - z_{0}\\right)^{2}} + 0.0864276427219888 \\sqrt{\\left(o_{x eq} - x_{1}\\right)^{2} + \\left(o_{y eq} - y_{1}\\right)^{2} + \\left(o_{z eq} - z_{1}\\right)^{2}} + 0.228875313860488 \\sqrt{\\left(o_{x eq} - x_{2}\\right)^{2} + \\left(o_{y eq} - y_{2}\\right)^{2} + \\left(o_{z eq} - z_{2}\\right)^{2}} - 0.0403926898816258 \\sqrt{\\left(o_{x eq} - x_{3}\\right)^{2} + \\left(o_{y eq} - y_{3}\\right)^{2} + \\left(o_{z eq} - z_{3}\\right)^{2}} - 0.103647461045156 \\sqrt{\\left(o_{x eq} - x_{4}\\right)^{2} + \\left(o_{y eq} - y_{4}\\right)^{2} + \\left(o_{z eq} - z_{4}\\right)^{2}} - 0.143265945724011 \\sqrt{\\left(o_{x eq} - x_{5}\\right)^{2} + \\left(o_{y eq} - y_{5}\\right)^{2} + \\left(o_{z eq} - z_{5}\\right)^{2}} + 0.0904416873504525 \\sqrt{\\left(o_{x eq} - x_{6}\\right)^{2} + \\left(o_{y eq} - y_{6}\\right)^{2} + \\left(o_{z eq} - z_{6}\\right)^{2}} - 0.183125525304195 \\sqrt{\\left(o_{x eq} - x_{7}\\right)^{2} + \\left(o_{y eq} - y_{7}\\right)^{2} + \\left(o_{z eq} - z_{7}\\right)^{2}}\\\\2.11423067055164 d_{0} + 1.04869146159933 d_{1} - 2.05301472113413 d_{2} - 0.401997716600069 d_{3} + 1.13729568738701 d_{4} - 3.05428792393369 d_{5} - 0.895894538280115 d_{6} + 4.11951818010848 d_{7} + g \\theta + 0.00328725278584337 k_{flow} w_{x} + 0.125052613322857 k_{flow} w_{y} - \\frac{0.125052613322857 k_{flow} v_{x}}{o_{z eq}} + \\frac{0.00328725278584337 k_{flow} v_{y}}{o_{z eq}} + 0.125052613322857 n_{x} - 0.00328725278584337 n_{y} - 0.0389758213737117 o_{z} + 0.0389758213737117 r - \\frac{2.11423067055164 \\left(o_{x} - o_{x eq}\\right) \\left(o_{x eq} - x_{0}\\right)}{\\sqrt{\\left(o_{x eq} - x_{0}\\right)^{2} + \\left(o_{y eq} - y_{0}\\right)^{2} + \\left(o_{z eq} - z_{0}\\right)^{2}}} - \\frac{1.04869146159933 \\left(o_{x} - o_{x eq}\\right) \\left(o_{x eq} - x_{1}\\right)}{\\sqrt{\\left(o_{x eq} - x_{1}\\right)^{2} + \\left(o_{y eq} - y_{1}\\right)^{2} + \\left(o_{z eq} - z_{1}\\right)^{2}}} + \\frac{2.05301472113413 \\left(o_{x} - o_{x eq}\\right) \\left(o_{x eq} - x_{2}\\right)}{\\sqrt{\\left(o_{x eq} - x_{2}\\right)^{2} + \\left(o_{y eq} - y_{2}\\right)^{2} + \\left(o_{z eq} - z_{2}\\right)^{2}}} + \\frac{0.401997716600069 \\left(o_{x} - o_{x eq}\\right) \\left(o_{x eq} - x_{3}\\right)}{\\sqrt{\\left(o_{x eq} - x_{3}\\right)^{2} + \\left(o_{y eq} - y_{3}\\right)^{2} + \\left(o_{z eq} - z_{3}\\right)^{2}}} - \\frac{1.13729568738701 \\left(o_{x} - o_{x eq}\\right) \\left(o_{x eq} - x_{4}\\right)}{\\sqrt{\\left(o_{x eq} - x_{4}\\right)^{2} + \\left(o_{y eq} - y_{4}\\right)^{2} + \\left(o_{z eq} - z_{4}\\right)^{2}}} + \\frac{3.05428792393369 \\left(o_{x} - o_{x eq}\\right) \\left(o_{x eq} - x_{5}\\right)}{\\sqrt{\\left(o_{x eq} - x_{5}\\right)^{2} + \\left(o_{y eq} - y_{5}\\right)^{2} + \\left(o_{z eq} - z_{5}\\right)^{2}}} + \\frac{0.895894538280115 \\left(o_{x} - o_{x eq}\\right) \\left(o_{x eq} - x_{6}\\right)}{\\sqrt{\\left(o_{x eq} - x_{6}\\right)^{2} + \\left(o_{y eq} - y_{6}\\right)^{2} + \\left(o_{z eq} - z_{6}\\right)^{2}}} - \\frac{4.11951818010848 \\left(o_{x} - o_{x eq}\\right) \\left(o_{x eq} - x_{7}\\right)}{\\sqrt{\\left(o_{x eq} - x_{7}\\right)^{2} + \\left(o_{y eq} - y_{7}\\right)^{2} + \\left(o_{z eq} - z_{7}\\right)^{2}}} - \\frac{2.11423067055164 \\left(o_{y} - o_{y eq}\\right) \\left(o_{y eq} - y_{0}\\right)}{\\sqrt{\\left(o_{x eq} - x_{0}\\right)^{2} + \\left(o_{y eq} - y_{0}\\right)^{2} + \\left(o_{z eq} - z_{0}\\right)^{2}}} - \\frac{1.04869146159933 \\left(o_{y} - o_{y eq}\\right) \\left(o_{y eq} - y_{1}\\right)}{\\sqrt{\\left(o_{x eq} - x_{1}\\right)^{2} + \\left(o_{y eq} - y_{1}\\right)^{2} + \\left(o_{z eq} - z_{1}\\right)^{2}}} + \\frac{2.05301472113413 \\left(o_{y} - o_{y eq}\\right) \\left(o_{y eq} - y_{2}\\right)}{\\sqrt{\\left(o_{x eq} - x_{2}\\right)^{2} + \\left(o_{y eq} - y_{2}\\right)^{2} + \\left(o_{z eq} - z_{2}\\right)^{2}}} + \\frac{0.401997716600069 \\left(o_{y} - o_{y eq}\\right) \\left(o_{y eq} - y_{3}\\right)}{\\sqrt{\\left(o_{x eq} - x_{3}\\right)^{2} + \\left(o_{y eq} - y_{3}\\right)^{2} + \\left(o_{z eq} - z_{3}\\right)^{2}}} - \\frac{1.13729568738701 \\left(o_{y} - o_{y eq}\\right) \\left(o_{y eq} - y_{4}\\right)}{\\sqrt{\\left(o_{x eq} - x_{4}\\right)^{2} + \\left(o_{y eq} - y_{4}\\right)^{2} + \\left(o_{z eq} - z_{4}\\right)^{2}}} + \\frac{3.05428792393369 \\left(o_{y} - o_{y eq}\\right) \\left(o_{y eq} - y_{5}\\right)}{\\sqrt{\\left(o_{x eq} - x_{5}\\right)^{2} + \\left(o_{y eq} - y_{5}\\right)^{2} + \\left(o_{z eq} - z_{5}\\right)^{2}}} + \\frac{0.895894538280115 \\left(o_{y} - o_{y eq}\\right) \\left(o_{y eq} - y_{6}\\right)}{\\sqrt{\\left(o_{x eq} - x_{6}\\right)^{2} + \\left(o_{y eq} - y_{6}\\right)^{2} + \\left(o_{z eq} - z_{6}\\right)^{2}}} - \\frac{4.11951818010848 \\left(o_{y} - o_{y eq}\\right) \\left(o_{y eq} - y_{7}\\right)}{\\sqrt{\\left(o_{x eq} - x_{7}\\right)^{2} + \\left(o_{y eq} - y_{7}\\right)^{2} + \\left(o_{z eq} - z_{7}\\right)^{2}}} - \\frac{2.11423067055164 \\left(o_{z} - o_{z eq}\\right) \\left(o_{z eq} - z_{0}\\right)}{\\sqrt{\\left(o_{x eq} - x_{0}\\right)^{2} + \\left(o_{y eq} - y_{0}\\right)^{2} + \\left(o_{z eq} - z_{0}\\right)^{2}}} - \\frac{1.04869146159933 \\left(o_{z} - o_{z eq}\\right) \\left(o_{z eq} - z_{1}\\right)}{\\sqrt{\\left(o_{x eq} - x_{1}\\right)^{2} + \\left(o_{y eq} - y_{1}\\right)^{2} + \\left(o_{z eq} - z_{1}\\right)^{2}}} + \\frac{2.05301472113413 \\left(o_{z} - o_{z eq}\\right) \\left(o_{z eq} - z_{2}\\right)}{\\sqrt{\\left(o_{x eq} - x_{2}\\right)^{2} + \\left(o_{y eq} - y_{2}\\right)^{2} + \\left(o_{z eq} - z_{2}\\right)^{2}}} + \\frac{0.401997716600069 \\left(o_{z} - o_{z eq}\\right) \\left(o_{z eq} - z_{3}\\right)}{\\sqrt{\\left(o_{x eq} - x_{3}\\right)^{2} + \\left(o_{y eq} - y_{3}\\right)^{2} + \\left(o_{z eq} - z_{3}\\right)^{2}}} - \\frac{1.13729568738701 \\left(o_{z} - o_{z eq}\\right) \\left(o_{z eq} - z_{4}\\right)}{\\sqrt{\\left(o_{x eq} - x_{4}\\right)^{2} + \\left(o_{y eq} - y_{4}\\right)^{2} + \\left(o_{z eq} - z_{4}\\right)^{2}}} + \\frac{3.05428792393369 \\left(o_{z} - o_{z eq}\\right) \\left(o_{z eq} - z_{5}\\right)}{\\sqrt{\\left(o_{x eq} - x_{5}\\right)^{2} + \\left(o_{y eq} - y_{5}\\right)^{2} + \\left(o_{z eq} - z_{5}\\right)^{2}}} + \\frac{0.895894538280115 \\left(o_{z} - o_{z eq}\\right) \\left(o_{z eq} - z_{6}\\right)}{\\sqrt{\\left(o_{x eq} - x_{6}\\right)^{2} + \\left(o_{y eq} - y_{6}\\right)^{2} + \\left(o_{z eq} - z_{6}\\right)^{2}}} - \\frac{4.11951818010848 \\left(o_{z} - o_{z eq}\\right) \\left(o_{z eq} - z_{7}\\right)}{\\sqrt{\\left(o_{x eq} - x_{7}\\right)^{2} + \\left(o_{y eq} - y_{7}\\right)^{2} + \\left(o_{z eq} - z_{7}\\right)^{2}}} - 2.11423067055164 \\sqrt{\\left(o_{x eq} - x_{0}\\right)^{2} + \\left(o_{y eq} - y_{0}\\right)^{2} + \\left(o_{z eq} - z_{0}\\right)^{2}} - 1.04869146159933 \\sqrt{\\left(o_{x eq} - x_{1}\\right)^{2} + \\left(o_{y eq} - y_{1}\\right)^{2} + \\left(o_{z eq} - z_{1}\\right)^{2}} + 2.05301472113413 \\sqrt{\\left(o_{x eq} - x_{2}\\right)^{2} + \\left(o_{y eq} - y_{2}\\right)^{2} + \\left(o_{z eq} - z_{2}\\right)^{2}} + 0.401997716600069 \\sqrt{\\left(o_{x eq} - x_{3}\\right)^{2} + \\left(o_{y eq} - y_{3}\\right)^{2} + \\left(o_{z eq} - z_{3}\\right)^{2}} - 1.13729568738701 \\sqrt{\\left(o_{x eq} - x_{4}\\right)^{2} + \\left(o_{y eq} - y_{4}\\right)^{2} + \\left(o_{z eq} - z_{4}\\right)^{2}} + 3.05428792393369 \\sqrt{\\left(o_{x eq} - x_{5}\\right)^{2} + \\left(o_{y eq} - y_{5}\\right)^{2} + \\left(o_{z eq} - z_{5}\\right)^{2}} + 0.895894538280115 \\sqrt{\\left(o_{x eq} - x_{6}\\right)^{2} + \\left(o_{y eq} - y_{6}\\right)^{2} + \\left(o_{z eq} - z_{6}\\right)^{2}} - 4.11951818010848 \\sqrt{\\left(o_{x eq} - x_{7}\\right)^{2} + \\left(o_{y eq} - y_{7}\\right)^{2} + \\left(o_{z eq} - z_{7}\\right)^{2}}\\\\- 2.75863977433452 d_{0} - 1.07168100610343 d_{1} - 2.78128700533508 d_{2} + 0.506458426054447 d_{3} + 1.27142574731835 d_{4} + 1.82078755172935 d_{5} - 1.09334023624671 d_{6} + 2.22226220214884 d_{7} - g \\phi - 0.125066972338275 k_{flow} w_{x} - 0.00345208078526926 k_{flow} w_{y} + \\frac{0.00345208078526926 k_{flow} v_{x}}{o_{z eq}} - \\frac{0.125066972338275 k_{flow} v_{y}}{o_{z eq}} - 0.00345208078526926 n_{x} + 0.125066972338275 n_{y} + 0.0183343738731685 o_{z} - 0.0183343738731685 r + \\frac{2.75863977433452 \\left(o_{x} - o_{x eq}\\right) \\left(o_{x eq} - x_{0}\\right)}{\\sqrt{\\left(o_{x eq} - x_{0}\\right)^{2} + \\left(o_{y eq} - y_{0}\\right)^{2} + \\left(o_{z eq} - z_{0}\\right)^{2}}} + \\frac{1.07168100610343 \\left(o_{x} - o_{x eq}\\right) \\left(o_{x eq} - x_{1}\\right)}{\\sqrt{\\left(o_{x eq} - x_{1}\\right)^{2} + \\left(o_{y eq} - y_{1}\\right)^{2} + \\left(o_{z eq} - z_{1}\\right)^{2}}} + \\frac{2.78128700533508 \\left(o_{x} - o_{x eq}\\right) \\left(o_{x eq} - x_{2}\\right)}{\\sqrt{\\left(o_{x eq} - x_{2}\\right)^{2} + \\left(o_{y eq} - y_{2}\\right)^{2} + \\left(o_{z eq} - z_{2}\\right)^{2}}} - \\frac{0.506458426054447 \\left(o_{x} - o_{x eq}\\right) \\left(o_{x eq} - x_{3}\\right)}{\\sqrt{\\left(o_{x eq} - x_{3}\\right)^{2} + \\left(o_{y eq} - y_{3}\\right)^{2} + \\left(o_{z eq} - z_{3}\\right)^{2}}} - \\frac{1.27142574731835 \\left(o_{x} - o_{x eq}\\right) \\left(o_{x eq} - x_{4}\\right)}{\\sqrt{\\left(o_{x eq} - x_{4}\\right)^{2} + \\left(o_{y eq} - y_{4}\\right)^{2} + \\left(o_{z eq} - z_{4}\\right)^{2}}} - \\frac{1.82078755172935 \\left(o_{x} - o_{x eq}\\right) \\left(o_{x eq} - x_{5}\\right)}{\\sqrt{\\left(o_{x eq} - x_{5}\\right)^{2} + \\left(o_{y eq} - y_{5}\\right)^{2} + \\left(o_{z eq} - z_{5}\\right)^{2}}} + \\frac{1.09334023624671 \\left(o_{x} - o_{x eq}\\right) \\left(o_{x eq} - x_{6}\\right)}{\\sqrt{\\left(o_{x eq} - x_{6}\\right)^{2} + \\left(o_{y eq} - y_{6}\\right)^{2} + \\left(o_{z eq} - z_{6}\\right)^{2}}} - \\frac{2.22226220214884 \\left(o_{x} - o_{x eq}\\right) \\left(o_{x eq} - x_{7}\\right)}{\\sqrt{\\left(o_{x eq} - x_{7}\\right)^{2} + \\left(o_{y eq} - y_{7}\\right)^{2} + \\left(o_{z eq} - z_{7}\\right)^{2}}} + \\frac{2.75863977433452 \\left(o_{y} - o_{y eq}\\right) \\left(o_{y eq} - y_{0}\\right)}{\\sqrt{\\left(o_{x eq} - x_{0}\\right)^{2} + \\left(o_{y eq} - y_{0}\\right)^{2} + \\left(o_{z eq} - z_{0}\\right)^{2}}} + \\frac{1.07168100610343 \\left(o_{y} - o_{y eq}\\right) \\left(o_{y eq} - y_{1}\\right)}{\\sqrt{\\left(o_{x eq} - x_{1}\\right)^{2} + \\left(o_{y eq} - y_{1}\\right)^{2} + \\left(o_{z eq} - z_{1}\\right)^{2}}} + \\frac{2.78128700533508 \\left(o_{y} - o_{y eq}\\right) \\left(o_{y eq} - y_{2}\\right)}{\\sqrt{\\left(o_{x eq} - x_{2}\\right)^{2} + \\left(o_{y eq} - y_{2}\\right)^{2} + \\left(o_{z eq} - z_{2}\\right)^{2}}} - \\frac{0.506458426054447 \\left(o_{y} - o_{y eq}\\right) \\left(o_{y eq} - y_{3}\\right)}{\\sqrt{\\left(o_{x eq} - x_{3}\\right)^{2} + \\left(o_{y eq} - y_{3}\\right)^{2} + \\left(o_{z eq} - z_{3}\\right)^{2}}} - \\frac{1.27142574731835 \\left(o_{y} - o_{y eq}\\right) \\left(o_{y eq} - y_{4}\\right)}{\\sqrt{\\left(o_{x eq} - x_{4}\\right)^{2} + \\left(o_{y eq} - y_{4}\\right)^{2} + \\left(o_{z eq} - z_{4}\\right)^{2}}} - \\frac{1.82078755172935 \\left(o_{y} - o_{y eq}\\right) \\left(o_{y eq} - y_{5}\\right)}{\\sqrt{\\left(o_{x eq} - x_{5}\\right)^{2} + \\left(o_{y eq} - y_{5}\\right)^{2} + \\left(o_{z eq} - z_{5}\\right)^{2}}} + \\frac{1.09334023624671 \\left(o_{y} - o_{y eq}\\right) \\left(o_{y eq} - y_{6}\\right)}{\\sqrt{\\left(o_{x eq} - x_{6}\\right)^{2} + \\left(o_{y eq} - y_{6}\\right)^{2} + \\left(o_{z eq} - z_{6}\\right)^{2}}} - \\frac{2.22226220214884 \\left(o_{y} - o_{y eq}\\right) \\left(o_{y eq} - y_{7}\\right)}{\\sqrt{\\left(o_{x eq} - x_{7}\\right)^{2} + \\left(o_{y eq} - y_{7}\\right)^{2} + \\left(o_{z eq} - z_{7}\\right)^{2}}} + \\frac{2.75863977433452 \\left(o_{z} - o_{z eq}\\right) \\left(o_{z eq} - z_{0}\\right)}{\\sqrt{\\left(o_{x eq} - x_{0}\\right)^{2} + \\left(o_{y eq} - y_{0}\\right)^{2} + \\left(o_{z eq} - z_{0}\\right)^{2}}} + \\frac{1.07168100610343 \\left(o_{z} - o_{z eq}\\right) \\left(o_{z eq} - z_{1}\\right)}{\\sqrt{\\left(o_{x eq} - x_{1}\\right)^{2} + \\left(o_{y eq} - y_{1}\\right)^{2} + \\left(o_{z eq} - z_{1}\\right)^{2}}} + \\frac{2.78128700533508 \\left(o_{z} - o_{z eq}\\right) \\left(o_{z eq} - z_{2}\\right)}{\\sqrt{\\left(o_{x eq} - x_{2}\\right)^{2} + \\left(o_{y eq} - y_{2}\\right)^{2} + \\left(o_{z eq} - z_{2}\\right)^{2}}} - \\frac{0.506458426054447 \\left(o_{z} - o_{z eq}\\right) \\left(o_{z eq} - z_{3}\\right)}{\\sqrt{\\left(o_{x eq} - x_{3}\\right)^{2} + \\left(o_{y eq} - y_{3}\\right)^{2} + \\left(o_{z eq} - z_{3}\\right)^{2}}} - \\frac{1.27142574731835 \\left(o_{z} - o_{z eq}\\right) \\left(o_{z eq} - z_{4}\\right)}{\\sqrt{\\left(o_{x eq} - x_{4}\\right)^{2} + \\left(o_{y eq} - y_{4}\\right)^{2} + \\left(o_{z eq} - z_{4}\\right)^{2}}} - \\frac{1.82078755172935 \\left(o_{z} - o_{z eq}\\right) \\left(o_{z eq} - z_{5}\\right)}{\\sqrt{\\left(o_{x eq} - x_{5}\\right)^{2} + \\left(o_{y eq} - y_{5}\\right)^{2} + \\left(o_{z eq} - z_{5}\\right)^{2}}} + \\frac{1.09334023624671 \\left(o_{z} - o_{z eq}\\right) \\left(o_{z eq} - z_{6}\\right)}{\\sqrt{\\left(o_{x eq} - x_{6}\\right)^{2} + \\left(o_{y eq} - y_{6}\\right)^{2} + \\left(o_{z eq} - z_{6}\\right)^{2}}} - \\frac{2.22226220214884 \\left(o_{z} - o_{z eq}\\right) \\left(o_{z eq} - z_{7}\\right)}{\\sqrt{\\left(o_{x eq} - x_{7}\\right)^{2} + \\left(o_{y eq} - y_{7}\\right)^{2} + \\left(o_{z eq} - z_{7}\\right)^{2}}} + 2.75863977433452 \\sqrt{\\left(o_{x eq} - x_{0}\\right)^{2} + \\left(o_{y eq} - y_{0}\\right)^{2} + \\left(o_{z eq} - z_{0}\\right)^{2}} + 1.07168100610343 \\sqrt{\\left(o_{x eq} - x_{1}\\right)^{2} + \\left(o_{y eq} - y_{1}\\right)^{2} + \\left(o_{z eq} - z_{1}\\right)^{2}} + 2.78128700533508 \\sqrt{\\left(o_{x eq} - x_{2}\\right)^{2} + \\left(o_{y eq} - y_{2}\\right)^{2} + \\left(o_{z eq} - z_{2}\\right)^{2}} - 0.506458426054447 \\sqrt{\\left(o_{x eq} - x_{3}\\right)^{2} + \\left(o_{y eq} - y_{3}\\right)^{2} + \\left(o_{z eq} - z_{3}\\right)^{2}} - 1.27142574731835 \\sqrt{\\left(o_{x eq} - x_{4}\\right)^{2} + \\left(o_{y eq} - y_{4}\\right)^{2} + \\left(o_{z eq} - z_{4}\\right)^{2}} - 1.82078755172935 \\sqrt{\\left(o_{x eq} - x_{5}\\right)^{2} + \\left(o_{y eq} - y_{5}\\right)^{2} + \\left(o_{z eq} - z_{5}\\right)^{2}} + 1.09334023624671 \\sqrt{\\left(o_{x eq} - x_{6}\\right)^{2} + \\left(o_{y eq} - y_{6}\\right)^{2} + \\left(o_{z eq} - z_{6}\\right)^{2}} - 2.22226220214884 \\sqrt{\\left(o_{x eq} - x_{7}\\right)^{2} + \\left(o_{y eq} - y_{7}\\right)^{2} + \\left(o_{z eq} - z_{7}\\right)^{2}}\\\\a_{z} - 1.49180564220905 d_{0} - 1.26730376543032 d_{1} - 2.25945122029615 d_{2} - 0.706484076467834 d_{3} - 1.78846439007433 d_{4} - 3.16676163008767 d_{5} - 1.78178164345588 d_{6} - 3.76752897355177 d_{7} - g + 0.0020354212081781 k_{flow} w_{x} + 0.004860102535236 k_{flow} w_{y} - \\frac{0.004860102535236 k_{flow} v_{x}}{o_{z eq}} + \\frac{0.0020354212081781 k_{flow} v_{y}}{o_{z eq}} + 0.004860102535236 n_{x} - 0.0020354212081781 n_{y} - 1.01179849124881 o_{z} + 1.01179849124881 r + \\frac{1.49180564220905 \\left(o_{x} - o_{x eq}\\right) \\left(o_{x eq} - x_{0}\\right)}{\\sqrt{\\left(o_{x eq} - x_{0}\\right)^{2} + \\left(o_{y eq} - y_{0}\\right)^{2} + \\left(o_{z eq} - z_{0}\\right)^{2}}} + \\frac{1.26730376543032 \\left(o_{x} - o_{x eq}\\right) \\left(o_{x eq} - x_{1}\\right)}{\\sqrt{\\left(o_{x eq} - x_{1}\\right)^{2} + \\left(o_{y eq} - y_{1}\\right)^{2} + \\left(o_{z eq} - z_{1}\\right)^{2}}} + \\frac{2.25945122029615 \\left(o_{x} - o_{x eq}\\right) \\left(o_{x eq} - x_{2}\\right)}{\\sqrt{\\left(o_{x eq} - x_{2}\\right)^{2} + \\left(o_{y eq} - y_{2}\\right)^{2} + \\left(o_{z eq} - z_{2}\\right)^{2}}} + \\frac{0.706484076467834 \\left(o_{x} - o_{x eq}\\right) \\left(o_{x eq} - x_{3}\\right)}{\\sqrt{\\left(o_{x eq} - x_{3}\\right)^{2} + \\left(o_{y eq} - y_{3}\\right)^{2} + \\left(o_{z eq} - z_{3}\\right)^{2}}} + \\frac{1.78846439007433 \\left(o_{x} - o_{x eq}\\right) \\left(o_{x eq} - x_{4}\\right)}{\\sqrt{\\left(o_{x eq} - x_{4}\\right)^{2} + \\left(o_{y eq} - y_{4}\\right)^{2} + \\left(o_{z eq} - z_{4}\\right)^{2}}} + \\frac{3.16676163008767 \\left(o_{x} - o_{x eq}\\right) \\left(o_{x eq} - x_{5}\\right)}{\\sqrt{\\left(o_{x eq} - x_{5}\\right)^{2} + \\left(o_{y eq} - y_{5}\\right)^{2} + \\left(o_{z eq} - z_{5}\\right)^{2}}} + \\frac{1.78178164345588 \\left(o_{x} - o_{x eq}\\right) \\left(o_{x eq} - x_{6}\\right)}{\\sqrt{\\left(o_{x eq} - x_{6}\\right)^{2} + \\left(o_{y eq} - y_{6}\\right)^{2} + \\left(o_{z eq} - z_{6}\\right)^{2}}} + \\frac{3.76752897355177 \\left(o_{x} - o_{x eq}\\right) \\left(o_{x eq} - x_{7}\\right)}{\\sqrt{\\left(o_{x eq} - x_{7}\\right)^{2} + \\left(o_{y eq} - y_{7}\\right)^{2} + \\left(o_{z eq} - z_{7}\\right)^{2}}} + \\frac{1.49180564220905 \\left(o_{y} - o_{y eq}\\right) \\left(o_{y eq} - y_{0}\\right)}{\\sqrt{\\left(o_{x eq} - x_{0}\\right)^{2} + \\left(o_{y eq} - y_{0}\\right)^{2} + \\left(o_{z eq} - z_{0}\\right)^{2}}} + \\frac{1.26730376543032 \\left(o_{y} - o_{y eq}\\right) \\left(o_{y eq} - y_{1}\\right)}{\\sqrt{\\left(o_{x eq} - x_{1}\\right)^{2} + \\left(o_{y eq} - y_{1}\\right)^{2} + \\left(o_{z eq} - z_{1}\\right)^{2}}} + \\frac{2.25945122029615 \\left(o_{y} - o_{y eq}\\right) \\left(o_{y eq} - y_{2}\\right)}{\\sqrt{\\left(o_{x eq} - x_{2}\\right)^{2} + \\left(o_{y eq} - y_{2}\\right)^{2} + \\left(o_{z eq} - z_{2}\\right)^{2}}} + \\frac{0.706484076467834 \\left(o_{y} - o_{y eq}\\right) \\left(o_{y eq} - y_{3}\\right)}{\\sqrt{\\left(o_{x eq} - x_{3}\\right)^{2} + \\left(o_{y eq} - y_{3}\\right)^{2} + \\left(o_{z eq} - z_{3}\\right)^{2}}} + \\frac{1.78846439007433 \\left(o_{y} - o_{y eq}\\right) \\left(o_{y eq} - y_{4}\\right)}{\\sqrt{\\left(o_{x eq} - x_{4}\\right)^{2} + \\left(o_{y eq} - y_{4}\\right)^{2} + \\left(o_{z eq} - z_{4}\\right)^{2}}} + \\frac{3.16676163008767 \\left(o_{y} - o_{y eq}\\right) \\left(o_{y eq} - y_{5}\\right)}{\\sqrt{\\left(o_{x eq} - x_{5}\\right)^{2} + \\left(o_{y eq} - y_{5}\\right)^{2} + \\left(o_{z eq} - z_{5}\\right)^{2}}} + \\frac{1.78178164345588 \\left(o_{y} - o_{y eq}\\right) \\left(o_{y eq} - y_{6}\\right)}{\\sqrt{\\left(o_{x eq} - x_{6}\\right)^{2} + \\left(o_{y eq} - y_{6}\\right)^{2} + \\left(o_{z eq} - z_{6}\\right)^{2}}} + \\frac{3.76752897355177 \\left(o_{y} - o_{y eq}\\right) \\left(o_{y eq} - y_{7}\\right)}{\\sqrt{\\left(o_{x eq} - x_{7}\\right)^{2} + \\left(o_{y eq} - y_{7}\\right)^{2} + \\left(o_{z eq} - z_{7}\\right)^{2}}} + \\frac{1.49180564220905 \\left(o_{z} - o_{z eq}\\right) \\left(o_{z eq} - z_{0}\\right)}{\\sqrt{\\left(o_{x eq} - x_{0}\\right)^{2} + \\left(o_{y eq} - y_{0}\\right)^{2} + \\left(o_{z eq} - z_{0}\\right)^{2}}} + \\frac{1.26730376543032 \\left(o_{z} - o_{z eq}\\right) \\left(o_{z eq} - z_{1}\\right)}{\\sqrt{\\left(o_{x eq} - x_{1}\\right)^{2} + \\left(o_{y eq} - y_{1}\\right)^{2} + \\left(o_{z eq} - z_{1}\\right)^{2}}} + \\frac{2.25945122029615 \\left(o_{z} - o_{z eq}\\right) \\left(o_{z eq} - z_{2}\\right)}{\\sqrt{\\left(o_{x eq} - x_{2}\\right)^{2} + \\left(o_{y eq} - y_{2}\\right)^{2} + \\left(o_{z eq} - z_{2}\\right)^{2}}} + \\frac{0.706484076467834 \\left(o_{z} - o_{z eq}\\right) \\left(o_{z eq} - z_{3}\\right)}{\\sqrt{\\left(o_{x eq} - x_{3}\\right)^{2} + \\left(o_{y eq} - y_{3}\\right)^{2} + \\left(o_{z eq} - z_{3}\\right)^{2}}} + \\frac{1.78846439007433 \\left(o_{z} - o_{z eq}\\right) \\left(o_{z eq} - z_{4}\\right)}{\\sqrt{\\left(o_{x eq} - x_{4}\\right)^{2} + \\left(o_{y eq} - y_{4}\\right)^{2} + \\left(o_{z eq} - z_{4}\\right)^{2}}} + \\frac{3.16676163008767 \\left(o_{z} - o_{z eq}\\right) \\left(o_{z eq} - z_{5}\\right)}{\\sqrt{\\left(o_{x eq} - x_{5}\\right)^{2} + \\left(o_{y eq} - y_{5}\\right)^{2} + \\left(o_{z eq} - z_{5}\\right)^{2}}} + \\frac{1.78178164345588 \\left(o_{z} - o_{z eq}\\right) \\left(o_{z eq} - z_{6}\\right)}{\\sqrt{\\left(o_{x eq} - x_{6}\\right)^{2} + \\left(o_{y eq} - y_{6}\\right)^{2} + \\left(o_{z eq} - z_{6}\\right)^{2}}} + \\frac{3.76752897355177 \\left(o_{z} - o_{z eq}\\right) \\left(o_{z eq} - z_{7}\\right)}{\\sqrt{\\left(o_{x eq} - x_{7}\\right)^{2} + \\left(o_{y eq} - y_{7}\\right)^{2} + \\left(o_{z eq} - z_{7}\\right)^{2}}} + 1.49180564220905 \\sqrt{\\left(o_{x eq} - x_{0}\\right)^{2} + \\left(o_{y eq} - y_{0}\\right)^{2} + \\left(o_{z eq} - z_{0}\\right)^{2}} + 1.26730376543032 \\sqrt{\\left(o_{x eq} - x_{1}\\right)^{2} + \\left(o_{y eq} - y_{1}\\right)^{2} + \\left(o_{z eq} - z_{1}\\right)^{2}} + 2.25945122029615 \\sqrt{\\left(o_{x eq} - x_{2}\\right)^{2} + \\left(o_{y eq} - y_{2}\\right)^{2} + \\left(o_{z eq} - z_{2}\\right)^{2}} + 0.706484076467834 \\sqrt{\\left(o_{x eq} - x_{3}\\right)^{2} + \\left(o_{y eq} - y_{3}\\right)^{2} + \\left(o_{z eq} - z_{3}\\right)^{2}} + 1.78846439007433 \\sqrt{\\left(o_{x eq} - x_{4}\\right)^{2} + \\left(o_{y eq} - y_{4}\\right)^{2} + \\left(o_{z eq} - z_{4}\\right)^{2}} + 3.16676163008767 \\sqrt{\\left(o_{x eq} - x_{5}\\right)^{2} + \\left(o_{y eq} - y_{5}\\right)^{2} + \\left(o_{z eq} - z_{5}\\right)^{2}} + 1.78178164345588 \\sqrt{\\left(o_{x eq} - x_{6}\\right)^{2} + \\left(o_{y eq} - y_{6}\\right)^{2} + \\left(o_{z eq} - z_{6}\\right)^{2}} + 3.76752897355177 \\sqrt{\\left(o_{x eq} - x_{7}\\right)^{2} + \\left(o_{y eq} - y_{7}\\right)^{2} + \\left(o_{z eq} - z_{7}\\right)^{2}}\\end{matrix}\\right]$"
      ],
      "text/plain": [
       "Matrix([\n",
       "[                                                   1.12707648705855*d_0 + 0.5476728004585*d_1 - 1.06158812414135*d_2 - 0.227059392530423*d_3 + 0.552105984522811*d_4 - 1.66587269822643*d_5 - 0.475526854975272*d_6 + 2.07114365067007*d_7 + 0.00168407966994269*k_flow*w_x + 0.0214688706014934*k_flow*w_y - 0.0214688706014934*k_flow*v_x/o_z_eq + 0.00168407966994269*k_flow*v_y/o_z_eq + 0.0214688706014934*n_x - 0.00168407966994269*n_y - 0.0339666169208879*o_z + 0.0339666169208879*r + v_x - 1.12707648705855*(o_x - o_x_eq)*(o_x_eq - x_0)/sqrt((o_x_eq - x_0)**2 + (o_y_eq - y_0)**2 + (o_z_eq - z_0)**2) - 0.5476728004585*(o_x - o_x_eq)*(o_x_eq - x_1)/sqrt((o_x_eq - x_1)**2 + (o_y_eq - y_1)**2 + (o_z_eq - z_1)**2) + 1.06158812414135*(o_x - o_x_eq)*(o_x_eq - x_2)/sqrt((o_x_eq - x_2)**2 + (o_y_eq - y_2)**2 + (o_z_eq - z_2)**2) + 0.227059392530423*(o_x - o_x_eq)*(o_x_eq - x_3)/sqrt((o_x_eq - x_3)**2 + (o_y_eq - y_3)**2 + (o_z_eq - z_3)**2) - 0.552105984522811*(o_x - o_x_eq)*(o_x_eq - x_4)/sqrt((o_x_eq - x_4)**2 + (o_y_eq - y_4)**2 + (o_z_eq - z_4)**2) + 1.66587269822643*(o_x - o_x_eq)*(o_x_eq - x_5)/sqrt((o_x_eq - x_5)**2 + (o_y_eq - y_5)**2 + (o_z_eq - z_5)**2) + 0.475526854975272*(o_x - o_x_eq)*(o_x_eq - x_6)/sqrt((o_x_eq - x_6)**2 + (o_y_eq - y_6)**2 + (o_z_eq - z_6)**2) - 2.07114365067007*(o_x - o_x_eq)*(o_x_eq - x_7)/sqrt((o_x_eq - x_7)**2 + (o_y_eq - y_7)**2 + (o_z_eq - z_7)**2) - 1.12707648705855*(o_y - o_y_eq)*(o_y_eq - y_0)/sqrt((o_x_eq - x_0)**2 + (o_y_eq - y_0)**2 + (o_z_eq - z_0)**2) - 0.5476728004585*(o_y - o_y_eq)*(o_y_eq - y_1)/sqrt((o_x_eq - x_1)**2 + (o_y_eq - y_1)**2 + (o_z_eq - z_1)**2) + 1.06158812414135*(o_y - o_y_eq)*(o_y_eq - y_2)/sqrt((o_x_eq - x_2)**2 + (o_y_eq - y_2)**2 + (o_z_eq - z_2)**2) + 0.227059392530423*(o_y - o_y_eq)*(o_y_eq - y_3)/sqrt((o_x_eq - x_3)**2 + (o_y_eq - y_3)**2 + (o_z_eq - z_3)**2) - 0.552105984522811*(o_y - o_y_eq)*(o_y_eq - y_4)/sqrt((o_x_eq - x_4)**2 + (o_y_eq - y_4)**2 + (o_z_eq - z_4)**2) + 1.66587269822643*(o_y - o_y_eq)*(o_y_eq - y_5)/sqrt((o_x_eq - x_5)**2 + (o_y_eq - y_5)**2 + (o_z_eq - z_5)**2) + 0.475526854975272*(o_y - o_y_eq)*(o_y_eq - y_6)/sqrt((o_x_eq - x_6)**2 + (o_y_eq - y_6)**2 + (o_z_eq - z_6)**2) - 2.07114365067007*(o_y - o_y_eq)*(o_y_eq - y_7)/sqrt((o_x_eq - x_7)**2 + (o_y_eq - y_7)**2 + (o_z_eq - z_7)**2) - 1.12707648705855*(o_z - o_z_eq)*(o_z_eq - z_0)/sqrt((o_x_eq - x_0)**2 + (o_y_eq - y_0)**2 + (o_z_eq - z_0)**2) - 0.5476728004585*(o_z - o_z_eq)*(o_z_eq - z_1)/sqrt((o_x_eq - x_1)**2 + (o_y_eq - y_1)**2 + (o_z_eq - z_1)**2) + 1.06158812414135*(o_z - o_z_eq)*(o_z_eq - z_2)/sqrt((o_x_eq - x_2)**2 + (o_y_eq - y_2)**2 + (o_z_eq - z_2)**2) + 0.227059392530423*(o_z - o_z_eq)*(o_z_eq - z_3)/sqrt((o_x_eq - x_3)**2 + (o_y_eq - y_3)**2 + (o_z_eq - z_3)**2) - 0.552105984522811*(o_z - o_z_eq)*(o_z_eq - z_4)/sqrt((o_x_eq - x_4)**2 + (o_y_eq - y_4)**2 + (o_z_eq - z_4)**2) + 1.66587269822643*(o_z - o_z_eq)*(o_z_eq - z_5)/sqrt((o_x_eq - x_5)**2 + (o_y_eq - y_5)**2 + (o_z_eq - z_5)**2) + 0.475526854975272*(o_z - o_z_eq)*(o_z_eq - z_6)/sqrt((o_x_eq - x_6)**2 + (o_y_eq - y_6)**2 + (o_z_eq - z_6)**2) - 2.07114365067007*(o_z - o_z_eq)*(o_z_eq - z_7)/sqrt((o_x_eq - x_7)**2 + (o_y_eq - y_7)**2 + (o_z_eq - z_7)**2) - 1.12707648705855*sqrt((o_x_eq - x_0)**2 + (o_y_eq - y_0)**2 + (o_z_eq - z_0)**2) - 0.5476728004585*sqrt((o_x_eq - x_1)**2 + (o_y_eq - y_1)**2 + (o_z_eq - z_1)**2) + 1.06158812414135*sqrt((o_x_eq - x_2)**2 + (o_y_eq - y_2)**2 + (o_z_eq - z_2)**2) + 0.227059392530423*sqrt((o_x_eq - x_3)**2 + (o_y_eq - y_3)**2 + (o_z_eq - z_3)**2) - 0.552105984522811*sqrt((o_x_eq - x_4)**2 + (o_y_eq - y_4)**2 + (o_z_eq - z_4)**2) + 1.66587269822643*sqrt((o_x_eq - x_5)**2 + (o_y_eq - y_5)**2 + (o_z_eq - z_5)**2) + 0.475526854975272*sqrt((o_x_eq - x_6)**2 + (o_y_eq - y_6)**2 + (o_z_eq - z_6)**2) - 2.07114365067007*sqrt((o_x_eq - x_7)**2 + (o_y_eq - y_7)**2 + (o_z_eq - z_7)**2)],\n",
       "[                                             -1.73816242606271*d_0 - 0.674035871250208*d_1 - 1.69091746248964*d_2 + 0.325418193645903*d_3 + 0.787896464809938*d_4 + 1.1956767991533*d_5 - 0.657924407506712*d_6 + 1.35219734302355*d_7 - 0.0227901005026907*k_flow*w_x - 0.00197779925500575*k_flow*w_y + 0.00197779925500575*k_flow*v_x/o_z_eq - 0.0227901005026907*k_flow*v_y/o_z_eq - 0.00197779925500575*n_x + 0.0227901005026907*n_y + 0.0182697597468506*o_z - 0.0182697597468506*r + v_y + 1.73816242606271*(o_x - o_x_eq)*(o_x_eq - x_0)/sqrt((o_x_eq - x_0)**2 + (o_y_eq - y_0)**2 + (o_z_eq - z_0)**2) + 0.674035871250208*(o_x - o_x_eq)*(o_x_eq - x_1)/sqrt((o_x_eq - x_1)**2 + (o_y_eq - y_1)**2 + (o_z_eq - z_1)**2) + 1.69091746248964*(o_x - o_x_eq)*(o_x_eq - x_2)/sqrt((o_x_eq - x_2)**2 + (o_y_eq - y_2)**2 + (o_z_eq - z_2)**2) - 0.325418193645903*(o_x - o_x_eq)*(o_x_eq - x_3)/sqrt((o_x_eq - x_3)**2 + (o_y_eq - y_3)**2 + (o_z_eq - z_3)**2) - 0.787896464809938*(o_x - o_x_eq)*(o_x_eq - x_4)/sqrt((o_x_eq - x_4)**2 + (o_y_eq - y_4)**2 + (o_z_eq - z_4)**2) - 1.1956767991533*(o_x - o_x_eq)*(o_x_eq - x_5)/sqrt((o_x_eq - x_5)**2 + (o_y_eq - y_5)**2 + (o_z_eq - z_5)**2) + 0.657924407506712*(o_x - o_x_eq)*(o_x_eq - x_6)/sqrt((o_x_eq - x_6)**2 + (o_y_eq - y_6)**2 + (o_z_eq - z_6)**2) - 1.35219734302355*(o_x - o_x_eq)*(o_x_eq - x_7)/sqrt((o_x_eq - x_7)**2 + (o_y_eq - y_7)**2 + (o_z_eq - z_7)**2) + 1.73816242606271*(o_y - o_y_eq)*(o_y_eq - y_0)/sqrt((o_x_eq - x_0)**2 + (o_y_eq - y_0)**2 + (o_z_eq - z_0)**2) + 0.674035871250208*(o_y - o_y_eq)*(o_y_eq - y_1)/sqrt((o_x_eq - x_1)**2 + (o_y_eq - y_1)**2 + (o_z_eq - z_1)**2) + 1.69091746248964*(o_y - o_y_eq)*(o_y_eq - y_2)/sqrt((o_x_eq - x_2)**2 + (o_y_eq - y_2)**2 + (o_z_eq - z_2)**2) - 0.325418193645903*(o_y - o_y_eq)*(o_y_eq - y_3)/sqrt((o_x_eq - x_3)**2 + (o_y_eq - y_3)**2 + (o_z_eq - z_3)**2) - 0.787896464809938*(o_y - o_y_eq)*(o_y_eq - y_4)/sqrt((o_x_eq - x_4)**2 + (o_y_eq - y_4)**2 + (o_z_eq - z_4)**2) - 1.1956767991533*(o_y - o_y_eq)*(o_y_eq - y_5)/sqrt((o_x_eq - x_5)**2 + (o_y_eq - y_5)**2 + (o_z_eq - z_5)**2) + 0.657924407506712*(o_y - o_y_eq)*(o_y_eq - y_6)/sqrt((o_x_eq - x_6)**2 + (o_y_eq - y_6)**2 + (o_z_eq - z_6)**2) - 1.35219734302355*(o_y - o_y_eq)*(o_y_eq - y_7)/sqrt((o_x_eq - x_7)**2 + (o_y_eq - y_7)**2 + (o_z_eq - z_7)**2) + 1.73816242606271*(o_z - o_z_eq)*(o_z_eq - z_0)/sqrt((o_x_eq - x_0)**2 + (o_y_eq - y_0)**2 + (o_z_eq - z_0)**2) + 0.674035871250208*(o_z - o_z_eq)*(o_z_eq - z_1)/sqrt((o_x_eq - x_1)**2 + (o_y_eq - y_1)**2 + (o_z_eq - z_1)**2) + 1.69091746248964*(o_z - o_z_eq)*(o_z_eq - z_2)/sqrt((o_x_eq - x_2)**2 + (o_y_eq - y_2)**2 + (o_z_eq - z_2)**2) - 0.325418193645903*(o_z - o_z_eq)*(o_z_eq - z_3)/sqrt((o_x_eq - x_3)**2 + (o_y_eq - y_3)**2 + (o_z_eq - z_3)**2) - 0.787896464809938*(o_z - o_z_eq)*(o_z_eq - z_4)/sqrt((o_x_eq - x_4)**2 + (o_y_eq - y_4)**2 + (o_z_eq - z_4)**2) - 1.1956767991533*(o_z - o_z_eq)*(o_z_eq - z_5)/sqrt((o_x_eq - x_5)**2 + (o_y_eq - y_5)**2 + (o_z_eq - z_5)**2) + 0.657924407506712*(o_z - o_z_eq)*(o_z_eq - z_6)/sqrt((o_x_eq - x_6)**2 + (o_y_eq - y_6)**2 + (o_z_eq - z_6)**2) - 1.35219734302355*(o_z - o_z_eq)*(o_z_eq - z_7)/sqrt((o_x_eq - x_7)**2 + (o_y_eq - y_7)**2 + (o_z_eq - z_7)**2) + 1.73816242606271*sqrt((o_x_eq - x_0)**2 + (o_y_eq - y_0)**2 + (o_z_eq - z_0)**2) + 0.674035871250208*sqrt((o_x_eq - x_1)**2 + (o_y_eq - y_1)**2 + (o_z_eq - z_1)**2) + 1.69091746248964*sqrt((o_x_eq - x_2)**2 + (o_y_eq - y_2)**2 + (o_z_eq - z_2)**2) - 0.325418193645903*sqrt((o_x_eq - x_3)**2 + (o_y_eq - y_3)**2 + (o_z_eq - z_3)**2) - 0.787896464809938*sqrt((o_x_eq - x_4)**2 + (o_y_eq - y_4)**2 + (o_z_eq - z_4)**2) - 1.1956767991533*sqrt((o_x_eq - x_5)**2 + (o_y_eq - y_5)**2 + (o_z_eq - z_5)**2) + 0.657924407506712*sqrt((o_x_eq - x_6)**2 + (o_y_eq - y_6)**2 + (o_z_eq - z_6)**2) - 1.35219734302355*sqrt((o_x_eq - x_7)**2 + (o_y_eq - y_7)**2 + (o_z_eq - z_7)**2)],\n",
       "[                                            -0.817938135344624*d_0 - 0.722615443998249*d_1 - 1.35653032358065*d_2 - 0.433584324169403*d_3 - 1.05513109876531*d_4 - 1.96351857478474*d_5 - 1.06683224932403*d_6 - 2.18412437166829*d_7 + 0.00108821463471846*k_flow*w_x + 0.00242935847370092*k_flow*w_y - 0.00242935847370092*k_flow*v_x/o_z_eq + 0.00108821463471846*k_flow*v_y/o_z_eq + 0.00242935847370092*n_x - 0.00108821463471846*n_y - 0.603140474287141*o_z + 0.603140474287141*r + v_z + 0.817938135344624*(o_x - o_x_eq)*(o_x_eq - x_0)/sqrt((o_x_eq - x_0)**2 + (o_y_eq - y_0)**2 + (o_z_eq - z_0)**2) + 0.722615443998249*(o_x - o_x_eq)*(o_x_eq - x_1)/sqrt((o_x_eq - x_1)**2 + (o_y_eq - y_1)**2 + (o_z_eq - z_1)**2) + 1.35653032358065*(o_x - o_x_eq)*(o_x_eq - x_2)/sqrt((o_x_eq - x_2)**2 + (o_y_eq - y_2)**2 + (o_z_eq - z_2)**2) + 0.433584324169403*(o_x - o_x_eq)*(o_x_eq - x_3)/sqrt((o_x_eq - x_3)**2 + (o_y_eq - y_3)**2 + (o_z_eq - z_3)**2) + 1.05513109876531*(o_x - o_x_eq)*(o_x_eq - x_4)/sqrt((o_x_eq - x_4)**2 + (o_y_eq - y_4)**2 + (o_z_eq - z_4)**2) + 1.96351857478474*(o_x - o_x_eq)*(o_x_eq - x_5)/sqrt((o_x_eq - x_5)**2 + (o_y_eq - y_5)**2 + (o_z_eq - z_5)**2) + 1.06683224932403*(o_x - o_x_eq)*(o_x_eq - x_6)/sqrt((o_x_eq - x_6)**2 + (o_y_eq - y_6)**2 + (o_z_eq - z_6)**2) + 2.18412437166829*(o_x - o_x_eq)*(o_x_eq - x_7)/sqrt((o_x_eq - x_7)**2 + (o_y_eq - y_7)**2 + (o_z_eq - z_7)**2) + 0.817938135344624*(o_y - o_y_eq)*(o_y_eq - y_0)/sqrt((o_x_eq - x_0)**2 + (o_y_eq - y_0)**2 + (o_z_eq - z_0)**2) + 0.722615443998249*(o_y - o_y_eq)*(o_y_eq - y_1)/sqrt((o_x_eq - x_1)**2 + (o_y_eq - y_1)**2 + (o_z_eq - z_1)**2) + 1.35653032358065*(o_y - o_y_eq)*(o_y_eq - y_2)/sqrt((o_x_eq - x_2)**2 + (o_y_eq - y_2)**2 + (o_z_eq - z_2)**2) + 0.433584324169403*(o_y - o_y_eq)*(o_y_eq - y_3)/sqrt((o_x_eq - x_3)**2 + (o_y_eq - y_3)**2 + (o_z_eq - z_3)**2) + 1.05513109876531*(o_y - o_y_eq)*(o_y_eq - y_4)/sqrt((o_x_eq - x_4)**2 + (o_y_eq - y_4)**2 + (o_z_eq - z_4)**2) + 1.96351857478474*(o_y - o_y_eq)*(o_y_eq - y_5)/sqrt((o_x_eq - x_5)**2 + (o_y_eq - y_5)**2 + (o_z_eq - z_5)**2) + 1.06683224932403*(o_y - o_y_eq)*(o_y_eq - y_6)/sqrt((o_x_eq - x_6)**2 + (o_y_eq - y_6)**2 + (o_z_eq - z_6)**2) + 2.18412437166829*(o_y - o_y_eq)*(o_y_eq - y_7)/sqrt((o_x_eq - x_7)**2 + (o_y_eq - y_7)**2 + (o_z_eq - z_7)**2) + 0.817938135344624*(o_z - o_z_eq)*(o_z_eq - z_0)/sqrt((o_x_eq - x_0)**2 + (o_y_eq - y_0)**2 + (o_z_eq - z_0)**2) + 0.722615443998249*(o_z - o_z_eq)*(o_z_eq - z_1)/sqrt((o_x_eq - x_1)**2 + (o_y_eq - y_1)**2 + (o_z_eq - z_1)**2) + 1.35653032358065*(o_z - o_z_eq)*(o_z_eq - z_2)/sqrt((o_x_eq - x_2)**2 + (o_y_eq - y_2)**2 + (o_z_eq - z_2)**2) + 0.433584324169403*(o_z - o_z_eq)*(o_z_eq - z_3)/sqrt((o_x_eq - x_3)**2 + (o_y_eq - y_3)**2 + (o_z_eq - z_3)**2) + 1.05513109876531*(o_z - o_z_eq)*(o_z_eq - z_4)/sqrt((o_x_eq - x_4)**2 + (o_y_eq - y_4)**2 + (o_z_eq - z_4)**2) + 1.96351857478474*(o_z - o_z_eq)*(o_z_eq - z_5)/sqrt((o_x_eq - x_5)**2 + (o_y_eq - y_5)**2 + (o_z_eq - z_5)**2) + 1.06683224932403*(o_z - o_z_eq)*(o_z_eq - z_6)/sqrt((o_x_eq - x_6)**2 + (o_y_eq - y_6)**2 + (o_z_eq - z_6)**2) + 2.18412437166829*(o_z - o_z_eq)*(o_z_eq - z_7)/sqrt((o_x_eq - x_7)**2 + (o_y_eq - y_7)**2 + (o_z_eq - z_7)**2) + 0.817938135344624*sqrt((o_x_eq - x_0)**2 + (o_y_eq - y_0)**2 + (o_z_eq - z_0)**2) + 0.722615443998249*sqrt((o_x_eq - x_1)**2 + (o_y_eq - y_1)**2 + (o_z_eq - z_1)**2) + 1.35653032358065*sqrt((o_x_eq - x_2)**2 + (o_y_eq - y_2)**2 + (o_z_eq - z_2)**2) + 0.433584324169403*sqrt((o_x_eq - x_3)**2 + (o_y_eq - y_3)**2 + (o_z_eq - z_3)**2) + 1.05513109876531*sqrt((o_x_eq - x_4)**2 + (o_y_eq - y_4)**2 + (o_z_eq - z_4)**2) + 1.96351857478474*sqrt((o_x_eq - x_5)**2 + (o_y_eq - y_5)**2 + (o_z_eq - z_5)**2) + 1.06683224932403*sqrt((o_x_eq - x_6)**2 + (o_y_eq - y_6)**2 + (o_z_eq - z_6)**2) + 2.18412437166829*sqrt((o_x_eq - x_7)**2 + (o_y_eq - y_7)**2 + (o_z_eq - z_7)**2)],\n",
       "[       -0.196479899076098*d_0 - 0.0985626400158723*d_1 + 0.194663521002678*d_2 + 0.0361702630754423*d_3 - 0.111154854141702*d_4 + 0.280645442718842*d_5 + 0.0837840794422355*d_6 - 0.39561834630097*d_7 - 0.000281307826385638*k_flow*w_x - 0.0140088547394226*k_flow*w_y + 0.0140088547394226*k_flow*v_x/o_z_eq - 0.000281307826385638*k_flow*v_y/o_z_eq - 0.0140088547394226*n_x + 0.000281307826385638*n_y + 0.0023957978163299*o_z - 0.0023957978163299*r + w_y + 0.196479899076098*(o_x - o_x_eq)*(o_x_eq - x_0)/sqrt((o_x_eq - x_0)**2 + (o_y_eq - y_0)**2 + (o_z_eq - z_0)**2) + 0.0985626400158723*(o_x - o_x_eq)*(o_x_eq - x_1)/sqrt((o_x_eq - x_1)**2 + (o_y_eq - y_1)**2 + (o_z_eq - z_1)**2) - 0.194663521002678*(o_x - o_x_eq)*(o_x_eq - x_2)/sqrt((o_x_eq - x_2)**2 + (o_y_eq - y_2)**2 + (o_z_eq - z_2)**2) - 0.0361702630754423*(o_x - o_x_eq)*(o_x_eq - x_3)/sqrt((o_x_eq - x_3)**2 + (o_y_eq - y_3)**2 + (o_z_eq - z_3)**2) + 0.111154854141702*(o_x - o_x_eq)*(o_x_eq - x_4)/sqrt((o_x_eq - x_4)**2 + (o_y_eq - y_4)**2 + (o_z_eq - z_4)**2) - 0.280645442718842*(o_x - o_x_eq)*(o_x_eq - x_5)/sqrt((o_x_eq - x_5)**2 + (o_y_eq - y_5)**2 + (o_z_eq - z_5)**2) - 0.0837840794422355*(o_x - o_x_eq)*(o_x_eq - x_6)/sqrt((o_x_eq - x_6)**2 + (o_y_eq - y_6)**2 + (o_z_eq - z_6)**2) + 0.39561834630097*(o_x - o_x_eq)*(o_x_eq - x_7)/sqrt((o_x_eq - x_7)**2 + (o_y_eq - y_7)**2 + (o_z_eq - z_7)**2) + 0.196479899076098*(o_y - o_y_eq)*(o_y_eq - y_0)/sqrt((o_x_eq - x_0)**2 + (o_y_eq - y_0)**2 + (o_z_eq - z_0)**2) + 0.0985626400158723*(o_y - o_y_eq)*(o_y_eq - y_1)/sqrt((o_x_eq - x_1)**2 + (o_y_eq - y_1)**2 + (o_z_eq - z_1)**2) - 0.194663521002678*(o_y - o_y_eq)*(o_y_eq - y_2)/sqrt((o_x_eq - x_2)**2 + (o_y_eq - y_2)**2 + (o_z_eq - z_2)**2) - 0.0361702630754423*(o_y - o_y_eq)*(o_y_eq - y_3)/sqrt((o_x_eq - x_3)**2 + (o_y_eq - y_3)**2 + (o_z_eq - z_3)**2) + 0.111154854141702*(o_y - o_y_eq)*(o_y_eq - y_4)/sqrt((o_x_eq - x_4)**2 + (o_y_eq - y_4)**2 + (o_z_eq - z_4)**2) - 0.280645442718842*(o_y - o_y_eq)*(o_y_eq - y_5)/sqrt((o_x_eq - x_5)**2 + (o_y_eq - y_5)**2 + (o_z_eq - z_5)**2) - 0.0837840794422355*(o_y - o_y_eq)*(o_y_eq - y_6)/sqrt((o_x_eq - x_6)**2 + (o_y_eq - y_6)**2 + (o_z_eq - z_6)**2) + 0.39561834630097*(o_y - o_y_eq)*(o_y_eq - y_7)/sqrt((o_x_eq - x_7)**2 + (o_y_eq - y_7)**2 + (o_z_eq - z_7)**2) + 0.196479899076098*(o_z - o_z_eq)*(o_z_eq - z_0)/sqrt((o_x_eq - x_0)**2 + (o_y_eq - y_0)**2 + (o_z_eq - z_0)**2) + 0.0985626400158723*(o_z - o_z_eq)*(o_z_eq - z_1)/sqrt((o_x_eq - x_1)**2 + (o_y_eq - y_1)**2 + (o_z_eq - z_1)**2) - 0.194663521002678*(o_z - o_z_eq)*(o_z_eq - z_2)/sqrt((o_x_eq - x_2)**2 + (o_y_eq - y_2)**2 + (o_z_eq - z_2)**2) - 0.0361702630754423*(o_z - o_z_eq)*(o_z_eq - z_3)/sqrt((o_x_eq - x_3)**2 + (o_y_eq - y_3)**2 + (o_z_eq - z_3)**2) + 0.111154854141702*(o_z - o_z_eq)*(o_z_eq - z_4)/sqrt((o_x_eq - x_4)**2 + (o_y_eq - y_4)**2 + (o_z_eq - z_4)**2) - 0.280645442718842*(o_z - o_z_eq)*(o_z_eq - z_5)/sqrt((o_x_eq - x_5)**2 + (o_y_eq - y_5)**2 + (o_z_eq - z_5)**2) - 0.0837840794422355*(o_z - o_z_eq)*(o_z_eq - z_6)/sqrt((o_x_eq - x_6)**2 + (o_y_eq - y_6)**2 + (o_z_eq - z_6)**2) + 0.39561834630097*(o_z - o_z_eq)*(o_z_eq - z_7)/sqrt((o_x_eq - x_7)**2 + (o_y_eq - y_7)**2 + (o_z_eq - z_7)**2) + 0.196479899076098*sqrt((o_x_eq - x_0)**2 + (o_y_eq - y_0)**2 + (o_z_eq - z_0)**2) + 0.0985626400158723*sqrt((o_x_eq - x_1)**2 + (o_y_eq - y_1)**2 + (o_z_eq - z_1)**2) - 0.194663521002678*sqrt((o_x_eq - x_2)**2 + (o_y_eq - y_2)**2 + (o_z_eq - z_2)**2) - 0.0361702630754423*sqrt((o_x_eq - x_3)**2 + (o_y_eq - y_3)**2 + (o_z_eq - z_3)**2) + 0.111154854141702*sqrt((o_x_eq - x_4)**2 + (o_y_eq - y_4)**2 + (o_z_eq - z_4)**2) - 0.280645442718842*sqrt((o_x_eq - x_5)**2 + (o_y_eq - y_5)**2 + (o_z_eq - z_5)**2) - 0.0837840794422355*sqrt((o_x_eq - x_6)**2 + (o_y_eq - y_6)**2 + (o_z_eq - z_6)**2) + 0.39561834630097*sqrt((o_x_eq - x_7)**2 + (o_y_eq - y_7)**2 + (o_z_eq - z_7)**2)],\n",
       "[-0.222343647429708*d_0 - 0.0864276427219888*d_1 - 0.228875313860488*d_2 + 0.0403926898816258*d_3 + 0.103647461045156*d_4 + 0.143265945724011*d_5 - 0.0904416873504525*d_6 + 0.183125525304195*d_7 - 0.0119570739051243*k_flow*w_x - 0.000269473931307429*k_flow*w_y + 0.000269473931307429*k_flow*v_x/o_z_eq - 0.0119570739051243*k_flow*v_y/o_z_eq - 0.000269473931307429*n_x + 0.0119570739051243*n_y + 0.00102134292721344*o_z - 0.00102134292721344*r + w_x + 0.222343647429708*(o_x - o_x_eq)*(o_x_eq - x_0)/sqrt((o_x_eq - x_0)**2 + (o_y_eq - y_0)**2 + (o_z_eq - z_0)**2) + 0.0864276427219888*(o_x - o_x_eq)*(o_x_eq - x_1)/sqrt((o_x_eq - x_1)**2 + (o_y_eq - y_1)**2 + (o_z_eq - z_1)**2) + 0.228875313860488*(o_x - o_x_eq)*(o_x_eq - x_2)/sqrt((o_x_eq - x_2)**2 + (o_y_eq - y_2)**2 + (o_z_eq - z_2)**2) - 0.0403926898816258*(o_x - o_x_eq)*(o_x_eq - x_3)/sqrt((o_x_eq - x_3)**2 + (o_y_eq - y_3)**2 + (o_z_eq - z_3)**2) - 0.103647461045156*(o_x - o_x_eq)*(o_x_eq - x_4)/sqrt((o_x_eq - x_4)**2 + (o_y_eq - y_4)**2 + (o_z_eq - z_4)**2) - 0.143265945724011*(o_x - o_x_eq)*(o_x_eq - x_5)/sqrt((o_x_eq - x_5)**2 + (o_y_eq - y_5)**2 + (o_z_eq - z_5)**2) + 0.0904416873504525*(o_x - o_x_eq)*(o_x_eq - x_6)/sqrt((o_x_eq - x_6)**2 + (o_y_eq - y_6)**2 + (o_z_eq - z_6)**2) - 0.183125525304195*(o_x - o_x_eq)*(o_x_eq - x_7)/sqrt((o_x_eq - x_7)**2 + (o_y_eq - y_7)**2 + (o_z_eq - z_7)**2) + 0.222343647429708*(o_y - o_y_eq)*(o_y_eq - y_0)/sqrt((o_x_eq - x_0)**2 + (o_y_eq - y_0)**2 + (o_z_eq - z_0)**2) + 0.0864276427219888*(o_y - o_y_eq)*(o_y_eq - y_1)/sqrt((o_x_eq - x_1)**2 + (o_y_eq - y_1)**2 + (o_z_eq - z_1)**2) + 0.228875313860488*(o_y - o_y_eq)*(o_y_eq - y_2)/sqrt((o_x_eq - x_2)**2 + (o_y_eq - y_2)**2 + (o_z_eq - z_2)**2) - 0.0403926898816258*(o_y - o_y_eq)*(o_y_eq - y_3)/sqrt((o_x_eq - x_3)**2 + (o_y_eq - y_3)**2 + (o_z_eq - z_3)**2) - 0.103647461045156*(o_y - o_y_eq)*(o_y_eq - y_4)/sqrt((o_x_eq - x_4)**2 + (o_y_eq - y_4)**2 + (o_z_eq - z_4)**2) - 0.143265945724011*(o_y - o_y_eq)*(o_y_eq - y_5)/sqrt((o_x_eq - x_5)**2 + (o_y_eq - y_5)**2 + (o_z_eq - z_5)**2) + 0.0904416873504525*(o_y - o_y_eq)*(o_y_eq - y_6)/sqrt((o_x_eq - x_6)**2 + (o_y_eq - y_6)**2 + (o_z_eq - z_6)**2) - 0.183125525304195*(o_y - o_y_eq)*(o_y_eq - y_7)/sqrt((o_x_eq - x_7)**2 + (o_y_eq - y_7)**2 + (o_z_eq - z_7)**2) + 0.222343647429708*(o_z - o_z_eq)*(o_z_eq - z_0)/sqrt((o_x_eq - x_0)**2 + (o_y_eq - y_0)**2 + (o_z_eq - z_0)**2) + 0.0864276427219888*(o_z - o_z_eq)*(o_z_eq - z_1)/sqrt((o_x_eq - x_1)**2 + (o_y_eq - y_1)**2 + (o_z_eq - z_1)**2) + 0.228875313860488*(o_z - o_z_eq)*(o_z_eq - z_2)/sqrt((o_x_eq - x_2)**2 + (o_y_eq - y_2)**2 + (o_z_eq - z_2)**2) - 0.0403926898816258*(o_z - o_z_eq)*(o_z_eq - z_3)/sqrt((o_x_eq - x_3)**2 + (o_y_eq - y_3)**2 + (o_z_eq - z_3)**2) - 0.103647461045156*(o_z - o_z_eq)*(o_z_eq - z_4)/sqrt((o_x_eq - x_4)**2 + (o_y_eq - y_4)**2 + (o_z_eq - z_4)**2) - 0.143265945724011*(o_z - o_z_eq)*(o_z_eq - z_5)/sqrt((o_x_eq - x_5)**2 + (o_y_eq - y_5)**2 + (o_z_eq - z_5)**2) + 0.0904416873504525*(o_z - o_z_eq)*(o_z_eq - z_6)/sqrt((o_x_eq - x_6)**2 + (o_y_eq - y_6)**2 + (o_z_eq - z_6)**2) - 0.183125525304195*(o_z - o_z_eq)*(o_z_eq - z_7)/sqrt((o_x_eq - x_7)**2 + (o_y_eq - y_7)**2 + (o_z_eq - z_7)**2) + 0.222343647429708*sqrt((o_x_eq - x_0)**2 + (o_y_eq - y_0)**2 + (o_z_eq - z_0)**2) + 0.0864276427219888*sqrt((o_x_eq - x_1)**2 + (o_y_eq - y_1)**2 + (o_z_eq - z_1)**2) + 0.228875313860488*sqrt((o_x_eq - x_2)**2 + (o_y_eq - y_2)**2 + (o_z_eq - z_2)**2) - 0.0403926898816258*sqrt((o_x_eq - x_3)**2 + (o_y_eq - y_3)**2 + (o_z_eq - z_3)**2) - 0.103647461045156*sqrt((o_x_eq - x_4)**2 + (o_y_eq - y_4)**2 + (o_z_eq - z_4)**2) - 0.143265945724011*sqrt((o_x_eq - x_5)**2 + (o_y_eq - y_5)**2 + (o_z_eq - z_5)**2) + 0.0904416873504525*sqrt((o_x_eq - x_6)**2 + (o_y_eq - y_6)**2 + (o_z_eq - z_6)**2) - 0.183125525304195*sqrt((o_x_eq - x_7)**2 + (o_y_eq - y_7)**2 + (o_z_eq - z_7)**2)],\n",
       "[                                                  2.11423067055164*d_0 + 1.04869146159933*d_1 - 2.05301472113413*d_2 - 0.401997716600069*d_3 + 1.13729568738701*d_4 - 3.05428792393369*d_5 - 0.895894538280115*d_6 + 4.11951818010848*d_7 + g*theta + 0.00328725278584337*k_flow*w_x + 0.125052613322857*k_flow*w_y - 0.125052613322857*k_flow*v_x/o_z_eq + 0.00328725278584337*k_flow*v_y/o_z_eq + 0.125052613322857*n_x - 0.00328725278584337*n_y - 0.0389758213737117*o_z + 0.0389758213737117*r - 2.11423067055164*(o_x - o_x_eq)*(o_x_eq - x_0)/sqrt((o_x_eq - x_0)**2 + (o_y_eq - y_0)**2 + (o_z_eq - z_0)**2) - 1.04869146159933*(o_x - o_x_eq)*(o_x_eq - x_1)/sqrt((o_x_eq - x_1)**2 + (o_y_eq - y_1)**2 + (o_z_eq - z_1)**2) + 2.05301472113413*(o_x - o_x_eq)*(o_x_eq - x_2)/sqrt((o_x_eq - x_2)**2 + (o_y_eq - y_2)**2 + (o_z_eq - z_2)**2) + 0.401997716600069*(o_x - o_x_eq)*(o_x_eq - x_3)/sqrt((o_x_eq - x_3)**2 + (o_y_eq - y_3)**2 + (o_z_eq - z_3)**2) - 1.13729568738701*(o_x - o_x_eq)*(o_x_eq - x_4)/sqrt((o_x_eq - x_4)**2 + (o_y_eq - y_4)**2 + (o_z_eq - z_4)**2) + 3.05428792393369*(o_x - o_x_eq)*(o_x_eq - x_5)/sqrt((o_x_eq - x_5)**2 + (o_y_eq - y_5)**2 + (o_z_eq - z_5)**2) + 0.895894538280115*(o_x - o_x_eq)*(o_x_eq - x_6)/sqrt((o_x_eq - x_6)**2 + (o_y_eq - y_6)**2 + (o_z_eq - z_6)**2) - 4.11951818010848*(o_x - o_x_eq)*(o_x_eq - x_7)/sqrt((o_x_eq - x_7)**2 + (o_y_eq - y_7)**2 + (o_z_eq - z_7)**2) - 2.11423067055164*(o_y - o_y_eq)*(o_y_eq - y_0)/sqrt((o_x_eq - x_0)**2 + (o_y_eq - y_0)**2 + (o_z_eq - z_0)**2) - 1.04869146159933*(o_y - o_y_eq)*(o_y_eq - y_1)/sqrt((o_x_eq - x_1)**2 + (o_y_eq - y_1)**2 + (o_z_eq - z_1)**2) + 2.05301472113413*(o_y - o_y_eq)*(o_y_eq - y_2)/sqrt((o_x_eq - x_2)**2 + (o_y_eq - y_2)**2 + (o_z_eq - z_2)**2) + 0.401997716600069*(o_y - o_y_eq)*(o_y_eq - y_3)/sqrt((o_x_eq - x_3)**2 + (o_y_eq - y_3)**2 + (o_z_eq - z_3)**2) - 1.13729568738701*(o_y - o_y_eq)*(o_y_eq - y_4)/sqrt((o_x_eq - x_4)**2 + (o_y_eq - y_4)**2 + (o_z_eq - z_4)**2) + 3.05428792393369*(o_y - o_y_eq)*(o_y_eq - y_5)/sqrt((o_x_eq - x_5)**2 + (o_y_eq - y_5)**2 + (o_z_eq - z_5)**2) + 0.895894538280115*(o_y - o_y_eq)*(o_y_eq - y_6)/sqrt((o_x_eq - x_6)**2 + (o_y_eq - y_6)**2 + (o_z_eq - z_6)**2) - 4.11951818010848*(o_y - o_y_eq)*(o_y_eq - y_7)/sqrt((o_x_eq - x_7)**2 + (o_y_eq - y_7)**2 + (o_z_eq - z_7)**2) - 2.11423067055164*(o_z - o_z_eq)*(o_z_eq - z_0)/sqrt((o_x_eq - x_0)**2 + (o_y_eq - y_0)**2 + (o_z_eq - z_0)**2) - 1.04869146159933*(o_z - o_z_eq)*(o_z_eq - z_1)/sqrt((o_x_eq - x_1)**2 + (o_y_eq - y_1)**2 + (o_z_eq - z_1)**2) + 2.05301472113413*(o_z - o_z_eq)*(o_z_eq - z_2)/sqrt((o_x_eq - x_2)**2 + (o_y_eq - y_2)**2 + (o_z_eq - z_2)**2) + 0.401997716600069*(o_z - o_z_eq)*(o_z_eq - z_3)/sqrt((o_x_eq - x_3)**2 + (o_y_eq - y_3)**2 + (o_z_eq - z_3)**2) - 1.13729568738701*(o_z - o_z_eq)*(o_z_eq - z_4)/sqrt((o_x_eq - x_4)**2 + (o_y_eq - y_4)**2 + (o_z_eq - z_4)**2) + 3.05428792393369*(o_z - o_z_eq)*(o_z_eq - z_5)/sqrt((o_x_eq - x_5)**2 + (o_y_eq - y_5)**2 + (o_z_eq - z_5)**2) + 0.895894538280115*(o_z - o_z_eq)*(o_z_eq - z_6)/sqrt((o_x_eq - x_6)**2 + (o_y_eq - y_6)**2 + (o_z_eq - z_6)**2) - 4.11951818010848*(o_z - o_z_eq)*(o_z_eq - z_7)/sqrt((o_x_eq - x_7)**2 + (o_y_eq - y_7)**2 + (o_z_eq - z_7)**2) - 2.11423067055164*sqrt((o_x_eq - x_0)**2 + (o_y_eq - y_0)**2 + (o_z_eq - z_0)**2) - 1.04869146159933*sqrt((o_x_eq - x_1)**2 + (o_y_eq - y_1)**2 + (o_z_eq - z_1)**2) + 2.05301472113413*sqrt((o_x_eq - x_2)**2 + (o_y_eq - y_2)**2 + (o_z_eq - z_2)**2) + 0.401997716600069*sqrt((o_x_eq - x_3)**2 + (o_y_eq - y_3)**2 + (o_z_eq - z_3)**2) - 1.13729568738701*sqrt((o_x_eq - x_4)**2 + (o_y_eq - y_4)**2 + (o_z_eq - z_4)**2) + 3.05428792393369*sqrt((o_x_eq - x_5)**2 + (o_y_eq - y_5)**2 + (o_z_eq - z_5)**2) + 0.895894538280115*sqrt((o_x_eq - x_6)**2 + (o_y_eq - y_6)**2 + (o_z_eq - z_6)**2) - 4.11951818010848*sqrt((o_x_eq - x_7)**2 + (o_y_eq - y_7)**2 + (o_z_eq - z_7)**2)],\n",
       "[                                                        -2.75863977433452*d_0 - 1.07168100610343*d_1 - 2.78128700533508*d_2 + 0.506458426054447*d_3 + 1.27142574731835*d_4 + 1.82078755172935*d_5 - 1.09334023624671*d_6 + 2.22226220214884*d_7 - g*phi - 0.125066972338275*k_flow*w_x - 0.00345208078526926*k_flow*w_y + 0.00345208078526926*k_flow*v_x/o_z_eq - 0.125066972338275*k_flow*v_y/o_z_eq - 0.00345208078526926*n_x + 0.125066972338275*n_y + 0.0183343738731685*o_z - 0.0183343738731685*r + 2.75863977433452*(o_x - o_x_eq)*(o_x_eq - x_0)/sqrt((o_x_eq - x_0)**2 + (o_y_eq - y_0)**2 + (o_z_eq - z_0)**2) + 1.07168100610343*(o_x - o_x_eq)*(o_x_eq - x_1)/sqrt((o_x_eq - x_1)**2 + (o_y_eq - y_1)**2 + (o_z_eq - z_1)**2) + 2.78128700533508*(o_x - o_x_eq)*(o_x_eq - x_2)/sqrt((o_x_eq - x_2)**2 + (o_y_eq - y_2)**2 + (o_z_eq - z_2)**2) - 0.506458426054447*(o_x - o_x_eq)*(o_x_eq - x_3)/sqrt((o_x_eq - x_3)**2 + (o_y_eq - y_3)**2 + (o_z_eq - z_3)**2) - 1.27142574731835*(o_x - o_x_eq)*(o_x_eq - x_4)/sqrt((o_x_eq - x_4)**2 + (o_y_eq - y_4)**2 + (o_z_eq - z_4)**2) - 1.82078755172935*(o_x - o_x_eq)*(o_x_eq - x_5)/sqrt((o_x_eq - x_5)**2 + (o_y_eq - y_5)**2 + (o_z_eq - z_5)**2) + 1.09334023624671*(o_x - o_x_eq)*(o_x_eq - x_6)/sqrt((o_x_eq - x_6)**2 + (o_y_eq - y_6)**2 + (o_z_eq - z_6)**2) - 2.22226220214884*(o_x - o_x_eq)*(o_x_eq - x_7)/sqrt((o_x_eq - x_7)**2 + (o_y_eq - y_7)**2 + (o_z_eq - z_7)**2) + 2.75863977433452*(o_y - o_y_eq)*(o_y_eq - y_0)/sqrt((o_x_eq - x_0)**2 + (o_y_eq - y_0)**2 + (o_z_eq - z_0)**2) + 1.07168100610343*(o_y - o_y_eq)*(o_y_eq - y_1)/sqrt((o_x_eq - x_1)**2 + (o_y_eq - y_1)**2 + (o_z_eq - z_1)**2) + 2.78128700533508*(o_y - o_y_eq)*(o_y_eq - y_2)/sqrt((o_x_eq - x_2)**2 + (o_y_eq - y_2)**2 + (o_z_eq - z_2)**2) - 0.506458426054447*(o_y - o_y_eq)*(o_y_eq - y_3)/sqrt((o_x_eq - x_3)**2 + (o_y_eq - y_3)**2 + (o_z_eq - z_3)**2) - 1.27142574731835*(o_y - o_y_eq)*(o_y_eq - y_4)/sqrt((o_x_eq - x_4)**2 + (o_y_eq - y_4)**2 + (o_z_eq - z_4)**2) - 1.82078755172935*(o_y - o_y_eq)*(o_y_eq - y_5)/sqrt((o_x_eq - x_5)**2 + (o_y_eq - y_5)**2 + (o_z_eq - z_5)**2) + 1.09334023624671*(o_y - o_y_eq)*(o_y_eq - y_6)/sqrt((o_x_eq - x_6)**2 + (o_y_eq - y_6)**2 + (o_z_eq - z_6)**2) - 2.22226220214884*(o_y - o_y_eq)*(o_y_eq - y_7)/sqrt((o_x_eq - x_7)**2 + (o_y_eq - y_7)**2 + (o_z_eq - z_7)**2) + 2.75863977433452*(o_z - o_z_eq)*(o_z_eq - z_0)/sqrt((o_x_eq - x_0)**2 + (o_y_eq - y_0)**2 + (o_z_eq - z_0)**2) + 1.07168100610343*(o_z - o_z_eq)*(o_z_eq - z_1)/sqrt((o_x_eq - x_1)**2 + (o_y_eq - y_1)**2 + (o_z_eq - z_1)**2) + 2.78128700533508*(o_z - o_z_eq)*(o_z_eq - z_2)/sqrt((o_x_eq - x_2)**2 + (o_y_eq - y_2)**2 + (o_z_eq - z_2)**2) - 0.506458426054447*(o_z - o_z_eq)*(o_z_eq - z_3)/sqrt((o_x_eq - x_3)**2 + (o_y_eq - y_3)**2 + (o_z_eq - z_3)**2) - 1.27142574731835*(o_z - o_z_eq)*(o_z_eq - z_4)/sqrt((o_x_eq - x_4)**2 + (o_y_eq - y_4)**2 + (o_z_eq - z_4)**2) - 1.82078755172935*(o_z - o_z_eq)*(o_z_eq - z_5)/sqrt((o_x_eq - x_5)**2 + (o_y_eq - y_5)**2 + (o_z_eq - z_5)**2) + 1.09334023624671*(o_z - o_z_eq)*(o_z_eq - z_6)/sqrt((o_x_eq - x_6)**2 + (o_y_eq - y_6)**2 + (o_z_eq - z_6)**2) - 2.22226220214884*(o_z - o_z_eq)*(o_z_eq - z_7)/sqrt((o_x_eq - x_7)**2 + (o_y_eq - y_7)**2 + (o_z_eq - z_7)**2) + 2.75863977433452*sqrt((o_x_eq - x_0)**2 + (o_y_eq - y_0)**2 + (o_z_eq - z_0)**2) + 1.07168100610343*sqrt((o_x_eq - x_1)**2 + (o_y_eq - y_1)**2 + (o_z_eq - z_1)**2) + 2.78128700533508*sqrt((o_x_eq - x_2)**2 + (o_y_eq - y_2)**2 + (o_z_eq - z_2)**2) - 0.506458426054447*sqrt((o_x_eq - x_3)**2 + (o_y_eq - y_3)**2 + (o_z_eq - z_3)**2) - 1.27142574731835*sqrt((o_x_eq - x_4)**2 + (o_y_eq - y_4)**2 + (o_z_eq - z_4)**2) - 1.82078755172935*sqrt((o_x_eq - x_5)**2 + (o_y_eq - y_5)**2 + (o_z_eq - z_5)**2) + 1.09334023624671*sqrt((o_x_eq - x_6)**2 + (o_y_eq - y_6)**2 + (o_z_eq - z_6)**2) - 2.22226220214884*sqrt((o_x_eq - x_7)**2 + (o_y_eq - y_7)**2 + (o_z_eq - z_7)**2)],\n",
       "[                                                              a_z - 1.49180564220905*d_0 - 1.26730376543032*d_1 - 2.25945122029615*d_2 - 0.706484076467834*d_3 - 1.78846439007433*d_4 - 3.16676163008767*d_5 - 1.78178164345588*d_6 - 3.76752897355177*d_7 - g + 0.0020354212081781*k_flow*w_x + 0.004860102535236*k_flow*w_y - 0.004860102535236*k_flow*v_x/o_z_eq + 0.0020354212081781*k_flow*v_y/o_z_eq + 0.004860102535236*n_x - 0.0020354212081781*n_y - 1.01179849124881*o_z + 1.01179849124881*r + 1.49180564220905*(o_x - o_x_eq)*(o_x_eq - x_0)/sqrt((o_x_eq - x_0)**2 + (o_y_eq - y_0)**2 + (o_z_eq - z_0)**2) + 1.26730376543032*(o_x - o_x_eq)*(o_x_eq - x_1)/sqrt((o_x_eq - x_1)**2 + (o_y_eq - y_1)**2 + (o_z_eq - z_1)**2) + 2.25945122029615*(o_x - o_x_eq)*(o_x_eq - x_2)/sqrt((o_x_eq - x_2)**2 + (o_y_eq - y_2)**2 + (o_z_eq - z_2)**2) + 0.706484076467834*(o_x - o_x_eq)*(o_x_eq - x_3)/sqrt((o_x_eq - x_3)**2 + (o_y_eq - y_3)**2 + (o_z_eq - z_3)**2) + 1.78846439007433*(o_x - o_x_eq)*(o_x_eq - x_4)/sqrt((o_x_eq - x_4)**2 + (o_y_eq - y_4)**2 + (o_z_eq - z_4)**2) + 3.16676163008767*(o_x - o_x_eq)*(o_x_eq - x_5)/sqrt((o_x_eq - x_5)**2 + (o_y_eq - y_5)**2 + (o_z_eq - z_5)**2) + 1.78178164345588*(o_x - o_x_eq)*(o_x_eq - x_6)/sqrt((o_x_eq - x_6)**2 + (o_y_eq - y_6)**2 + (o_z_eq - z_6)**2) + 3.76752897355177*(o_x - o_x_eq)*(o_x_eq - x_7)/sqrt((o_x_eq - x_7)**2 + (o_y_eq - y_7)**2 + (o_z_eq - z_7)**2) + 1.49180564220905*(o_y - o_y_eq)*(o_y_eq - y_0)/sqrt((o_x_eq - x_0)**2 + (o_y_eq - y_0)**2 + (o_z_eq - z_0)**2) + 1.26730376543032*(o_y - o_y_eq)*(o_y_eq - y_1)/sqrt((o_x_eq - x_1)**2 + (o_y_eq - y_1)**2 + (o_z_eq - z_1)**2) + 2.25945122029615*(o_y - o_y_eq)*(o_y_eq - y_2)/sqrt((o_x_eq - x_2)**2 + (o_y_eq - y_2)**2 + (o_z_eq - z_2)**2) + 0.706484076467834*(o_y - o_y_eq)*(o_y_eq - y_3)/sqrt((o_x_eq - x_3)**2 + (o_y_eq - y_3)**2 + (o_z_eq - z_3)**2) + 1.78846439007433*(o_y - o_y_eq)*(o_y_eq - y_4)/sqrt((o_x_eq - x_4)**2 + (o_y_eq - y_4)**2 + (o_z_eq - z_4)**2) + 3.16676163008767*(o_y - o_y_eq)*(o_y_eq - y_5)/sqrt((o_x_eq - x_5)**2 + (o_y_eq - y_5)**2 + (o_z_eq - z_5)**2) + 1.78178164345588*(o_y - o_y_eq)*(o_y_eq - y_6)/sqrt((o_x_eq - x_6)**2 + (o_y_eq - y_6)**2 + (o_z_eq - z_6)**2) + 3.76752897355177*(o_y - o_y_eq)*(o_y_eq - y_7)/sqrt((o_x_eq - x_7)**2 + (o_y_eq - y_7)**2 + (o_z_eq - z_7)**2) + 1.49180564220905*(o_z - o_z_eq)*(o_z_eq - z_0)/sqrt((o_x_eq - x_0)**2 + (o_y_eq - y_0)**2 + (o_z_eq - z_0)**2) + 1.26730376543032*(o_z - o_z_eq)*(o_z_eq - z_1)/sqrt((o_x_eq - x_1)**2 + (o_y_eq - y_1)**2 + (o_z_eq - z_1)**2) + 2.25945122029615*(o_z - o_z_eq)*(o_z_eq - z_2)/sqrt((o_x_eq - x_2)**2 + (o_y_eq - y_2)**2 + (o_z_eq - z_2)**2) + 0.706484076467834*(o_z - o_z_eq)*(o_z_eq - z_3)/sqrt((o_x_eq - x_3)**2 + (o_y_eq - y_3)**2 + (o_z_eq - z_3)**2) + 1.78846439007433*(o_z - o_z_eq)*(o_z_eq - z_4)/sqrt((o_x_eq - x_4)**2 + (o_y_eq - y_4)**2 + (o_z_eq - z_4)**2) + 3.16676163008767*(o_z - o_z_eq)*(o_z_eq - z_5)/sqrt((o_x_eq - x_5)**2 + (o_y_eq - y_5)**2 + (o_z_eq - z_5)**2) + 1.78178164345588*(o_z - o_z_eq)*(o_z_eq - z_6)/sqrt((o_x_eq - x_6)**2 + (o_y_eq - y_6)**2 + (o_z_eq - z_6)**2) + 3.76752897355177*(o_z - o_z_eq)*(o_z_eq - z_7)/sqrt((o_x_eq - x_7)**2 + (o_y_eq - y_7)**2 + (o_z_eq - z_7)**2) + 1.49180564220905*sqrt((o_x_eq - x_0)**2 + (o_y_eq - y_0)**2 + (o_z_eq - z_0)**2) + 1.26730376543032*sqrt((o_x_eq - x_1)**2 + (o_y_eq - y_1)**2 + (o_z_eq - z_1)**2) + 2.25945122029615*sqrt((o_x_eq - x_2)**2 + (o_y_eq - y_2)**2 + (o_z_eq - z_2)**2) + 0.706484076467834*sqrt((o_x_eq - x_3)**2 + (o_y_eq - y_3)**2 + (o_z_eq - z_3)**2) + 1.78846439007433*sqrt((o_x_eq - x_4)**2 + (o_y_eq - y_4)**2 + (o_z_eq - z_4)**2) + 3.16676163008767*sqrt((o_x_eq - x_5)**2 + (o_y_eq - y_5)**2 + (o_z_eq - z_5)**2) + 1.78178164345588*sqrt((o_x_eq - x_6)**2 + (o_y_eq - y_6)**2 + (o_z_eq - z_6)**2) + 3.76752897355177*sqrt((o_x_eq - x_7)**2 + (o_y_eq - y_7)**2 + (o_z_eq - z_7)**2)]])"
      ]
     },
     "execution_count": 44,
     "metadata": {},
     "output_type": "execute_result"
    }
   ],
   "source": [
    "x_hat_dot_sym"
   ]
  },
  {
   "cell_type": "markdown",
   "metadata": {},
   "source": [
    "Introduce $Y_{\\text{err}}$ matrix to simplify equations for coding."
   ]
  },
  {
   "cell_type": "code",
   "execution_count": 45,
   "metadata": {},
   "outputs": [],
   "source": [
    "Y_0, Y_1, Y_2, Y_3, Y_4, Y_5, Y_6, Y_7, Y_8, Y_9, Y_10 = sym.symbols('Y_0, Y_1, Y_2, Y_3, Y_4, Y_5, Y_6, Y_7, Y_8, Y_9, Y_10')\n",
    "Y_err = sym.Matrix([Y_0, Y_1, Y_2, Y_3, Y_4, Y_5, Y_6, Y_7, Y_8, Y_9, Y_10])\n",
    "output_list = (x_obs_dot_sym - L_sym * Y_err).tolist()"
   ]
  },
  {
   "cell_type": "markdown",
   "metadata": {},
   "source": [
    "Format equations for C code."
   ]
  },
  {
   "cell_type": "code",
   "execution_count": 46,
   "metadata": {},
   "outputs": [
    {
     "name": "stdout",
     "output_type": "stream",
     "text": [
      "[-1.12707648705855f*Y_0 - 0.5476728004585f*Y_1 - 0.0339666169208879f*Y_10 + 1.06158812414135f*Y_2 + 0.227059392530423f*Y_3 - 0.552105984522811f*Y_4 + 1.66587269822643f*Y_5 + 0.475526854975272f*Y_6 - 2.07114365067007f*Y_7 - 0.0214688706014934f*Y_8 + 0.00168407966994269f*Y_9 + v_x]\n",
      "\n",
      "\n",
      "[1.73816242606271f*Y_0 + 0.674035871250208f*Y_1 + 0.0182697597468506f*Y_10 + 1.69091746248964f*Y_2 - 0.325418193645903f*Y_3 - 0.787896464809938f*Y_4 - 1.1956767991533f*Y_5 + 0.657924407506712f*Y_6 - 1.35219734302355f*Y_7 + 0.00197779925500575f*Y_8 - 0.0227901005026907f*Y_9 + v_y]\n",
      "\n",
      "\n",
      "[0.817938135344624f*Y_0 + 0.722615443998249f*Y_1 - 0.603140474287141f*Y_10 + 1.35653032358065f*Y_2 + 0.433584324169403f*Y_3 + 1.05513109876531f*Y_4 + 1.96351857478474f*Y_5 + 1.06683224932403f*Y_6 + 2.18412437166829f*Y_7 - 0.00242935847370092f*Y_8 + 0.00108821463471846f*Y_9 + v_z]\n",
      "\n",
      "\n",
      "[0.196479899076098f*Y_0 + 0.0985626400158723f*Y_1 + 0.0023957978163299f*Y_10 - 0.194663521002678f*Y_2 - 0.0361702630754423f*Y_3 + 0.111154854141702f*Y_4 - 0.280645442718842f*Y_5 - 0.0837840794422355f*Y_6 + 0.39561834630097f*Y_7 + 0.0140088547394226f*Y_8 - 0.000281307826385638f*Y_9 + w_y]\n",
      "\n",
      "\n",
      "[0.222343647429708f*Y_0 + 0.0864276427219888f*Y_1 + 0.00102134292721344f*Y_10 + 0.228875313860488f*Y_2 - 0.0403926898816258f*Y_3 - 0.103647461045156f*Y_4 - 0.143265945724011f*Y_5 + 0.0904416873504525f*Y_6 - 0.183125525304195f*Y_7 + 0.000269473931307429f*Y_8 - 0.0119570739051243f*Y_9 + w_x]\n",
      "\n",
      "\n",
      "[-2.11423067055164*Y_0 - 1.04869146159933*Y_1 - 0.0389758213737117*Y_10 + 2.05301472113413*Y_2 + 0.401997716600069*Y_3 - 1.13729568738701*Y_4 + 3.05428792393369*Y_5 + 0.895894538280115*Y_6 - 4.11951818010848*Y_7 - 0.125052613322857*Y_8 + 0.00328725278584337*Y_9 + g*theta]\n",
      "\n",
      "\n",
      "[2.75863977433452*Y_0 + 1.07168100610343*Y_1 + 0.0183343738731685*Y_10 + 2.78128700533508*Y_2 - 0.506458426054447*Y_3 - 1.27142574731835*Y_4 - 1.82078755172935*Y_5 + 1.09334023624671*Y_6 - 2.22226220214884*Y_7 + 0.00345208078526926*Y_8 - 0.125066972338275*Y_9 - g*phi]\n",
      "\n",
      "\n",
      "[1.49180564220905f*Y_0 + 1.26730376543032f*Y_1 - 1.01179849124881f*Y_10 + 2.25945122029615f*Y_2 + 0.706484076467834f*Y_3 + 1.78846439007433f*Y_4 + 3.16676163008767f*Y_5 + 1.78178164345588f*Y_6 + 3.76752897355177f*Y_7 - 0.004860102535236f*Y_8 + 0.0020354212081781f*Y_9 + a_z - g]\n",
      "\n",
      "\n"
     ]
    }
   ],
   "source": [
    "for i in range(len(output_list)):\n",
    "    line = str(output_list[i])\n",
    "    output_list[i] = line.replace(\"*\", \"f*\" )\n",
    "    if i == 5 or i == 6:\n",
    "        output_list[i] = line.replace(\"gf*\", \"g*\" )\n",
    "    print(output_list[i])\n",
    "    print(\"\\n\")"
   ]
  }
 ],
 "metadata": {
  "kernelspec": {
   "display_name": "Python 3.10.6 ('ae483')",
   "language": "python",
   "name": "python3"
  },
  "language_info": {
   "codemirror_mode": {
    "name": "ipython",
    "version": 3
   },
   "file_extension": ".py",
   "mimetype": "text/x-python",
   "name": "python",
   "nbconvert_exporter": "python",
   "pygments_lexer": "ipython3",
   "version": "3.10.6"
  },
  "vscode": {
   "interpreter": {
    "hash": "077613580ed3618657eb0d2480898e2c353027570f8791804bbea7b9f4b1fd42"
   }
  }
 },
 "nbformat": 4,
 "nbformat_minor": 2
}
